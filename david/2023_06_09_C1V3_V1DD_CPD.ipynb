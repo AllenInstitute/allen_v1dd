{
 "cells": [
  {
   "attachments": {},
   "cell_type": "markdown",
   "metadata": {},
   "source": [
    "## Load modules and data"
   ]
  },
  {
   "cell_type": "code",
   "execution_count": 0,
   "metadata": {},
   "outputs": [
    {
     "name": "stdout",
     "output_type": "stream",
     "text": [
      "The autoreload extension is already loaded. To reload it, use:\n",
      "  %reload_ext autoreload\n"
     ]
    }
   ],
   "source": [
    "#Base\n",
    "import numpy as np\n",
    "import pandas as pd\n",
    "import scipy.spatial\n",
    "import dataclasses\n",
    "import os, sys, time\n",
    "import json\n",
    "import itertools\n",
    "from tqdm import tqdm\n",
    "import pdb\n",
    "\n",
    "#Plot \n",
    "import matplotlib\n",
    "%matplotlib inline\n",
    "import matplotlib.pyplot as plt\n",
    "import seaborn as sns\n",
    "default_figsize = [5, 5]\n",
    "plt.rcParams['figure.figsize'] = default_figsize\n",
    "color_names=['amber','red','windows blue','faded green',\n",
    "             'dusty purple',\n",
    "             'orange',\n",
    "             'steel blue',\n",
    "             'pink',\n",
    "             'greyish',\n",
    "             'mint',\n",
    "             'clay',\n",
    "             'light cyan',\n",
    "             'forest green',\n",
    "             'pastel purple',\n",
    "             'salmon',\n",
    "             'dark brown',\n",
    "             'lavender',\n",
    "             'pale green',\n",
    "             'dark red',\n",
    "             'gold',\n",
    "             'dark teal',\n",
    "             'rust',\n",
    "             'fuchsia',\n",
    "             'pale orange',\n",
    "             'cobalt blue',\n",
    "             'mahogany',\n",
    "             'cloudy blue',\n",
    "             'dark pastel green',\n",
    "             'dust',\n",
    "             'electric lime',\n",
    "             'fresh green',\n",
    "             'light eggplant',\n",
    "             'nasty green']\n",
    " \n",
    "color_palette = sns.xkcd_palette(color_names)\n",
    "cc = sns.xkcd_palette(color_names)\n",
    "\n",
    "# EM-coregistration Github\n",
    "use_cuda = True\n",
    "if use_cuda:\n",
    "    import cupy as cp\n",
    "    to_cpu = cp.asnumpy\n",
    "    cp.cuda.set_allocator(cp.cuda.MemoryPool().malloc)\n",
    "else:\n",
    "    cp = np\n",
    "    to_cpu = lambda x: x\n",
    "import open3d as o3\n",
    "from probreg import cpd, bcpd, callbacks, gmmtree\n",
    "from probreg.cpd import registration_cpd\n",
    "import open3d as o3d\n",
    "import utils\n",
    "import time\n",
    "import transforms3d as t3d\n",
    "import copy\n",
    "from probreg import filterreg\n",
    "from probreg import features\n",
    "from probreg import math_utils\n",
    "\n",
    "#Cave\n",
    "import requests\n",
    "from requests.auth import HTTPBasicAuth\n",
    "import caveclient\n",
    "\n",
    "#V1DD\n",
    "from allen_v1dd.client import OPhysClient, EMClient\n",
    "from allen_v1dd.stimulus_analysis import analysis_tools as at\n",
    "at.set_stylesheet()\n",
    "\n",
    "%matplotlib inline\n",
    "%load_ext autoreload\n",
    "%autoreload 2\n",
    "em_final_voxel_size = np.array([4.85, 4.85, 45])\n",
    "\n",
    "PlotDir = '/home/david.wyrick/projects/V1DD/coregistration/plots'\n",
    "\n",
    "# TODO implement this as a utility\n",
    "def get_array_subset_indices(set_arr, subset_arr):\n",
    "    set_arr_sorted = np.argsort(set_arr)\n",
    "    subset_arr_pos = np.searchsorted(set_arr[set_arr_sorted], subset_arr)\n",
    "    indices = set_arr_sorted[subset_arr_pos]\n",
    "    return indices\n"
   ]
  },
  {
   "cell_type": "code",
   "execution_count": 72,
   "metadata": {},
   "outputs": [
    {
     "data": {
      "text/plain": [
       "((16568, 3), (2710, 3))"
      ]
     },
     "execution_count": 72,
     "metadata": {},
     "output_type": "execute_result"
    }
   ],
   "source": [
    "#Read in point clouds\n",
    "data = np.load('/home/david.wyrick/projects/V1DD/coregistration/point_clouds.npz')\n",
    "\n",
    "#Get nucleus volumes\n",
    "vol_mask = data['vol_mask']\n",
    "nucleus_vols = data['nucleus_vols']\n",
    "\n",
    "#Get em ids and 2p names\n",
    "ids_em = data['nucleus_ids']\n",
    "ids_2p = data['all_roi_chasenames']\n",
    "\n",
    "#Get coregistered points\n",
    "coreg_pts_2p = data['coreg_pts_2p']\n",
    "coreg_pts_em = data['coreg_pts_em']\n",
    "coreg_2p_ids = data['coreg_2p_ids']\n",
    "coreg_em_ids = data['coreg_em_ids']\n",
    "idx_2p = data['idx_2p']\n",
    "idx_em = data['idx_em']\n",
    "\n",
    "#Get point clouds\n",
    "point_set_em = data['nucleus_pts_microns']\n",
    "point_set_2p = data['all_roi_func_coreg_pts']\n",
    "\n",
    "# point_set_em = data['nucleus_pts']\n",
    "all_roi_raw_center_pts = data['all_roi_raw_center_pts']\n",
    "point_set_em.shape, point_set_2p.shape"
   ]
  },
  {
   "cell_type": "code",
   "execution_count": 73,
   "metadata": {},
   "outputs": [
    {
     "data": {
      "text/plain": [
       "array([0., 0., 0., ..., 5., 5., 5.])"
      ]
     },
     "execution_count": 73,
     "metadata": {},
     "output_type": "execute_result"
    }
   ],
   "source": [
    "planes = all_roi_raw_center_pts[:,2]\n",
    "planes\n"
   ]
  },
  {
   "cell_type": "code",
   "execution_count": 74,
   "metadata": {},
   "outputs": [
    {
     "data": {
      "text/plain": [
       "array([343.09136814, 267.        , 271.41003318])"
      ]
     },
     "execution_count": 74,
     "metadata": {},
     "output_type": "execute_result"
    }
   ],
   "source": [
    "point_set_2p_new = point_set_2p.copy()\n",
    "point_set_2p_new[:,1] = point_set_2p[:,2]\n",
    "point_set_2p_new[:,2] = point_set_2p[:,1]\n",
    "point_set_2p_new[0]"
   ]
  },
  {
   "cell_type": "code",
   "execution_count": 1,
   "metadata": {},
   "outputs": [],
   "source": [
    "# em_client = EMClient(\"v1dd\",server_address=\"https://globalv1.em.brain.allentech.org\")\n",
    "# base_folder = \"/data/v1dd_in_vivo_new_segmentation\" # Local on robinson for golden mouse\n",
    "# ophys_client = OPhysClient(base_folder)\n",
    "\n",
    "# em_client = EMClient()\n",
    "\n",
    "# ## Load EM data\n",
    "# nucleus_table = em_client.query_table('nucleus_detection_v0')\n",
    "\n",
    "# #Extract point position \n",
    "# nucleus_pts = np.array([i for i in nucleus_table.pt_position])\n",
    "# nucleus_ids = np.array([i for i in nucleus_table.id])\n",
    "\n",
    "# # matrix that describes the transformation from the input functional space (in pixels) to the coregistration space (in microns) and its inverse\n",
    "# func_raw2coreg_tform_fn = \"/allen/programs/celltypes/workgroups/em-connectomics/russelt/v1dd_coregistration/C1V3_processing/coregistration_data/transforms/func_raw2coreg_tform.npy\"\n",
    "# func_raw2coreg_tform = np.load(func_raw2coreg_tform_fn)\n",
    "# func_coreg2raw_tform = np.linalg.inv(func_raw2coreg_tform)\n",
    "\n",
    "# # matrix that describes the transformation from the input EM coregistration space (in microns) to the final EM space (in voxels)\n",
    "# em_coreg2final_tform_fn = \"/allen/programs/celltypes/workgroups/em-connectomics/russelt/v1dd_coregistration/C1V3_processing/coregistration_data/transforms/em_coreg2final_tform.npy\"\n",
    "# em_coreg2final_tform = np.load(em_coreg2final_tform_fn)\n",
    "# em_final2coreg_tform = np.linalg.inv(em_coreg2final_tform)"
   ]
  },
  {
   "cell_type": "code",
   "execution_count": 5,
   "metadata": {},
   "outputs": [
    {
     "data": {
      "text/html": [
       "<div>\n",
       "<style scoped>\n",
       "    .dataframe tbody tr th:only-of-type {\n",
       "        vertical-align: middle;\n",
       "    }\n",
       "\n",
       "    .dataframe tbody tr th {\n",
       "        vertical-align: top;\n",
       "    }\n",
       "\n",
       "    .dataframe thead th {\n",
       "        text-align: right;\n",
       "    }\n",
       "</style>\n",
       "<table border=\"1\" class=\"dataframe\">\n",
       "  <thead>\n",
       "    <tr style=\"text-align: right;\">\n",
       "      <th></th>\n",
       "      <th>ophys_session_id</th>\n",
       "      <th>ophys_plane</th>\n",
       "      <th>ophys_roi</th>\n",
       "      <th>russel_key</th>\n",
       "      <th>chase_key</th>\n",
       "      <th>em_id</th>\n",
       "      <th>pt_position</th>\n",
       "      <th>em_final_em_nm</th>\n",
       "      <th>em_final_em_nm_transformed</th>\n",
       "      <th>em_coreg</th>\n",
       "      <th>...</th>\n",
       "      <th>coreg_disp</th>\n",
       "      <th>label</th>\n",
       "      <th>flag</th>\n",
       "      <th>emx</th>\n",
       "      <th>emy</th>\n",
       "      <th>emz</th>\n",
       "      <th>optx</th>\n",
       "      <th>opty</th>\n",
       "      <th>optz</th>\n",
       "      <th>type</th>\n",
       "    </tr>\n",
       "  </thead>\n",
       "  <tbody>\n",
       "    <tr>\n",
       "      <th>0</th>\n",
       "      <td>M409828_13</td>\n",
       "      <td>&lt;NA&gt;</td>\n",
       "      <td>&lt;NA&gt;</td>\n",
       "      <td>&lt;NA&gt;</td>\n",
       "      <td>&lt;NA&gt;</td>\n",
       "      <td>&lt;NA&gt;</td>\n",
       "      <td>&lt;NA&gt;</td>\n",
       "      <td>&lt;NA&gt;</td>\n",
       "      <td>&lt;NA&gt;</td>\n",
       "      <td>[635.2803438 328.9787035 226.841928 ]</td>\n",
       "      <td>...</td>\n",
       "      <td>&lt;NA&gt;</td>\n",
       "      <td>Pt-0</td>\n",
       "      <td>True</td>\n",
       "      <td>635.280344</td>\n",
       "      <td>328.978703</td>\n",
       "      <td>226.841928</td>\n",
       "      <td>119.337257</td>\n",
       "      <td>469.505399</td>\n",
       "      <td>75.311303</td>\n",
       "      <td>Blood-vessel</td>\n",
       "    </tr>\n",
       "    <tr>\n",
       "      <th>1</th>\n",
       "      <td>M409828_13</td>\n",
       "      <td>&lt;NA&gt;</td>\n",
       "      <td>&lt;NA&gt;</td>\n",
       "      <td>&lt;NA&gt;</td>\n",
       "      <td>&lt;NA&gt;</td>\n",
       "      <td>&lt;NA&gt;</td>\n",
       "      <td>&lt;NA&gt;</td>\n",
       "      <td>&lt;NA&gt;</td>\n",
       "      <td>&lt;NA&gt;</td>\n",
       "      <td>[698.7502361 322.6814042 275.3772396]</td>\n",
       "      <td>...</td>\n",
       "      <td>&lt;NA&gt;</td>\n",
       "      <td>Pt-1</td>\n",
       "      <td>True</td>\n",
       "      <td>698.750236</td>\n",
       "      <td>322.681404</td>\n",
       "      <td>275.37724</td>\n",
       "      <td>163.517246</td>\n",
       "      <td>516.582437</td>\n",
       "      <td>75.009528</td>\n",
       "      <td>Blood-vessel</td>\n",
       "    </tr>\n",
       "    <tr>\n",
       "      <th>2</th>\n",
       "      <td>M409828_13</td>\n",
       "      <td>&lt;NA&gt;</td>\n",
       "      <td>&lt;NA&gt;</td>\n",
       "      <td>&lt;NA&gt;</td>\n",
       "      <td>&lt;NA&gt;</td>\n",
       "      <td>&lt;NA&gt;</td>\n",
       "      <td>&lt;NA&gt;</td>\n",
       "      <td>&lt;NA&gt;</td>\n",
       "      <td>&lt;NA&gt;</td>\n",
       "      <td>[708.2556528 330.1921791 355.5080331]</td>\n",
       "      <td>...</td>\n",
       "      <td>&lt;NA&gt;</td>\n",
       "      <td>Pt-2</td>\n",
       "      <td>True</td>\n",
       "      <td>708.255653</td>\n",
       "      <td>330.192179</td>\n",
       "      <td>355.508033</td>\n",
       "      <td>176.817332</td>\n",
       "      <td>600.794368</td>\n",
       "      <td>93.11608</td>\n",
       "      <td>Blood-vessel</td>\n",
       "    </tr>\n",
       "    <tr>\n",
       "      <th>3</th>\n",
       "      <td>M409828_13</td>\n",
       "      <td>&lt;NA&gt;</td>\n",
       "      <td>&lt;NA&gt;</td>\n",
       "      <td>&lt;NA&gt;</td>\n",
       "      <td>&lt;NA&gt;</td>\n",
       "      <td>&lt;NA&gt;</td>\n",
       "      <td>&lt;NA&gt;</td>\n",
       "      <td>&lt;NA&gt;</td>\n",
       "      <td>&lt;NA&gt;</td>\n",
       "      <td>[903.3052035 379.6234028 346.6016709]</td>\n",
       "      <td>...</td>\n",
       "      <td>&lt;NA&gt;</td>\n",
       "      <td>Pt-3</td>\n",
       "      <td>True</td>\n",
       "      <td>903.305203</td>\n",
       "      <td>379.623403</td>\n",
       "      <td>346.601671</td>\n",
       "      <td>381.113136</td>\n",
       "      <td>563.926411</td>\n",
       "      <td>130.782925</td>\n",
       "      <td>Blood-vessel</td>\n",
       "    </tr>\n",
       "    <tr>\n",
       "      <th>4</th>\n",
       "      <td>M409828_13</td>\n",
       "      <td>&lt;NA&gt;</td>\n",
       "      <td>&lt;NA&gt;</td>\n",
       "      <td>&lt;NA&gt;</td>\n",
       "      <td>&lt;NA&gt;</td>\n",
       "      <td>&lt;NA&gt;</td>\n",
       "      <td>&lt;NA&gt;</td>\n",
       "      <td>&lt;NA&gt;</td>\n",
       "      <td>&lt;NA&gt;</td>\n",
       "      <td>[637.073622  448.602289  212.6652757]</td>\n",
       "      <td>...</td>\n",
       "      <td>&lt;NA&gt;</td>\n",
       "      <td>Pt-4</td>\n",
       "      <td>True</td>\n",
       "      <td>637.073622</td>\n",
       "      <td>448.602289</td>\n",
       "      <td>212.665276</td>\n",
       "      <td>140.82251</td>\n",
       "      <td>434.169473</td>\n",
       "      <td>181.844683</td>\n",
       "      <td>Blood-vessel</td>\n",
       "    </tr>\n",
       "    <tr>\n",
       "      <th>...</th>\n",
       "      <td>...</td>\n",
       "      <td>...</td>\n",
       "      <td>...</td>\n",
       "      <td>...</td>\n",
       "      <td>...</td>\n",
       "      <td>...</td>\n",
       "      <td>...</td>\n",
       "      <td>...</td>\n",
       "      <td>...</td>\n",
       "      <td>...</td>\n",
       "      <td>...</td>\n",
       "      <td>...</td>\n",
       "      <td>...</td>\n",
       "      <td>...</td>\n",
       "      <td>...</td>\n",
       "      <td>...</td>\n",
       "      <td>...</td>\n",
       "      <td>...</td>\n",
       "      <td>...</td>\n",
       "      <td>...</td>\n",
       "      <td>...</td>\n",
       "    </tr>\n",
       "    <tr>\n",
       "      <th>175</th>\n",
       "      <td>M409828_13</td>\n",
       "      <td>1</td>\n",
       "      <td>67</td>\n",
       "      <td>plane0_roi_0067</td>\n",
       "      <td>M409828_13_1_67</td>\n",
       "      <td>352169</td>\n",
       "      <td>[897754 583940 257715]</td>\n",
       "      <td>[897750.0, 583938.0, 257715.0]</td>\n",
       "      <td>&lt;NA&gt;</td>\n",
       "      <td>[808.35892158 539.55288115 257.715     ]</td>\n",
       "      <td>...</td>\n",
       "      <td>0.004472</td>\n",
       "      <td>Test-set-15</td>\n",
       "      <td>True</td>\n",
       "      <td>808.358922</td>\n",
       "      <td>539.552881</td>\n",
       "      <td>257.715</td>\n",
       "      <td>313.241206</td>\n",
       "      <td>444.074177</td>\n",
       "      <td>267.0</td>\n",
       "      <td>Cell</td>\n",
       "    </tr>\n",
       "    <tr>\n",
       "      <th>176</th>\n",
       "      <td>M409828_13</td>\n",
       "      <td>3</td>\n",
       "      <td>250</td>\n",
       "      <td>plane2_roi_0250</td>\n",
       "      <td>M409828_13_3_250</td>\n",
       "      <td>279007</td>\n",
       "      <td>[835209 593174 319005]</td>\n",
       "      <td>[835209.0, 593172.0, 319005.0]</td>\n",
       "      <td>&lt;NA&gt;</td>\n",
       "      <td>[745.81391217 548.78688254 319.005     ]</td>\n",
       "      <td>...</td>\n",
       "      <td>0.002</td>\n",
       "      <td>Test-set-17</td>\n",
       "      <td>True</td>\n",
       "      <td>745.813912</td>\n",
       "      <td>548.786883</td>\n",
       "      <td>319.005</td>\n",
       "      <td>235.945224</td>\n",
       "      <td>515.418663</td>\n",
       "      <td>299.0</td>\n",
       "      <td>Cell</td>\n",
       "    </tr>\n",
       "    <tr>\n",
       "      <th>177</th>\n",
       "      <td>M409828_13</td>\n",
       "      <td>1</td>\n",
       "      <td>6</td>\n",
       "      <td>plane0_roi_0006</td>\n",
       "      <td>M409828_13_1_6</td>\n",
       "      <td>276453</td>\n",
       "      <td>[760402 584095 208350]</td>\n",
       "      <td>[761231.97734375, 584861.0453125, 207833.57666...</td>\n",
       "      <td>&lt;NA&gt;</td>\n",
       "      <td>[671.00690092 539.70788117 208.35      ]</td>\n",
       "      <td>...</td>\n",
       "      <td>1.241926</td>\n",
       "      <td>Test-set-18</td>\n",
       "      <td>True</td>\n",
       "      <td>671.006901</td>\n",
       "      <td>539.707881</td>\n",
       "      <td>208.35</td>\n",
       "      <td>174.675411</td>\n",
       "      <td>406.782794</td>\n",
       "      <td>267.0</td>\n",
       "      <td>Cell</td>\n",
       "    </tr>\n",
       "    <tr>\n",
       "      <th>178</th>\n",
       "      <td>M409828_13</td>\n",
       "      <td>1</td>\n",
       "      <td>22</td>\n",
       "      <td>plane0_roi_0022</td>\n",
       "      <td>M409828_13_1_22</td>\n",
       "      <td>276650</td>\n",
       "      <td>[864930 596744 206460]</td>\n",
       "      <td>[865263.7953125, 597459.375, 206643.4716796875]</td>\n",
       "      <td>&lt;NA&gt;</td>\n",
       "      <td>[775.53491664 552.35688307 206.46      ]</td>\n",
       "      <td>...</td>\n",
       "      <td>0.810458</td>\n",
       "      <td>Test-set-19</td>\n",
       "      <td>True</td>\n",
       "      <td>775.534917</td>\n",
       "      <td>552.356883</td>\n",
       "      <td>206.46</td>\n",
       "      <td>287.807415</td>\n",
       "      <td>396.922567</td>\n",
       "      <td>267.0</td>\n",
       "      <td>Cell</td>\n",
       "    </tr>\n",
       "    <tr>\n",
       "      <th>179</th>\n",
       "      <td>M409828_13</td>\n",
       "      <td>2</td>\n",
       "      <td>170</td>\n",
       "      <td>plane1_roi_0170</td>\n",
       "      <td>M409828_13_2_170</td>\n",
       "      <td>277304</td>\n",
       "      <td>[854764 599227 241560]</td>\n",
       "      <td>[854920.8671874999, 599667.375390625, 241059.6...</td>\n",
       "      <td>&lt;NA&gt;</td>\n",
       "      <td>[765.36891511 554.83988345 241.56      ]</td>\n",
       "      <td>...</td>\n",
       "      <td>0.68473</td>\n",
       "      <td>Test-set-20</td>\n",
       "      <td>True</td>\n",
       "      <td>765.368915</td>\n",
       "      <td>554.839883</td>\n",
       "      <td>241.56</td>\n",
       "      <td>275.271088</td>\n",
       "      <td>433.943581</td>\n",
       "      <td>283.0</td>\n",
       "      <td>Cell</td>\n",
       "    </tr>\n",
       "  </tbody>\n",
       "</table>\n",
       "<p>180 rows × 23 columns</p>\n",
       "</div>"
      ],
      "text/plain": [
       "    ophys_session_id  ophys_plane  ophys_roi       russel_key  \\\n",
       "0         M409828_13         <NA>       <NA>             <NA>   \n",
       "1         M409828_13         <NA>       <NA>             <NA>   \n",
       "2         M409828_13         <NA>       <NA>             <NA>   \n",
       "3         M409828_13         <NA>       <NA>             <NA>   \n",
       "4         M409828_13         <NA>       <NA>             <NA>   \n",
       "..               ...          ...        ...              ...   \n",
       "175       M409828_13            1         67  plane0_roi_0067   \n",
       "176       M409828_13            3        250  plane2_roi_0250   \n",
       "177       M409828_13            1          6  plane0_roi_0006   \n",
       "178       M409828_13            1         22  plane0_roi_0022   \n",
       "179       M409828_13            2        170  plane1_roi_0170   \n",
       "\n",
       "            chase_key   em_id             pt_position  \\\n",
       "0                <NA>    <NA>                    <NA>   \n",
       "1                <NA>    <NA>                    <NA>   \n",
       "2                <NA>    <NA>                    <NA>   \n",
       "3                <NA>    <NA>                    <NA>   \n",
       "4                <NA>    <NA>                    <NA>   \n",
       "..                ...     ...                     ...   \n",
       "175   M409828_13_1_67  352169  [897754 583940 257715]   \n",
       "176  M409828_13_3_250  279007  [835209 593174 319005]   \n",
       "177    M409828_13_1_6  276453  [760402 584095 208350]   \n",
       "178   M409828_13_1_22  276650  [864930 596744 206460]   \n",
       "179  M409828_13_2_170  277304  [854764 599227 241560]   \n",
       "\n",
       "                                        em_final_em_nm  \\\n",
       "0                                                 <NA>   \n",
       "1                                                 <NA>   \n",
       "2                                                 <NA>   \n",
       "3                                                 <NA>   \n",
       "4                                                 <NA>   \n",
       "..                                                 ...   \n",
       "175                     [897750.0, 583938.0, 257715.0]   \n",
       "176                     [835209.0, 593172.0, 319005.0]   \n",
       "177  [761231.97734375, 584861.0453125, 207833.57666...   \n",
       "178    [865263.7953125, 597459.375, 206643.4716796875]   \n",
       "179  [854920.8671874999, 599667.375390625, 241059.6...   \n",
       "\n",
       "    em_final_em_nm_transformed                                  em_coreg  ...  \\\n",
       "0                         <NA>     [635.2803438 328.9787035 226.841928 ]  ...   \n",
       "1                         <NA>     [698.7502361 322.6814042 275.3772396]  ...   \n",
       "2                         <NA>     [708.2556528 330.1921791 355.5080331]  ...   \n",
       "3                         <NA>     [903.3052035 379.6234028 346.6016709]  ...   \n",
       "4                         <NA>     [637.073622  448.602289  212.6652757]  ...   \n",
       "..                         ...                                       ...  ...   \n",
       "175                       <NA>  [808.35892158 539.55288115 257.715     ]  ...   \n",
       "176                       <NA>  [745.81391217 548.78688254 319.005     ]  ...   \n",
       "177                       <NA>  [671.00690092 539.70788117 208.35      ]  ...   \n",
       "178                       <NA>  [775.53491664 552.35688307 206.46      ]  ...   \n",
       "179                       <NA>  [765.36891511 554.83988345 241.56      ]  ...   \n",
       "\n",
       "    coreg_disp        label  flag         emx         emy         emz  \\\n",
       "0         <NA>         Pt-0  True  635.280344  328.978703  226.841928   \n",
       "1         <NA>         Pt-1  True  698.750236  322.681404   275.37724   \n",
       "2         <NA>         Pt-2  True  708.255653  330.192179  355.508033   \n",
       "3         <NA>         Pt-3  True  903.305203  379.623403  346.601671   \n",
       "4         <NA>         Pt-4  True  637.073622  448.602289  212.665276   \n",
       "..         ...          ...   ...         ...         ...         ...   \n",
       "175   0.004472  Test-set-15  True  808.358922  539.552881     257.715   \n",
       "176      0.002  Test-set-17  True  745.813912  548.786883     319.005   \n",
       "177   1.241926  Test-set-18  True  671.006901  539.707881      208.35   \n",
       "178   0.810458  Test-set-19  True  775.534917  552.356883      206.46   \n",
       "179    0.68473  Test-set-20  True  765.368915  554.839883      241.56   \n",
       "\n",
       "           optx        opty        optz          type  \n",
       "0    119.337257  469.505399   75.311303  Blood-vessel  \n",
       "1    163.517246  516.582437   75.009528  Blood-vessel  \n",
       "2    176.817332  600.794368    93.11608  Blood-vessel  \n",
       "3    381.113136  563.926411  130.782925  Blood-vessel  \n",
       "4     140.82251  434.169473  181.844683  Blood-vessel  \n",
       "..          ...         ...         ...           ...  \n",
       "175  313.241206  444.074177       267.0          Cell  \n",
       "176  235.945224  515.418663       299.0          Cell  \n",
       "177  174.675411  406.782794       267.0          Cell  \n",
       "178  287.807415  396.922567       267.0          Cell  \n",
       "179  275.271088  433.943581       283.0          Cell  \n",
       "\n",
       "[180 rows x 23 columns]"
      ]
     },
     "execution_count": 5,
     "metadata": {},
     "output_type": "execute_result"
    }
   ],
   "source": [
    "# coreg_df = pd.read_csv('/home/david.wyrick/Git/allen_v1dd/data_frames/coreg_table_20230612.csv',index_col=0)\n",
    "# coreg_df = coreg_df.convert_dtypes()\n",
    "# coreg_cells_df = pd.read_csv('/home/david.wyrick/Git/allen_v1dd/data_frames/coreg_cells_table_20230612.csv',index_col=0)\n",
    "# coreg_cells_df = coreg_cells_df.convert_dtypes()\n",
    "\n",
    "# ptset_mask = []\n",
    "# for label in coreg_df['label'].values:\n",
    "#     if 'Pt' in label:\n",
    "#         ptset_mask.append(True)\n",
    "#     else:\n",
    "#         ptset_mask.append(False)\n",
    "# ptset_mask = np.array(ptset_mask)\n",
    "\n",
    "\n",
    "# transform_list = [\n",
    "#     {\n",
    "#         \"name\": \"PolynomialModel\",\n",
    "#         \"order\": 1,\n",
    "#         \"regularization\": [0, 0, 0, 0]\n",
    "#     },\n",
    "#     {\n",
    "#         \"name\": \"ChunkedModel\",\n",
    "#         \"order\": 1,\n",
    "#         \"nchunks\": 3,\n",
    "#         \"axis\": 0\n",
    "#     },\n",
    "#     {\n",
    "#         \"name\": \"SplineModel\",\n",
    "#         \"ncntrl\": [3, 3, 3],\n",
    "#         \"regularization\": [1e-6, 1e-6, 1e-6, 1e-6, 1e6]\n",
    "#     },\n",
    "#     {\n",
    "#         \"name\": \"SplineModel\",\n",
    "#         \"ncntrl\": [5, 5, 5],\n",
    "#         \"regularization\": [1e-6, 1e-6, 1e-6, 1e-6, 1e6]\n",
    "#     },\n",
    "#     {\n",
    "#         \"name\": \"SplineModel\",\n",
    "#         \"ncntrl\": [10, 10, 10],\n",
    "#          \"regularization\": [1e-6, 1e-6, 1e-6, 1e-6, 1e8]\n",
    "#     },\n",
    "#     {\n",
    "#         \"name\": \"SplineModel\",\n",
    "#         \"ncntrl\": [10, 10, 10],\n",
    "#          \"regularization\": [1e-6, 1e-6, 1e-6, 1e-6, 1e6] # originally last was 1e8\n",
    "#     },\n",
    "#     {\n",
    "#         \"name\": \"SplineModel\",\n",
    "#         \"ncntrl\": [12, 12, 12],\n",
    "#         \"regularization\": [1e-6, 1e-6, 1e-6, 1e-6, 1e9]\n",
    "#     },\n",
    "#     {\n",
    "#         \"name\": \"SplineModel\",\n",
    "#         \"ncntrl\": [12, 12, 12],\n",
    "#         \"regularization\": [1e-6, 1e-6, 1e-6, 1e-6, 1e5]  # originally last was 1e9\n",
    "#     },\n",
    "#     {\n",
    "#         \"name\": \"SplineModel\",\n",
    "#         \"voronoi_cntrl\": True,\n",
    "#         \"regularization\": [1e-6, 1e-6, 1e-6, 1e-6, 1e6]\n",
    "#     },\n",
    "#     {\n",
    "#         \"name\": \"SplineModel\",\n",
    "#         \"src_is_cntrl\": True,\n",
    "#         \"regularization\": [1e-6, 1e-6, 1e-6, 1e-6, 1e5]\n",
    "#     },\n",
    "#     {\n",
    "#         \"name\": \"SplineModel\",\n",
    "#         \"src_is_cntrl\": True,\n",
    "#         \"regularization\": [1e-6, 1e-6, 1e-6, 1e-6, 5e4]\n",
    "#     },\n",
    "        \n",
    "# ]\n",
    "\n",
    "# transform_obj = {\n",
    "#         \"name\": \"TransformList\",\n",
    "#         \"transforms\": transform_list\n",
    "#     }\n",
    "\n",
    "# func_coreg_pts = np.array(coreg_df[[\"optx\", \"opty\", \"optz\"]],dtype=float)\n",
    "# em_coreg_pts = np.array(coreg_df[[\"emx\", \"emy\", \"emz\"]],dtype=float)\n",
    "# point_types = list(coreg_df['type'].values)\n",
    "\n",
    "# # func_coreg_pts = func_coreg_pts[ptset_mask]\n",
    "# # em_coreg_pts = em_coreg_pts[ptset_mask]\n",
    "\n",
    "# nPts = len(func_coreg_pts)\n",
    "# # estimate transformation\n",
    "# tform = coregister.transform.Transform(json=transform_obj)\n",
    "# tform.estimate(func_coreg_pts, em_coreg_pts)\n",
    "# # tform.estimate(func_coreg_pts[ptset_mask], em_coreg_pts[ptset_mask])\n",
    "# nPts\n",
    "\n"
   ]
  },
  {
   "attachments": {},
   "cell_type": "markdown",
   "metadata": {},
   "source": [
    "## Bunny example"
   ]
  },
  {
   "cell_type": "code",
   "execution_count": 5,
   "metadata": {},
   "outputs": [
    {
     "data": {
      "image/png": "[encoded data removed]",
      "text/plain": [
       "<Figure size 500x500 with 1 Axes>"
      ]
     },
     "metadata": {},
     "output_type": "display_data"
    }
   ],
   "source": [
    "use_cuda=False\n",
    "\n",
    "ExDir ='/home/david.wyrick/Git/probreg/examples'\n",
    "\n",
    "source = o3.io.read_point_cloud(os.path.join(ExDir,'bunny.pcd'))\n",
    "source.remove_non_finite_points()\n",
    "target = copy.deepcopy(source)\n",
    "\n",
    "# transform target point cloud\n",
    "th = np.deg2rad(30.0)\n",
    "target.transform(np.array([[np.cos(th), -np.sin(th), 0.0, 0.0],\n",
    "                           [np.sin(th), np.cos(th), 0.0, 0.0],\n",
    "                           [0.0, 0.0, 1.0, 0.0],\n",
    "                           [0.0, 0.0, 0.0, 1.0]]))\n",
    "# source = source.voxel_down_sample(voxel_size=0.005)\n",
    "# target = target.voxel_down_sample(voxel_size=0.005)\n",
    "\n",
    "# compute cpd registration\n",
    "tf_param, _, _ = cpd.registration_cpd(source, target,'nonrigid',use_cuda=use_cuda,maxiter=5000,beta=100,lmd=1000)\n",
    "\n",
    "if use_cuda:\n",
    "    source_pre_transform = cp.asarray(source.points)\n",
    "    tmp = tf_param.transform(source_pre_transform)\n",
    "    result = o3d.geometry.PointCloud(); result.points = o3d.utility.Vector3dVector(tmp.get())\n",
    "else:\n",
    "    result = copy.deepcopy(source)\n",
    "    result.points = tf_param.transform(result.points)\n",
    "\n",
    "#Plot residuals\n",
    "residuals = np.linalg.norm(to_cpu(target.points) - to_cpu(result.points),axis=1)\n",
    "sns.histplot(residuals)\n",
    "\n",
    "# draw result\n",
    "source.paint_uniform_color([1, 0, 0])\n",
    "target.paint_uniform_color([0, 1, 0])\n",
    "result.paint_uniform_color([0, 0, 1])\n",
    "o3.visualization.draw_geometries([source, target, result])"
   ]
  },
  {
   "cell_type": "code",
   "execution_count": 6,
   "metadata": {},
   "outputs": [
    {
     "data": {
      "image/png": "[encoded data removed]",
      "text/plain": [
       "<Figure size 500x500 with 1 Axes>"
      ]
     },
     "metadata": {},
     "output_type": "display_data"
    }
   ],
   "source": [
    "indy = np.random.choice(np.arange(397),10,replace=False)\n",
    "use_cuda=False\n",
    "\n",
    "ExDir ='/home/david.wyrick/Git/probreg/examples'\n",
    "\n",
    "source = o3.io.read_point_cloud(os.path.join(ExDir,'bunny.pcd'))\n",
    "source.remove_non_finite_points()\n",
    "target = copy.deepcopy(source)\n",
    "\n",
    "# transform target point cloud\n",
    "th = np.deg2rad(30.0)\n",
    "target.transform(np.array([[np.cos(th), -np.sin(th), 0.0, 0.0],\n",
    "                           [np.sin(th), np.cos(th), 0.0, 0.0],\n",
    "                           [0.0, 0.0, 1.0, 0.0],\n",
    "                           [0.0, 0.0, 0.0, 1.0]]))\n",
    "# source = source.voxel_down_sample(voxel_size=0.005)\n",
    "# target = target.voxel_down_sample(voxel_size=0.005)\n",
    "\n",
    "# compute cpd registration\n",
    "tf_param, _, _ = cpd.registration_cpd(source, target,'nonrigid_constrained',idx_source=indy,idx_target=indy,use_cuda=use_cuda,maxiter=5000)#,beta=10,lmd=100)\n",
    "\n",
    "if use_cuda:\n",
    "    source_pre_transform = cp.asarray(source.points)\n",
    "    tmp = tf_param.transform(source_pre_transform)\n",
    "    result = o3d.geometry.PointCloud(); result.points = o3d.utility.Vector3dVector(tmp.get())\n",
    "else:\n",
    "    result = copy.deepcopy(source)\n",
    "    result.points = tf_param.transform(result.points)\n",
    "\n",
    "#Plot residuals\n",
    "residuals = np.linalg.norm(to_cpu(target.points) - to_cpu(result.points),axis=1)\n",
    "sns.histplot(residuals)\n",
    "\n",
    "# draw result\n",
    "source.paint_uniform_color([1, 0, 0])\n",
    "target.paint_uniform_color([0, 1, 0])\n",
    "result.paint_uniform_color([0, 0, 1])\n",
    "o3.visualization.draw_geometries([source, target, result])"
   ]
  },
  {
   "attachments": {},
   "cell_type": "markdown",
   "metadata": {},
   "source": [
    "## CPD 2D"
   ]
  },
  {
   "cell_type": "code",
   "execution_count": 20,
   "metadata": {},
   "outputs": [
    {
     "data": {
      "text/plain": [
       "<matplotlib.collections.PathCollection at 0x7efe2422bc10>"
      ]
     },
     "execution_count": 20,
     "metadata": {},
     "output_type": "execute_result"
    },
    {
     "data": {
      "image/png": "[encoded data removed]",
      "text/plain": [
       "<Figure size 800x800 with 1 Axes>"
      ]
     },
     "metadata": {},
     "output_type": "display_data"
    }
   ],
   "source": [
    "indy = np.where(planes == 0)[0]\n",
    "ophys_xy = all_roi_raw_center_pts[indy,:2]\n",
    "ophys_xy.shape\n",
    "\n",
    "import math\n",
    "angle_rad = math.radians(30)\n",
    "\n",
    "# Define the rotation matrix\n",
    "rotation_matrix = np.array([[math.cos(angle_rad), -math.sin(angle_rad)],\n",
    "                            [math.sin(angle_rad), math.cos(angle_rad)]])\n",
    "ophys_xy_rotated = ophys_xy @ rotation_matrix\n",
    "\n",
    "fig, ax = plt.subplots(figsize=(8,8))\n",
    "\n",
    "ax.scatter(ophys_xy[:,0],ophys_xy[:,1],marker='.',color=cc[0])\n",
    "ax.scatter(ophys_xy_rotated[:,0],ophys_xy_rotated[:,1],marker='x',color=cc[1])"
   ]
  },
  {
   "cell_type": "code",
   "execution_count": 22,
   "metadata": {},
   "outputs": [],
   "source": [
    "source = ophys_xy_rotated\n",
    "target = ophys_xy\n",
    "\n",
    "use_cuda= False #Cuda does not work in 2D ??\n",
    "if use_cuda:\n",
    "    source = cp.asarray(source, dtype=cp.float32)\n",
    "    target = cp.asarray(target, dtype=cp.float32)\n",
    "\n",
    "tf_param, _, _ = cpd.registration_cpd(source, target, 'rigid',use_cuda=use_cuda,maxiter=1000)"
   ]
  },
  {
   "cell_type": "code",
   "execution_count": 23,
   "metadata": {},
   "outputs": [
    {
     "data": {
      "text/plain": [
       "<matplotlib.collections.PathCollection at 0x7efe240bb040>"
      ]
     },
     "execution_count": 23,
     "metadata": {},
     "output_type": "execute_result"
    },
    {
     "data": {
      "image/png": "[encoded data removed]",
      "text/plain": [
       "<Figure size 1000x500 with 2 Axes>"
      ]
     },
     "metadata": {},
     "output_type": "display_data"
    }
   ],
   "source": [
    "#Transform EM data\n",
    "result = tf_param.transform(source)\n",
    "\n",
    "#Plot residuals\n",
    "residuals = np.linalg.norm(to_cpu(target) - to_cpu(result),axis=1)\n",
    "\n",
    "fig, axes = plt.subplots(1,2,figsize=(10,5))\n",
    "sns.histplot(residuals,ax=axes[0])\n",
    "axes[0].set_xlabel('Residual (pixels)')\n",
    "\n",
    "result = to_cpu(result)\n",
    "ax = axes[1]\n",
    "ax.scatter(ophys_xy[:,0],ophys_xy[:,1],marker='.',color=cc[0],label='Target')\n",
    "ax.scatter(ophys_xy_rotated[:,0],ophys_xy_rotated[:,1],marker='.',s=10,color=cc[1],label='Source')\n",
    "ax.scatter(result[:,0],result[:,1],marker='+',color=cc[2],label='Transformed')"
   ]
  },
  {
   "attachments": {},
   "cell_type": "markdown",
   "metadata": {},
   "source": [
    "## Run CPD"
   ]
  },
  {
   "cell_type": "code",
   "execution_count": 7,
   "metadata": {},
   "outputs": [
    {
     "data": {
      "text/plain": [
       "<Axes: ylabel='Count'>"
      ]
     },
     "execution_count": 7,
     "metadata": {},
     "output_type": "execute_result"
    },
    {
     "data": {
      "image/png": "[encoded data removed]",
      "text/plain": [
       "<Figure size 500x500 with 1 Axes>"
      ]
     },
     "metadata": {},
     "output_type": "display_data"
    }
   ],
   "source": [
    "indy = np.where(planes == 0)[0]\n",
    "ophys_xy = all_roi_raw_center_pts[indy,:]\n",
    "use_cuda = False; maxiter = 10000; tol = 1e-6\n",
    "\n",
    "# cast as point clouds\n",
    "source = o3d.geometry.PointCloud(); source.points = o3d.utility.Vector3dVector(ophys_xy)\n",
    "target = copy.deepcopy(source)\n",
    "\n",
    "# transform target point cloud\n",
    "th = np.deg2rad(30.0)\n",
    "target.transform(np.array([[np.cos(th), -np.sin(th), 0.0, 0.0],\n",
    "                           [np.sin(th), np.cos(th), 0.0, 0.0],\n",
    "                           [0.0, 0.0, 1.0, 0.0],\n",
    "                           [0.0, 0.0, 0.0, 1.0]]))\n",
    "\n",
    "# compute cpd registration\n",
    "tf_param, _, _ = cpd.registration_cpd(source, target,'rigid',use_cuda=use_cuda,maxiter=maxiter,tol=tol)\n",
    "\n",
    "if use_cuda:\n",
    "    source_pre_transform = cp.asarray(source.points)\n",
    "    tmp = tf_param.transform(source_pre_transform)\n",
    "    result = o3d.geometry.PointCloud(); result.points = o3d.utility.Vector3dVector(tmp.get())\n",
    "else:\n",
    "    result = copy.deepcopy(source)\n",
    "    result.points = tf_param.transform(result.points)\n",
    "\n",
    "#Plot residuals\n",
    "residuals = np.linalg.norm(to_cpu(target.points) - to_cpu(result.points),axis=1)\n",
    "sns.histplot(residuals)"
   ]
  },
  {
   "cell_type": "code",
   "execution_count": 8,
   "metadata": {},
   "outputs": [],
   "source": [
    "# draw result\n",
    "source.paint_uniform_color([1, 0, 0])\n",
    "target.paint_uniform_color([0, 1, 0])\n",
    "result.paint_uniform_color([0, 0, 1])\n",
    "o3.visualization.draw_geometries([source, target, result])"
   ]
  },
  {
   "cell_type": "code",
   "execution_count": 9,
   "metadata": {},
   "outputs": [
    {
     "data": {
      "text/plain": [
       "<Axes: ylabel='Count'>"
      ]
     },
     "execution_count": 9,
     "metadata": {},
     "output_type": "execute_result"
    },
    {
     "data": {
      "image/png": "[encoded data removed]",
      "text/plain": [
       "<Figure size 500x500 with 1 Axes>"
      ]
     },
     "metadata": {},
     "output_type": "display_data"
    }
   ],
   "source": [
    "\n",
    "ophys_xy = point_set_2p\n",
    "use_cuda = False; maxiter = 10000; tol = 1e-6\n",
    "\n",
    "# cast as point clouds\n",
    "source = o3d.geometry.PointCloud(); source.points = o3d.utility.Vector3dVector(ophys_xy)\n",
    "target = copy.deepcopy(source)\n",
    "\n",
    "# transform target point cloud\n",
    "th = np.deg2rad(30.0)\n",
    "target.transform(np.array([[np.cos(th), -np.sin(th), 0.0, 0.0],\n",
    "                           [np.sin(th), np.cos(th), 0.0, 0.0],\n",
    "                           [0.0, 0.0, 1.0, 0.0],\n",
    "                           [0.0, 0.0, 0.0, 1.0]]))\n",
    "\n",
    "# compute cpd registration\n",
    "tf_param, _, _ = cpd.registration_cpd(source, target,'affine',use_cuda=use_cuda,maxiter=maxiter,tol=tol)#,beta=10,lmd=1e-5)\n",
    "\n",
    "if use_cuda:\n",
    "    source_pre_transform = cp.asarray(source.points)\n",
    "    tmp = tf_param.transform(source_pre_transform)\n",
    "    result = o3d.geometry.PointCloud(); result.points = o3d.utility.Vector3dVector(tmp.get())\n",
    "else:\n",
    "    result = copy.deepcopy(source)\n",
    "    result.points = tf_param.transform(result.points)\n",
    "\n",
    "#Plot residuals\n",
    "residuals = np.linalg.norm(to_cpu(target.points) - to_cpu(result.points),axis=1)\n",
    "sns.histplot(residuals)"
   ]
  },
  {
   "cell_type": "code",
   "execution_count": 11,
   "metadata": {},
   "outputs": [],
   "source": [
    "# draw result\n",
    "source.paint_uniform_color([1, 0, 0]) #Red\n",
    "target.paint_uniform_color([0, 1, 0]) #Green\n",
    "result.paint_uniform_color([0, 0, 1]) #Blue\n",
    "o3.visualization.draw_geometries([source, target, result])"
   ]
  },
  {
   "attachments": {},
   "cell_type": "markdown",
   "metadata": {},
   "source": [
    "## Filterreg first, then CPD"
   ]
  },
  {
   "cell_type": "code",
   "execution_count": 11,
   "metadata": {},
   "outputs": [
    {
     "data": {
      "text/plain": [
       "<Axes: ylabel='Count'>"
      ]
     },
     "execution_count": 11,
     "metadata": {},
     "output_type": "execute_result"
    },
    {
     "data": {
      "image/png": "[encoded data removed]",
      "text/plain": [
       "<Figure size 500x500 with 1 Axes>"
      ]
     },
     "metadata": {},
     "output_type": "display_data"
    }
   ],
   "source": [
    "\n",
    "use_cuda = False; maxiter = 10000; tol = 1e-6\n",
    "\n",
    "# cast as point clouds\n",
    "source = o3d.geometry.PointCloud(); source.points = o3d.utility.Vector3dVector(point_set_2p)\n",
    "target = copy.deepcopy(source)\n",
    "\n",
    "# transform target point cloud\n",
    "th = np.deg2rad(30.0)\n",
    "target.transform(np.array([[np.cos(th), -np.sin(th), 0.0, 0.0],\n",
    "                           [np.sin(th), np.cos(th), 0.0, 0.0],\n",
    "                           [0.0, 0.0, 1.0, 0.0],\n",
    "                           [0.0, 0.0, 0.0, 1.0]]))\n",
    "\n",
    "objective_type = 'pt2pt'\n",
    "tf_param, _, _ = filterreg.registration_filterreg(source, target,maxiter=maxiter,tol=tol,\n",
    "                                                  objective_type=objective_type,\n",
    "                                                  feature_fn=features.FPFH())\n",
    "\n",
    "\n",
    "result = copy.deepcopy(source)\n",
    "result.points = tf_param.transform(result.points)\n",
    "\n",
    "#Plot residuals\n",
    "residuals = np.linalg.norm(to_cpu(target.points) - to_cpu(result.points),axis=1)\n",
    "sns.histplot(residuals)"
   ]
  },
  {
   "cell_type": "code",
   "execution_count": 9,
   "metadata": {},
   "outputs": [],
   "source": [
    "source.paint_uniform_color([1, 0, 0])\n",
    "target.paint_uniform_color([0, 1, 0])\n",
    "result.paint_uniform_color([0, 0, 1])\n",
    "o3.visualization.draw_geometries([source, target, result])"
   ]
  },
  {
   "cell_type": "code",
   "execution_count": 28,
   "metadata": {},
   "outputs": [],
   "source": [
    "maxiter = 10000\n",
    "cpd_types = ['rigid', 'affine', 'nonrigid', 'nonrigid_constrained']\n",
    "tf_type = cpd_types[2]\n",
    "\n",
    "#Cast as open3d point cloud\n",
    "source = o3d.geometry.PointCloud()\n",
    "target = o3d.geometry.PointCloud()\n",
    "source.points = o3d.utility.Vector3dVector(set_2p)\n",
    "target.points = o3d.utility.Vector3dVector(set_em)\n",
    "\n",
    "source_cuda = cp.asarray(set_2p, dtype=cp.float32)\n",
    "target_cuda = cp.asarray(set_em, dtype=cp.float32)\n",
    "\n",
    "#Create object and perform registration\n",
    "# cbs = [callbacks.Open3dVisualizerCallback(source, target)]\n",
    "reg_obj = registration_cpd(source, target, tf_type_name=tf_type,\n",
    "                        maxiter=maxiter,tol=1e-9,use_cuda=use_cuda)#, callbacks=cbs) #idx_source=idx_2p, idx_target=idx_em, \n",
    "\n"
   ]
  },
  {
   "cell_type": "code",
   "execution_count": null,
   "metadata": {},
   "outputs": [],
   "source": [
    "tf_param = reg_obj.transformation\n",
    "\n",
    "#Transform EM data\n",
    "transformed_source = tf_param.transform(source_cuda)\n",
    "\n",
    "#Get cells that are coregisted\n",
    "coreg_em = point_set_em[idx_em]\n",
    "coreg_2p_transformed = to_cpu(transformed_source)\n",
    "\n",
    "#Plot residuals\n",
    "residuals = np.linalg.norm(coreg_em - coreg_2p_transformed,axis=1)\n",
    "sns.histplot(residuals)"
   ]
  },
  {
   "cell_type": "code",
   "execution_count": null,
   "metadata": {},
   "outputs": [],
   "source": [
    "\n",
    "#Create object and perform registration\n",
    "rcpd = cpd.RigidCPD(source, use_cuda=use_cuda)\n",
    "tf_param, _, _ = rcpd.registration(target)\n",
    "\n",
    "#Transform EM data\n",
    "transformed_source = tf_param.transform(source)\n",
    "\n",
    "#Get cells that are coregisted\n",
    "coreg_em = point_set_em[idx_em]\n",
    "coreg_2p_transformed = to_cpu(transformed_source[idx_2p])\n",
    "\n",
    "#Plot residuals\n",
    "residuals = np.linalg.norm(coreg_em - coreg_2p_transformed,axis=1)\n",
    "sns.histplot(residuals)"
   ]
  },
  {
   "attachments": {},
   "cell_type": "markdown",
   "metadata": {},
   "source": [
    "## Plot points"
   ]
  },
  {
   "cell_type": "code",
   "execution_count": 14,
   "metadata": {},
   "outputs": [
    {
     "data": {
      "text/plain": [
       "13650"
      ]
     },
     "execution_count": 14,
     "metadata": {},
     "output_type": "execute_result"
    }
   ],
   "source": [
    "vol_thresh = 125\n",
    "vol_mask = nucleus_vols > vol_thresh\n",
    "np.sum(vol_mask)\n"
   ]
  },
  {
   "cell_type": "code",
   "execution_count": 13,
   "metadata": {},
   "outputs": [],
   "source": [
    "corr_mask_2p = np.zeros((point_set_2p.shape[0]),dtype=bool)\n",
    "corr_mask_2p[idx_2p] = True\n",
    "\n",
    "corr_mask_em = np.zeros((point_set_em.shape[0]),dtype=bool)\n",
    "corr_mask_em[idx_em] = True\n"
   ]
  },
  {
   "cell_type": "code",
   "execution_count": 17,
   "metadata": {},
   "outputs": [],
   "source": [
    "coreg_pts_planes =  planes[idx_2p]"
   ]
  },
  {
   "cell_type": "code",
   "execution_count": 135,
   "metadata": {},
   "outputs": [
    {
     "data": {
      "text/html": [
       "<svg  width=\"550\" height=\"55\"><rect x=\"0\" y=\"0\" width=\"55\" height=\"55\" style=\"fill:#0173b2;stroke-width:2;stroke:rgb(255,255,255)\"/><rect x=\"55\" y=\"0\" width=\"55\" height=\"55\" style=\"fill:#de8f05;stroke-width:2;stroke:rgb(255,255,255)\"/><rect x=\"110\" y=\"0\" width=\"55\" height=\"55\" style=\"fill:#029e73;stroke-width:2;stroke:rgb(255,255,255)\"/><rect x=\"165\" y=\"0\" width=\"55\" height=\"55\" style=\"fill:#d55e00;stroke-width:2;stroke:rgb(255,255,255)\"/><rect x=\"220\" y=\"0\" width=\"55\" height=\"55\" style=\"fill:#cc78bc;stroke-width:2;stroke:rgb(255,255,255)\"/><rect x=\"275\" y=\"0\" width=\"55\" height=\"55\" style=\"fill:#ca9161;stroke-width:2;stroke:rgb(255,255,255)\"/><rect x=\"330\" y=\"0\" width=\"55\" height=\"55\" style=\"fill:#fbafe4;stroke-width:2;stroke:rgb(255,255,255)\"/><rect x=\"385\" y=\"0\" width=\"55\" height=\"55\" style=\"fill:#949494;stroke-width:2;stroke:rgb(255,255,255)\"/><rect x=\"440\" y=\"0\" width=\"55\" height=\"55\" style=\"fill:#ece133;stroke-width:2;stroke:rgb(255,255,255)\"/><rect x=\"495\" y=\"0\" width=\"55\" height=\"55\" style=\"fill:#56b4e9;stroke-width:2;stroke:rgb(255,255,255)\"/></svg>"
      ],
      "text/plain": [
       "[(0.00392156862745098, 0.45098039215686275, 0.6980392156862745),\n",
       " (0.8705882352941177, 0.5607843137254902, 0.0196078431372549),\n",
       " (0.00784313725490196, 0.6196078431372549, 0.45098039215686275),\n",
       " (0.8352941176470589, 0.3686274509803922, 0.0),\n",
       " (0.8, 0.47058823529411764, 0.7372549019607844),\n",
       " (0.792156862745098, 0.5686274509803921, 0.3803921568627451),\n",
       " (0.984313725490196, 0.6862745098039216, 0.8941176470588236),\n",
       " (0.5803921568627451, 0.5803921568627451, 0.5803921568627451),\n",
       " (0.9254901960784314, 0.8823529411764706, 0.2),\n",
       " (0.33725490196078434, 0.7058823529411765, 0.9137254901960784)]"
      ]
     },
     "execution_count": 135,
     "metadata": {},
     "output_type": "execute_result"
    }
   ],
   "source": [
    "sns.color_palette(\"colorblind\")"
   ]
  },
  {
   "cell_type": "code",
   "execution_count": 12,
   "metadata": {},
   "outputs": [
    {
     "data": {
      "image/png": "[encoded data removed]",
      "text/html": [
       "<div style=\"vertical-align: middle;\"><strong>viridis</strong> </div><div class=\"cmap\"><img alt=\"viridis colormap\" title=\"viridis\" style=\"border: 1px solid #555;\" src=\"data:image/png;base64,iVBORw0KGgoAAAANSUhEUgAAAgAAAABACAYAAABsv8+/AAAAFnRFWHRUaXRsZQB2aXJpZGlzIGNvbG9ybWFwrE0mCwAAABx0RVh0RGVzY3JpcHRpb24AdmlyaWRpcyBjb2xvcm1hcAtjl3IAAAAwdEVYdEF1dGhvcgBNYXRwbG90bGliIHYzLjcuMSwgaHR0cHM6Ly9tYXRwbG90bGliLm9yZyqv+E0AAAAydEVYdFNvZnR3YXJlAE1hdHBsb3RsaWIgdjMuNy4xLCBodHRwczovL21hdHBsb3RsaWIub3JnBAlnagAAAiJJREFUeJzt1kGSmzAURdEv2FqWkP0vJfQgMhQCGceV2Ttn4pL0EVQPum771X5vVVXVWv39XfrPeV193V5zS98f1sf5/fPjey73zu6/3Hv/uz2cz57f9vP68rxO9+/zre7nhvvG+et6vH92bw3PDfcsD+eX59+/53n96f3362/f87/vf5yr93Of72/fPV9P89tX3zGeH3OT8/07Zs+/32+TuXZZD8/VODf8W5uuH/b7vctlfuv7NazH8/t7ZnP7bz2cD3NL+/Ph3Hl+/efz83vWun/vuL++nquH9eu9w/uu6/vvOO49f/8xf77vOj+8b7Y/fMfse9ca/y7nv+d62a++X+f1vt+G/b7u+/u6TxzzS//tc2053QMABBEAABBIAABAIAEAAIEEAAAEEgAAEEgAAEAgAQAAgQQAAAQSAAAQSAAAQCABAACBBAAABBIAABBIAABAIAEAAIEEAAAEEgAAEEgAAEAgAQAAgQQAAAQSAAAQSAAAQCABAACBBAAABBIAABBIAABAIAEAAIEEAAAEEgAAEEgAAEAgAQAAgQQAAAQSAAAQSAAAQCABAACBBAAABBIAABBIAABAIAEAAIEEAAAEEgAAEEgAAEAgAQAAgQQAAAQSAAAQSAAAQCABAACBBAAABBIAABBIAABAIAEAAIEEAAAEEgAAEEgAAEAgAQAAgQQAAAQSAAAQSAAAQCABAACBBAAABBIAABBIAABAoB9ucImHxcKZtAAAAABJRU5ErkJggg==\"></div><div style=\"vertical-align: middle; max-width: 514px; display: flex; justify-content: space-between;\"><div style=\"float: left;\"><div title=\"#440154ff\" style=\"display: inline-block; width: 1em; height: 1em; margin: 0; vertical-align: middle; border: 1px solid #555; background-color: #440154ff;\"></div> under</div><div style=\"margin: 0 auto; display: inline-block;\">bad <div title=\"#00000000\" style=\"display: inline-block; width: 1em; height: 1em; margin: 0; vertical-align: middle; border: 1px solid #555; background-color: #00000000;\"></div></div><div style=\"float: right;\">over <div title=\"#fde725ff\" style=\"display: inline-block; width: 1em; height: 1em; margin: 0; vertical-align: middle; border: 1px solid #555; background-color: #fde725ff;\"></div></div>"
      ],
      "text/plain": [
       "<matplotlib.colors.ListedColormap at 0x7f286c320970>"
      ]
     },
     "execution_count": 12,
     "metadata": {},
     "output_type": "execute_result"
    }
   ],
   "source": [
    "cmap = sns.color_palette(\"viridis\",as_cmap=True)\n",
    "cmap"
   ]
  },
  {
   "cell_type": "code",
   "execution_count": 18,
   "metadata": {},
   "outputs": [],
   "source": [
    "point_set_2p_0 = point_set_2p_new - point_set_2p_new[idx_2p[0]]\n",
    "point_set_em_0 = point_set_em - point_set_em[idx_em[0]]\n",
    "\n",
    "point_cloud_list = []\n",
    "# cast as point clouds\n",
    "source = o3d.geometry.PointCloud(); source.points = o3d.utility.Vector3dVector(point_set_2p_new)\n",
    "source.paint_uniform_color([0.7,0.7,0.7]) #Green\n",
    "point_cloud_list.append(source)\n",
    "\n",
    "for i in range(6):\n",
    "    plane_mask = coreg_pts_planes == i\n",
    "    mask = idx_2p[plane_mask]\n",
    "    pc_2p = o3d.geometry.PointCloud(); pc_2p.points = o3d.utility.Vector3dVector(point_set_2p_new[mask])\n",
    "    pc_2p.paint_uniform_color(cmap(i/6)[:3])\n",
    "    point_cloud_list.append(pc_2p)\n",
    "\n",
    "target = o3d.geometry.PointCloud(); target.points = o3d.utility.Vector3dVector(point_set_em[vol_mask][::10])\n",
    "target.paint_uniform_color([0.8,0.8,0.8]) #Green\n",
    "point_cloud_list.append(target)\n",
    "\n",
    "for i in range(6):\n",
    "    plane_mask = coreg_pts_planes == i\n",
    "    mask = idx_em[plane_mask]\n",
    "    pc_em = o3d.geometry.PointCloud(); pc_em.points = o3d.utility.Vector3dVector(point_set_em[mask])\n",
    "    pc_em.paint_uniform_color(cmap(i/6)[:3])\n",
    "    point_cloud_list.append(pc_em)\n",
    "    \n",
    "# draw result\n",
    "\n",
    "o3.visualization.draw_geometries(point_cloud_list)"
   ]
  },
  {
   "cell_type": "code",
   "execution_count": 75,
   "metadata": {},
   "outputs": [],
   "source": [
    "point_set_2p_0 = point_set_2p_new - point_set_2p_new[idx_2p[0]]\n",
    "point_set_em_0 = point_set_em - point_set_em[idx_em[0]]\n",
    "\n",
    "# cast as point clouds\n",
    "source = o3d.geometry.PointCloud(); source.points = o3d.utility.Vector3dVector(point_set_2p)\n",
    "target = o3d.geometry.PointCloud(); target.points = o3d.utility.Vector3dVector(point_set_em)\n",
    "\n",
    "# draw result\n",
    "source.paint_uniform_color([1, 0, 0]) #Red\n",
    "target.paint_uniform_color([0, 1, 0]) #Green\n",
    "# result.paint_uniform_color([0, 0, 1]) #Blue\n",
    "o3.visualization.draw_geometries([source, target])"
   ]
  },
  {
   "attachments": {},
   "cell_type": "markdown",
   "metadata": {},
   "source": [
    "## CPD on 2p and EM point clouds"
   ]
  },
  {
   "cell_type": "code",
   "execution_count": 61,
   "metadata": {},
   "outputs": [
    {
     "data": {
      "text/plain": [
       "<Axes: ylabel='Count'>"
      ]
     },
     "execution_count": 61,
     "metadata": {},
     "output_type": "execute_result"
    },
    {
     "data": {
      "image/png": "[encoded data removed]",
      "text/plain": [
       "<Figure size 500x500 with 1 Axes>"
      ]
     },
     "metadata": {},
     "output_type": "display_data"
    }
   ],
   "source": [
    "use_cuda = False; maxiter = 10000; tol = 1e-6\n",
    "\n",
    "# cast as point clouds\n",
    "target = o3d.geometry.PointCloud(); target.points = o3d.utility.Vector3dVector(point_set_2p[idx_2p])\n",
    "source = o3d.geometry.PointCloud(); source.points = o3d.utility.Vector3dVector(point_set_em[idx_em])\n",
    "\n",
    "# compute cpd registration\n",
    "tf_param, _, _ = cpd.registration_cpd(source, target,'nonrigid',use_cuda=use_cuda,maxiter=maxiter,tol=tol)#,beta=10,lmd=1e-5)\n",
    "\n",
    "if use_cuda:\n",
    "    source_pre_transform = cp.asarray(source.points)\n",
    "    tmp = tf_param.transform(source_pre_transform)\n",
    "    result = o3d.geometry.PointCloud(); result.points = o3d.utility.Vector3dVector(tmp.get())\n",
    "else:\n",
    "    result = copy.deepcopy(source)\n",
    "    result.points = tf_param.transform(result.points)\n",
    "\n",
    "#Get cells that are coregisted\n",
    "coreg_em = to_cpu(target.points)#[idx_em]\n",
    "coreg_2p_transformed = to_cpu(result.points)#[idx_2p]\n",
    "\n",
    "#Plot residuals\n",
    "residuals = np.linalg.norm(coreg_em - coreg_2p_transformed,axis=1)\n",
    "sns.histplot(residuals)\n"
   ]
  },
  {
   "cell_type": "code",
   "execution_count": 33,
   "metadata": {},
   "outputs": [
    {
     "data": {
      "text/plain": [
       "<Axes: ylabel='Count'>"
      ]
     },
     "execution_count": 33,
     "metadata": {},
     "output_type": "execute_result"
    },
    {
     "data": {
      "image/png": "[encoded data removed]",
      "text/plain": [
       "<Figure size 500x500 with 1 Axes>"
      ]
     },
     "metadata": {},
     "output_type": "display_data"
    }
   ],
   "source": [
    "use_cuda = False; maxiter = 10000; tol = 1e-6\n",
    "\n",
    "# cast as point clouds\n",
    "source = copy.deepcopy(result)\n",
    "target = o3d.geometry.PointCloud(); target.points = o3d.utility.Vector3dVector(point_set_em[idx_em])\n",
    "\n",
    "# compute cpd registration\n",
    "tf_param, _, _ = cpd.registration_cpd(source, target,'nonrigid',use_cuda=use_cuda,maxiter=maxiter,tol=tol,beta=10,lmd=1e-5)\n",
    "\n",
    "if use_cuda:\n",
    "    source_pre_transform = cp.asarray(source.points)\n",
    "    tmp = tf_param.transform(source_pre_transform)\n",
    "    result = o3d.geometry.PointCloud(); result.points = o3d.utility.Vector3dVector(tmp.get())\n",
    "else:\n",
    "    result = copy.deepcopy(source)\n",
    "    result.points = tf_param.transform(result.points)\n",
    "\n",
    "#Get cells that are coregisted\n",
    "coreg_em = to_cpu(target.points)#[idx_em]\n",
    "coreg_2p_transformed = to_cpu(result.points)#[idx_2p]\n",
    "\n",
    "#Plot residuals\n",
    "residuals = np.linalg.norm(coreg_em - coreg_2p_transformed,axis=1)\n",
    "sns.histplot(residuals)\n"
   ]
  },
  {
   "cell_type": "code",
   "execution_count": null,
   "metadata": {},
   "outputs": [],
   "source": []
  },
  {
   "cell_type": "code",
   "execution_count": 60,
   "metadata": {},
   "outputs": [],
   "source": [
    "# draw result\n",
    "source.paint_uniform_color([1, 0, 0]) #Red\n",
    "target.paint_uniform_color([0, 1, 0]) #Green\n",
    "result.paint_uniform_color([0, 0, 1]) #Blue\n",
    "o3.visualization.draw_geometries([source, target, result])"
   ]
  },
  {
   "attachments": {},
   "cell_type": "markdown",
   "metadata": {},
   "source": [
    "## Non-rigid CPD"
   ]
  },
  {
   "cell_type": "code",
   "execution_count": 11,
   "metadata": {},
   "outputs": [
    {
     "data": {
      "text/plain": [
       "<Axes: ylabel='Count'>"
      ]
     },
     "execution_count": 11,
     "metadata": {},
     "output_type": "execute_result"
    },
    {
     "data": {
      "image/png": "[encoded data removed]",
      "text/plain": [
       "<Figure size 500x500 with 1 Axes>"
      ]
     },
     "metadata": {},
     "output_type": "display_data"
    }
   ],
   "source": [
    "maxiter = 10000\n",
    "#Cast cuda array\n",
    "source = cp.asarray(point_set_2p_new, dtype=cp.float32)\n",
    "target = cp.asarray(point_set_em, dtype=cp.float32)\n",
    "\n",
    "#Open 3D format\n",
    "source_03d = o3d.geometry.PointCloud(); source_03d.points = o3d.utility.Vector3dVector(point_set_2p_new)\n",
    "target_03d = o3d.geometry.PointCloud(); target_03d.points = o3d.utility.Vector3dVector(point_set_em)\n",
    "\n",
    "#Create object and perform registration\n",
    "acpd = cpd.NonRigidCPD(source, use_cuda=use_cuda)\n",
    "tf_param, _, _ = acpd.registration(target,maxiter=maxiter)\n",
    "\n",
    "#Transform EM data\n",
    "transformed_source = tf_param.transform(source)\n",
    "\n",
    "#Get cells that are coregisted\n",
    "coreg_em = point_set_em[idx_em]\n",
    "coreg_2p_transformed = to_cpu(transformed_source[idx_2p])\n",
    "\n",
    "#Plot residuals\n",
    "residuals = np.linalg.norm(coreg_em - coreg_2p_transformed,axis=1)\n",
    "sns.histplot(residuals)"
   ]
  },
  {
   "cell_type": "code",
   "execution_count": 12,
   "metadata": {},
   "outputs": [],
   "source": [
    "pc = o3.geometry.PointCloud()\n",
    "pc.points = o3.utility.Vector3dVector(to_cpu(transformed_source))\n",
    "pc.paint_uniform_color([1, 0.5, 0])\n",
    "target_03d.paint_uniform_color([0, 0, 1])\n",
    "\n",
    "o3.visualization.draw_geometries([pc, target_03d])"
   ]
  },
  {
   "attachments": {},
   "cell_type": "markdown",
   "metadata": {},
   "source": [
    "## Constrained non-rigid CPD"
   ]
  },
  {
   "cell_type": "code",
   "execution_count": 76,
   "metadata": {},
   "outputs": [
    {
     "data": {
      "text/plain": [
       "array([ 80,  81,  82,  83,  84,  85,  86,  87,  88,  89,  90,  91,  92,\n",
       "        93,  94,  95,  96,  97,  98,  99, 100, 101, 102, 103, 104, 105,\n",
       "       106, 107, 108, 109, 110, 111, 112, 113, 114, 115, 116, 117, 118,\n",
       "       119, 120, 121, 122, 123, 124, 125, 126, 127, 128, 129, 130, 131,\n",
       "       132, 133, 134, 135, 136, 137, 138, 139, 140, 141, 142, 143, 144,\n",
       "       145, 146, 147, 148, 149, 150, 151, 152, 153, 154, 155, 156, 157,\n",
       "       158, 159])"
      ]
     },
     "execution_count": 76,
     "metadata": {},
     "output_type": "execute_result"
    }
   ],
   "source": [
    "from sklearn.model_selection import KFold\n",
    "kf = KFold(n_splits=2)\n",
    "t0, t1 = kf.split(idx_2p)\n",
    "train_indy = t0[0]; test_indy = t1[0]\n",
    "train_indy"
   ]
  },
  {
   "cell_type": "code",
   "execution_count": 77,
   "metadata": {},
   "outputs": [],
   "source": [
    "point_set_2p_0 = point_set_2p_new - point_set_2p_new[idx_2p[0]]\n",
    "point_set_em_0 = point_set_em - point_set_em[idx_em[0]]\n",
    "\n",
    "# cast as point clouds\n",
    "source = o3d.geometry.PointCloud(); source.points = o3d.utility.Vector3dVector(point_set_2p)\n",
    "target = o3d.geometry.PointCloud(); target.points = o3d.utility.Vector3dVector(point_set_em)\n",
    "\n",
    "# draw result\n",
    "source.paint_uniform_color([1, 0, 0]) #Red\n",
    "target.paint_uniform_color([0, 1, 0]) #Green\n",
    "# result.paint_uniform_color([0, 0, 1]) #Blue\n",
    "o3.visualization.draw_geometries([source, target])"
   ]
  },
  {
   "cell_type": "code",
   "execution_count": 25,
   "metadata": {},
   "outputs": [
    {
     "data": {
      "text/plain": [
       "[<matplotlib.lines.Line2D at 0x7fa9e068a040>]"
      ]
     },
     "execution_count": 25,
     "metadata": {},
     "output_type": "execute_result"
    },
    {
     "data": {
      "image/png": "[encoded data removed]",
      "text/plain": [
       "<Figure size 1000x500 with 2 Axes>"
      ]
     },
     "metadata": {},
     "output_type": "display_data"
    }
   ],
   "source": [
    "# cast as point clouds\n",
    "source = o3d.geometry.PointCloud(); source.points = o3d.utility.Vector3dVector(point_set_2p_new)\n",
    "target = o3d.geometry.PointCloud(); target.points = o3d.utility.Vector3dVector(point_set_em)\n",
    "idx_source=idx_2p[train_indy];\n",
    "idx_target=idx_em[train_indy]\n",
    "\n",
    "\n",
    "\n",
    "fig, axes = plt.subplots(1,2,figsize=(10,5))\n",
    "tmp = np.asarray(source.points)[idx_source]\n",
    "axes[0].plot(tmp[:,0],tmp[:,2],'.k')\n",
    "\n",
    "tmp = np.asarray(target.points)[idx_target]\n",
    "axes[1].plot(tmp[:,0],tmp[:,2],'.k')"
   ]
  },
  {
   "cell_type": "code",
   "execution_count": 78,
   "metadata": {},
   "outputs": [
    {
     "data": {
      "text/plain": [
       "<Axes: ylabel='Count'>"
      ]
     },
     "execution_count": 78,
     "metadata": {},
     "output_type": "execute_result"
    },
    {
     "data": {
      "image/png": "[encoded data removed]",
      "text/plain": [
       "<Figure size 500x500 with 1 Axes>"
      ]
     },
     "metadata": {},
     "output_type": "display_data"
    }
   ],
   "source": [
    "use_cuda = False; maxiter = 10000; tol = 1e-6\n",
    "\n",
    "# cast as point clouds\n",
    "target = o3d.geometry.PointCloud(); target.points = o3d.utility.Vector3dVector(point_set_2p)\n",
    "source = o3d.geometry.PointCloud(); source.points = o3d.utility.Vector3dVector(point_set_em)\n",
    "\n",
    "# compute cpd registration\n",
    "tf_param, _, _ = cpd.registration_cpd(source, target,'nonrigid_constrained',use_cuda=use_cuda,maxiter=maxiter,tol=tol,idx_target=idx_2p[train_indy],idx_source=idx_em[train_indy])#,beta=1000,lmd=100)\n",
    "\n",
    "if use_cuda:\n",
    "    source_pre_transform = cp.asarray(source.points)\n",
    "    tmp = tf_param.transform(source_pre_transform)\n",
    "    result = o3d.geometry.PointCloud(); result.points = o3d.utility.Vector3dVector(tmp.get())\n",
    "else:\n",
    "    result = copy.deepcopy(source)\n",
    "    result.points = tf_param.transform(result.points)\n",
    "\n",
    "#Get cells that are coregisted\n",
    "# coreg_em = to_cpu(target.points)[idx_em[test_indy]]\n",
    "# coreg_2p_transformed = to_cpu(result.points)[idx_em[test_indy]]\n",
    "\n",
    "#Plot residuals\n",
    "residuals = np.linalg.norm(to_cpu(target.points)[idx_2p[test_indy]] - to_cpu(result.points)[idx_em[test_indy]],axis=1)\n",
    "sns.histplot(residuals)\n"
   ]
  },
  {
   "cell_type": "code",
   "execution_count": 79,
   "metadata": {},
   "outputs": [
    {
     "data": {
      "text/plain": [
       "<Axes: ylabel='Count'>"
      ]
     },
     "execution_count": 79,
     "metadata": {},
     "output_type": "execute_result"
    },
    {
     "data": {
      "image/png": "[encoded data removed]",
      "text/plain": [
       "<Figure size 500x500 with 1 Axes>"
      ]
     },
     "metadata": {},
     "output_type": "display_data"
    }
   ],
   "source": [
    "\n",
    "#Plot residuals\n",
    "residuals = np.linalg.norm(to_cpu(target.points)[idx_2p[train_indy]] - to_cpu(result.points)[idx_em[train_indy]],axis=1)\n",
    "sns.histplot(residuals)\n"
   ]
  },
  {
   "cell_type": "code",
   "execution_count": 91,
   "metadata": {},
   "outputs": [],
   "source": [
    "target = o3d.geometry.PointCloud(); target.points = o3d.utility.Vector3dVector(point_set_2p)\n",
    "source = o3d.geometry.PointCloud(); source.points = o3d.utility.Vector3dVector(point_set_em)\n",
    "\n",
    "source.paint_uniform_color([0.7,0.7,0.7]) \n",
    "result_train = o3d.geometry.PointCloud(); result_train.points = o3d.utility.Vector3dVector(np.asarray(result.points)[idx_2p[train_indy]]); result_train.paint_uniform_color([1,0,0]) #\n",
    "result_test = o3d.geometry.PointCloud(); result_test.points = o3d.utility.Vector3dVector(np.asarray(result.points)[idx_2p[test_indy]]); result_test.paint_uniform_color([0,1,0]) #\n",
    "\n",
    "target2 = o3d.geometry.PointCloud(); target2.points = o3d.utility.Vector3dVector(point_set_2p)\n",
    "target2.paint_uniform_color([0.8,0.8,0.8]) #\n",
    "\n",
    "result.paint_uniform_color([0, 0, 1]) #Blue\n",
    "o3.visualization.draw_geometries([source, target2,result])#result_train, result_test])"
   ]
  },
  {
   "cell_type": "code",
   "execution_count": 87,
   "metadata": {},
   "outputs": [
    {
     "data": {
      "text/plain": [
       "array([[573.7748863 , 551.890883  , 375.615     ],\n",
       "       [940.12394139, 632.05189506, 271.755     ],\n",
       "       [947.4959425 , 623.05089371, 263.61      ],\n",
       "       ...,\n",
       "       [631.58689499, 493.14787417, 133.2       ],\n",
       "       [585.56988807, 452.64086808, 101.97      ],\n",
       "       [600.15889026, 710.81590691,  96.93      ]])"
      ]
     },
     "execution_count": 87,
     "metadata": {},
     "output_type": "execute_result"
    }
   ],
   "source": [
    "np.asarray(source.points)"
   ]
  },
  {
   "cell_type": "code",
   "execution_count": 86,
   "metadata": {},
   "outputs": [
    {
     "data": {
      "text/plain": [
       "array([[343.09136814, 271.41003318, 267.        ],\n",
       "       [204.63698408, 367.63960062, 267.        ],\n",
       "       [308.11094224, 511.19133076, 267.        ],\n",
       "       ...,\n",
       "       [271.85200643, 472.16321342, 347.        ],\n",
       "       [268.46148938, 518.98142647, 347.        ],\n",
       "       [292.83549557, 595.23691647, 347.        ]])"
      ]
     },
     "execution_count": 86,
     "metadata": {},
     "output_type": "execute_result"
    }
   ],
   "source": [
    "np.asarray(target.points)"
   ]
  },
  {
   "cell_type": "code",
   "execution_count": 34,
   "metadata": {},
   "outputs": [
    {
     "data": {
      "text/plain": [
       "<Axes: ylabel='Count'>"
      ]
     },
     "execution_count": 34,
     "metadata": {},
     "output_type": "execute_result"
    },
    {
     "data": {
      "image/png": "[encoded data removed]",
      "text/plain": [
       "<Figure size 500x500 with 1 Axes>"
      ]
     },
     "metadata": {},
     "output_type": "display_data"
    }
   ],
   "source": [
    "use_cuda = False; maxiter = 10000; tol = 1e-6\n",
    "\n",
    "# cast as point clouds\n",
    "source = o3d.geometry.PointCloud(); source.points = o3d.utility.Vector3dVector(point_set_2p)\n",
    "target = o3d.geometry.PointCloud(); target.points = o3d.utility.Vector3dVector(point_set_em)\n",
    "\n",
    "# compute cpd registration\n",
    "tf_param, _, _ = cpd.registration_cpd(source, target,'nonrigid_constrained',use_cuda=use_cuda,maxiter=maxiter,tol=tol,idx_source=idx_2p,idx_target=idx_em)#,alpha=0.1,beta=100)#,lmd=1e-5)\n",
    "\n",
    "if use_cuda:\n",
    "    source_pre_transform = cp.asarray(source.points)\n",
    "    tmp = tf_param.transform(source_pre_transform)\n",
    "    result = o3d.geometry.PointCloud(); result.points = o3d.utility.Vector3dVector(tmp.get())\n",
    "else:\n",
    "    result = copy.deepcopy(source)\n",
    "    result.points = tf_param.transform(result.points)\n",
    "\n",
    "#Get cells that are coregisted\n",
    "coreg_em = to_cpu(target.points)[idx_em]\n",
    "coreg_2p_transformed = to_cpu(result.points)[idx_2p]\n",
    "\n",
    "#Plot residuals\n",
    "residuals = np.linalg.norm(coreg_em - coreg_2p_transformed,axis=1)\n",
    "sns.histplot(residuals)\n"
   ]
  },
  {
   "cell_type": "code",
   "execution_count": 37,
   "metadata": {},
   "outputs": [
    {
     "data": {
      "text/plain": [
       "(2710, 2710)"
      ]
     },
     "execution_count": 37,
     "metadata": {},
     "output_type": "execute_result"
    }
   ],
   "source": [
    "tf_param.g.shape"
   ]
  },
  {
   "cell_type": "code",
   "execution_count": 31,
   "metadata": {},
   "outputs": [],
   "source": [
    "\n",
    "# cast as point clouds\n",
    "co_2p = o3d.geometry.PointCloud(); co_2p.points = o3d.utility.Vector3dVector(point_set_2p[idx_2p])\n",
    "co_2p_transformed = o3d.geometry.PointCloud(); co_2p_transformed.points = o3d.utility.Vector3dVector(coreg_2p_transformed)\n",
    "co_em = o3d.geometry.PointCloud(); co_em.points = o3d.utility.Vector3dVector(point_set_em[idx_em])\n",
    "\n",
    "co_2p.paint_uniform_color([1, 0, 0]) #Red\n",
    "co_2p_transformed.paint_uniform_color([0, 1, 0]) #Green\n",
    "co_em.paint_uniform_color([0, 0, 1]) #Blue\n",
    "o3.visualization.draw_geometries([co_2p, co_2p_transformed, co_em])"
   ]
  },
  {
   "cell_type": "code",
   "execution_count": 41,
   "metadata": {},
   "outputs": [],
   "source": [
    "# draw result\n",
    "source.paint_uniform_color([0.7,0.7,0.7]) #Blue\n",
    "target.paint_uniform_color([0, 1, 0]) #Green\n",
    "target2 = o3d.geometry.PointCloud(); target2.points = o3d.utility.Vector3dVector(point_set_em[::10])\n",
    "target2.paint_uniform_color([0.8,0.8,0.8]) #Blue\n",
    "\n",
    "result.paint_uniform_color([0, 0, 1]) #Blue\n",
    "o3.visualization.draw_geometries([source, target2, result])"
   ]
  },
  {
   "cell_type": "code",
   "execution_count": 14,
   "metadata": {},
   "outputs": [],
   "source": [
    "pc = o3.geometry.PointCloud()\n",
    "pc.points = o3.utility.Vector3dVector(to_cpu(transformed_source))\n",
    "pc.paint_uniform_color([1, 0.5, 0])\n",
    "target_03d.paint_uniform_color([0, 0, 1])\n",
    "\n",
    "o3.visualization.draw_geometries([pc, target_03d])"
   ]
  },
  {
   "attachments": {},
   "cell_type": "markdown",
   "metadata": {},
   "source": [
    "## PyPCD"
   ]
  },
  {
   "cell_type": "code",
   "execution_count": 8,
   "metadata": {},
   "outputs": [],
   "source": [
    "\n",
    "from pycpd import RigidRegistration\n",
    "from functools import partial\n",
    "def visualize(iteration, error, X, Y, ax):\n",
    "    plt.cla()\n",
    "    ax.scatter(X[:, 0],  X[:, 1], X[:, 2], color='red', label='Target')\n",
    "    ax.scatter(Y[:, 0],  Y[:, 1], Y[:, 2], color='blue', label='Source')\n",
    "    ax.text2D(0.87, 0.92, 'Iteration: {:d}\\nQ: {:06.4f}'.format(\n",
    "        iteration, error), horizontalalignment='center', verticalalignment='center', transform=ax.transAxes, fontsize='x-large')\n",
    "    ax.legend(loc='upper left', fontsize='x-large')\n",
    "    plt.draw()\n",
    "    plt.pause(0.001)"
   ]
  },
  {
   "cell_type": "code",
   "execution_count": 9,
   "metadata": {},
   "outputs": [],
   "source": [
    "# fig = plt.figure()\n",
    "# ax = fig.add_subplot(111, projection='3d')\n",
    "# callback = partial(visualize, ax=ax)\n",
    "\n",
    "reg = RigidRegistration(X=point_set_2p_new[idx_2p], Y=point_set_em[idx_em])\n",
    "TY, parameters = reg.register()\n"
   ]
  },
  {
   "cell_type": "code",
   "execution_count": 10,
   "metadata": {},
   "outputs": [
    {
     "data": {
      "text/plain": [
       "array([[686.29490322, 542.26888156, 193.77      ],\n",
       "       [723.61990883, 553.67588327, 184.365     ],\n",
       "       [781.66491756, 598.21888997,  69.93      ],\n",
       "       [841.1069265 , 591.15688891, 110.43      ],\n",
       "       [887.12293342, 586.03488814, 127.035     ],\n",
       "       [912.96393731, 602.71889065, 128.88      ],\n",
       "       [892.24493419, 596.20088967, 148.32      ],\n",
       "       [842.34792669, 615.75589261, 128.07      ],\n",
       "       [833.81192541, 601.24489043, 133.425     ],\n",
       "       [705.22890607, 569.8168857 , 189.135     ],\n",
       "       [690.32990383, 559.80688419, 203.76      ],\n",
       "       [659.98789926, 550.88288285, 212.04      ],\n",
       "       [748.37491256, 564.85088495, 208.845     ],\n",
       "       [853.67792839, 630.73289486,  92.7       ],\n",
       "       [763.9719149 , 628.01689445,  75.555     ],\n",
       "       [651.29689796, 614.3588924 ,  78.12      ],\n",
       "       [782.20791764, 574.16288635, 224.325     ],\n",
       "       [729.05190965, 575.48188655, 223.335     ],\n",
       "       [737.97591099, 600.15889026, 197.595     ],\n",
       "       [692.89090421, 592.55388912, 185.04      ],\n",
       "       [735.10491056, 545.06288198, 222.255     ],\n",
       "       [710.66090688, 573.46388625, 253.215     ],\n",
       "       [728.19890952, 637.09589582, 129.015     ],\n",
       "       [710.35090684, 612.10889206, 182.61      ],\n",
       "       [710.66090688, 651.14189793, 139.59      ],\n",
       "       [743.48591182, 649.97789776, 153.36      ],\n",
       "       [732.85491022, 639.11389612, 171.09      ],\n",
       "       [712.60090718, 594.72688945, 238.725     ],\n",
       "       [709.4189067 , 638.9588961 , 111.33      ],\n",
       "       [693.43390429, 644.39089692, 101.61      ],\n",
       "       [742.39891166, 661.69489952,  74.745     ],\n",
       "       [766.29991525, 584.48288791, 252.495     ],\n",
       "       [733.70791035, 591.54488897, 272.97      ],\n",
       "       [772.97391626, 601.0898904 , 242.415     ],\n",
       "       [780.96691746, 565.54888506, 293.67      ],\n",
       "       [826.28492427, 592.3988891 , 285.075     ],\n",
       "       [801.99592062, 582.31088758, 304.38      ],\n",
       "       [810.84292195, 566.79088525, 352.71      ],\n",
       "       [746.89991233, 576.02488663, 349.02      ],\n",
       "       [809.75592179, 571.44688595, 369.945     ],\n",
       "       [730.0609098 , 642.2948966 , 122.13      ],\n",
       "       [858.33392909, 645.70989711, 144.09      ],\n",
       "       [890.925934  , 631.50889498, 188.685     ],\n",
       "       [929.88093985, 625.6888941 , 219.375     ],\n",
       "       [905.20393614, 626.61989424, 203.625     ],\n",
       "       [833.96692543, 674.1889014 , 105.075     ],\n",
       "       [668.13590049, 561.51388445, 253.89      ],\n",
       "       [633.99189535, 556.62488372, 259.65      ],\n",
       "       [782.44091768, 540.94988136, 318.105     ],\n",
       "       [798.73692013, 557.40088383, 287.1       ],\n",
       "       [816.35192278, 547.77888239, 306.54      ],\n",
       "       [834.35492549, 553.36588323, 295.785     ],\n",
       "       [847.70292749, 537.69088087, 339.705     ],\n",
       "       [838.15792606, 571.98988603, 287.28      ],\n",
       "       [743.48591182, 539.2428811 , 331.245     ],\n",
       "       [708.48790656, 588.90688857, 168.615     ],\n",
       "       [733.16491027, 561.59088446, 259.875     ],\n",
       "       [697.4689049 , 549.33088262, 243.945     ],\n",
       "       [726.49090926, 604.19389087, 174.105     ],\n",
       "       [667.82590044, 550.95988286, 279.99      ],\n",
       "       [706.70290629, 574.08488634, 198.27      ],\n",
       "       [685.20790306, 538.38888097, 219.96      ],\n",
       "       [776.31091676, 560.03888423, 300.645     ],\n",
       "       [720.90390842, 569.35088563, 279.405     ],\n",
       "       [705.07390604, 564.4628849 , 265.5       ],\n",
       "       [725.32690909, 568.26488547, 269.865     ],\n",
       "       [764.35991496, 550.88288285, 284.22      ],\n",
       "       [745.50291212, 534.5868804 , 258.39      ],\n",
       "       [707.16890636, 538.38888097, 275.13      ],\n",
       "       [793.2269193 , 609.31489164, 234.135     ],\n",
       "       [723.23190877, 588.75088855, 169.245     ],\n",
       "       [810.06692183, 575.71488659, 245.7       ],\n",
       "       [848.01292754, 549.56288265, 251.415     ],\n",
       "       [948.97094273, 518.67887801, 342.54      ],\n",
       "       [843.66692689, 493.69087425, 393.03      ],\n",
       "       [931.19994005, 520.85087834, 339.705     ],\n",
       "       [858.72192915, 595.57988958, 201.15      ],\n",
       "       [822.17192365, 623.90389384, 114.39      ],\n",
       "       [917.69793802, 568.80788555, 151.875     ],\n",
       "       [815.73092269, 597.13188981,  88.02      ],\n",
       "       [875.0179316 , 550.49488279, 237.78      ],\n",
       "       [870.12893087, 552.74488313, 255.735     ],\n",
       "       [825.27592412, 541.25988141, 259.695     ],\n",
       "       [833.42392535, 550.49488279, 266.805     ],\n",
       "       [757.76391397, 538.38888097, 297.225     ],\n",
       "       [774.91391655, 533.2668802 , 288.945     ],\n",
       "       [736.65691079, 570.82588585, 262.26      ],\n",
       "       [788.95891866, 524.49887888, 279.36      ],\n",
       "       [678.223902  , 576.95588677, 261.81      ],\n",
       "       [607.91889143, 585.56988807, 275.04      ],\n",
       "       [683.73390283, 650.13289778, 137.34      ],\n",
       "       [672.79190119, 637.09589582, 153.        ],\n",
       "       [654.09089838, 618.78289306, 193.095     ],\n",
       "       [630.65489485, 622.81789367, 185.715     ],\n",
       "       [645.01089701, 607.0648913 , 242.1       ],\n",
       "       [610.47889182, 607.37489135, 235.26      ],\n",
       "       [603.26289073, 611.79889201, 202.05      ],\n",
       "       [640.2778963 , 598.83889007, 188.865     ],\n",
       "       [620.87789338, 601.78789051, 178.965     ],\n",
       "       [608.46189151, 629.87889473, 149.175     ],\n",
       "       [616.91989278, 634.22489539, 159.525     ],\n",
       "       [593.0968892 , 604.89189098, 181.26      ],\n",
       "       [586.88888827, 603.88289082, 174.105     ],\n",
       "       [610.94489189, 613.97089234, 209.745     ],\n",
       "       [776.6209168 , 533.03488017, 357.39      ],\n",
       "       [755.20291358, 539.39788113, 346.185     ],\n",
       "       [782.82891774, 529.38687962, 369.81      ],\n",
       "       [768.86091564, 522.09287852, 378.405     ],\n",
       "       [781.12191748, 512.31487705, 407.16      ],\n",
       "       [750.62491289, 513.78987727, 407.925     ],\n",
       "       [754.89291354, 497.95887489, 435.42      ],\n",
       "       [747.44291242, 501.37387541, 423.225     ],\n",
       "       [776.93091685, 498.50287497, 437.355     ],\n",
       "       [763.19591478, 519.99787821, 398.655     ],\n",
       "       [721.75790855, 517.82487788, 385.425     ],\n",
       "       [688.62290357, 517.35887781, 377.685     ],\n",
       "       [668.36890052, 526.82687923, 361.26      ],\n",
       "       [657.73789892, 518.05787792, 388.62      ],\n",
       "       [647.26189735, 512.54787709, 401.265     ],\n",
       "       [636.55289574, 520.15287823, 382.59      ],\n",
       "       [618.78289306, 509.75487667, 407.34      ],\n",
       "       [598.29588998, 537.76788088, 336.42      ],\n",
       "       [629.02589461, 536.60388071, 343.485     ],\n",
       "       [618.70489305, 530.08587972, 356.805     ],\n",
       "       [598.91689008, 529.2318796 , 364.455     ],\n",
       "       [575.24888652, 533.42288023, 335.475     ],\n",
       "       [702.59090567, 538.62188101, 372.555     ],\n",
       "       [715.00690754, 547.00288227, 356.175     ],\n",
       "       [732.62191019, 545.52788205, 356.04      ],\n",
       "       [706.62590628, 532.49088009, 392.49      ],\n",
       "       [683.88890286, 521.78287848, 411.525     ],\n",
       "       [670.54190085, 534.66388041, 377.73      ],\n",
       "       [655.33189856, 536.75888073, 370.305     ],\n",
       "       [613.58289228, 544.28688186, 363.51      ],\n",
       "       [603.18489072, 540.01888122, 369.045     ],\n",
       "       [606.98689129, 535.59488055, 395.955     ],\n",
       "       [681.71590253, 547.77888239, 384.885     ],\n",
       "       [657.97089896, 540.94988136, 388.755     ],\n",
       "       [663.40289978, 531.79287998, 409.32      ],\n",
       "       [637.56189589, 527.99087941, 422.415     ],\n",
       "       [676.28390171, 522.32587856, 423.27      ],\n",
       "       [669.29990066, 517.51487783, 408.87      ],\n",
       "       [670.46390084, 588.28588848, 243.81      ],\n",
       "       [829.00092468, 562.75488464, 236.025     ],\n",
       "       [781.43191753, 559.41888414, 161.595     ],\n",
       "       [753.9619134 , 564.30688487, 227.655     ],\n",
       "       [752.09891312, 610.09089176, 186.975     ],\n",
       "       [743.87391188, 566.09188514, 225.99      ],\n",
       "       [750.46991287, 570.74788584, 314.55      ],\n",
       "       [692.65790418, 530.93887985, 261.72      ],\n",
       "       [718.03290799, 606.28889119, 173.43      ],\n",
       "       [723.69790884, 558.95288407, 323.145     ],\n",
       "       [701.42690549, 552.97788317, 278.415     ],\n",
       "       [769.79191578, 552.35688307, 276.975     ],\n",
       "       [668.67890057, 570.82588585, 223.065     ],\n",
       "       [808.35892158, 539.55288115, 257.715     ],\n",
       "       [745.81391217, 548.78688254, 319.005     ],\n",
       "       [671.00690092, 539.70788117, 208.35      ],\n",
       "       [775.53491664, 552.35688307, 206.46      ],\n",
       "       [765.36891511, 554.83988345, 241.56      ]])"
      ]
     },
     "execution_count": 10,
     "metadata": {},
     "output_type": "execute_result"
    }
   ],
   "source": [
    "point_set_em[idx_em]"
   ]
  },
  {
   "cell_type": "code",
   "execution_count": 11,
   "metadata": {},
   "outputs": [
    {
     "data": {
      "text/plain": [
       "array([[183.80862972, 261.85673364, 396.01560597],\n",
       "       [223.93782562, 267.29524663, 384.0550809 ],\n",
       "       [289.00285804, 270.561814  , 256.91419595],\n",
       "       [350.56430988, 271.79157934, 301.49187382],\n",
       "       [398.31003797, 268.36562812, 321.11631832],\n",
       "       [426.79705739, 283.58238036, 318.40550548],\n",
       "       [404.4479723 , 284.93105121, 339.34963705],\n",
       "       [353.86140883, 301.91067852, 311.35658939],\n",
       "       [343.67056966, 289.80557323, 321.09747289],\n",
       "       [205.9938369 , 286.39335279, 383.14494625],\n",
       "       [189.4725762 , 282.25370393, 400.55018827],\n",
       "       [156.87775455, 278.38432799, 410.79751794],\n",
       "       [250.73109702, 284.34375409, 405.74583846],\n",
       "       [367.14279934, 304.64944802, 271.47898944],\n",
       "       [272.93518575, 303.51858576, 252.52610252],\n",
       "       [153.64657676, 299.58177162, 256.13234525],\n",
       "       [286.92188565, 295.93392599, 419.28147289],\n",
       "       [231.30727405, 301.12479847, 416.30328629],\n",
       "       [242.84237979, 316.82484616, 382.90934985],\n",
       "       [194.98642269, 308.76323843, 371.4283338 ],\n",
       "       [235.10071178, 269.92085435, 425.0999388 ],\n",
       "       [211.73469268, 310.12743415, 446.34025379],\n",
       "       [235.97594465, 332.52548941, 302.13586932],\n",
       "       [214.94540835, 326.13915845, 363.27222471],\n",
       "       [218.72653214, 351.3228658 , 307.73465424],\n",
       "       [252.98686779, 351.98203787, 322.86814481],\n",
       "       [240.85582066, 347.64728297, 343.78216867],\n",
       "       [215.61492483, 326.57084525, 425.10006323],\n",
       "       [216.51527372, 330.20353464, 283.27094991],\n",
       "       [200.25252557, 333.77634295, 271.3299407 ],\n",
       "       [253.15199635, 338.5957452 , 240.33954356],\n",
       "       [270.99660094, 316.51578692, 443.74394199],\n",
       "       [237.33701045, 332.69489257, 461.04471548],\n",
       "       [279.43070412, 329.34800573, 428.54609317],\n",
       "       [284.6145984 , 309.63439577, 491.46486833],\n",
       "       [334.41860695, 330.12582819, 475.62664026],\n",
       "       [308.02713914, 328.14717885, 497.46880775],\n",
       "       [315.80123575, 327.42552645, 551.09781713],\n",
       "       [249.55369435, 340.50727931, 542.57288456],\n",
       "       [314.98287366, 337.68043098, 566.84785976],\n",
       "       [238.39312812, 335.36645584, 293.63508953],\n",
       "       [373.07410719, 335.6968928 , 318.32497448],\n",
       "       [405.86887247, 333.2246237 , 368.49089402],\n",
       "       [446.09577125, 334.1685375 , 402.24094162],\n",
       "       [420.36638515, 332.00026973, 385.43810148],\n",
       "       [350.08005153, 353.56771305, 269.43849999],\n",
       "       [166.14361397, 301.76099693, 449.57465086],\n",
       "       [129.91215339, 301.41433782, 455.89861206],\n",
       "       [283.99277096, 292.77463505, 523.83280127],\n",
       "       [302.58673289, 297.99183795, 488.00449058],\n",
       "       [320.16664301, 293.2183404 , 511.06761109],\n",
       "       [339.5546421 , 293.93508572, 499.04139963],\n",
       "       [352.0525637 , 291.29160916, 548.43427526],\n",
       "       [345.14188825, 309.51246504, 484.69368791],\n",
       "       [242.95484244, 298.34851093, 536.39396435],\n",
       "       [211.09879796, 298.6315577 , 356.59542595],\n",
       "       [234.30307532, 298.62788369, 457.46161307],\n",
       "       [195.91311384, 284.09617163, 444.36036339],\n",
       "       [231.23608546, 314.23817854, 357.7509604 ],\n",
       "       [164.8252583 , 299.60246458, 479.07928183],\n",
       "       [207.86080206, 293.46504226, 390.97920065],\n",
       "       [182.23630354, 266.45392034, 423.45923618],\n",
       "       [279.24163653, 306.73190328, 500.07269052],\n",
       "       [222.02131533, 313.5987139 , 474.19191751],\n",
       "       [205.07060243, 305.51209069, 461.35370507],\n",
       "       [226.60597488, 309.1104614 , 465.11090321],\n",
       "       [266.00920878, 293.26986167, 486.18511171],\n",
       "       [244.97450841, 270.20949691, 464.94863281],\n",
       "       [205.03608353, 282.38932138, 479.37796227],\n",
       "       [301.38931565, 333.31462144, 418.22449099],\n",
       "       [226.54094298, 297.51515259, 357.71062929],\n",
       "       [316.17316201, 302.13248602, 441.02161841],\n",
       "       [353.73471711, 274.85183442, 456.20453388],\n",
       "       [456.61371502, 265.22779743, 560.32017756],\n",
       "       [343.90560033, 264.74075509, 615.77005137],\n",
       "       [438.17645441, 267.89022028, 556.26385672],\n",
       "       [369.03484869, 303.87098024, 391.48776057],\n",
       "       [333.44917234, 307.25840091, 294.45871254],\n",
       "       [428.81615637, 256.7041556 , 352.39632013],\n",
       "       [324.55317347, 272.58341821, 276.38766164],\n",
       "       [382.18096165, 269.28749479, 443.04260332],\n",
       "       [377.17135165, 277.66970203, 460.16923726],\n",
       "       [329.16528766, 271.00314209, 466.47784189],\n",
       "       [338.45513246, 281.86101812, 470.89601183],\n",
       "       [257.99071918, 285.47599612, 503.00405851],\n",
       "       [275.57415782, 276.3569464 , 496.84729658],\n",
       "       [238.73072554, 308.3397619 , 457.00891474],\n",
       "       [289.60109779, 263.42335276, 490.45434317],\n",
       "       [177.98584508, 318.92454288, 452.8821023 ],\n",
       "       [104.94733904, 337.30678923, 461.31872259],\n",
       "       [190.42021618, 351.71741327, 305.00911093],\n",
       "       [177.7888721 , 344.5740353 , 324.53310317],\n",
       "       [156.47997391, 340.59758676, 369.99113006],\n",
       "       [132.27853933, 344.11186382, 360.62045824],\n",
       "       [145.77599467, 345.30259682, 422.55591083],\n",
       "       [109.62603554, 346.14420912, 414.58726644],\n",
       "       [102.56766512, 340.49694279, 379.69262969],\n",
       "       [140.33895109, 320.41295915, 371.70641703],\n",
       "       [120.28788028, 321.71745697, 360.27629155],\n",
       "       [109.75327952, 341.21266337, 321.10760132],\n",
       "       [118.94398425, 348.20074343, 330.33994313],\n",
       "       [ 91.41346509, 327.74259272, 360.76738436],\n",
       "       [ 84.84920127, 324.93306835, 353.73807611],\n",
       "       [110.77285611, 344.52472889, 386.93548193],\n",
       "       [277.06584491, 297.90831652, 565.54291947],\n",
       "       [255.19136243, 302.36373801, 551.6572488 ],\n",
       "       [283.21722373, 297.75264445, 579.33202404],\n",
       "       [267.92487442, 294.32125642, 589.85744843],\n",
       "       [279.84056459, 292.79691142, 622.14480758],\n",
       "       [247.98794744, 296.91926114, 621.54254818],\n",
       "       [251.01997508, 289.57614041, 654.26239114],\n",
       "       [243.54596438, 289.66906717, 640.73641976],\n",
       "       [274.16278704, 289.00172842, 656.67662893],\n",
       "       [261.7271193 , 299.15999068, 610.64604403],\n",
       "       [218.15408707, 296.01992118, 596.86398933],\n",
       "       [183.40719405, 295.68817221, 588.28229245],\n",
       "       [163.03530735, 301.48137948, 568.211114  ],\n",
       "       [151.04118734, 302.32274742, 598.10483916],\n",
       "       [139.54338667, 301.69473703, 612.22169745],\n",
       "       [129.03116572, 304.1542969 , 590.77161311],\n",
       "       [109.4261008 , 303.09572464, 618.35971014],\n",
       "       [ 90.59052003, 309.97854016, 537.77222538],\n",
       "       [122.68170551, 308.65577722, 546.12662809],\n",
       "       [111.25893091, 307.22495983, 561.24574048],\n",
       "       [ 90.4099982 , 310.38171725, 568.59932935],\n",
       "       [ 66.06631993, 307.15327583, 537.53220006],\n",
       "       [199.8596749 , 314.1806435 , 576.77367366],\n",
       "       [213.64792955, 316.32708767, 558.0565272 ],\n",
       "       [231.99230988, 313.42202866, 558.91050275],\n",
       "       [203.49355616, 314.12286265, 598.81945188],\n",
       "       [178.67820894, 311.31617771, 620.63454854],\n",
       "       [165.90528182, 314.41132947, 582.27637662],\n",
       "       [150.16521128, 315.32512999, 573.72157236],\n",
       "       [107.05540463, 323.95906656, 563.28367331],\n",
       "       [ 95.77270784, 322.28856788, 569.88364016],\n",
       "       [ 99.27742189, 326.18757258, 598.3660848 ],\n",
       "       [178.69359655, 328.92020367, 585.59146437],\n",
       "       [153.20921042, 325.21094882, 590.946894  ],\n",
       "       [158.05079925, 322.22256456, 614.62994955],\n",
       "       [130.58585493, 324.65581328, 628.20038726],\n",
       "       [170.70287995, 316.21905379, 632.00406382],\n",
       "       [163.03492688, 307.35345094, 618.90594708],\n",
       "       [170.8757739 , 325.08810562, 431.0072589 ],\n",
       "       [334.97378821, 284.59789709, 436.01929918],\n",
       "       [285.12414586, 261.1819836 , 361.11453861],\n",
       "       [256.46633503, 289.38337613, 424.92860967],\n",
       "       [258.52722078, 322.23026089, 369.51851762],\n",
       "       [246.046751  , 291.42825617, 422.39416702],\n",
       "       [252.99318536, 323.91736511, 509.82719329],\n",
       "       [189.25085474, 271.79843288, 467.89151488],\n",
       "       [222.5474477 , 316.78119028, 356.15750178],\n",
       "       [223.89858642, 317.00001341, 521.41079762],\n",
       "       [200.22906904, 298.46465792, 477.84758902],\n",
       "       [271.8575742 , 291.99377113, 478.61669351],\n",
       "       [167.62107088, 301.14766291, 415.73922288],\n",
       "       [311.29382744, 269.99788691, 464.54023357],\n",
       "       [246.24761156, 303.77750732, 521.15644246],\n",
       "       [167.50587867, 265.17301556, 410.98888607],\n",
       "       [278.16549364, 268.96051074, 408.14067602],\n",
       "       [267.57323604, 283.48165789, 442.21422332]])"
      ]
     },
     "execution_count": 11,
     "metadata": {},
     "output_type": "execute_result"
    }
   ],
   "source": [
    "TY"
   ]
  },
  {
   "cell_type": "code",
   "execution_count": null,
   "metadata": {},
   "outputs": [],
   "source": []
  }
 ],
 "metadata": {
  "kernelspec": {
   "display_name": "v1dd",
   "language": "python",
   "name": "python3"
  },
  "language_info": {
   "codemirror_mode": {
    "name": "ipython",
    "version": 3
   },
   "file_extension": ".py",
   "mimetype": "text/x-python",
   "name": "python",
   "nbconvert_exporter": "python",
   "pygments_lexer": "ipython3",
   "version": "3.8.16"
  },
  "vscode": {
   "interpreter": {
    "hash": "ae9d620d7e9cfd7e5e92fd0a19d7105f0f7065012a225592c75a2e99ce95c033"
   }
  }
 },
 "nbformat": 4,
 "nbformat_minor": 4
}
