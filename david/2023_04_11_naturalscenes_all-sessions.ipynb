{
 "cells": [
  {
   "cell_type": "markdown",
   "metadata": {},
   "source": [
    "## Load modules and data"
   ]
  },
  {
   "cell_type": "code",
   "execution_count": 1,
   "metadata": {},
   "outputs": [],
   "source": [
    "#Base\n",
    "import sys, os\n",
    "import numpy as np\n",
    "import xarray as xr\n",
    "import pandas as pd\n",
    "import scipy.stats as st\n",
    "from tqdm.notebook import trange, tqdm\n",
    "\n",
    "#Plot\n",
    "import matplotlib.pyplot as plt\n",
    "from matplotlib.backends.backend_pdf import PdfPages\n",
    "import seaborn as sns\n",
    "import matplotlib.gridspec as gridspec\n",
    "\n",
    "#V1DD\n",
    "from allen_v1dd.client import OPhysClient, OPhysSession\n",
    "from allen_v1dd.stimulus_analysis import StimulusAnalysis\n",
    "from allen_v1dd.stimulus_analysis.correlation import calculate_correlation, ProgressBar\n",
    "from allen_v1dd.stimulus_analysis.natural_scenes import NaturalScenes\n",
    "from allen_v1dd.stimulus_analysis.drifting_gratings import DriftingGratings\n",
    "\n",
    "%matplotlib inline\n",
    "%load_ext autoreload\n",
    "%autoreload 2\n",
    "\n",
    "PlotDir = '/home/david.wyrick/projects/V1DD/plots'"
   ]
  },
  {
   "cell_type": "code",
   "execution_count": 2,
   "metadata": {},
   "outputs": [],
   "source": [
    "## Load data\n",
    "base_folder = r\"\\\\allen\\programs\\mindscope\\workgroups\\surround\\v1dd_in_vivo_new_segmentation\\data\" #Server\n",
    "base_folder = \"/data/v1dd_in_vivo_new_segmentation\" # Local on robinson for golden mouse\n",
    "client = OPhysClient(base_folder)"
   ]
  },
  {
   "attachments": {},
   "cell_type": "markdown",
   "metadata": {},
   "source": [
    "## Run on all sessions"
   ]
  },
  {
   "cell_type": "code",
   "execution_count": 4,
   "metadata": {},
   "outputs": [
    {
     "name": "stdout",
     "output_type": "stream",
     "text": [
      "Sessions to load:\n",
      "['M409828_11', 'M409828_12', 'M409828_13', 'M409828_14', 'M409828_15', 'M409828_16', 'M409828_17', 'M409828_18', 'M409828_19', 'M409828_1a', 'M409828_1b', 'M409828_1c', 'M409828_1d', 'M409828_1e', 'M409828_1f']\n"
     ]
    }
   ],
   "source": [
    "mouse = 409828 # selected for EM\n",
    "column = 1\n",
    "\n",
    "session_ids = client.get_all_session_ids()\n",
    "# session_ids = [s for s in session_ids if s.startswith(f\"M{mouse}\") and s[8] == str(column) and s[9] == \"3\"]\n",
    "session_ids = [s for s in session_ids if s.startswith(f\"M{mouse}\") and s[8] == str(column)]\n",
    "\n",
    "print(\"Sessions to load:\")\n",
    "print(session_ids)"
   ]
  },
  {
   "cell_type": "code",
   "execution_count": 5,
   "metadata": {},
   "outputs": [
    {
     "data": {
      "application/vnd.jupyter.widget-view+json": {
       "model_id": "64193e976f3048f98db45fe8f4f16f36",
       "version_major": 2,
       "version_minor": 0
      },
      "text/plain": [
       "  0%|          | 0/15 [00:00<?, ?it/s]"
      ]
     },
     "metadata": {},
     "output_type": "display_data"
    },
    {
     "name": "stdout",
     "output_type": "stream",
     "text": [
      "Loaded 15 ophys sessions\n"
     ]
    }
   ],
   "source": [
    "sessions = []\n",
    "\n",
    "for session_id in tqdm(session_ids):\n",
    "    session = client.load_ophys_session(session_id=session_id)\n",
    "    sessions.append(session)\n",
    "\n",
    "print(f\"Loaded {len(sessions)} ophys sessions\")"
   ]
  },
  {
   "cell_type": "code",
   "execution_count": null,
   "metadata": {},
   "outputs": [],
   "source": [
    "ns12_cascade = NaturalScenes(sess, 3, ns_type=\"natural_images_12\",trace_type=\"cascade\")\n",
    "\n",
    "#Calculate metrics \n",
    "ns12_cascade_metrics = ns12_cascade.metrics\n",
    "ns12_cascade_metrics = ns12_cascade_metrics[mask]\n",
    "ns12_cascade_metrics"
   ]
  },
  {
   "cell_type": "code",
   "execution_count": 10,
   "metadata": {},
   "outputs": [
    {
     "data": {
      "application/vnd.jupyter.widget-view+json": {
       "model_id": "c63ae952233f48719fa8b9c5352ffe65",
       "version_major": 2,
       "version_minor": 0
      },
      "text/plain": [
       "Loading natural scene analyses:   0%|          | 0/40 [00:00<?, ?it/s]"
      ]
     },
     "metadata": {},
     "output_type": "display_data"
    }
   ],
   "source": [
    "plane_info = [] # holds (mouse, column, volume, plane)\n",
    "ns12 = []\n",
    "ns118 = []\n",
    "\n",
    "with tqdm(desc=\"Loading natural scene analyses\", total=sum(len(s.get_planes()) for s in sessions)) as pbar:\n",
    "    for session in sessions:\n",
    "        for plane in session.get_planes():\n",
    "            plane_info.append((session.get_mouse_id(), session.get_column_id(), session.get_volume_id(), plane))\n",
    "\n",
    "\n",
    "            ns12.append(NaturalScenes(session, plane, ns_type=\"natural_images_12\"))\n",
    "            ns118.append(NaturalScenes(session, plane, ns_type=\"natural_images\"))\n",
    "            pbar.update()"
   ]
  },
  {
   "cell_type": "code",
   "execution_count": 12,
   "metadata": {},
   "outputs": [
    {
     "name": "stdout",
     "output_type": "stream",
     "text": [
      "Concatenating ns12 metrics...\n"
     ]
    }
   ],
   "source": [
    "RECOMPUTE_METRICS = True\n",
    "DF_SAVE_DIR = r\"/home/david.wyrick/Git/allen_v1dd/dataframes\"\n",
    "\n",
    "if RECOMPUTE_METRICS:\n",
    "\n",
    "    # Concatenate across the different planes\n",
    "    print(\"Concatenating ns12 metrics...\")\n",
    "    ns12_metrics = StimulusAnalysis.concat_metrics(ns12)\n",
    " \n",
    "    print(\"Merging ns118 metrics...\")\n",
    "    ns118_metrics = StimulusAnalysis.concat_metrics(ns118)\n",
    " \n",
    "    print(\"Done.\", len(ns118_metrics), \"total ROIs.\")\n",
    "    ns12_metrics.to_csv(os.path.join(DF_SAVE_DIR, \"ns12_metrics_col1.csv\"))\n",
    "    ns118_metrics.to_csv(os.path.join(DF_SAVE_DIR, \"ns118_metrics_col1.csv\"))\n",
    "\n",
    "ns12_metrics"
   ]
  },
  {
   "cell_type": "code",
   "execution_count": null,
   "metadata": {},
   "outputs": [],
   "source": []
  }
 ],
 "metadata": {
  "kernelspec": {
   "display_name": "v1dd",
   "language": "python",
   "name": "python3"
  },
  "language_info": {
   "codemirror_mode": {
    "name": "ipython",
    "version": 3
   },
   "file_extension": ".py",
   "mimetype": "text/x-python",
   "name": "python",
   "nbconvert_exporter": "python",
   "pygments_lexer": "ipython3",
   "version": "3.10.8"
  },
  "orig_nbformat": 4,
  "vscode": {
   "interpreter": {
    "hash": "ae9d620d7e9cfd7e5e92fd0a19d7105f0f7065012a225592c75a2e99ce95c033"
   }
  }
 },
 "nbformat": 4,
 "nbformat_minor": 2
}
