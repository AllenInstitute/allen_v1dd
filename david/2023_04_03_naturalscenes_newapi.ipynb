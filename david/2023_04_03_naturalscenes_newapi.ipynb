{
 "cells": [
  {
   "cell_type": "markdown",
   "metadata": {},
   "source": [
    "## Load modules and data"
   ]
  },
  {
   "cell_type": "code",
   "execution_count": 11,
   "metadata": {},
   "outputs": [
    {
     "name": "stdout",
     "output_type": "stream",
     "text": [
      "The autoreload extension is already loaded. To reload it, use:\n",
      "  %reload_ext autoreload\n"
     ]
    }
   ],
   "source": [
    "#Base\n",
    "import sys, os\n",
    "import numpy as np\n",
    "import xarray as xr\n",
    "import pandas as pd\n",
    "from scipy import interpolate\n",
    "import scipy.stats as st\n",
    "from tqdm.notebook import trange, tqdm\n",
    "from statsmodels.stats.multitest import fdrcorrection\n",
    "import ray\n",
    "\n",
    "#Plot\n",
    "import matplotlib as mpl\n",
    "import matplotlib.pyplot as plt\n",
    "from matplotlib.backends.backend_pdf import PdfPages\n",
    "import seaborn as sns\n",
    "import matplotlib.gridspec as gridspec\n",
    "\n",
    "color_names=['amber','red','windows blue','faded green',\n",
    "             'dusty purple',\n",
    "             'orange',\n",
    "             'steel blue',\n",
    "             'pink',\n",
    "             'greyish',\n",
    "             'mint',\n",
    "             'clay',\n",
    "             'light cyan',\n",
    "             'forest green',\n",
    "             'pastel purple',\n",
    "             'salmon',\n",
    "             'dark brown',\n",
    "             'lavender',\n",
    "             'pale green',\n",
    "             'dark red',\n",
    "             'gold',\n",
    "             'dark teal',\n",
    "             'rust',\n",
    "             'fuchsia',\n",
    "             'pale orange',\n",
    "             'cobalt blue',\n",
    "             'mahogany',\n",
    "             'cloudy blue',\n",
    "             'dark pastel green',\n",
    "             'dust',\n",
    "             'electric lime',\n",
    "             'fresh green',\n",
    "             'light eggplant',\n",
    "             'nasty green']\n",
    " \n",
    "color_palette = sns.xkcd_palette(color_names)\n",
    "cc = sns.xkcd_palette(color_names)\n",
    "\n",
    "#V1DD\n",
    "from allen_v1dd.client import OPhysClient, OPhysSession\n",
    "from allen_v1dd.stimulus_analysis import StimulusAnalysis\n",
    "from allen_v1dd.stimulus_analysis.correlation import calculate_correlation, ProgressBar\n",
    "from allen_v1dd.stimulus_analysis.natural_scenes import NaturalScenes\n",
    "from allen_v1dd.stimulus_analysis.drifting_gratings import DriftingGratings\n",
    "\n",
    "#Network \n",
    "import networkx as nx\n",
    "import networkx.algorithms.community as nx_comm\n",
    "from networkx.algorithms.community import greedy_modularity_communities, naive_greedy_modularity_communities\n",
    "from networkx.algorithms.efficiency_measures import global_efficiency, local_efficiency\n",
    "\n",
    "#CCM\n",
    "from delay_embedding import surrogate as S\n",
    "from delay_embedding import helpers as H\n",
    "\n",
    "%matplotlib inline\n",
    "%load_ext autoreload\n",
    "%autoreload 2\n",
    "\n",
    "PlotDir = '/home/david.wyrick/projects/V1DD/plots'"
   ]
  },
  {
   "cell_type": "code",
   "execution_count": 2,
   "metadata": {},
   "outputs": [],
   "source": [
    "## Load data\n",
    "base_folder = r\"\\\\allen\\programs\\mindscope\\workgroups\\surround\\v1dd_in_vivo_new_segmentation\\data\" #Server\n",
    "base_folder = \"/data/v1dd_in_vivo_new_segmentation\" # Local on robinson for golden mouse\n",
    "client = OPhysClient(base_folder)"
   ]
  },
  {
   "cell_type": "code",
   "execution_count": 3,
   "metadata": {},
   "outputs": [
    {
     "name": "stdout",
     "output_type": "stream",
     "text": [
      "Loaded ophys session M409828_13 (mouse 409828, column 1, volume 3)\n"
     ]
    }
   ],
   "source": [
    "##===== Load session from golden mouse =====##\n",
    "mouse_id = 409828; col = 1; vol = 3; plane = 3\n",
    "\n",
    "sess = client.load_ophys_session(mouse=mouse_id, column=col, volume=vol)\n",
    "print(f\"Loaded ophys session {sess.get_session_id()} (mouse {sess.get_mouse_id()}, column {sess.get_column_id()}, volume {sess.get_volume_id()})\")\n"
   ]
  },
  {
   "cell_type": "code",
   "execution_count": 5,
   "metadata": {},
   "outputs": [
    {
     "data": {
      "text/plain": [
       "[1234, 1222, 1482, 1279, 1158, 1148]"
      ]
     },
     "execution_count": 5,
     "metadata": {},
     "output_type": "execute_result"
    }
   ],
   "source": [
    "## Interpolate all planes to same time\n",
    "data_list_interp = sess.interpolate_all_plane_traces_to_common_time_series(trace_type='dff',valid_only=False,reload=True)\n",
    "\n",
    "#Get number of neurons per plane\n",
    "nNeurons_plane = [len(t) for t in data_list_interp]\n",
    "nNeurons_plane\n",
    "# nNeurons_plane = [1234, 1222, 1482, 1279, 1158, 1148]\n"
   ]
  },
  {
   "cell_type": "code",
   "execution_count": 6,
   "metadata": {},
   "outputs": [
    {
     "data": {
      "text/plain": [
       "(21616,)"
      ]
     },
     "execution_count": 6,
     "metadata": {},
     "output_type": "execute_result"
    }
   ],
   "source": [
    "ts = data_list_interp[0]['time'].values\n"
   ]
  },
  {
   "cell_type": "code",
   "execution_count": 8,
   "metadata": {},
   "outputs": [],
   "source": [
    "for ii, data_xr in enumerate(data_list_interp):\n",
    "    dF_traces = data_xr.to_numpy()\n",
    "    ts = data_xr['time'].values\n",
    "    plane = ii + 1\n",
    "    np.savez(f'/home/david.wyrick/projects/V1DD/data/dff_{mouse_id}_{col}{vol}_{plane}_all-rois.npz',dF_traces=dF_traces,ts=ts)"
   ]
  },
  {
   "cell_type": "code",
   "execution_count": 6,
   "metadata": {},
   "outputs": [],
   "source": [
    "#Get stimulus table\n",
    "stim_table, stim_meta = sess.get_stimulus_table(\"natural_images_12\")\n",
    "tStart = stim_table.loc[0,'start']\n",
    "tEnd = stim_table.loc[479,'end']"
   ]
  },
  {
   "cell_type": "code",
   "execution_count": 7,
   "metadata": {},
   "outputs": [],
   "source": [
    "plane = 3\n",
    "#Select only valid cells\n",
    "rois = np.array(sess.get_rois(plane))\n",
    "mask = sess.is_roi_valid(plane)"
   ]
  },
  {
   "cell_type": "code",
   "execution_count": 6,
   "metadata": {},
   "outputs": [
    {
     "ename": "NameError",
     "evalue": "name 'mask' is not defined",
     "output_type": "error",
     "traceback": [
      "\u001b[0;31m---------------------------------------------------------------------------\u001b[0m",
      "\u001b[0;31mNameError\u001b[0m                                 Traceback (most recent call last)",
      "\u001b[1;32m/home/david.wyrick/Git/allen_v1dd/david/2023_04_03_naturalscenes_newapi.ipynb Cell 10\u001b[0m in \u001b[0;36m6\n\u001b[1;32m      <a href='vscode-notebook-cell:/home/david.wyrick/Git/allen_v1dd/david/2023_04_03_naturalscenes_newapi.ipynb#X12sZmlsZQ%3D%3D?line=3'>4</a>\u001b[0m \u001b[39m#Calculate metrics \u001b[39;00m\n\u001b[1;32m      <a href='vscode-notebook-cell:/home/david.wyrick/Git/allen_v1dd/david/2023_04_03_naturalscenes_newapi.ipynb#X12sZmlsZQ%3D%3D?line=4'>5</a>\u001b[0m ns12_events_metrics \u001b[39m=\u001b[39m ns12_events\u001b[39m.\u001b[39mmetrics\n\u001b[0;32m----> <a href='vscode-notebook-cell:/home/david.wyrick/Git/allen_v1dd/david/2023_04_03_naturalscenes_newapi.ipynb#X12sZmlsZQ%3D%3D?line=5'>6</a>\u001b[0m ns12_events_metrics \u001b[39m=\u001b[39m ns12_events_metrics[mask]\n\u001b[1;32m      <a href='vscode-notebook-cell:/home/david.wyrick/Git/allen_v1dd/david/2023_04_03_naturalscenes_newapi.ipynb#X12sZmlsZQ%3D%3D?line=6'>7</a>\u001b[0m ns12_events_metrics\n",
      "\u001b[0;31mNameError\u001b[0m: name 'mask' is not defined"
     ]
    }
   ],
   "source": [
    "## Create stimulus object for natural scenes analysis\n",
    "ns12_events = NaturalScenes(sess, 3, ns_type=\"natural_images_12\",trace_type=\"events\")\n",
    "\n",
    "#Calculate metrics \n",
    "ns12_events_metrics = ns12_events.metrics\n",
    "ns12_events_metrics = ns12_events_metrics[mask]\n",
    "ns12_events_metrics"
   ]
  },
  {
   "cell_type": "code",
   "execution_count": 9,
   "metadata": {},
   "outputs": [
    {
     "data": {
      "text/plain": [
       "Index(['mean_responses', 'pref_response', 'pref_img', 'pref_img_idx',\n",
       "       'z_score', 'z_score_responses', 'response_p', 'frac_responsive_trials',\n",
       "       'lifetime_sparseness', 'p_trial_responses', 'sig_trial_responses',\n",
       "       'is_valid', 'chisq_response_p', 'null_dist_multi_mean',\n",
       "       'null_dist_multi_std', 'null_dist_single_mean', 'null_dist_single_std'],\n",
       "      dtype='object')"
      ]
     },
     "execution_count": 9,
     "metadata": {},
     "output_type": "execute_result"
    }
   ],
   "source": [
    "ns12_events_metrics.columns"
   ]
  },
  {
   "cell_type": "code",
   "execution_count": 9,
   "metadata": {},
   "outputs": [
    {
     "data": {
      "text/html": [
       "<div>\n",
       "<style scoped>\n",
       "    .dataframe tbody tr th:only-of-type {\n",
       "        vertical-align: middle;\n",
       "    }\n",
       "\n",
       "    .dataframe tbody tr th {\n",
       "        vertical-align: top;\n",
       "    }\n",
       "\n",
       "    .dataframe thead th {\n",
       "        text-align: right;\n",
       "    }\n",
       "</style>\n",
       "<table border=\"1\" class=\"dataframe\">\n",
       "  <thead>\n",
       "    <tr style=\"text-align: right;\">\n",
       "      <th></th>\n",
       "      <th>mean_responses</th>\n",
       "      <th>pref_response</th>\n",
       "      <th>pref_img</th>\n",
       "      <th>pref_img_idx</th>\n",
       "      <th>z_score</th>\n",
       "      <th>z_score_responses</th>\n",
       "      <th>response_p</th>\n",
       "      <th>frac_responsive_trials</th>\n",
       "      <th>lifetime_sparseness</th>\n",
       "      <th>p_trial_responses</th>\n",
       "      <th>sig_trial_responses</th>\n",
       "      <th>is_valid</th>\n",
       "      <th>chisq_response_p</th>\n",
       "      <th>null_dist_multi_mean</th>\n",
       "      <th>null_dist_multi_std</th>\n",
       "      <th>null_dist_single_mean</th>\n",
       "      <th>null_dist_single_std</th>\n",
       "    </tr>\n",
       "  </thead>\n",
       "  <tbody>\n",
       "    <tr>\n",
       "      <th>0</th>\n",
       "      <td>[0.05773347625590759, 0.06745874708056476, 0.0...</td>\n",
       "      <td>0.077737</td>\n",
       "      <td>29</td>\n",
       "      <td>7</td>\n",
       "      <td>10.280799</td>\n",
       "      <td>[6.449933429581996, 8.312408274900912, 7.99537...</td>\n",
       "      <td>0.0</td>\n",
       "      <td>0.125</td>\n",
       "      <td>0.865056</td>\n",
       "      <td>0.979697</td>\n",
       "      <td>False</td>\n",
       "      <td>True</td>\n",
       "      <td>0.992</td>\n",
       "      <td>0.024054</td>\n",
       "      <td>0.005222</td>\n",
       "      <td>0.024353</td>\n",
       "      <td>0.032372</td>\n",
       "    </tr>\n",
       "    <tr>\n",
       "      <th>1</th>\n",
       "      <td>[0.27900682717590825, 0.19723234970242629, 0.2...</td>\n",
       "      <td>0.295946</td>\n",
       "      <td>5</td>\n",
       "      <td>2</td>\n",
       "      <td>29.42233</td>\n",
       "      <td>[27.503725743335703, 18.241654540524337, 29.42...</td>\n",
       "      <td>0.0</td>\n",
       "      <td>0.525</td>\n",
       "      <td>0.747316</td>\n",
       "      <td>0.004222</td>\n",
       "      <td>True</td>\n",
       "      <td>True</td>\n",
       "      <td>0.03</td>\n",
       "      <td>0.036177</td>\n",
       "      <td>0.008829</td>\n",
       "      <td>0.035621</td>\n",
       "      <td>0.05181</td>\n",
       "    </tr>\n",
       "    <tr>\n",
       "      <th>2</th>\n",
       "      <td>[0.06934562342003119, 0.028443421423492054, 0....</td>\n",
       "      <td>0.108632</td>\n",
       "      <td>9</td>\n",
       "      <td>4</td>\n",
       "      <td>12.382839</td>\n",
       "      <td>[6.249009877705516, -0.13702820525268578, 5.53...</td>\n",
       "      <td>0.0</td>\n",
       "      <td>0.2</td>\n",
       "      <td>0.746775</td>\n",
       "      <td>0.017173</td>\n",
       "      <td>True</td>\n",
       "      <td>True</td>\n",
       "      <td>0.018</td>\n",
       "      <td>0.029321</td>\n",
       "      <td>0.006405</td>\n",
       "      <td>0.030134</td>\n",
       "      <td>0.042341</td>\n",
       "    </tr>\n",
       "    <tr>\n",
       "      <th>3</th>\n",
       "      <td>[0.04946343301503475, 0.0303667002151883, 0.04...</td>\n",
       "      <td>0.055274</td>\n",
       "      <td>47</td>\n",
       "      <td>9</td>\n",
       "      <td>-1.535138</td>\n",
       "      <td>[-1.6474108698907868, -2.0163762330065387, -1....</td>\n",
       "      <td>0.9629</td>\n",
       "      <td>0.025</td>\n",
       "      <td>0.915738</td>\n",
       "      <td>0.992012</td>\n",
       "      <td>False</td>\n",
       "      <td>True</td>\n",
       "      <td>0.947</td>\n",
       "      <td>0.134729</td>\n",
       "      <td>0.051758</td>\n",
       "      <td>0.129191</td>\n",
       "      <td>0.316844</td>\n",
       "    </tr>\n",
       "    <tr>\n",
       "      <th>4</th>\n",
       "      <td>[0.08327440431380637, 0.1958041528026797, 0.08...</td>\n",
       "      <td>0.267717</td>\n",
       "      <td>23</td>\n",
       "      <td>5</td>\n",
       "      <td>10.669781</td>\n",
       "      <td>[1.7363256156851847, 7.186703776361524, 1.8734...</td>\n",
       "      <td>0.0</td>\n",
       "      <td>0.35</td>\n",
       "      <td>0.798134</td>\n",
       "      <td>0.015744</td>\n",
       "      <td>True</td>\n",
       "      <td>True</td>\n",
       "      <td>0.008</td>\n",
       "      <td>0.047426</td>\n",
       "      <td>0.020646</td>\n",
       "      <td>0.047383</td>\n",
       "      <td>0.129229</td>\n",
       "    </tr>\n",
       "    <tr>\n",
       "      <th>...</th>\n",
       "      <td>...</td>\n",
       "      <td>...</td>\n",
       "      <td>...</td>\n",
       "      <td>...</td>\n",
       "      <td>...</td>\n",
       "      <td>...</td>\n",
       "      <td>...</td>\n",
       "      <td>...</td>\n",
       "      <td>...</td>\n",
       "      <td>...</td>\n",
       "      <td>...</td>\n",
       "      <td>...</td>\n",
       "      <td>...</td>\n",
       "      <td>...</td>\n",
       "      <td>...</td>\n",
       "      <td>...</td>\n",
       "      <td>...</td>\n",
       "    </tr>\n",
       "    <tr>\n",
       "      <th>738</th>\n",
       "      <td>[0.0711011353922828, 0.051898392195727186, 0.0...</td>\n",
       "      <td>0.071101</td>\n",
       "      <td>2</td>\n",
       "      <td>0</td>\n",
       "      <td>4.172371</td>\n",
       "      <td>[4.172371341154615, 1.726517359863498, 3.10685...</td>\n",
       "      <td>0.0004</td>\n",
       "      <td>0.125</td>\n",
       "      <td>0.679097</td>\n",
       "      <td>0.206594</td>\n",
       "      <td>False</td>\n",
       "      <td>True</td>\n",
       "      <td>0.229</td>\n",
       "      <td>0.038343</td>\n",
       "      <td>0.007851</td>\n",
       "      <td>0.039094</td>\n",
       "      <td>0.051134</td>\n",
       "    </tr>\n",
       "    <tr>\n",
       "      <th>756</th>\n",
       "      <td>[0.03086608974393812, 0.05632116322934735, 0.0...</td>\n",
       "      <td>0.081959</td>\n",
       "      <td>23</td>\n",
       "      <td>5</td>\n",
       "      <td>6.439031</td>\n",
       "      <td>[-0.5082145854674168, 2.9529511909334634, -0.8...</td>\n",
       "      <td>0.0</td>\n",
       "      <td>0.175</td>\n",
       "      <td>0.677184</td>\n",
       "      <td>0.0</td>\n",
       "      <td>True</td>\n",
       "      <td>True</td>\n",
       "      <td>0.0</td>\n",
       "      <td>0.034604</td>\n",
       "      <td>0.007354</td>\n",
       "      <td>0.034835</td>\n",
       "      <td>0.047865</td>\n",
       "    </tr>\n",
       "    <tr>\n",
       "      <th>833</th>\n",
       "      <td>[0.04080175327489997, 0.035345070299126743, 0....</td>\n",
       "      <td>0.059519</td>\n",
       "      <td>32</td>\n",
       "      <td>8</td>\n",
       "      <td>5.25714</td>\n",
       "      <td>[2.589663590433385, 1.812013329707051, 2.24872...</td>\n",
       "      <td>0.0013</td>\n",
       "      <td>0.175</td>\n",
       "      <td>0.75746</td>\n",
       "      <td>0.201909</td>\n",
       "      <td>False</td>\n",
       "      <td>True</td>\n",
       "      <td>0.244</td>\n",
       "      <td>0.02263</td>\n",
       "      <td>0.007017</td>\n",
       "      <td>0.022351</td>\n",
       "      <td>0.041259</td>\n",
       "    </tr>\n",
       "    <tr>\n",
       "      <th>848</th>\n",
       "      <td>[0.038471728848799104, 0.03537076975135278, 0....</td>\n",
       "      <td>0.050859</td>\n",
       "      <td>5</td>\n",
       "      <td>2</td>\n",
       "      <td>1.433365</td>\n",
       "      <td>[0.22115414552287402, -0.08229455268902763, 1....</td>\n",
       "      <td>0.0888</td>\n",
       "      <td>0.025</td>\n",
       "      <td>0.666314</td>\n",
       "      <td>0.159854</td>\n",
       "      <td>False</td>\n",
       "      <td>True</td>\n",
       "      <td>0.137</td>\n",
       "      <td>0.036212</td>\n",
       "      <td>0.010219</td>\n",
       "      <td>0.036984</td>\n",
       "      <td>0.070251</td>\n",
       "    </tr>\n",
       "    <tr>\n",
       "      <th>914</th>\n",
       "      <td>[0.05287912997782769, 0.04276660072714265, 0.0...</td>\n",
       "      <td>0.066376</td>\n",
       "      <td>5</td>\n",
       "      <td>2</td>\n",
       "      <td>4.917963</td>\n",
       "      <td>[2.98348218149275, 1.5340291022090176, 4.91796...</td>\n",
       "      <td>0.0001</td>\n",
       "      <td>0.1</td>\n",
       "      <td>0.806975</td>\n",
       "      <td>0.834953</td>\n",
       "      <td>False</td>\n",
       "      <td>True</td>\n",
       "      <td>0.753</td>\n",
       "      <td>0.032064</td>\n",
       "      <td>0.006977</td>\n",
       "      <td>0.032842</td>\n",
       "      <td>0.045177</td>\n",
       "    </tr>\n",
       "  </tbody>\n",
       "</table>\n",
       "<p>483 rows × 17 columns</p>\n",
       "</div>"
      ],
      "text/plain": [
       "                                        mean_responses  pref_response  \\\n",
       "0    [0.05773347625590759, 0.06745874708056476, 0.0...       0.077737   \n",
       "1    [0.27900682717590825, 0.19723234970242629, 0.2...       0.295946   \n",
       "2    [0.06934562342003119, 0.028443421423492054, 0....       0.108632   \n",
       "3    [0.04946343301503475, 0.0303667002151883, 0.04...       0.055274   \n",
       "4    [0.08327440431380637, 0.1958041528026797, 0.08...       0.267717   \n",
       "..                                                 ...            ...   \n",
       "738  [0.0711011353922828, 0.051898392195727186, 0.0...       0.071101   \n",
       "756  [0.03086608974393812, 0.05632116322934735, 0.0...       0.081959   \n",
       "833  [0.04080175327489997, 0.035345070299126743, 0....       0.059519   \n",
       "848  [0.038471728848799104, 0.03537076975135278, 0....       0.050859   \n",
       "914  [0.05287912997782769, 0.04276660072714265, 0.0...       0.066376   \n",
       "\n",
       "     pref_img  pref_img_idx    z_score  \\\n",
       "0          29             7  10.280799   \n",
       "1           5             2   29.42233   \n",
       "2           9             4  12.382839   \n",
       "3          47             9  -1.535138   \n",
       "4          23             5  10.669781   \n",
       "..        ...           ...        ...   \n",
       "738         2             0   4.172371   \n",
       "756        23             5   6.439031   \n",
       "833        32             8    5.25714   \n",
       "848         5             2   1.433365   \n",
       "914         5             2   4.917963   \n",
       "\n",
       "                                     z_score_responses  response_p  \\\n",
       "0    [6.449933429581996, 8.312408274900912, 7.99537...         0.0   \n",
       "1    [27.503725743335703, 18.241654540524337, 29.42...         0.0   \n",
       "2    [6.249009877705516, -0.13702820525268578, 5.53...         0.0   \n",
       "3    [-1.6474108698907868, -2.0163762330065387, -1....      0.9629   \n",
       "4    [1.7363256156851847, 7.186703776361524, 1.8734...         0.0   \n",
       "..                                                 ...         ...   \n",
       "738  [4.172371341154615, 1.726517359863498, 3.10685...      0.0004   \n",
       "756  [-0.5082145854674168, 2.9529511909334634, -0.8...         0.0   \n",
       "833  [2.589663590433385, 1.812013329707051, 2.24872...      0.0013   \n",
       "848  [0.22115414552287402, -0.08229455268902763, 1....      0.0888   \n",
       "914  [2.98348218149275, 1.5340291022090176, 4.91796...      0.0001   \n",
       "\n",
       "     frac_responsive_trials  lifetime_sparseness  p_trial_responses  \\\n",
       "0                     0.125             0.865056           0.979697   \n",
       "1                     0.525             0.747316           0.004222   \n",
       "2                       0.2             0.746775           0.017173   \n",
       "3                     0.025             0.915738           0.992012   \n",
       "4                      0.35             0.798134           0.015744   \n",
       "..                      ...                  ...                ...   \n",
       "738                   0.125             0.679097           0.206594   \n",
       "756                   0.175             0.677184                0.0   \n",
       "833                   0.175              0.75746           0.201909   \n",
       "848                   0.025             0.666314           0.159854   \n",
       "914                     0.1             0.806975           0.834953   \n",
       "\n",
       "     sig_trial_responses  is_valid  chisq_response_p  null_dist_multi_mean  \\\n",
       "0                  False      True             0.992              0.024054   \n",
       "1                   True      True              0.03              0.036177   \n",
       "2                   True      True             0.018              0.029321   \n",
       "3                  False      True             0.947              0.134729   \n",
       "4                   True      True             0.008              0.047426   \n",
       "..                   ...       ...               ...                   ...   \n",
       "738                False      True             0.229              0.038343   \n",
       "756                 True      True               0.0              0.034604   \n",
       "833                False      True             0.244               0.02263   \n",
       "848                False      True             0.137              0.036212   \n",
       "914                False      True             0.753              0.032064   \n",
       "\n",
       "     null_dist_multi_std  null_dist_single_mean  null_dist_single_std  \n",
       "0               0.005222               0.024353              0.032372  \n",
       "1               0.008829               0.035621               0.05181  \n",
       "2               0.006405               0.030134              0.042341  \n",
       "3               0.051758               0.129191              0.316844  \n",
       "4               0.020646               0.047383              0.129229  \n",
       "..                   ...                    ...                   ...  \n",
       "738             0.007851               0.039094              0.051134  \n",
       "756             0.007354               0.034835              0.047865  \n",
       "833             0.007017               0.022351              0.041259  \n",
       "848             0.010219               0.036984              0.070251  \n",
       "914             0.006977               0.032842              0.045177  \n",
       "\n",
       "[483 rows x 17 columns]"
      ]
     },
     "execution_count": 9,
     "metadata": {},
     "output_type": "execute_result"
    }
   ],
   "source": [
    "## Create stimulus object for natural scenes analysis\n",
    "ns12_cascade = NaturalScenes(sess, 3, ns_type=\"natural_images_12\",trace_type=\"cascade\")\n",
    "\n",
    "#Calculate metrics \n",
    "ns12_cascade_metrics = ns12_cascade.metrics\n",
    "ns12_cascade_metrics = ns12_cascade_metrics[mask]\n",
    "ns12_cascade_metrics"
   ]
  },
  {
   "cell_type": "code",
   "execution_count": 30,
   "metadata": {},
   "outputs": [
    {
     "data": {
      "text/plain": [
       "array([  0,   1,   2,   3,   4,   5,   6,   7,   8,   9,  10,  11,  12,\n",
       "        13,  14,  15,  16,  17,  18,  19,  20,  21,  22,  23,  24,  25,\n",
       "        26,  27,  28,  29,  30,  31,  32,  33,  34,  35,  36,  37,  38,\n",
       "        39,  40,  41,  42,  43,  44,  45,  46,  47,  48,  49,  50,  51,\n",
       "        52,  53,  54,  56,  57,  58,  59,  60,  61,  62,  63,  64,  65,\n",
       "        66,  67,  68,  69,  70,  71,  72,  73,  74,  75,  76,  77,  78,\n",
       "        79,  80,  81,  82,  83,  84,  85,  86,  87,  88,  89,  90,  91,\n",
       "        92,  93,  94,  95,  96,  97,  98,  99, 100, 101, 102, 103, 104,\n",
       "       105, 106, 107, 108, 109, 110, 111, 112, 113, 114, 115, 116, 117,\n",
       "       118, 119, 120, 121, 122, 123, 124, 125, 126, 127, 128, 129, 130,\n",
       "       131, 132, 133, 134, 135, 136, 137, 138, 139, 140, 142, 143, 144,\n",
       "       145, 146, 147, 148, 149, 150, 151, 152, 153, 154, 155, 156, 157,\n",
       "       158, 159, 160, 161, 162, 163, 164, 166, 167, 168, 169, 170, 171,\n",
       "       172, 173, 174, 175, 176, 177, 178, 179, 180, 181, 182, 183, 185,\n",
       "       186, 188, 189, 190, 191, 192, 193, 194, 195, 196, 197, 198, 199,\n",
       "       200, 201, 202, 203, 204, 205, 206, 207, 209, 210, 211, 212, 213,\n",
       "       214, 215, 216, 217, 218, 219, 220, 221, 222, 223, 224, 225, 226,\n",
       "       227, 228, 229, 230, 231, 232, 233, 234, 235, 236, 237, 238, 239,\n",
       "       240, 241, 242, 243, 244, 245, 246, 247, 248, 249, 250, 251, 252,\n",
       "       253, 254, 255, 256, 258, 259, 260, 261, 262, 263, 265, 266, 267,\n",
       "       269, 270, 271, 272, 273, 274, 275, 276, 278, 280, 281, 283, 284,\n",
       "       285, 287, 289, 290, 291, 292, 293, 294, 295, 296, 297, 298, 299,\n",
       "       300, 301, 302, 303, 304, 305, 306, 307, 308, 309, 310, 311, 312,\n",
       "       313, 314, 315, 316, 317, 319, 321, 322, 323, 324, 325, 326, 327,\n",
       "       329, 330, 331, 332, 333, 334, 335, 336, 337, 338, 339, 340, 342,\n",
       "       343, 346, 347, 348, 349, 350, 351, 352, 353, 354, 355, 356, 358,\n",
       "       359, 361, 364, 365, 366, 367, 368, 369, 372, 373, 376, 377, 378,\n",
       "       379, 380, 381, 382, 383, 384, 385, 386, 387, 388, 389, 392, 393,\n",
       "       395, 396, 397, 398, 399, 400, 401, 402, 403, 404, 406, 407, 408,\n",
       "       409, 410, 411, 412, 413, 414, 415, 416, 418, 419, 420, 421, 423,\n",
       "       425, 427, 428, 429, 434, 435, 436, 438, 439, 444, 448, 449, 451,\n",
       "       455, 456, 457, 458, 461, 462, 463, 464, 465, 466, 469, 470, 474,\n",
       "       478, 481, 483, 484, 485, 487, 490, 491, 492, 493, 494, 495, 499,\n",
       "       500, 503, 504, 509, 512, 513, 514, 518, 521, 523, 525, 526, 528,\n",
       "       529, 531, 533, 535, 540, 542, 544, 546, 548, 550, 555, 556, 558,\n",
       "       566, 567, 577, 581, 587, 593, 594, 597, 603, 609, 612, 623, 626,\n",
       "       627, 633, 635, 639, 657, 658, 695, 705, 713, 737, 738, 756, 833,\n",
       "       848, 914])"
      ]
     },
     "execution_count": 30,
     "metadata": {},
     "output_type": "execute_result"
    }
   ],
   "source": [
    "roi_indices = ns12_cascade_metrics.index.values\n",
    "roi_indices"
   ]
  },
  {
   "cell_type": "code",
   "execution_count": 31,
   "metadata": {},
   "outputs": [
    {
     "data": {
      "application/vnd.jupyter.widget-view+json": {
       "model_id": "48a3cf1d190543eaa96a86c860d3246a",
       "version_major": 2,
       "version_minor": 0
      },
      "text/plain": [
       "  0%|          | 0/483 [00:00<?, ?it/s]"
      ]
     },
     "metadata": {},
     "output_type": "display_data"
    }
   ],
   "source": [
    "pdfdoc = PdfPages(os.path.join(PlotDir,'mean_responses_cascadevsL0.pdf'))\n",
    "\n",
    "for iN in tqdm(roi_indices):\n",
    "    fig, ax = plt.subplots(figsize=(10,6))\n",
    "    plt.suptitle(f'Cascade vs L0 Deconvolution, roi {iN}')\n",
    "\n",
    "    ax.plot(ns12_cascade_metrics.loc[iN]['mean_responses'],'-o',color=cc[1],label='Cascade')\n",
    "    ax.set_ylabel('Mean spike probability',color=cc[1],fontweight='bold',fontsize=18)\n",
    "    ax.set_xticks(np.arange(12),labels=np.arange(1,13))\n",
    "    ax.vlines(ns12_cascade_metrics.loc[iN]['pref_img_idx'],*ax.get_ylim(),ls='--',color=cc[1])\n",
    "\n",
    "    ax2 = ax.twinx()\n",
    "    ax2.plot(ns12_events_metrics.loc[iN]['mean_responses'],'-o',color=cc[2],label='LO')\n",
    "    ax2.set_ylabel('Mean event energy',color=cc[2],fontweight='bold',fontsize=18)\n",
    "    ax2.vlines(ns12_events_metrics.loc[iN]['pref_img_idx'],*ax2.get_ylim(),ls='--',color=cc[2])\n",
    "\n",
    "    pdfdoc.savefig(fig)\n",
    "    plt.close(fig)\n",
    "pdfdoc.close()"
   ]
  },
  {
   "cell_type": "code",
   "execution_count": 32,
   "metadata": {},
   "outputs": [],
   "source": [
    "indy = np.array(ns12_events_metrics['pref_img_idx'].values == ns12_cascade_metrics['pref_img_idx'].values,dtype=bool)\n",
    "same_keys = ns12_events_metrics.index.values[indy]\n",
    "same_keys = ns12_events_metrics.index.values[~indy]"
   ]
  },
  {
   "cell_type": "code",
   "execution_count": 53,
   "metadata": {},
   "outputs": [
    {
     "data": {
      "text/plain": [
       "(483,)"
      ]
     },
     "execution_count": 53,
     "metadata": {},
     "output_type": "execute_result"
    }
   ],
   "source": [
    "indy.shape"
   ]
  },
  {
   "cell_type": "code",
   "execution_count": 63,
   "metadata": {},
   "outputs": [
    {
     "data": {
      "text/plain": [
       "<matplotlib.legend.Legend at 0x7f41340572b0>"
      ]
     },
     "execution_count": 63,
     "metadata": {},
     "output_type": "execute_result"
    },
    {
     "data": {
      "image/png": "[encoded data removed]",
      "text/plain": [
       "<Figure size 1000x600 with 1 Axes>"
      ]
     },
     "metadata": {},
     "output_type": "display_data"
    }
   ],
   "source": [
    "fig, ax = plt.subplots(figsize=(10,6))\n",
    "\n",
    "ax.plot(ns12_events_metrics['lifetime_sparseness'].values[indy],ns12_cascade_metrics['lifetime_sparseness'].values[indy],'.',color=cc[1],label='Same preferred image')\n",
    "ax.plot(ns12_events_metrics['lifetime_sparseness'].values[~indy],ns12_cascade_metrics['lifetime_sparseness'].values[~indy],'.',marker='+',color=cc[2],label='Different preferred image')\n",
    "ax.plot([0,1],[0,1],'-k',lw=2)\n",
    "ax.set_xlabel('lifetime_sparseness (L1O deconvolution)')\n",
    "ax.set_ylabel('lifetime_sparseness (Cascade deconvolution)')\n",
    "ax.legend()"
   ]
  },
  {
   "cell_type": "code",
   "execution_count": null,
   "metadata": {},
   "outputs": [],
   "source": [
    "fig, ax = plt.subplots(figsize=(10,6))\n",
    "\n",
    "ax.plot(ns12_events_metrics['frac_responsive_trials'].values[indy],ns12_cascade_metrics['frac_responsive_trials'].values[indy],'.',color=cc[1],label='Same preferred image')\n",
    "ax.plot(ns12_events_metrics['frac_responsive_trials'].values[~indy],ns12_cascade_metrics['frac_responsive_trials'].values[~indy],'.',marker='+',color=cc[2],label='Different preferred image')\n",
    "ax.plot([0,1],[0,1],'-k',lw=2)\n",
    "ax.set_xlabel('frac_responsive_trials (L1O deconvolution)')\n",
    "ax.set_ylabel('frac_responsive_trials (Cascade deconvolution)')\n",
    "ax.legend()"
   ]
  },
  {
   "cell_type": "code",
   "execution_count": 62,
   "metadata": {},
   "outputs": [
    {
     "data": {
      "text/plain": [
       "<matplotlib.legend.Legend at 0x7f4134b6edd0>"
      ]
     },
     "execution_count": 62,
     "metadata": {},
     "output_type": "execute_result"
    },
    {
     "data": {
      "image/png": "[encoded data removed]",
      "text/plain": [
       "<Figure size 1000x500 with 2 Axes>"
      ]
     },
     "metadata": {},
     "output_type": "display_data"
    }
   ],
   "source": [
    "fig, axes = plt.subplots(1,2,figsize=(10,5))\n",
    "sns.histplot(ns12_events_metrics['pref_response'].values[indy],ax=axes[0],color=cc[1],label='Same preferred image (L0)')\n",
    "sns.histplot(ns12_events_metrics['pref_response'].values[~indy],ax=axes[0],color=cc[2],label='different preferred image (L0)')\n",
    "axes[0].legend()\n",
    "sns.histplot(ns12_cascade_metrics['pref_response'].values[indy],ax=axes[1],color=cc[1],label='Same preferred image (Cascade)')\n",
    "sns.histplot(ns12_cascade_metrics['pref_response'].values[~indy],ax=axes[1],color=cc[2],label='different preferred image (Cascade)')\n",
    "axes[1].legend()"
   ]
  },
  {
   "attachments": {},
   "cell_type": "markdown",
   "metadata": {},
   "source": [
    "## Cascade deconvolution"
   ]
  },
  {
   "cell_type": "code",
   "execution_count": 16,
   "metadata": {},
   "outputs": [],
   "source": [
    "## Interpolate all planes to same time\n",
    "data_list_interp = sess.interpolate_all_plane_traces_to_common_time_series(trace_type='dff',reload=True)\n",
    "\n",
    "#Get number of neurons per plane\n",
    "nNeurons_plane = [len(t) for t in data_list_interp]\n",
    "nNeurons_plane\n",
    "\n",
    "del data_list_interp\n"
   ]
  },
  {
   "cell_type": "code",
   "execution_count": 17,
   "metadata": {},
   "outputs": [],
   "source": [
    "plane = 3\n",
    "#Select only valid cells\n",
    "rois = np.array(sess.get_rois(plane))\n",
    "mask = sess.is_roi_valid(plane)\n"
   ]
  },
  {
   "cell_type": "code",
   "execution_count": 40,
   "metadata": {},
   "outputs": [],
   "source": [
    "plane_boundaries = np.cumsum(nNeurons_plane)\n",
    "spike_prob_plane3 = spike_prob[plane_boundaries[1]:plane_boundaries[2]]"
   ]
  },
  {
   "cell_type": "code",
   "execution_count": 39,
   "metadata": {},
   "outputs": [],
   "source": [
    "from glob import glob\n",
    "fpath = '/home/david.wyrick/projects/V1DD/data/old/predictions_dff_409828_13_natural_images_12.npz'\n",
    "data = np.load(fpath)\n",
    "spike_prob = data['spike_prob']\n",
    "ts = data['ts']\n",
    "nT = spike_prob.shape[-1]"
   ]
  },
  {
   "cell_type": "code",
   "execution_count": 50,
   "metadata": {},
   "outputs": [],
   "source": [
    "from glob import glob\n",
    "fpath = '/home/david.wyrick/projects/V1DD/data/predictions_dff_409828_13_3_all-rois.npz'\n",
    "data = np.load(fpath)\n",
    "spike_prob = data['data']\n",
    "ts = data['timestamps']\n",
    "nT = spike_prob.shape[-1]\n",
    "indy = np.where((ts >= tStart) & (ts <= tEnd))[0]"
   ]
  },
  {
   "cell_type": "code",
   "execution_count": 52,
   "metadata": {},
   "outputs": [
    {
     "data": {
      "text/plain": [
       "(1482, 21552)"
      ]
     },
     "execution_count": 52,
     "metadata": {},
     "output_type": "execute_result"
    }
   ],
   "source": [
    "spike_prob.shape"
   ]
  },
  {
   "cell_type": "code",
   "execution_count": 41,
   "metadata": {},
   "outputs": [],
   "source": [
    "tmp_array = np.zeros((len(rois),nT))\n",
    "tmp_array[mask] = spike_prob_plane3"
   ]
  },
  {
   "cell_type": "code",
   "execution_count": 53,
   "metadata": {},
   "outputs": [],
   "source": [
    "# spike_prob_plane3 = spike_prob[plane_boundaries[1]:plane_boundaries[2]]\n",
    "\n",
    "traces = xr.DataArray(\n",
    "    spike_prob[:,indy],\n",
    "    name='events',\n",
    "    dims=(\"roi\", \"time\"),\n",
    "    coords=dict(roi=rois, time=ts[indy])\n",
    ")\n",
    "\n"
   ]
  },
  {
   "cell_type": "code",
   "execution_count": 54,
   "metadata": {},
   "outputs": [
    {
     "data": {
      "text/plain": [
       "(0, 0.33)"
      ]
     },
     "execution_count": 54,
     "metadata": {},
     "output_type": "execute_result"
    }
   ],
   "source": [
    "## Create stimulus object for natural scenes analysis\n",
    "ns12_cascade = NaturalScenes(sess, 3, ns_type=\"natural_images_12\",trace_type=\"cascade\")\n",
    "response_time_window = ns12_cascade.response_time_window\n",
    "response_time_window"
   ]
  },
  {
   "cell_type": "code",
   "execution_count": 55,
   "metadata": {},
   "outputs": [],
   "source": [
    "bins = []\n",
    "ns12_cascade._sweep_responses = np.zeros((len(stim_table),len(rois)), dtype=float)\n",
    "\n",
    "for i in stim_table.index:\n",
    "    start = stim_table.at[i, \"start\"]\n",
    "    tmp_x = traces.sel(time=slice(start+response_time_window[0], start+response_time_window[1]))\n",
    "    bins.append(tmp_x.shape[-1])\n",
    "    response = tmp_x.mean(\"time\")\n",
    "    ns12_cascade._sweep_responses[i] = response"
   ]
  },
  {
   "cell_type": "code",
   "execution_count": 56,
   "metadata": {},
   "outputs": [],
   "source": [
    "ns12_cascade._trial_responses = xr.DataArray(\n",
    "    data=np.nan,\n",
    "    name=\"trial_responses\",\n",
    "    dims=(\"roi\", \"image\", \"trial\"),\n",
    "    coords=dict(\n",
    "        roi=rois,\n",
    "        image=ns12_cascade.image_indices,\n",
    "        trial=range(ns12_cascade.n_trials)\n",
    "    )\n",
    ")\n",
    "\n",
    "for imgID in ns12_cascade.image_indices:\n",
    "    stim_idx = ns12_cascade.get_stim_idx(imgID)\n",
    "    ns12_cascade._trial_responses.loc[\n",
    "        dict(image=imgID, trial=range(len(stim_idx)))\n",
    "    ] = ns12_cascade.sweep_responses[stim_idx, :].T # shape (n_rois, len(stim_idx))"
   ]
  },
  {
   "cell_type": "code",
   "execution_count": 57,
   "metadata": {},
   "outputs": [
    {
     "data": {
      "text/html": [
       "<div>\n",
       "<style scoped>\n",
       "    .dataframe tbody tr th:only-of-type {\n",
       "        vertical-align: middle;\n",
       "    }\n",
       "\n",
       "    .dataframe tbody tr th {\n",
       "        vertical-align: top;\n",
       "    }\n",
       "\n",
       "    .dataframe thead th {\n",
       "        text-align: right;\n",
       "    }\n",
       "</style>\n",
       "<table border=\"1\" class=\"dataframe\">\n",
       "  <thead>\n",
       "    <tr style=\"text-align: right;\">\n",
       "      <th></th>\n",
       "      <th>mean_responses</th>\n",
       "      <th>pref_response</th>\n",
       "      <th>pref_img</th>\n",
       "      <th>pref_img_idx</th>\n",
       "      <th>z_score</th>\n",
       "      <th>z_score_responses</th>\n",
       "      <th>response_p</th>\n",
       "      <th>frac_responsive_trials</th>\n",
       "      <th>lifetime_sparseness</th>\n",
       "      <th>p_trial_responses</th>\n",
       "      <th>sig_trial_responses</th>\n",
       "      <th>is_valid</th>\n",
       "      <th>chisq_response_p</th>\n",
       "      <th>null_dist_multi_mean</th>\n",
       "      <th>null_dist_multi_std</th>\n",
       "      <th>null_dist_single_mean</th>\n",
       "      <th>null_dist_single_std</th>\n",
       "    </tr>\n",
       "  </thead>\n",
       "  <tbody>\n",
       "    <tr>\n",
       "      <th>0</th>\n",
       "      <td>[0.05773347625590759, 0.06745874708056476, 0.0...</td>\n",
       "      <td>0.077737</td>\n",
       "      <td>29</td>\n",
       "      <td>7</td>\n",
       "      <td>10.379644</td>\n",
       "      <td>[6.508593199185604, 8.390605328716632, 8.07111...</td>\n",
       "      <td>0.0</td>\n",
       "      <td>0.125</td>\n",
       "      <td>0.865054</td>\n",
       "      <td>0.979693</td>\n",
       "      <td>False</td>\n",
       "      <td>True</td>\n",
       "      <td>0.994</td>\n",
       "      <td>0.0241</td>\n",
       "      <td>0.005167</td>\n",
       "      <td>0.02412</td>\n",
       "      <td>0.031569</td>\n",
       "    </tr>\n",
       "    <tr>\n",
       "      <th>1</th>\n",
       "      <td>[0.27900682717590825, 0.19723234970242629, 0.2...</td>\n",
       "      <td>0.299634</td>\n",
       "      <td>5</td>\n",
       "      <td>2</td>\n",
       "      <td>29.166024</td>\n",
       "      <td>[26.88147908301157, 17.82450497113414, 29.1660...</td>\n",
       "      <td>0.0</td>\n",
       "      <td>0.525</td>\n",
       "      <td>0.747115</td>\n",
       "      <td>0.003821</td>\n",
       "      <td>True</td>\n",
       "      <td>True</td>\n",
       "      <td>0.024</td>\n",
       "      <td>0.036297</td>\n",
       "      <td>0.009029</td>\n",
       "      <td>0.035464</td>\n",
       "      <td>0.052187</td>\n",
       "    </tr>\n",
       "    <tr>\n",
       "      <th>2</th>\n",
       "      <td>[0.06934562342003119, 0.028443421423492054, 0....</td>\n",
       "      <td>0.108632</td>\n",
       "      <td>9</td>\n",
       "      <td>4</td>\n",
       "      <td>12.260555</td>\n",
       "      <td>[6.1770271455753125, -0.156641439131128, 5.605...</td>\n",
       "      <td>0.0</td>\n",
       "      <td>0.2</td>\n",
       "      <td>0.746714</td>\n",
       "      <td>0.017425</td>\n",
       "      <td>True</td>\n",
       "      <td>True</td>\n",
       "      <td>0.022</td>\n",
       "      <td>0.029455</td>\n",
       "      <td>0.006458</td>\n",
       "      <td>0.030363</td>\n",
       "      <td>0.0426</td>\n",
       "    </tr>\n",
       "    <tr>\n",
       "      <th>3</th>\n",
       "      <td>[0.04946343301503475, 0.0303667002151883, 0.04...</td>\n",
       "      <td>0.055274</td>\n",
       "      <td>47</td>\n",
       "      <td>9</td>\n",
       "      <td>-1.535753</td>\n",
       "      <td>[-1.6484422171394126, -2.018777003908038, -1.6...</td>\n",
       "      <td>0.9622</td>\n",
       "      <td>0.025</td>\n",
       "      <td>0.915675</td>\n",
       "      <td>0.991904</td>\n",
       "      <td>False</td>\n",
       "      <td>True</td>\n",
       "      <td>0.945</td>\n",
       "      <td>0.134467</td>\n",
       "      <td>0.051566</td>\n",
       "      <td>0.136073</td>\n",
       "      <td>0.326151</td>\n",
       "    </tr>\n",
       "    <tr>\n",
       "      <th>4</th>\n",
       "      <td>[0.08327440431380637, 0.1958041528026797, 0.08...</td>\n",
       "      <td>0.267717</td>\n",
       "      <td>23</td>\n",
       "      <td>5</td>\n",
       "      <td>10.769049</td>\n",
       "      <td>[1.7468374774146889, 7.251366696133568, 1.9123...</td>\n",
       "      <td>0.0</td>\n",
       "      <td>0.35</td>\n",
       "      <td>0.798009</td>\n",
       "      <td>0.01589</td>\n",
       "      <td>True</td>\n",
       "      <td>True</td>\n",
       "      <td>0.011</td>\n",
       "      <td>0.047564</td>\n",
       "      <td>0.020443</td>\n",
       "      <td>0.046334</td>\n",
       "      <td>0.122585</td>\n",
       "    </tr>\n",
       "    <tr>\n",
       "      <th>...</th>\n",
       "      <td>...</td>\n",
       "      <td>...</td>\n",
       "      <td>...</td>\n",
       "      <td>...</td>\n",
       "      <td>...</td>\n",
       "      <td>...</td>\n",
       "      <td>...</td>\n",
       "      <td>...</td>\n",
       "      <td>...</td>\n",
       "      <td>...</td>\n",
       "      <td>...</td>\n",
       "      <td>...</td>\n",
       "      <td>...</td>\n",
       "      <td>...</td>\n",
       "      <td>...</td>\n",
       "      <td>...</td>\n",
       "      <td>...</td>\n",
       "    </tr>\n",
       "    <tr>\n",
       "      <th>1477</th>\n",
       "      <td>NaN</td>\n",
       "      <td>&lt;NA&gt;</td>\n",
       "      <td>&lt;NA&gt;</td>\n",
       "      <td>&lt;NA&gt;</td>\n",
       "      <td>&lt;NA&gt;</td>\n",
       "      <td>NaN</td>\n",
       "      <td>&lt;NA&gt;</td>\n",
       "      <td>&lt;NA&gt;</td>\n",
       "      <td>&lt;NA&gt;</td>\n",
       "      <td>&lt;NA&gt;</td>\n",
       "      <td>&lt;NA&gt;</td>\n",
       "      <td>False</td>\n",
       "      <td>0.433</td>\n",
       "      <td>0.035955</td>\n",
       "      <td>0.006366</td>\n",
       "      <td>0.035685</td>\n",
       "      <td>0.03985</td>\n",
       "    </tr>\n",
       "    <tr>\n",
       "      <th>1478</th>\n",
       "      <td>NaN</td>\n",
       "      <td>&lt;NA&gt;</td>\n",
       "      <td>&lt;NA&gt;</td>\n",
       "      <td>&lt;NA&gt;</td>\n",
       "      <td>&lt;NA&gt;</td>\n",
       "      <td>NaN</td>\n",
       "      <td>&lt;NA&gt;</td>\n",
       "      <td>&lt;NA&gt;</td>\n",
       "      <td>&lt;NA&gt;</td>\n",
       "      <td>&lt;NA&gt;</td>\n",
       "      <td>&lt;NA&gt;</td>\n",
       "      <td>False</td>\n",
       "      <td>0.113</td>\n",
       "      <td>0.01081</td>\n",
       "      <td>0.002986</td>\n",
       "      <td>0.011092</td>\n",
       "      <td>0.019563</td>\n",
       "    </tr>\n",
       "    <tr>\n",
       "      <th>1479</th>\n",
       "      <td>NaN</td>\n",
       "      <td>&lt;NA&gt;</td>\n",
       "      <td>&lt;NA&gt;</td>\n",
       "      <td>&lt;NA&gt;</td>\n",
       "      <td>&lt;NA&gt;</td>\n",
       "      <td>NaN</td>\n",
       "      <td>&lt;NA&gt;</td>\n",
       "      <td>&lt;NA&gt;</td>\n",
       "      <td>&lt;NA&gt;</td>\n",
       "      <td>&lt;NA&gt;</td>\n",
       "      <td>&lt;NA&gt;</td>\n",
       "      <td>False</td>\n",
       "      <td>0.581</td>\n",
       "      <td>0.025421</td>\n",
       "      <td>0.005366</td>\n",
       "      <td>0.025462</td>\n",
       "      <td>0.033963</td>\n",
       "    </tr>\n",
       "    <tr>\n",
       "      <th>1480</th>\n",
       "      <td>NaN</td>\n",
       "      <td>&lt;NA&gt;</td>\n",
       "      <td>&lt;NA&gt;</td>\n",
       "      <td>&lt;NA&gt;</td>\n",
       "      <td>&lt;NA&gt;</td>\n",
       "      <td>NaN</td>\n",
       "      <td>&lt;NA&gt;</td>\n",
       "      <td>&lt;NA&gt;</td>\n",
       "      <td>&lt;NA&gt;</td>\n",
       "      <td>&lt;NA&gt;</td>\n",
       "      <td>&lt;NA&gt;</td>\n",
       "      <td>False</td>\n",
       "      <td>0.003</td>\n",
       "      <td>0.044334</td>\n",
       "      <td>0.007908</td>\n",
       "      <td>0.044236</td>\n",
       "      <td>0.049368</td>\n",
       "    </tr>\n",
       "    <tr>\n",
       "      <th>1481</th>\n",
       "      <td>NaN</td>\n",
       "      <td>&lt;NA&gt;</td>\n",
       "      <td>&lt;NA&gt;</td>\n",
       "      <td>&lt;NA&gt;</td>\n",
       "      <td>&lt;NA&gt;</td>\n",
       "      <td>NaN</td>\n",
       "      <td>&lt;NA&gt;</td>\n",
       "      <td>&lt;NA&gt;</td>\n",
       "      <td>&lt;NA&gt;</td>\n",
       "      <td>&lt;NA&gt;</td>\n",
       "      <td>&lt;NA&gt;</td>\n",
       "      <td>False</td>\n",
       "      <td>0.041</td>\n",
       "      <td>0.035041</td>\n",
       "      <td>0.007408</td>\n",
       "      <td>0.034276</td>\n",
       "      <td>0.04553</td>\n",
       "    </tr>\n",
       "  </tbody>\n",
       "</table>\n",
       "<p>1482 rows × 17 columns</p>\n",
       "</div>"
      ],
      "text/plain": [
       "                                         mean_responses  pref_response  \\\n",
       "0     [0.05773347625590759, 0.06745874708056476, 0.0...       0.077737   \n",
       "1     [0.27900682717590825, 0.19723234970242629, 0.2...       0.299634   \n",
       "2     [0.06934562342003119, 0.028443421423492054, 0....       0.108632   \n",
       "3     [0.04946343301503475, 0.0303667002151883, 0.04...       0.055274   \n",
       "4     [0.08327440431380637, 0.1958041528026797, 0.08...       0.267717   \n",
       "...                                                 ...            ...   \n",
       "1477                                                NaN           <NA>   \n",
       "1478                                                NaN           <NA>   \n",
       "1479                                                NaN           <NA>   \n",
       "1480                                                NaN           <NA>   \n",
       "1481                                                NaN           <NA>   \n",
       "\n",
       "      pref_img  pref_img_idx    z_score  \\\n",
       "0           29             7  10.379644   \n",
       "1            5             2  29.166024   \n",
       "2            9             4  12.260555   \n",
       "3           47             9  -1.535753   \n",
       "4           23             5  10.769049   \n",
       "...        ...           ...        ...   \n",
       "1477      <NA>          <NA>       <NA>   \n",
       "1478      <NA>          <NA>       <NA>   \n",
       "1479      <NA>          <NA>       <NA>   \n",
       "1480      <NA>          <NA>       <NA>   \n",
       "1481      <NA>          <NA>       <NA>   \n",
       "\n",
       "                                      z_score_responses  response_p  \\\n",
       "0     [6.508593199185604, 8.390605328716632, 8.07111...         0.0   \n",
       "1     [26.88147908301157, 17.82450497113414, 29.1660...         0.0   \n",
       "2     [6.1770271455753125, -0.156641439131128, 5.605...         0.0   \n",
       "3     [-1.6484422171394126, -2.018777003908038, -1.6...      0.9622   \n",
       "4     [1.7468374774146889, 7.251366696133568, 1.9123...         0.0   \n",
       "...                                                 ...         ...   \n",
       "1477                                                NaN        <NA>   \n",
       "1478                                                NaN        <NA>   \n",
       "1479                                                NaN        <NA>   \n",
       "1480                                                NaN        <NA>   \n",
       "1481                                                NaN        <NA>   \n",
       "\n",
       "      frac_responsive_trials  lifetime_sparseness  p_trial_responses  \\\n",
       "0                      0.125             0.865054           0.979693   \n",
       "1                      0.525             0.747115           0.003821   \n",
       "2                        0.2             0.746714           0.017425   \n",
       "3                      0.025             0.915675           0.991904   \n",
       "4                       0.35             0.798009            0.01589   \n",
       "...                      ...                  ...                ...   \n",
       "1477                    <NA>                 <NA>               <NA>   \n",
       "1478                    <NA>                 <NA>               <NA>   \n",
       "1479                    <NA>                 <NA>               <NA>   \n",
       "1480                    <NA>                 <NA>               <NA>   \n",
       "1481                    <NA>                 <NA>               <NA>   \n",
       "\n",
       "      sig_trial_responses  is_valid  chisq_response_p  null_dist_multi_mean  \\\n",
       "0                   False      True             0.994                0.0241   \n",
       "1                    True      True             0.024              0.036297   \n",
       "2                    True      True             0.022              0.029455   \n",
       "3                   False      True             0.945              0.134467   \n",
       "4                    True      True             0.011              0.047564   \n",
       "...                   ...       ...               ...                   ...   \n",
       "1477                 <NA>     False             0.433              0.035955   \n",
       "1478                 <NA>     False             0.113               0.01081   \n",
       "1479                 <NA>     False             0.581              0.025421   \n",
       "1480                 <NA>     False             0.003              0.044334   \n",
       "1481                 <NA>     False             0.041              0.035041   \n",
       "\n",
       "      null_dist_multi_std  null_dist_single_mean  null_dist_single_std  \n",
       "0                0.005167                0.02412              0.031569  \n",
       "1                0.009029               0.035464              0.052187  \n",
       "2                0.006458               0.030363                0.0426  \n",
       "3                0.051566               0.136073              0.326151  \n",
       "4                0.020443               0.046334              0.122585  \n",
       "...                   ...                    ...                   ...  \n",
       "1477             0.006366               0.035685               0.03985  \n",
       "1478             0.002986               0.011092              0.019563  \n",
       "1479             0.005366               0.025462              0.033963  \n",
       "1480             0.007908               0.044236              0.049368  \n",
       "1481             0.007408               0.034276               0.04553  \n",
       "\n",
       "[1482 rows x 17 columns]"
      ]
     },
     "execution_count": 57,
     "metadata": {},
     "output_type": "execute_result"
    }
   ],
   "source": [
    "#Calculate metrics \n",
    "ns12_cascade_metrics = ns12_cascade.metrics\n",
    "ns12_cascade_metrics"
   ]
  },
  {
   "cell_type": "code",
   "execution_count": 58,
   "metadata": {},
   "outputs": [
    {
     "data": {
      "text/plain": [
       "0.9958592132505176"
      ]
     },
     "execution_count": 58,
     "metadata": {},
     "output_type": "execute_result"
    }
   ],
   "source": [
    "np.sum(ns12_metrics['pref_img_idx'].values[mask] == ns12_cascade_metrics['pref_img_idx'].values[mask])/np.sum(mask)"
   ]
  },
  {
   "cell_type": "code",
   "execution_count": 60,
   "metadata": {},
   "outputs": [
    {
     "data": {
      "text/plain": [
       "[<matplotlib.lines.Line2D at 0x7f07d59c33a0>]"
      ]
     },
     "execution_count": 60,
     "metadata": {},
     "output_type": "execute_result"
    },
    {
     "data": {
      "image/png": "[encoded data removed]",
      "text/plain": [
       "<Figure size 1000x600 with 1 Axes>"
      ]
     },
     "metadata": {},
     "output_type": "display_data"
    }
   ],
   "source": [
    "fig, ax = plt.subplots(figsize=(10,6))\n",
    "ax.plot([0,1],[0,1])\n",
    "ax.plot(ns12_cascade_metrics['frac_responsive_trials'].values[mask],ns12_metrics['frac_responsive_trials'].values[mask],'.')"
   ]
  },
  {
   "cell_type": "code",
   "execution_count": null,
   "metadata": {},
   "outputs": [],
   "source": []
  },
  {
   "attachments": {},
   "cell_type": "markdown",
   "metadata": {},
   "source": [
    "## Run on all sessions"
   ]
  },
  {
   "cell_type": "code",
   "execution_count": 4,
   "metadata": {},
   "outputs": [
    {
     "name": "stdout",
     "output_type": "stream",
     "text": [
      "Sessions to load:\n",
      "['M409828_11', 'M409828_12', 'M409828_13', 'M409828_14', 'M409828_15', 'M409828_16', 'M409828_17', 'M409828_18', 'M409828_19', 'M409828_1a', 'M409828_1b', 'M409828_1c', 'M409828_1d', 'M409828_1e', 'M409828_1f']\n"
     ]
    }
   ],
   "source": [
    "mouse = 409828 # selected for EM\n",
    "column = 1\n",
    "\n",
    "session_ids = client.get_all_session_ids()\n",
    "# session_ids = [s for s in session_ids if s.startswith(f\"M{mouse}\") and s[8] == str(column) and s[9] == \"3\"]\n",
    "session_ids = [s for s in session_ids if s.startswith(f\"M{mouse}\") and s[8] == str(column)]\n",
    "\n",
    "print(\"Sessions to load:\")\n",
    "print(session_ids)"
   ]
  },
  {
   "cell_type": "code",
   "execution_count": 5,
   "metadata": {},
   "outputs": [
    {
     "data": {
      "application/vnd.jupyter.widget-view+json": {
       "model_id": "64193e976f3048f98db45fe8f4f16f36",
       "version_major": 2,
       "version_minor": 0
      },
      "text/plain": [
       "  0%|          | 0/15 [00:00<?, ?it/s]"
      ]
     },
     "metadata": {},
     "output_type": "display_data"
    },
    {
     "name": "stdout",
     "output_type": "stream",
     "text": [
      "Loaded 15 ophys sessions\n"
     ]
    }
   ],
   "source": [
    "sessions = []\n",
    "\n",
    "for session_id in tqdm(session_ids):\n",
    "    session = client.load_ophys_session(session_id=session_id)\n",
    "    sessions.append(session)\n",
    "\n",
    "print(f\"Loaded {len(sessions)} ophys sessions\")"
   ]
  },
  {
   "cell_type": "code",
   "execution_count": null,
   "metadata": {},
   "outputs": [],
   "source": [
    "ns12_cascade = NaturalScenes(sess, 3, ns_type=\"natural_images_12\",trace_type=\"cascade\")\n",
    "\n",
    "#Calculate metrics \n",
    "ns12_cascade_metrics = ns12_cascade.metrics\n",
    "ns12_cascade_metrics = ns12_cascade_metrics[mask]\n",
    "ns12_cascade_metrics"
   ]
  },
  {
   "cell_type": "code",
   "execution_count": 10,
   "metadata": {},
   "outputs": [
    {
     "data": {
      "application/vnd.jupyter.widget-view+json": {
       "model_id": "c63ae952233f48719fa8b9c5352ffe65",
       "version_major": 2,
       "version_minor": 0
      },
      "text/plain": [
       "Loading natural scene analyses:   0%|          | 0/40 [00:00<?, ?it/s]"
      ]
     },
     "metadata": {},
     "output_type": "display_data"
    }
   ],
   "source": [
    "plane_info = [] # holds (mouse, column, volume, plane)\n",
    "ns12 = []\n",
    "ns118 = []\n",
    "\n",
    "with tqdm(desc=\"Loading natural scene analyses\", total=sum(len(s.get_planes()) for s in sessions)) as pbar:\n",
    "    for session in sessions:\n",
    "        for plane in session.get_planes():\n",
    "            plane_info.append((session.get_mouse_id(), session.get_column_id(), session.get_volume_id(), plane))\n",
    "\n",
    "\n",
    "            ns12.append(NaturalScenes(session, plane, ns_type=\"natural_images_12\"))\n",
    "            ns118.append(NaturalScenes(session, plane, ns_type=\"natural_images\"))\n",
    "            pbar.update()"
   ]
  },
  {
   "cell_type": "code",
   "execution_count": 12,
   "metadata": {},
   "outputs": [
    {
     "name": "stdout",
     "output_type": "stream",
     "text": [
      "Concatenating ns12 metrics...\n"
     ]
    }
   ],
   "source": [
    "RECOMPUTE_METRICS = True\n",
    "DF_SAVE_DIR = r\"/home/david.wyrick/Git/allen_v1dd/dataframes\"\n",
    "\n",
    "if RECOMPUTE_METRICS:\n",
    "\n",
    "    # Concatenate across the different planes\n",
    "    print(\"Concatenating ns12 metrics...\")\n",
    "    ns12_metrics = StimulusAnalysis.concat_metrics(ns12)\n",
    " \n",
    "    print(\"Merging ns118 metrics...\")\n",
    "    ns118_metrics = StimulusAnalysis.concat_metrics(ns118)\n",
    " \n",
    "    print(\"Done.\", len(ns118_metrics), \"total ROIs.\")\n",
    "    ns12_metrics.to_csv(os.path.join(DF_SAVE_DIR, \"ns12_metrics_col1.csv\"))\n",
    "    ns118_metrics.to_csv(os.path.join(DF_SAVE_DIR, \"ns118_metrics_col1.csv\"))\n",
    "\n",
    "ns12_metrics"
   ]
  },
  {
   "cell_type": "code",
   "execution_count": null,
   "metadata": {},
   "outputs": [],
   "source": []
  }
 ],
 "metadata": {
  "kernelspec": {
   "display_name": "v1dd",
   "language": "python",
   "name": "python3"
  },
  "language_info": {
   "codemirror_mode": {
    "name": "ipython",
    "version": 3
   },
   "file_extension": ".py",
   "mimetype": "text/x-python",
   "name": "python",
   "nbconvert_exporter": "python",
   "pygments_lexer": "ipython3",
   "version": "3.10.8"
  },
  "orig_nbformat": 4,
  "vscode": {
   "interpreter": {
    "hash": "ae9d620d7e9cfd7e5e92fd0a19d7105f0f7065012a225592c75a2e99ce95c033"
   }
  }
 },
 "nbformat": 4,
 "nbformat_minor": 2
}
