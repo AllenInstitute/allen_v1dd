{
 "cells": [
  {
   "cell_type": "code",
   "execution_count": 1,
   "metadata": {},
   "outputs": [
    {
     "name": "stderr",
     "output_type": "stream",
     "text": [
      "/var/folders/8l/944wpj6s7sq8gcv57wcd3q6h0000gn/T/ipykernel_16106/4270177090.py:9: TqdmExperimentalWarning: Using `tqdm.autonotebook.tqdm` in notebook mode. Use `tqdm.tqdm` instead to force console mode (e.g. in jupyter console)\n",
      "  from tqdm.autonotebook import tqdm\n"
     ]
    }
   ],
   "source": [
    "import sys\n",
    "if \"../..\" not in sys.path: sys.path.insert(0, \"../..\")\n",
    "if \"..\" not in sys.path: sys.path.insert(0, \"..\")\n",
    "\n",
    "import numpy as np\n",
    "import pandas as pd\n",
    "import matplotlib as mpl\n",
    "import matplotlib.pyplot as plt\n",
    "from tqdm.autonotebook import tqdm\n",
    "\n",
    "from experiment.v1dd_client import V1DDClient\n",
    "from experiment.v1dd_ophys_session import V1DDOPhysSession\n",
    "from stimulus_analysis.locally_sparse_noise import LocallySparseNoise\n",
    "from stimulus_analysis.timing_utils import find_nearest, get_frame_window_from_time_window\n",
    "from statsmodels.sandbox.stats.multicomp import multipletests\n",
    "\n",
    "import scipy.interpolate as si\n",
    "import scipy.ndimage.filters as filt\n",
    "import scipy.stats as stats\n",
    "\n",
    "from analysis_tools import set_stylesheet\n",
    "set_stylesheet()\n",
    "\n",
    "%load_ext autoreload\n",
    "%autoreload 2"
   ]
  },
  {
   "cell_type": "code",
   "execution_count": 2,
   "metadata": {},
   "outputs": [],
   "source": [
    "# windows\n",
    "# base_folder = r\"\\\\allen\\programs\\mindscope\\workgroups\\surround\\v1dd_in_vivo_new_segmentation\\data\"\n",
    "\n",
    "# # linux and mac\n",
    "# base_folder = \"/allen/programs/mindscope/workgroups/surround/v1dd_in_vivo_new_segmentation/data\"\n",
    "# base_folder = \"/Volumes/programs/mindscope/workgroups/surround/v1dd_in_vivo_new_segmentation/data\"\n",
    "base_folder = \"/Users/chase/Desktop/test_v1dd_data\"\n",
    "client = V1DDClient(base_folder)"
   ]
  },
  {
   "cell_type": "code",
   "execution_count": 3,
   "metadata": {},
   "outputs": [
    {
     "name": "stdout",
     "output_type": "stream",
     "text": [
      "Loaded ophys session M409828_13 (mouse 409828, column 1, volume 3)\n"
     ]
    }
   ],
   "source": [
    "mouse = 409828\n",
    "col, vol = 1, 3\n",
    "sess = client.load_ophys_session(mouse=mouse, column=col, volume=vol)\n",
    "print(f\"Loaded ophys session {sess.get_session_id()} (mouse {sess.get_mouse_id()}, column {sess.get_column_id()}, volume {sess.get_volume_id()})\")"
   ]
  },
  {
   "cell_type": "code",
   "execution_count": 4,
   "metadata": {},
   "outputs": [
    {
     "name": "stdout",
     "output_type": "stream",
     "text": [
      "Analyzing plane 1\n"
     ]
    }
   ],
   "source": [
    "plane = sess.get_planes()[0]\n",
    "print(f\"Analyzing plane {plane}\")"
   ]
  },
  {
   "cell_type": "code",
   "execution_count": 5,
   "metadata": {},
   "outputs": [],
   "source": [
    "lsn = LocallySparseNoise(sess, plane)"
   ]
  },
  {
   "cell_type": "code",
   "execution_count": 6,
   "metadata": {},
   "outputs": [],
   "source": [
    "def get_disc_masks(lsn, radius=3):\n",
    "    '''\n",
    "    Obtain an indicator mask surrounding each pixel. The mask is a square, excluding pixels which \n",
    "    are coactive on any trial with the main pixel.\n",
    "    Parameters\n",
    "    ----------\n",
    "    LSN_template : np.ndarray\n",
    "        Dimensions are (nTrials, nYPixels, nXPixels). Luminance values per pixel \n",
    "        and trial.\n",
    "    radius : int\n",
    "        The base mask will be a box whose sides are 2 * radius + 1 in length.\n",
    "    on_luminance : int, optional\n",
    "        The value of the luminance for on trials. Default is 255\n",
    "    off_luminance : int, optional\n",
    "        The value of the luminance for off trials. Default is 0\n",
    "  \n",
    "    Returns\n",
    "    -------\n",
    "    masks : np.ndarray\n",
    "        Dimensions are (nYPixels, nXPixels, nYPixels, nXPixels). The first 2 \n",
    "        dimensions describe the pixel from which the mask was computed. The last \n",
    "        2 serve as the dimensions of the mask images themselves. Masks are binary \n",
    "        arrays of type float, with 1 indicating inside, 0 outside.\n",
    "    '''\n",
    "\n",
    "    ydim, xdim = lsn.image_shape\n",
    "    \n",
    "    # convert template to true on trials a pixel is not gray and false when gray\n",
    "    nongray_pixels = np.where(lsn.trial_template != lsn.pixel_gray, 1, 0) # shape is (n_trials, ydim, xdim)\n",
    "\n",
    "    # get number of trials each pixel is not gray\n",
    "    num_nongray_trials = nongray_pixels.sum(axis=0).astype(float) # shape is (ydim, xdim)\n",
    "\n",
    "    masks = np.zeros((ydim, xdim, ydim, xdim), dtype=float)\n",
    "\n",
    "    for y in range(ydim):\n",
    "        for x in range(xdim):\n",
    "            trials_nongray = np.argwhere(nongray_pixels[:, y, x] > 0)[:, 0] # indices on axis=0 where there are nongray pixels at (y, x)\n",
    "            num_times_nongray = nongray_pixels[trials_nongray, :, :].sum(axis=0) # shape (ydim, xdim); number of times each pixel is nongray during these trials\n",
    "            raw_mask = num_times_nongray / num_nongray_trials\n",
    "\n",
    "            # For this stimulus (center_y, center_x) = (y, x) but including for completeness\n",
    "            center_y, center_x = np.unravel_index(raw_mask.argmax(), (ydim, xdim))\n",
    "\n",
    "            x_max = min(center_x + radius + 1, xdim)\n",
    "            y_max = min(center_y + radius + 1, ydim)\n",
    "            x_min = max(center_x - radius, 0)\n",
    "            y_min = max(center_y - radius, 0)\n",
    "\n",
    "            masks[y, x, y_min:y_max, x_min:x_max] = raw_mask[y_min:y_max, x_min:x_max] == 0 # include nearby pixels in mask if they are always gray\n",
    "            masks[y, x, center_y, center_x] = 1 # include center in mask\n",
    "\n",
    "    return masks"
   ]
  },
  {
   "cell_type": "code",
   "execution_count": 18,
   "metadata": {},
   "outputs": [],
   "source": [
    "def build_trial_matrix(lsn):\n",
    "    n_trials, ydim, xdim = lsn.trial_template.shape\n",
    "    on_off_luminance = (lsn.pixel_on, lsn.pixel_off)\n",
    "    trial_matrix = np.zeros((n_trials, ydim, xdim, 2), dtype=bool)\n",
    "\n",
    "    for y in range(ydim):\n",
    "        for x in range(xdim):\n",
    "            for i, on_off in enumerate(on_off_luminance):\n",
    "                trials_with_pixel_on_off = np.argwhere(lsn.trial_template[:, y, x] == on_off)[:, 0] # trial indices where the (y, x) pixel value is on_off\n",
    "                trial_matrix[trials_with_pixel_on_off, y, x, i] = True\n",
    "    \n",
    "    # Compute the number of trials in which each pixel is on/off\n",
    "    trials_per_pixel = np.sum(trial_matrix, axis=0) # shape (ydim, xdim, 2)\n",
    "\n",
    "    # reshape to (n_trials, ydim*xdim*2)\n",
    "    trial_matrix = trial_matrix.reshape(n_trials, ydim*xdim*2)\n",
    "    \n",
    "    return trial_matrix, trials_per_pixel"
   ]
  },
  {
   "cell_type": "code",
   "execution_count": 63,
   "metadata": {},
   "outputs": [
    {
     "data": {
      "text/plain": [
       "1"
      ]
     },
     "execution_count": 63,
     "metadata": {},
     "output_type": "execute_result"
    }
   ],
   "source": [
    "active_trials.reshape(1, len(active_trials)).shape[0]"
   ]
  },
  {
   "cell_type": "code",
   "execution_count": 68,
   "metadata": {},
   "outputs": [
    {
     "data": {
      "text/plain": [
       "array([  0,   1,   2,   3,   4,   5,   6,   7,   8,   9,  10,  11,  12,\n",
       "        13,  14,  15,  16,  17,  18,  19,  20,  21,  22,  23,  24,  25,\n",
       "        26,  27,  28,  29,  30,  31,  32,  33,  34,  35,  36,  37,  38,\n",
       "        39,  40,  41,  42,  43,  44,  45,  46,  47,  48,  49,  50,  51,\n",
       "        52,  53,  54,  55,  56,  57,  58,  59,  60,  61,  62,  63,  64,\n",
       "        65,  66,  67,  68,  69,  70,  71,  72,  73,  74,  75,  76,  77,\n",
       "        78,  79,  80,  81,  82,  83,  84,  85,  86,  87,  88,  89,  90,\n",
       "        91,  92,  93,  94,  95,  96,  97,  98,  99, 100, 101, 102, 103,\n",
       "       104, 105, 106, 107, 108, 109, 110, 111, 112, 113, 114, 115, 116,\n",
       "       117, 118, 119, 120, 121, 122, 123, 124, 125, 126, 127, 128, 129,\n",
       "       130, 131, 132, 133, 134, 135, 136, 137, 138, 139, 140, 141, 142,\n",
       "       143, 144, 145, 146, 147, 148, 149, 150, 151, 152, 153, 154, 155,\n",
       "       156, 157, 158, 159, 160, 161, 162, 163, 164, 165, 166, 167, 168,\n",
       "       169, 170, 171, 172, 173, 174, 175, 176, 177, 178, 179, 180, 181,\n",
       "       182, 183, 184, 185, 186, 187, 188, 189, 190, 191, 192, 193, 194,\n",
       "       195, 196, 197, 198, 199, 200, 201, 202, 203, 204, 205, 206, 207,\n",
       "       208, 209, 210, 211, 212, 213, 214, 215, 216, 217, 218, 219, 220,\n",
       "       221, 222, 223])"
      ]
     },
     "execution_count": 68,
     "metadata": {},
     "output_type": "execute_result"
    }
   ],
   "source": [
    "np.unique(active_pixels)"
   ]
  },
  {
   "cell_type": "code",
   "execution_count": 83,
   "metadata": {},
   "outputs": [
    {
     "data": {
      "text/plain": [
       "array([[  25,   73,   89,  149,  189,  229,  258,  311,  337,  372,  425,\n",
       "         463,  494,  530,  549,  584,  633,  695,  732,  770,  809,  846,\n",
       "         882,  903,  954, 1001, 1018, 1054, 1122, 1130, 1204, 1237, 1274,\n",
       "        1318, 1349, 1388, 1431, 1475, 1508, 1521, 1587, 1618, 1666, 1682]])"
      ]
     },
     "execution_count": 83,
     "metadata": {},
     "output_type": "execute_result"
    }
   ],
   "source": [
    "active_trials.reshape(1, -1)[:, active_pixels == 0]"
   ]
  },
  {
   "cell_type": "code",
   "execution_count": 84,
   "metadata": {},
   "outputs": [
    {
     "data": {
      "text/plain": [
       "array([[0.        , 0.        , 0.04349729, ..., 0.        , 0.        ,\n",
       "        0.        ],\n",
       "       [0.        , 0.        , 0.        , ..., 0.        , 0.        ,\n",
       "        0.        ],\n",
       "       [0.        , 0.        , 0.        , ..., 0.        , 0.        ,\n",
       "        0.        ],\n",
       "       ...,\n",
       "       [0.        , 0.        , 0.        , ..., 0.        , 0.        ,\n",
       "        0.        ],\n",
       "       [0.        , 0.        , 0.        , ..., 0.        , 0.        ,\n",
       "        0.        ],\n",
       "       [0.        , 0.        , 0.        , ..., 0.        , 0.        ,\n",
       "        0.        ]], dtype=float32)"
      ]
     },
     "execution_count": 84,
     "metadata": {},
     "output_type": "execute_result"
    }
   ],
   "source": [
    "lsn.sweep_responses"
   ]
  },
  {
   "cell_type": "code",
   "execution_count": 86,
   "metadata": {},
   "outputs": [
    {
     "data": {
      "text/plain": [
       "(1705, 1234)"
      ]
     },
     "execution_count": 86,
     "metadata": {},
     "output_type": "execute_result"
    }
   ],
   "source": [
    "lsn.sweep_responses.shape"
   ]
  },
  {
   "cell_type": "code",
   "execution_count": 87,
   "metadata": {},
   "outputs": [
    {
     "data": {
      "text/plain": [
       "array([[0.        , 0.        , 0.04349729, ..., 0.        , 0.        ,\n",
       "        0.        ],\n",
       "       [0.        , 0.        , 0.        , ..., 0.        , 0.        ,\n",
       "        0.        ],\n",
       "       [0.        , 0.        , 0.        , ..., 0.        , 0.        ,\n",
       "        0.        ],\n",
       "       ...,\n",
       "       [0.        , 0.        , 0.        , ..., 0.        , 0.        ,\n",
       "        0.        ],\n",
       "       [0.        , 0.        , 0.        , ..., 0.        , 0.        ,\n",
       "        0.        ],\n",
       "       [0.        , 0.        , 0.        , ..., 0.        , 0.        ,\n",
       "        0.        ]], dtype=float32)"
      ]
     },
     "execution_count": 87,
     "metadata": {},
     "output_type": "execute_result"
    }
   ],
   "source": [
    "lsn.sweep_responses"
   ]
  },
  {
   "cell_type": "code",
   "execution_count": 100,
   "metadata": {},
   "outputs": [
    {
     "name": "stdout",
     "output_type": "stream",
     "text": [
      "[0 1 2 3 4]\n"
     ]
    },
    {
     "data": {
      "text/plain": [
       "array([1])"
      ]
     },
     "execution_count": 100,
     "metadata": {},
     "output_type": "execute_result"
    }
   ],
   "source": [
    "a = np.arange(5)\n",
    "print(a)\n",
    "np.where(a == 1)[0]"
   ]
  },
  {
   "cell_type": "code",
   "execution_count": 119,
   "metadata": {},
   "outputs": [],
   "source": [
    "from stimulus_analysis.proba_utils import *\n",
    "\n",
    "# Step 1: Compute categories\n",
    "# Two categories are defined for each pixel -- one for pixel on and one for pixel off\n",
    "n_categories = lsn.n_pixels * 2\n",
    "sweep_categories = np.arange(n_categories) # shape (n_categories,)\n",
    "sweep_category_matrix = lsn.design_matrix.T # shape (n_sweeps, n_categories)\n",
    "\n",
    "# Step 2: Compute observed and expected responses, along with actual chi^2 statistic\n",
    "sweep_responses = lsn.sweep_responses\n",
    "observed = compute_chisq_observed(sweep_responses, sweep_category_matrix) # shape (n_rois, n_categories)\n",
    "expected = compute_chisq_expected(sweep_responses) # shape (n_rois, 1)\n",
    "chisq_actual = compute_chisq_statistic(observed, expected)"
   ]
  },
  {
   "cell_type": "code",
   "execution_count": 127,
   "metadata": {},
   "outputs": [
    {
     "data": {
      "application/vnd.jupyter.widget-view+json": {
       "model_id": "1b819c0b35dc4fb2a2128df5e3cc14a5",
       "version_major": 2,
       "version_minor": 0
      },
      "text/plain": [
       "  0%|          | 0/1000 [00:00<?, ?it/s]"
      ]
     },
     "metadata": {},
     "output_type": "display_data"
    }
   ],
   "source": [
    "# Step 3: Compute shuffled distribution\n",
    "n_rois = lsn.n_rois\n",
    "n_sweeps = lsn.n_sweeps\n",
    "n_shuffles = 1000\n",
    "\n",
    "chisq_shuffle = np.zeros((n_rois, n_shuffles))\n",
    "\n",
    "for shuffle_i in tqdm(range(n_shuffles)):\n",
    "    shuffle_stim_idx = np.random.choice(n_sweeps, size=n_sweeps, replace=True) # shape (n_sweeps,)\n",
    "    shuffle_sweep_events = sweep_responses[shuffle_stim_idx] # shape (n_sweeps, n_rois)\n",
    "\n",
    "    shuffle_observed = compute_chisq_observed(shuffle_sweep_events, sweep_category_matrix)\n",
    "    shuffle_expected = compute_chisq_expected(shuffle_sweep_events)\n",
    "    chisq_shuffle[:, shuffle_i] = compute_chisq_statistic(shuffle_observed, shuffle_expected)"
   ]
  },
  {
   "cell_type": "code",
   "execution_count": null,
   "metadata": {},
   "outputs": [],
   "source": []
  },
  {
   "cell_type": "code",
   "execution_count": 135,
   "metadata": {},
   "outputs": [
    {
     "data": {
      "text/plain": [
       "(array([  0,   0,   0, ..., 111, 111, 111]),\n",
       " array([  0,   1,   2, ..., 109, 110, 111]))"
      ]
     },
     "execution_count": 135,
     "metadata": {},
     "output_type": "execute_result"
    }
   ],
   "source": [
    "masks = get_disc_masks(lsn, radius=2)\n",
    "masks = masks.reshape(lsn.n_pixels, lsn.n_pixels)\n",
    "masks.shape\n",
    "\n",
    "mask_center_pixel, pixels_in_mask = np.where(masks)\n",
    "\n",
    "chi_sum = np.zeros((n_rois, lsn.n_pixels))"
   ]
  },
  {
   "cell_type": "code",
   "execution_count": 128,
   "metadata": {},
   "outputs": [
    {
     "data": {
      "text/plain": [
       "0.0713128038897893"
      ]
     },
     "execution_count": 128,
     "metadata": {},
     "output_type": "execute_result"
    }
   ],
   "source": [
    "# Step 4: Compute p-values\n",
    "# For ROI i, the p-value is computed as the fraction of times the shuffled chi^2 value is greater than the actual\n",
    "p_values = np.mean(chisq_shuffle > np.expand_dims(chisq_actual, axis=1), axis=1)\n",
    "\n",
    "(p_values <= 0.05).mean()"
   ]
  },
  {
   "cell_type": "code",
   "execution_count": 110,
   "metadata": {},
   "outputs": [],
   "source": [
    "def calc_observed(lsn, active_trials, active_pixels, n_pixels):\n",
    "    # If necessary, convert active_trials into 2D matrix (where rows are indices)\n",
    "    if active_trials.ndim == 1:\n",
    "        active_trials = active_trials.reshape(-1, 1)\n",
    "    n_trial_repeats, _ = active_trials.shape\n",
    "\n",
    "    observed_by_pixel = np.zeros((lsn.n_rois, n_pixels, n_trial_repeats))\n",
    "    unique_active_pixels = np.unique(active_pixels)\n",
    "\n",
    "    for pixel in unique_active_pixels:\n",
    "        trials_pixel_is_displayed = active_trials[:, active_pixels == pixel] # shape (n_trial_repeats,)\n",
    "        response_mat = lsn.sweep_responses[trials_pixel_is_displayed, :] # shape (n_trial_repeats, n_rois)\n",
    "        response_mat = response_mat.T # shape (n_rois, n_trial_repeats); move n_rois to dim 0\n",
    "        observed_by_pixel[:, pixel, :] = response_mat\n",
    "        \n",
    "#         #show progress during shuffling\n",
    "#         if num_reps > 1:\n",
    "#             print 'pixel ' + str(p) + ' of ' + str(len(pixels_to_populate))\n",
    "    \n",
    "    return \n",
    "\n",
    "def chi_square_across_template(lsn, expected_by_pixel, trial_matrix, num_shuffles):\n",
    "    # Array shapes\n",
    "    n_trials, n_pixels = trial_matrix.shape\n",
    "    active_trials, active_pixels = np.where(trial_matrix) # all pairings p[i] = (active_trials[i], active_pixels[i]) such that trial_matrix[p[i]] = True\n",
    "    \n",
    "    # calculate pixelwise contributions to chi_sum for the actual data\n",
    "    observed_by_pixel_actual = calc_observed(responses,trials.reshape(1,len(trials)),pixels,num_pixels)\n",
    "    chi_actual = compute_chi(observed_by_pixel_actual,expected_by_pixel)\n",
    "    \n",
    "    #shuffle the trial labels to build null distribution\n",
    "    trial_labels = np.random.choice(num_trials,size=(num_shuffles,num_trials))\n",
    "    shuffled_trials = np.zeros((num_shuffles,len(trials))).astype(int)\n",
    "    for s in range(num_shuffles):\n",
    "        shuffled_trials[s,:] = trial_labels[s,trials]\n",
    "\n",
    "    # calculate pixelwise contributions to chi_sum for the shuffled data\n",
    "    observed_by_pixel_shuffled = calc_observed(responses,shuffled_trials,pixels,num_pixels)\n",
    "    chi_shuffle = compute_chi(observed_by_pixel_shuffled,expected_by_pixel)\n",
    "    \n",
    "    return chi_actual, chi_shuffle"
   ]
  },
  {
   "cell_type": "code",
   "execution_count": 60,
   "metadata": {},
   "outputs": [
    {
     "data": {
      "text/plain": [
       "(array([   0,    0,    0, ..., 1704, 1704, 1704]),\n",
       " array([ 45, 107, 116, ..., 116, 128, 179]))"
      ]
     },
     "execution_count": 60,
     "metadata": {},
     "output_type": "execute_result"
    }
   ],
   "source": [
    "np.where(trial_matrix)"
   ]
  },
  {
   "cell_type": "code",
   "execution_count": 56,
   "metadata": {},
   "outputs": [],
   "source": [
    "def chi_square_receptive_fields(lsn, num_shuffles=1000):\n",
    "    # Array shapes\n",
    "    n_trials, n_rois = lsn.sweep_responses.shape\n",
    "    n_trials, ydim, xdim = lsn.trial_template.shape\n",
    "\n",
    "    # define the masks for exclusion regions we'll calculate the chi sq sum over\n",
    "    masks = get_disc_masks(lsn, radius=2)\n",
    "    \n",
    "    # build a binary matrix of pixels displayed on each trial\n",
    "    trial_matrix, trials_per_pixel = build_trial_matrix(lsn)\n",
    "    # trial_matrix is shape (n_trials, ydim*xdim*2)\n",
    "    # trials_per_pixel is shape (ydim, xdim, 2)\n",
    "    \n",
    "    # Pre-calculate the expected values (since it doesn't change with shuffling)\n",
    "    # Each expected value is computed from the ROI's mean response across all trials,\n",
    "    # weighted by the number of times each pixel is shown as nongray.\n",
    "    # Importantly, this metric ignores when each pixel is shown, so it can be used to\n",
    "    # identify outlier responses that hint at receptive field\n",
    "    roi_mean_trial_response = np.mean(lsn.sweep_responses, axis=0) # shape (n_rois,)\n",
    "    expected_by_pixel = roi_mean_trial_response.reshape(n_rois, 1, 1) * trials_per_pixel.reshape(1, ydim*xdim*2, 1) # shape (n_rois, ydim*xdim*2, 1)\n",
    "    # expected_by_pixel[roi, pixel, 0] = roi mean response * number of trials pixel is on/off\n",
    "    \n",
    "    # calculate the contribution of each pixel to the chi_sum test statistic,\n",
    "    # for the actual data as well as shuffles\n",
    "    chi_actual, chi_shuffle = chi_square_across_template(responses,expected_by_pixel,trial_matrix,num_shuffles)\n",
    "    \n",
    "    #apply region masks around each pixel to sum pixel-wise chi contributions\n",
    "    # to the chi_sum test statistic, then calculate p_values\n",
    "    p_values = chi_square_across_masks(masks,chi_actual,chi_shuffle,num_y,num_x)\n",
    "    \n",
    "    # p_values should be no smaller than the 1.0 over number of shuffles\n",
    "    p_values = np.where(p_values==0.0,1.0/num_shuffles,p_values)\n",
    "    \n",
    "    return p_values"
   ]
  },
  {
   "cell_type": "code",
   "execution_count": null,
   "metadata": {},
   "outputs": [],
   "source": []
  }
 ],
 "metadata": {
  "kernelspec": {
   "display_name": "v1dd",
   "language": "python",
   "name": "python3"
  },
  "language_info": {
   "codemirror_mode": {
    "name": "ipython",
    "version": 3
   },
   "file_extension": ".py",
   "mimetype": "text/x-python",
   "name": "python",
   "nbconvert_exporter": "python",
   "pygments_lexer": "ipython3",
   "version": "3.10.8 (main, Nov 24 2022, 08:09:04) [Clang 14.0.6 ]"
  },
  "orig_nbformat": 4,
  "vscode": {
   "interpreter": {
    "hash": "2e7f5deb279e1a849122e9e881580e077474a30f307a7f5876f96eecdf039a1c"
   }
  }
 },
 "nbformat": 4,
 "nbformat_minor": 2
}
