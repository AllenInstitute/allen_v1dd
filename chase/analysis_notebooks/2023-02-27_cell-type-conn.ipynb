{
 "cells": [
  {
   "cell_type": "code",
   "execution_count": 1,
   "metadata": {},
   "outputs": [],
   "source": [
    "%load_ext autoreload\n",
    "%autoreload 2"
   ]
  },
  {
   "cell_type": "code",
   "execution_count": 139,
   "metadata": {},
   "outputs": [],
   "source": [
    "from os import path\n",
    "import tempfile\n",
    "\n",
    "import numpy as np\n",
    "import scipy\n",
    "import pandas as pd\n",
    "import matplotlib as mpl\n",
    "import matplotlib.pyplot as plt\n",
    "from tqdm.notebook import tqdm\n",
    "import imageio\n",
    "import seaborn as sns\n",
    "\n",
    "from allen_v1dd.client import OPhysClient, EMClient\n",
    "from allen_v1dd.stimulus_analysis import DriftingGratings\n",
    "import allen_v1dd.stimulus_analysis.analysis_tools as at\n",
    "at.set_stylesheet()\n",
    "\n",
    "%matplotlib inline"
   ]
  },
  {
   "cell_type": "code",
   "execution_count": 140,
   "metadata": {},
   "outputs": [],
   "source": [
    "em_client = EMClient.init_microns()"
   ]
  },
  {
   "cell_type": "code",
   "execution_count": 141,
   "metadata": {},
   "outputs": [
    {
     "data": {
      "text/html": [
       "<div>\n",
       "<style scoped>\n",
       "    .dataframe tbody tr th:only-of-type {\n",
       "        vertical-align: middle;\n",
       "    }\n",
       "\n",
       "    .dataframe tbody tr th {\n",
       "        vertical-align: top;\n",
       "    }\n",
       "\n",
       "    .dataframe thead th {\n",
       "        text-align: right;\n",
       "    }\n",
       "</style>\n",
       "<table border=\"1\" class=\"dataframe\">\n",
       "  <thead>\n",
       "    <tr style=\"text-align: right;\">\n",
       "      <th></th>\n",
       "      <th>index</th>\n",
       "      <th>id_ref</th>\n",
       "      <th>valid_ref</th>\n",
       "      <th>volume</th>\n",
       "      <th>pt_supervoxel_id</th>\n",
       "      <th>pt_root_id</th>\n",
       "      <th>id</th>\n",
       "      <th>valid</th>\n",
       "      <th>target_id</th>\n",
       "      <th>classification_system</th>\n",
       "      <th>cell_type</th>\n",
       "      <th>pt_position</th>\n",
       "      <th>bb_start_position</th>\n",
       "      <th>bb_end_position</th>\n",
       "      <th>position_microns</th>\n",
       "    </tr>\n",
       "  </thead>\n",
       "  <tbody>\n",
       "    <tr>\n",
       "      <th>0</th>\n",
       "      <td>0</td>\n",
       "      <td>498173</td>\n",
       "      <td>t</td>\n",
       "      <td>308.176159</td>\n",
       "      <td>103884538719281829</td>\n",
       "      <td>864691136091295156</td>\n",
       "      <td>553</td>\n",
       "      <td>t</td>\n",
       "      <td>498173</td>\n",
       "      <td>aibs_neuronal</td>\n",
       "      <td>6P-IT</td>\n",
       "      <td>[1138752.0, 847744.0, 622640.0]</td>\n",
       "      <td>[nan, nan, nan]</td>\n",
       "      <td>[nan, nan, nan]</td>\n",
       "      <td>[1060.532946861501, 547.0958222941854, 622.640...</td>\n",
       "    </tr>\n",
       "    <tr>\n",
       "      <th>1</th>\n",
       "      <td>1</td>\n",
       "      <td>487329</td>\n",
       "      <td>t</td>\n",
       "      <td>295.937638</td>\n",
       "      <td>105279407463397326</td>\n",
       "      <td>864691135975935434</td>\n",
       "      <td>4509</td>\n",
       "      <td>t</td>\n",
       "      <td>487329</td>\n",
       "      <td>aibs_neuronal</td>\n",
       "      <td>MC</td>\n",
       "      <td>[1178176.0, 474496.0, 869800.0]</td>\n",
       "      <td>[nan, nan, nan]</td>\n",
       "      <td>[nan, nan, nan]</td>\n",
       "      <td>[1132.3376333081478, 178.7041716229213, 869.80...</td>\n",
       "    </tr>\n",
       "    <tr>\n",
       "      <th>2</th>\n",
       "      <td>2</td>\n",
       "      <td>106662</td>\n",
       "      <td>t</td>\n",
       "      <td>230.148178</td>\n",
       "      <td>79524515478544304</td>\n",
       "      <td>864691136084076652</td>\n",
       "      <td>4693</td>\n",
       "      <td>t</td>\n",
       "      <td>106662</td>\n",
       "      <td>aibs_neuronal</td>\n",
       "      <td>23P</td>\n",
       "      <td>[428224.0, 476992.0, 776560.0]</td>\n",
       "      <td>[nan, nan, nan]</td>\n",
       "      <td>[nan, nan, nan]</td>\n",
       "      <td>[385.0218863509487, 115.82805000426656, 776.56...</td>\n",
       "    </tr>\n",
       "    <tr>\n",
       "      <th>3</th>\n",
       "      <td>3</td>\n",
       "      <td>271350</td>\n",
       "      <td>t</td>\n",
       "      <td>305.328128</td>\n",
       "      <td>87351114324194368</td>\n",
       "      <td>864691135937342005</td>\n",
       "      <td>5061</td>\n",
       "      <td>t</td>\n",
       "      <td>271350</td>\n",
       "      <td>aibs_neuronal</td>\n",
       "      <td>6P-CT</td>\n",
       "      <td>[655680.0, 943872.0, 835000.0]</td>\n",
       "      <td>[nan, nan, nan]</td>\n",
       "      <td>[nan, nan, nan]</td>\n",
       "      <td>[570.9210744260782, 600.755527271752, 835.0000...</td>\n",
       "    </tr>\n",
       "    <tr>\n",
       "      <th>4</th>\n",
       "      <td>4</td>\n",
       "      <td>456040</td>\n",
       "      <td>t</td>\n",
       "      <td>257.463910</td>\n",
       "      <td>101129507251445952</td>\n",
       "      <td>864691136084057196</td>\n",
       "      <td>8652</td>\n",
       "      <td>t</td>\n",
       "      <td>456040</td>\n",
       "      <td>aibs_neuronal</td>\n",
       "      <td>MC</td>\n",
       "      <td>[1058176.0, 530112.0, 959520.0]</td>\n",
       "      <td>[nan, nan, nan]</td>\n",
       "      <td>[nan, nan, nan]</td>\n",
       "      <td>[1007.9470157484845, 223.64984682227282, 959.5...</td>\n",
       "    </tr>\n",
       "  </tbody>\n",
       "</table>\n",
       "</div>"
      ],
      "text/plain": [
       "   index  id_ref valid_ref      volume    pt_supervoxel_id  \\\n",
       "0      0  498173         t  308.176159  103884538719281829   \n",
       "1      1  487329         t  295.937638  105279407463397326   \n",
       "2      2  106662         t  230.148178   79524515478544304   \n",
       "3      3  271350         t  305.328128   87351114324194368   \n",
       "4      4  456040         t  257.463910  101129507251445952   \n",
       "\n",
       "           pt_root_id    id valid  target_id classification_system cell_type  \\\n",
       "0  864691136091295156   553     t     498173         aibs_neuronal     6P-IT   \n",
       "1  864691135975935434  4509     t     487329         aibs_neuronal        MC   \n",
       "2  864691136084076652  4693     t     106662         aibs_neuronal       23P   \n",
       "3  864691135937342005  5061     t     271350         aibs_neuronal     6P-CT   \n",
       "4  864691136084057196  8652     t     456040         aibs_neuronal        MC   \n",
       "\n",
       "                       pt_position bb_start_position  bb_end_position  \\\n",
       "0  [1138752.0, 847744.0, 622640.0]   [nan, nan, nan]  [nan, nan, nan]   \n",
       "1  [1178176.0, 474496.0, 869800.0]   [nan, nan, nan]  [nan, nan, nan]   \n",
       "2   [428224.0, 476992.0, 776560.0]   [nan, nan, nan]  [nan, nan, nan]   \n",
       "3   [655680.0, 943872.0, 835000.0]   [nan, nan, nan]  [nan, nan, nan]   \n",
       "4  [1058176.0, 530112.0, 959520.0]   [nan, nan, nan]  [nan, nan, nan]   \n",
       "\n",
       "                                    position_microns  \n",
       "0  [1060.532946861501, 547.0958222941854, 622.640...  \n",
       "1  [1132.3376333081478, 178.7041716229213, 869.80...  \n",
       "2  [385.0218863509487, 115.82805000426656, 776.56...  \n",
       "3  [570.9210744260782, 600.755527271752, 835.0000...  \n",
       "4  [1007.9470157484845, 223.64984682227282, 959.5...  "
      ]
     },
     "execution_count": 141,
     "metadata": {},
     "output_type": "execute_result"
    }
   ],
   "source": [
    "cell_type_table = em_client.get_cell_type_table()\n",
    "cell_type_table.head()"
   ]
  },
  {
   "cell_type": "code",
   "execution_count": 142,
   "metadata": {},
   "outputs": [
    {
     "data": {
      "text/plain": [
       "23P          17823\n",
       "4P           13052\n",
       "6P-IT        10225\n",
       "5P-IT         8673\n",
       "astrocyte     6889\n",
       "6P-CT         5506\n",
       "oligo         4900\n",
       "BC            2968\n",
       "microglia     2718\n",
       "MC            2195\n",
       "OPC           1693\n",
       "5P-ET         1460\n",
       "BPC           1389\n",
       "NGC            596\n",
       "pericyte       539\n",
       "5P-NP          442\n",
       "Name: cell_type, dtype: int64"
      ]
     },
     "execution_count": 142,
     "metadata": {},
     "output_type": "execute_result"
    }
   ],
   "source": [
    "cell_type_table.cell_type.value_counts()"
   ]
  },
  {
   "cell_type": "code",
   "execution_count": 14,
   "metadata": {},
   "outputs": [
    {
     "data": {
      "text/html": [
       "<div>\n",
       "<style scoped>\n",
       "    .dataframe tbody tr th:only-of-type {\n",
       "        vertical-align: middle;\n",
       "    }\n",
       "\n",
       "    .dataframe tbody tr th {\n",
       "        vertical-align: top;\n",
       "    }\n",
       "\n",
       "    .dataframe thead th {\n",
       "        text-align: right;\n",
       "    }\n",
       "</style>\n",
       "<table border=\"1\" class=\"dataframe\">\n",
       "  <thead>\n",
       "    <tr style=\"text-align: right;\">\n",
       "      <th></th>\n",
       "      <th>id</th>\n",
       "      <th>valid</th>\n",
       "      <th>pt_supervoxel_id</th>\n",
       "      <th>pt_root_id</th>\n",
       "      <th>valid_id</th>\n",
       "      <th>status_dendrite</th>\n",
       "      <th>status_axon</th>\n",
       "      <th>pt_position</th>\n",
       "      <th>dendrite_complete</th>\n",
       "      <th>axon_complete</th>\n",
       "    </tr>\n",
       "  </thead>\n",
       "  <tbody>\n",
       "    <tr>\n",
       "      <th>0</th>\n",
       "      <td>4</td>\n",
       "      <td>t</td>\n",
       "      <td>91077153340676495</td>\n",
       "      <td>864691135355207375</td>\n",
       "      <td>864691135355207375</td>\n",
       "      <td>extended</td>\n",
       "      <td>non</td>\n",
       "      <td>[765696.0, 839552.0, 913800.0]</td>\n",
       "      <td>True</td>\n",
       "      <td>False</td>\n",
       "    </tr>\n",
       "    <tr>\n",
       "      <th>1</th>\n",
       "      <td>7</td>\n",
       "      <td>t</td>\n",
       "      <td>91570559116360958</td>\n",
       "      <td>864691136602027473</td>\n",
       "      <td>864691136602027473</td>\n",
       "      <td>extended</td>\n",
       "      <td>non</td>\n",
       "      <td>[779456.0, 864512.0, 888200.0]</td>\n",
       "      <td>True</td>\n",
       "      <td>False</td>\n",
       "    </tr>\n",
       "    <tr>\n",
       "      <th>2</th>\n",
       "      <td>8</td>\n",
       "      <td>t</td>\n",
       "      <td>90444453118345856</td>\n",
       "      <td>864691135866846742</td>\n",
       "      <td>864691135866846742</td>\n",
       "      <td>extended</td>\n",
       "      <td>non</td>\n",
       "      <td>[747072.0, 857152.0, 912440.0]</td>\n",
       "      <td>True</td>\n",
       "      <td>False</td>\n",
       "    </tr>\n",
       "    <tr>\n",
       "      <th>3</th>\n",
       "      <td>9</td>\n",
       "      <td>t</td>\n",
       "      <td>89741246779911895</td>\n",
       "      <td>864691135445832338</td>\n",
       "      <td>864691135445832338</td>\n",
       "      <td>extended</td>\n",
       "      <td>non</td>\n",
       "      <td>[725248.0, 871616.0, 930040.0]</td>\n",
       "      <td>True</td>\n",
       "      <td>False</td>\n",
       "    </tr>\n",
       "    <tr>\n",
       "      <th>4</th>\n",
       "      <td>13</td>\n",
       "      <td>t</td>\n",
       "      <td>91499640750531825</td>\n",
       "      <td>864691135569255558</td>\n",
       "      <td>864691135569255558</td>\n",
       "      <td>extended</td>\n",
       "      <td>non</td>\n",
       "      <td>[776448.0, 848256.0, 927000.0]</td>\n",
       "      <td>True</td>\n",
       "      <td>False</td>\n",
       "    </tr>\n",
       "    <tr>\n",
       "      <th>...</th>\n",
       "      <td>...</td>\n",
       "      <td>...</td>\n",
       "      <td>...</td>\n",
       "      <td>...</td>\n",
       "      <td>...</td>\n",
       "      <td>...</td>\n",
       "      <td>...</td>\n",
       "      <td>...</td>\n",
       "      <td>...</td>\n",
       "      <td>...</td>\n",
       "    </tr>\n",
       "    <tr>\n",
       "      <th>759</th>\n",
       "      <td>870</td>\n",
       "      <td>t</td>\n",
       "      <td>90518464128858597</td>\n",
       "      <td>864691136594839202</td>\n",
       "      <td>864691136594839202</td>\n",
       "      <td>clean</td>\n",
       "      <td>clean</td>\n",
       "      <td>[747712.0, 966976.0, 948720.0]</td>\n",
       "      <td>True</td>\n",
       "      <td>False</td>\n",
       "    </tr>\n",
       "    <tr>\n",
       "      <th>760</th>\n",
       "      <td>871</td>\n",
       "      <td>t</td>\n",
       "      <td>91712464970366508</td>\n",
       "      <td>864691136175508486</td>\n",
       "      <td>864691136175508486</td>\n",
       "      <td>clean</td>\n",
       "      <td>clean</td>\n",
       "      <td>[782976.0, 898432.0, 940000.0]</td>\n",
       "      <td>True</td>\n",
       "      <td>False</td>\n",
       "    </tr>\n",
       "    <tr>\n",
       "      <th>761</th>\n",
       "      <td>736</td>\n",
       "      <td>t</td>\n",
       "      <td>110706459687342783</td>\n",
       "      <td>864691136617461979</td>\n",
       "      <td>864691136617461979</td>\n",
       "      <td>extended</td>\n",
       "      <td>extended</td>\n",
       "      <td>[1335552.0, 733184.0, 943920.0]</td>\n",
       "      <td>True</td>\n",
       "      <td>True</td>\n",
       "    </tr>\n",
       "    <tr>\n",
       "      <th>762</th>\n",
       "      <td>154</td>\n",
       "      <td>t</td>\n",
       "      <td>89456404347350172</td>\n",
       "      <td>864691135334665705</td>\n",
       "      <td>864691135334665705</td>\n",
       "      <td>extended</td>\n",
       "      <td>non</td>\n",
       "      <td>[717824.0, 771840.0, 863120.0]</td>\n",
       "      <td>True</td>\n",
       "      <td>False</td>\n",
       "    </tr>\n",
       "    <tr>\n",
       "      <th>763</th>\n",
       "      <td>203</td>\n",
       "      <td>t</td>\n",
       "      <td>90301791148973899</td>\n",
       "      <td>864691135564867415</td>\n",
       "      <td>864691135564867415</td>\n",
       "      <td>extended</td>\n",
       "      <td>non</td>\n",
       "      <td>[742656.0, 800768.0, 806400.0]</td>\n",
       "      <td>True</td>\n",
       "      <td>False</td>\n",
       "    </tr>\n",
       "  </tbody>\n",
       "</table>\n",
       "<p>764 rows × 10 columns</p>\n",
       "</div>"
      ],
      "text/plain": [
       "      id valid    pt_supervoxel_id          pt_root_id            valid_id  \\\n",
       "0      4     t   91077153340676495  864691135355207375  864691135355207375   \n",
       "1      7     t   91570559116360958  864691136602027473  864691136602027473   \n",
       "2      8     t   90444453118345856  864691135866846742  864691135866846742   \n",
       "3      9     t   89741246779911895  864691135445832338  864691135445832338   \n",
       "4     13     t   91499640750531825  864691135569255558  864691135569255558   \n",
       "..   ...   ...                 ...                 ...                 ...   \n",
       "759  870     t   90518464128858597  864691136594839202  864691136594839202   \n",
       "760  871     t   91712464970366508  864691136175508486  864691136175508486   \n",
       "761  736     t  110706459687342783  864691136617461979  864691136617461979   \n",
       "762  154     t   89456404347350172  864691135334665705  864691135334665705   \n",
       "763  203     t   90301791148973899  864691135564867415  864691135564867415   \n",
       "\n",
       "    status_dendrite status_axon                      pt_position  \\\n",
       "0          extended         non   [765696.0, 839552.0, 913800.0]   \n",
       "1          extended         non   [779456.0, 864512.0, 888200.0]   \n",
       "2          extended         non   [747072.0, 857152.0, 912440.0]   \n",
       "3          extended         non   [725248.0, 871616.0, 930040.0]   \n",
       "4          extended         non   [776448.0, 848256.0, 927000.0]   \n",
       "..              ...         ...                              ...   \n",
       "759           clean       clean   [747712.0, 966976.0, 948720.0]   \n",
       "760           clean       clean   [782976.0, 898432.0, 940000.0]   \n",
       "761        extended    extended  [1335552.0, 733184.0, 943920.0]   \n",
       "762        extended         non   [717824.0, 771840.0, 863120.0]   \n",
       "763        extended         non   [742656.0, 800768.0, 806400.0]   \n",
       "\n",
       "     dendrite_complete  axon_complete  \n",
       "0                 True          False  \n",
       "1                 True          False  \n",
       "2                 True          False  \n",
       "3                 True          False  \n",
       "4                 True          False  \n",
       "..                 ...            ...  \n",
       "759               True          False  \n",
       "760               True          False  \n",
       "761               True           True  \n",
       "762               True          False  \n",
       "763               True          False  \n",
       "\n",
       "[764 rows x 10 columns]"
      ]
     },
     "execution_count": 14,
     "metadata": {},
     "output_type": "execute_result"
    }
   ],
   "source": [
    "proof_table = em_client.query_table(\"proofreading_status_public_release\")\n",
    "proof_table[\"dendrite_complete\"] = proof_table.status_dendrite.isin([\"clean\", \"extended\"])\n",
    "proof_table[\"axon_complete\"] = proof_table.status_axon.isin([\"extended\"])\n",
    "proof_table"
   ]
  },
  {
   "cell_type": "code",
   "execution_count": 91,
   "metadata": {},
   "outputs": [],
   "source": [
    "root_id_to_cell_type = pd.Series(index=cell_type_table.pt_root_id.values, data=cell_type_table.cell_type.values)"
   ]
  },
  {
   "cell_type": "code",
   "execution_count": 17,
   "metadata": {},
   "outputs": [
    {
     "name": "stdout",
     "output_type": "stream",
     "text": [
      "289 cells have proofread axons\n"
     ]
    },
    {
     "data": {
      "text/plain": [
       "BC       77\n",
       "MC       52\n",
       "BPC      33\n",
       "5P-IT    28\n",
       "23P      28\n",
       "5P-ET    21\n",
       "4P       20\n",
       "NGC       9\n",
       "6P-IT     4\n",
       "6P-CT     4\n",
       "Name: cell_type, dtype: int64"
      ]
     },
     "execution_count": 17,
     "metadata": {},
     "output_type": "execute_result"
    }
   ],
   "source": [
    "proof_axon_root_ids = proof_table.pt_root_id.values[proof_table.axon_complete]\n",
    "print(f\"{len(proof_axon_root_ids)} cells have proofread axons\")\n",
    "\n",
    "cell_type_table[cell_type_table.pt_root_id.isin(proof_axon_root_ids)].cell_type.value_counts()"
   ]
  },
  {
   "cell_type": "code",
   "execution_count": 119,
   "metadata": {},
   "outputs": [],
   "source": [
    "n = 20\n",
    "mc_root_ids = cell_type_table[cell_type_table.pt_root_id.isin(proof_axon_root_ids) & (cell_type_table.cell_type == \"MC\")].pt_root_id.values[:n]\n",
    "bc_root_ids = cell_type_table[cell_type_table.pt_root_id.isin(proof_axon_root_ids) & (cell_type_table.cell_type == \"BC\")].pt_root_id.values[:n]\n",
    "bpc_root_ids = cell_type_table[cell_type_table.pt_root_id.isin(proof_axon_root_ids) & (cell_type_table.cell_type == \"BPC\")].pt_root_id.values[:n]\n",
    "pyc_root_ids = cell_type_table[cell_type_table.pt_root_id.isin(proof_axon_root_ids) & (cell_type_table.cell_type.isin([\"23P\", \"4P\"]))].pt_root_id.values[:n]"
   ]
  },
  {
   "cell_type": "code",
   "execution_count": 105,
   "metadata": {},
   "outputs": [],
   "source": [
    "euc_dist_fn = lambda a, b: np.linalg.norm(a[::2] - b[::2])\n",
    "horiz_dist_fn = lambda a, b: np.linalg.norm(a - b)"
   ]
  },
  {
   "cell_type": "code",
   "execution_count": 106,
   "metadata": {},
   "outputs": [],
   "source": [
    "mc_syn = em_client.get_axonal_synapses(mc_root_ids)\n",
    "# mc_syn[\"soma_soma_dist\"] = mc_syn.apply(lambda row: None if row[\"post_soma_position_microns\"] is None else horiz_dist_fn(row[\"pre_soma_position_microns\"], row[\"post_soma_position_microns\"]), axis=1)\n"
   ]
  },
  {
   "cell_type": "code",
   "execution_count": 120,
   "metadata": {},
   "outputs": [],
   "source": [
    "pyc_syn = em_client.get_axonal_synapses(pyc_root_ids)"
   ]
  },
  {
   "cell_type": "code",
   "execution_count": 107,
   "metadata": {},
   "outputs": [],
   "source": [
    "bc_syn = em_client.get_axonal_synapses(bc_root_ids)\n",
    "bpc_syn = em_client.get_axonal_synapses(bpc_root_ids)"
   ]
  },
  {
   "cell_type": "code",
   "execution_count": 121,
   "metadata": {},
   "outputs": [],
   "source": [
    "is_exc_postsyn = lambda syn: syn.post_pt_root_id.apply(lambda post: root_id_to_cell_type.get(post, default=None) in em_client.exc_cell_types)\n",
    "mc_syn_postsoma_dist = mc_syn[is_exc_postsyn(mc_syn)].apply(lambda row: None if row[\"post_soma_position_microns\"] is None else euc_dist_fn(row[\"synapse_position_microns\"], row[\"post_soma_position_microns\"]), axis=1)\n",
    "bc_syn_postsoma_dist = bc_syn[is_exc_postsyn(bc_syn)].apply(lambda row: None if row[\"post_soma_position_microns\"] is None else euc_dist_fn(row[\"synapse_position_microns\"], row[\"post_soma_position_microns\"]), axis=1)\n",
    "bpc_syn_postsoma_dist = bpc_syn[is_exc_postsyn(bpc_syn)].apply(lambda row: None if row[\"post_soma_position_microns\"] is None else euc_dist_fn(row[\"synapse_position_microns\"], row[\"post_soma_position_microns\"]), axis=1)\n",
    "pyc_syn_postsoma_dist = pyc_syn[is_exc_postsyn(pyc_syn)].apply(lambda row: None if row[\"post_soma_position_microns\"] is None else euc_dist_fn(row[\"synapse_position_microns\"], row[\"post_soma_position_microns\"]), axis=1)"
   ]
  },
  {
   "cell_type": "code",
   "execution_count": 130,
   "metadata": {},
   "outputs": [],
   "source": [
    "# Brain observatory colors\n",
    "# MC_COLOR = \"#7B5217\" # brown\n",
    "# BC_COLOR = \"#DE5F0D\" # orange\n",
    "# BPC_COLOR = \"#B49139\" # muted gold\n",
    "\n",
    "MC_COLOR = \"#DE5F0D\" # orange\n",
    "BC_COLOR = \"royalblue\"\n",
    "BPC_COLOR = \"#B49139\"\n",
    "\n",
    "# EXC:\n",
    "# \"#a92e66\" # red/purple\n",
    "# \"#6D677E\"\n",
    "# \"#A19DAF\"\n",
    "# \"#7841be\" # purple\n",
    "EXC_COLOR = \"#5CAD53\" # green\n",
    "# EXC_COLOR = \"#7841BE\" # purple"
   ]
  },
  {
   "cell_type": "code",
   "execution_count": 131,
   "metadata": {},
   "outputs": [
    {
     "data": {
      "text/plain": [
       "<matplotlib.legend.Legend at 0x7faa2a501cc0>"
      ]
     },
     "execution_count": 131,
     "metadata": {},
     "output_type": "execute_result"
    },
    {
     "data": {
      "image/png": "[encoded data removed]",
      "text/plain": [
       "<Figure size 1000x600 with 1 Axes>"
      ]
     },
     "metadata": {},
     "output_type": "display_data"
    }
   ],
   "source": [
    "fig, ax = plt.subplots(figsize=(10, 6))\n",
    "bin_width = 10\n",
    "xmax = 150\n",
    "bins = np.arange(0, xmax+bin_width, bin_width)\n",
    "\n",
    "ax.hist([mc_syn_postsoma_dist, bc_syn_postsoma_dist, bpc_syn_postsoma_dist, pyc_syn_postsoma_dist], bins=bins, color=[MC_COLOR, BC_COLOR, BPC_COLOR, EXC_COLOR], density=True, label=[f\"Martinotti ($n = {len(mc_root_ids)}$)\", f\"Basket ($n = {len(bc_root_ids)}$)\", f\"Bipolar ($n = {len(bpc_root_ids)}$)\", f\"Pyramidal ($n = {len(pyc_root_ids)}$)\"])\n",
    "ax.set_xlim(0, xmax)\n",
    "yticks = ax.get_yticks()[:-1]\n",
    "ax.set_yticks(ticks=yticks, labels=[f\"{y*bin_width*100:.0f}\" for y in yticks], fontsize=14)\n",
    "ax.set_xticks(ticks=bins, labels=[bins[i] if i % 2 == 0 else \"\" for i in range(0, len(bins))], fontsize=14)\n",
    "ax.set_xlabel(\"Euclidean distance from synapse to postsynaptic soma (µm)\", fontsize=14)\n",
    "ax.set_ylabel(\"Percent of total synapses\", fontsize=14)\n",
    "ax.legend(fontsize=14, bbox_to_anchor=(1, 1), bbox_transform=ax.transAxes)"
   ]
  },
  {
   "cell_type": "code",
   "execution_count": 138,
   "metadata": {},
   "outputs": [
    {
     "data": {
      "text/plain": [
       "Text(0, 0.5, 'Synapse dist to postsyn. soma (µm)')"
      ]
     },
     "execution_count": 138,
     "metadata": {},
     "output_type": "execute_result"
    },
    {
     "data": {
      "image/png": "[encoded data removed]",
      "text/plain": [
       "<Figure size 500x500 with 1 Axes>"
      ]
     },
     "metadata": {},
     "output_type": "display_data"
    }
   ],
   "source": [
    "fig, ax = plt.subplots(figsize=(5, 5))\n",
    "# sns.violinplot(data=[mc_syn_postsoma_dist, bc_syn_postsoma_dist, bpc_syn_postsoma_dist], palette=[MC_COLOR, BC_COLOR, BPC_COLOR], ax=ax)\n",
    "# sns.violinplot(data=[mc_syn_postsoma_dist, bc_syn_postsoma_dist, bpc_syn_postsoma_dist, pyc_syn_postsoma_dist], palette=[MC_COLOR, BC_COLOR, BPC_COLOR, EXC_COLOR], ax=ax)\n",
    "sns.boxplot(data=[mc_syn_postsoma_dist, bc_syn_postsoma_dist, bpc_syn_postsoma_dist, pyc_syn_postsoma_dist], palette=[MC_COLOR, BC_COLOR, BPC_COLOR, EXC_COLOR], ax=ax)\n",
    "ax.set_ylim(0, 200)\n",
    "# ax.set_xticklabels([\"Martinotti\", \"Basket\", \"Bipolar\"], fontsize=14)\n",
    "# ax.set_xticklabels([f\"Martinotti\\n($n = {len(mc_root_ids)}$)\", f\"Basket\\n($n = {len(bc_root_ids)}$)\", f\"Bipolar\\n($n = {len(bpc_root_ids)}$)\"], fontsize=14)\n",
    "ax.set_xticklabels([\n",
    "    f\"Martinotti\\n($n = {len(mc_root_ids)}$)\",\n",
    "    f\"Basket\\n($n = {len(bc_root_ids)}$)\",\n",
    "    f\"Bipolar\\n($n = {len(bpc_root_ids)}$)\",\n",
    "    f\"Pyramidal\\n($n = {len(pyc_root_ids)}$)\"\n",
    "    ], fontsize=14)\n",
    "ax.set_ylabel(\"Synapse dist to postsyn. soma (µm)\", fontsize=14)"
   ]
  },
  {
   "cell_type": "code",
   "execution_count": null,
   "metadata": {},
   "outputs": [],
   "source": []
  }
 ],
 "metadata": {
  "kernelspec": {
   "display_name": "allen_v1dd",
   "language": "python",
   "name": "python3"
  },
  "language_info": {
   "codemirror_mode": {
    "name": "ipython",
    "version": 3
   },
   "file_extension": ".py",
   "mimetype": "text/x-python",
   "name": "python",
   "nbconvert_exporter": "python",
   "pygments_lexer": "ipython3",
   "version": "3.10.9"
  },
  "orig_nbformat": 4,
  "vscode": {
   "interpreter": {
    "hash": "22fef382e6f5da4e11e649f23fd8fec5195d9d71bcfd62586f61ebff43ab085d"
   }
  }
 },
 "nbformat": 4,
 "nbformat_minor": 2
}
