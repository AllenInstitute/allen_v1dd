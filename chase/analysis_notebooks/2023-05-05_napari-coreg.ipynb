{
 "cells": [
  {
   "cell_type": "code",
   "execution_count": 1,
   "metadata": {},
   "outputs": [],
   "source": [
    "import numpy as np\n",
    "import scipy.ndimage as ndi\n",
    "from tifffile import tifffile\n",
    "\n",
    "import napari"
   ]
  },
  {
   "cell_type": "code",
   "execution_count": 2,
   "metadata": {},
   "outputs": [],
   "source": [
    "EM_VOLUME_FILENAME = \"/Users/chase/Desktop/V1DD_coregistration/v1dd_mip7_calib-1.tif\"\n"
   ]
  },
  {
   "cell_type": "code",
   "execution_count": null,
   "metadata": {},
   "outputs": [],
   "source": []
  },
  {
   "cell_type": "code",
   "execution_count": 3,
   "metadata": {},
   "outputs": [
    {
     "name": "stdout",
     "output_type": "stream",
     "text": [
      "Previous shape: (1104, 981, 1360)\n"
     ]
    }
   ],
   "source": [
    "em_images = tifffile.imread(EM_VOLUME_FILENAME)\n",
    "print(\"Previous shape:\", em_images.shape)\n",
    "# em_images = em_images.transpose(2, 0, 1)\n",
    "# print(\"New shape:\", em_images.shape)"
   ]
  },
  {
   "cell_type": "code",
   "execution_count": 4,
   "metadata": {},
   "outputs": [
    {
     "data": {
      "text/plain": [
       "array([[0.62080009, 0.        , 0.        ],\n",
       "       [0.        , 0.62080009, 0.        ],\n",
       "       [0.        , 0.        , 0.18      ]])"
      ]
     },
     "execution_count": 4,
     "metadata": {},
     "output_type": "execute_result"
    }
   ],
   "source": [
    "# Setup transform\n",
    "# image_size = np.array([2720, 1963, 4416])\n",
    "voxel_size_microns = np.array([0.620800093368334, 0.620800093368334, 0.18])\n",
    "\n",
    "transform_matrix = np.diag(voxel_size_microns)\n",
    "transform_matrix"
   ]
  },
  {
   "cell_type": "code",
   "execution_count": 5,
   "metadata": {},
   "outputs": [],
   "source": [
    "# em_images.shape / image_size"
   ]
  },
  {
   "cell_type": "code",
   "execution_count": 6,
   "metadata": {},
   "outputs": [
    {
     "ename": "KeyboardInterrupt",
     "evalue": "",
     "output_type": "error",
     "traceback": [
      "\u001b[0;31m---------------------------------------------------------------------------\u001b[0m",
      "\u001b[0;31mKeyboardInterrupt\u001b[0m                         Traceback (most recent call last)",
      "Cell \u001b[0;32mIn[6], line 18\u001b[0m\n\u001b[1;32m     10\u001b[0m viewer\u001b[39m.\u001b[39madd_image(em_images, colormap\u001b[39m=\u001b[39m\u001b[39m\"\u001b[39m\u001b[39mgray_r\u001b[39m\u001b[39m\"\u001b[39m, opacity\u001b[39m=\u001b[39m\u001b[39m.5\u001b[39m, name\u001b[39m=\u001b[39m\u001b[39m'\u001b[39m\u001b[39mmoving\u001b[39m\u001b[39m'\u001b[39m, affine\u001b[39m=\u001b[39mtransform_matrix)\n\u001b[1;32m     12\u001b[0m \u001b[39m# Note how the transformed corner points remain at the corners of the transformed image\u001b[39;00m\n\u001b[1;32m     13\u001b[0m \n\u001b[1;32m     14\u001b[0m \u001b[39m# Now add the a regridded version of the image transformed with scipy.ndimage.affine_transform\u001b[39;00m\n\u001b[1;32m     15\u001b[0m \u001b[39m# Note that we have to use the inverse of the affine as scipy does `pull` (or `backward`) resampling,\u001b[39;00m\n\u001b[1;32m     16\u001b[0m \u001b[39m# transforming the output space to the input to locate data, but napari does `push` (or `forward`) direction,\u001b[39;00m\n\u001b[1;32m     17\u001b[0m \u001b[39m# transforming input to output.\u001b[39;00m\n\u001b[0;32m---> 18\u001b[0m scipy_affine \u001b[39m=\u001b[39m ndi\u001b[39m.\u001b[39;49maffine_transform(em_images, np\u001b[39m.\u001b[39;49mlinalg\u001b[39m.\u001b[39;49minv(transform_matrix), output_shape\u001b[39m=\u001b[39;49m(\u001b[39m10\u001b[39;49m, \u001b[39m25\u001b[39;49m), order\u001b[39m=\u001b[39;49m\u001b[39m5\u001b[39;49m)\n\u001b[1;32m     19\u001b[0m viewer\u001b[39m.\u001b[39madd_image(scipy_affine, colormap\u001b[39m=\u001b[39m\u001b[39m'\u001b[39m\u001b[39mgreen\u001b[39m\u001b[39m'\u001b[39m, opacity\u001b[39m=\u001b[39m\u001b[39m.5\u001b[39m, name\u001b[39m=\u001b[39m\u001b[39m'\u001b[39m\u001b[39mscipy\u001b[39m\u001b[39m'\u001b[39m)\n\u001b[1;32m     21\u001b[0m \u001b[39m# Reset the view\u001b[39;00m\n",
      "File \u001b[0;32m/opt/anaconda3/envs/allen_v1dd/lib/python3.10/site-packages/scipy/ndimage/_interpolation.py:572\u001b[0m, in \u001b[0;36maffine_transform\u001b[0;34m(input, matrix, offset, output_shape, output, order, mode, cval, prefilter)\u001b[0m\n\u001b[1;32m    570\u001b[0m \u001b[39mif\u001b[39;00m prefilter \u001b[39mand\u001b[39;00m order \u001b[39m>\u001b[39m \u001b[39m1\u001b[39m:\n\u001b[1;32m    571\u001b[0m     padded, npad \u001b[39m=\u001b[39m _prepad_for_spline_filter(\u001b[39minput\u001b[39m, mode, cval)\n\u001b[0;32m--> 572\u001b[0m     filtered \u001b[39m=\u001b[39m spline_filter(padded, order, output\u001b[39m=\u001b[39;49mnumpy\u001b[39m.\u001b[39;49mfloat64,\n\u001b[1;32m    573\u001b[0m                              mode\u001b[39m=\u001b[39;49mmode)\n\u001b[1;32m    574\u001b[0m \u001b[39melse\u001b[39;00m:\n\u001b[1;32m    575\u001b[0m     npad \u001b[39m=\u001b[39m \u001b[39m0\u001b[39m\n",
      "File \u001b[0;32m/opt/anaconda3/envs/allen_v1dd/lib/python3.10/site-packages/scipy/ndimage/_interpolation.py:191\u001b[0m, in \u001b[0;36mspline_filter\u001b[0;34m(input, order, output, mode)\u001b[0m\n\u001b[1;32m    189\u001b[0m \u001b[39mif\u001b[39;00m order \u001b[39mnot\u001b[39;00m \u001b[39min\u001b[39;00m [\u001b[39m0\u001b[39m, \u001b[39m1\u001b[39m] \u001b[39mand\u001b[39;00m \u001b[39minput\u001b[39m\u001b[39m.\u001b[39mndim \u001b[39m>\u001b[39m \u001b[39m0\u001b[39m:\n\u001b[1;32m    190\u001b[0m     \u001b[39mfor\u001b[39;00m axis \u001b[39min\u001b[39;00m \u001b[39mrange\u001b[39m(\u001b[39minput\u001b[39m\u001b[39m.\u001b[39mndim):\n\u001b[0;32m--> 191\u001b[0m         spline_filter1d(\u001b[39minput\u001b[39;49m, order, axis, output\u001b[39m=\u001b[39;49moutput, mode\u001b[39m=\u001b[39;49mmode)\n\u001b[1;32m    192\u001b[0m         \u001b[39minput\u001b[39m \u001b[39m=\u001b[39m output\n\u001b[1;32m    193\u001b[0m \u001b[39melse\u001b[39;00m:\n",
      "File \u001b[0;32m/opt/anaconda3/envs/allen_v1dd/lib/python3.10/site-packages/scipy/ndimage/_interpolation.py:132\u001b[0m, in \u001b[0;36mspline_filter1d\u001b[0;34m(input, order, axis, output, mode)\u001b[0m\n\u001b[1;32m    130\u001b[0m     mode \u001b[39m=\u001b[39m _ni_support\u001b[39m.\u001b[39m_extend_mode_to_code(mode)\n\u001b[1;32m    131\u001b[0m     axis \u001b[39m=\u001b[39m normalize_axis_index(axis, \u001b[39minput\u001b[39m\u001b[39m.\u001b[39mndim)\n\u001b[0;32m--> 132\u001b[0m     _nd_image\u001b[39m.\u001b[39;49mspline_filter1d(\u001b[39minput\u001b[39;49m, order, axis, output, mode)\n\u001b[1;32m    133\u001b[0m \u001b[39mreturn\u001b[39;00m output\n",
      "\u001b[0;31mKeyboardInterrupt\u001b[0m: "
     ]
    },
    {
     "ename": "",
     "evalue": "",
     "output_type": "error",
     "traceback": [
      "\u001b[1;31mThe Kernel crashed while executing code in the the current cell or a previous cell. Please review the code in the cell(s) to identify a possible cause of the failure. Click <a href='https://aka.ms/vscodeJupyterKernelCrash'>here</a> for more info. View Jupyter <a href='command:jupyter.viewOutput'>log</a> for further details."
     ]
    }
   ],
   "source": [
    "# Define an affine transform\n",
    "# affine = np.array([[1, -1, 4], [2, 3, 2], [0, 0, 1]])\n",
    "\n",
    "viewer = napari.Viewer()\n",
    "\n",
    "# Add the original image and its corners\n",
    "# viewer.add_image(em_images, name='background', colormap=\"gray_r\", opacity=.5)\n",
    "\n",
    "# Add another copy of the image, now with a transform, and add its transformed corners\n",
    "viewer.add_image(em_images, colormap=\"gray_r\", opacity=1, name=\"moving\", affine=transform_matrix)\n",
    "\n",
    "# Note how the transformed corner points remain at the corners of the transformed image\n",
    "\n",
    "# Now add the a regridded version of the image transformed with scipy.ndimage.affine_transform\n",
    "# Note that we have to use the inverse of the affine as scipy does `pull` (or `backward`) resampling,\n",
    "# transforming the output space to the input to locate data, but napari does `push` (or `forward`) direction,\n",
    "# transforming input to output.\n",
    "scipy_affine = ndi.affine_transform(em_images, np.linalg.inv(transform_matrix), output_shape=(10, 25), order=5)\n",
    "viewer.add_image(scipy_affine, colormap='green', opacity=.5, name='scipy')\n",
    "\n",
    "# Reset the view\n",
    "viewer.reset_view()\n",
    "\n",
    "# napari.run() # Not needed in notebook"
   ]
  },
  {
   "cell_type": "code",
   "execution_count": null,
   "metadata": {},
   "outputs": [],
   "source": []
  }
 ],
 "metadata": {
  "kernelspec": {
   "display_name": "allen_v1dd",
   "language": "python",
   "name": "python3"
  },
  "language_info": {
   "codemirror_mode": {
    "name": "ipython",
    "version": 3
   },
   "file_extension": ".py",
   "mimetype": "text/x-python",
   "name": "python",
   "nbconvert_exporter": "python",
   "pygments_lexer": "ipython3",
   "version": "3.10.10"
  },
  "orig_nbformat": 4
 },
 "nbformat": 4,
 "nbformat_minor": 2
}
