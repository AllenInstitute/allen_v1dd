{
 "cells": [
  {
   "cell_type": "code",
   "execution_count": 19,
   "metadata": {},
   "outputs": [],
   "source": [
    "import matplotlib.pyplot as plt\n",
    "import numpy as np\n",
    "from tqdm.notebook import tqdm\n",
    "\n",
    "from allen_v1dd.client import OPhysClient"
   ]
  },
  {
   "cell_type": "code",
   "execution_count": 2,
   "metadata": {},
   "outputs": [],
   "source": [
    "client = OPhysClient(\"/Users/chase/Desktop/test_v1dd_data/\")"
   ]
  },
  {
   "cell_type": "code",
   "execution_count": 23,
   "metadata": {},
   "outputs": [
    {
     "data": {
      "application/vnd.jupyter.widget-view+json": {
       "model_id": "428d719bb2974fe986a47d4cb480d8f1",
       "version_major": 2,
       "version_minor": 0
      },
      "text/plain": [
       "  0%|          | 0/7 [00:00<?, ?it/s]"
      ]
     },
     "metadata": {},
     "output_type": "display_data"
    },
    {
     "name": "stdout",
     "output_type": "stream",
     "text": [
      "M409828_13 (242 µm): 0.1650\n",
      "M409828_1a (600 µm): 0.1474\n",
      "M409828_1b (625 µm): 0.1474\n",
      "M409828_1c (650 µm): 0.1474\n",
      "M409828_1d (675 µm): 0.1474\n",
      "M409828_1e (700 µm): 0.1474\n",
      "M409828_1f (725 µm): 0.1474\n"
     ]
    }
   ],
   "source": [
    "volumes = list(\"3abcdef\")\n",
    "\n",
    "for vol in tqdm(volumes):\n",
    "    session = client.load_ophys_session(f\"M409828_1{vol}\")\n",
    "    plane = session.get_planes()[0]\n",
    "    traces = session.get_traces(plane, trace_type=\"dff\")\n",
    "\n",
    "    print(f\"{session.get_session_id()} ({session.get_plane_depth(plane)} µm): {np.median(traces.time.diff('time')):.4f}\")"
   ]
  },
  {
   "cell_type": "code",
   "execution_count": null,
   "metadata": {},
   "outputs": [],
   "source": []
  }
 ],
 "metadata": {
  "kernelspec": {
   "display_name": "allen_v1dd",
   "language": "python",
   "name": "python3"
  },
  "language_info": {
   "codemirror_mode": {
    "name": "ipython",
    "version": 3
   },
   "file_extension": ".py",
   "mimetype": "text/x-python",
   "name": "python",
   "nbconvert_exporter": "python",
   "pygments_lexer": "ipython3",
   "version": "3.10.9"
  },
  "orig_nbformat": 4,
  "vscode": {
   "interpreter": {
    "hash": "22fef382e6f5da4e11e649f23fd8fec5195d9d71bcfd62586f61ebff43ab085d"
   }
  }
 },
 "nbformat": 4,
 "nbformat_minor": 2
}
