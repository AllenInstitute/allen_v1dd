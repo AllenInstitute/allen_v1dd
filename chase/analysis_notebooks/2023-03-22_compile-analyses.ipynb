{
 "cells": [
  {
   "cell_type": "code",
   "execution_count": 1,
   "metadata": {},
   "outputs": [],
   "source": [
    "import numpy as np\n",
    "import pandas as pd\n",
    "import matplotlib.pyplot as plt\n",
    "from tqdm import tqdm\n",
    "import seaborn as sns\n",
    "import h5py\n",
    "\n",
    "from allen_v1dd.client import OPhysClient\n",
    "from allen_v1dd.stimulus_analysis import LocallySparseNoise, DriftingGratings\n",
    "from allen_v1dd.stimulus_analysis import analysis_tools as at\n",
    "at.set_stylesheet()\n",
    "\n",
    "%matplotlib inline\n",
    "%load_ext autoreload\n",
    "%autoreload 2"
   ]
  },
  {
   "cell_type": "code",
   "execution_count": 3,
   "metadata": {},
   "outputs": [],
   "source": [
    "def get_h5_group(h5_file, group_names, create_if_not_exists=True, overwrite=False):\n",
    "    curr_group = h5_file\n",
    "\n",
    "    for i in range(len(group_names)):\n",
    "        name = group_names[i]\n",
    "        is_last = i == len(group_names) - 1\n",
    "        \n",
    "        if is_last and name in curr_group and overwrite:\n",
    "            del curr_group[name]\n",
    "\n",
    "        if name in curr_group:\n",
    "            curr_group = curr_group[name]\n",
    "        else:\n",
    "            if create_if_not_exists:\n",
    "                curr_group = curr_group.create_group(name)\n",
    "            else:\n",
    "                return None\n",
    "\n",
    "    return curr_group"
   ]
  },
  {
   "cell_type": "code",
   "execution_count": 4,
   "metadata": {},
   "outputs": [],
   "source": [
    "client = OPhysClient(\"/Users/chase/Desktop/test_v1dd_data/\")"
   ]
  },
  {
   "cell_type": "code",
   "execution_count": 7,
   "metadata": {},
   "outputs": [
    {
     "name": "stderr",
     "output_type": "stream",
     "text": [
      "Loading LSN analyses: 100%|██████████| 22/22 [03:55<00:00, 10.69s/it]\n"
     ]
    }
   ],
   "source": [
    "RF_TYPES = (\"on\", \"off\")\n",
    "\n",
    "with h5py.File(\"../../data_frames/lsn-events.h5\", \"w\") as f:\n",
    "    for session_id in tqdm(client.get_all_session_ids(), desc=\"Loading LSN analyses\"):\n",
    "        session = client.load_ophys_session(session_id=session_id)\n",
    "        mouse, col, vol = session.get_mouse_column_volume()\n",
    "\n",
    "        for plane in session.get_planes():\n",
    "            lsn = LocallySparseNoise(session, plane, trace_type=\"events\")\n",
    "            \n",
    "            for rf_type_idx, rf_type in enumerate(RF_TYPES):\n",
    "                group = get_h5_group(f, [f\"M{mouse}\", f\"{col}{vol}\", f\"Plane_{plane}\"], overwrite=True)\n",
    "                lsn.save_to_h5(group)"
   ]
  },
  {
   "cell_type": "code",
   "execution_count": 5,
   "metadata": {},
   "outputs": [
    {
     "name": "stderr",
     "output_type": "stream",
     "text": [
      "Loading DG analyses:   0%|          | 0/22 [00:00<?, ?it/s]"
     ]
    },
    {
     "name": "stdout",
     "output_type": "stream",
     "text": [
      "Loading DG-windowed response metrics for session M409828_11, plane 1...\n",
      "Loading DG-full response metrics for session M409828_11, plane 1...\n",
      "Loading DG-windowed response metrics for session M409828_11, plane 2...\n",
      "Loading DG-full response metrics for session M409828_11, plane 2...\n",
      "Loading DG-windowed response metrics for session M409828_11, plane 3...\n",
      "Loading DG-full response metrics for session M409828_11, plane 3...\n",
      "Loading DG-windowed response metrics for session M409828_11, plane 4...\n",
      "Loading DG-full response metrics for session M409828_11, plane 4...\n",
      "Loading DG-windowed response metrics for session M409828_11, plane 5...\n",
      "Loading DG-full response metrics for session M409828_11, plane 5...\n",
      "Loading DG-windowed response metrics for session M409828_11, plane 6...\n",
      "Loading DG-full response metrics for session M409828_11, plane 6...\n"
     ]
    },
    {
     "name": "stderr",
     "output_type": "stream",
     "text": [
      "Loading DG analyses:   5%|▍         | 1/22 [02:03<43:16, 123.64s/it]"
     ]
    },
    {
     "name": "stdout",
     "output_type": "stream",
     "text": [
      "Loading DG-windowed response metrics for session M409828_12, plane 1...\n",
      "Loading DG-full response metrics for session M409828_12, plane 1...\n",
      "Loading DG-windowed response metrics for session M409828_12, plane 2...\n",
      "Loading DG-full response metrics for session M409828_12, plane 2...\n",
      "Loading DG-windowed response metrics for session M409828_12, plane 3...\n",
      "Loading DG-full response metrics for session M409828_12, plane 3...\n",
      "Loading DG-windowed response metrics for session M409828_12, plane 4...\n",
      "Loading DG-full response metrics for session M409828_12, plane 4...\n",
      "Loading DG-windowed response metrics for session M409828_12, plane 5...\n",
      "Loading DG-full response metrics for session M409828_12, plane 5...\n",
      "Loading DG-windowed response metrics for session M409828_12, plane 6...\n",
      "Loading DG-full response metrics for session M409828_12, plane 6...\n"
     ]
    },
    {
     "name": "stderr",
     "output_type": "stream",
     "text": [
      "Loading DG analyses:   9%|▉         | 2/22 [04:40<47:49, 143.46s/it]"
     ]
    },
    {
     "name": "stdout",
     "output_type": "stream",
     "text": [
      "Loading DG-windowed response metrics for session M409828_13, plane 1...\n",
      "Loading DG-full response metrics for session M409828_13, plane 1...\n",
      "Loading DG-windowed response metrics for session M409828_13, plane 2...\n",
      "Loading DG-full response metrics for session M409828_13, plane 2...\n",
      "Loading DG-windowed response metrics for session M409828_13, plane 3...\n",
      "Loading DG-full response metrics for session M409828_13, plane 3...\n",
      "Loading DG-windowed response metrics for session M409828_13, plane 4...\n",
      "Loading DG-full response metrics for session M409828_13, plane 4...\n",
      "Loading DG-windowed response metrics for session M409828_13, plane 5...\n",
      "Loading DG-full response metrics for session M409828_13, plane 5...\n",
      "Loading DG-windowed response metrics for session M409828_13, plane 6...\n",
      "Loading DG-full response metrics for session M409828_13, plane 6...\n"
     ]
    },
    {
     "name": "stderr",
     "output_type": "stream",
     "text": [
      "Loading DG analyses:  14%|█▎        | 3/22 [07:30<49:10, 155.30s/it]"
     ]
    },
    {
     "name": "stdout",
     "output_type": "stream",
     "text": [
      "Loading DG-windowed response metrics for session M409828_14, plane 1...\n",
      "Loading DG-full response metrics for session M409828_14, plane 1...\n",
      "Loading DG-windowed response metrics for session M409828_14, plane 2...\n",
      "Loading DG-full response metrics for session M409828_14, plane 2...\n",
      "Loading DG-windowed response metrics for session M409828_14, plane 3...\n",
      "Loading DG-full response metrics for session M409828_14, plane 3...\n",
      "Loading DG-windowed response metrics for session M409828_14, plane 4...\n",
      "Loading DG-full response metrics for session M409828_14, plane 4...\n",
      "Loading DG-windowed response metrics for session M409828_14, plane 5...\n",
      "Loading DG-full response metrics for session M409828_14, plane 5...\n",
      "Loading DG-windowed response metrics for session M409828_14, plane 6...\n",
      "Loading DG-full response metrics for session M409828_14, plane 6...\n"
     ]
    },
    {
     "name": "stderr",
     "output_type": "stream",
     "text": [
      "Loading DG analyses:  18%|█▊        | 4/22 [09:46<44:22, 147.92s/it]"
     ]
    },
    {
     "name": "stdout",
     "output_type": "stream",
     "text": [
      "Loading DG-windowed response metrics for session M409828_15, plane 1...\n",
      "Loading DG-full response metrics for session M409828_15, plane 1...\n",
      "Loading DG-windowed response metrics for session M409828_15, plane 2...\n",
      "Loading DG-full response metrics for session M409828_15, plane 2...\n",
      "Loading DG-windowed response metrics for session M409828_15, plane 3...\n",
      "Loading DG-full response metrics for session M409828_15, plane 3...\n",
      "Loading DG-windowed response metrics for session M409828_15, plane 4...\n",
      "Loading DG-full response metrics for session M409828_15, plane 4...\n",
      "Loading DG-windowed response metrics for session M409828_15, plane 5...\n",
      "Loading DG-full response metrics for session M409828_15, plane 5...\n",
      "Loading DG-windowed response metrics for session M409828_15, plane 6...\n",
      "Loading DG-full response metrics for session M409828_15, plane 6...\n"
     ]
    },
    {
     "name": "stderr",
     "output_type": "stream",
     "text": [
      "Loading DG analyses:  23%|██▎       | 5/22 [10:51<33:23, 117.88s/it]"
     ]
    },
    {
     "name": "stdout",
     "output_type": "stream",
     "text": [
      "Loading DG-windowed response metrics for session M409828_16, plane 1...\n",
      "Loading DG-full response metrics for session M409828_16, plane 1...\n"
     ]
    },
    {
     "name": "stderr",
     "output_type": "stream",
     "text": [
      "Loading DG analyses:  27%|██▋       | 6/22 [11:03<21:47, 81.69s/it] "
     ]
    },
    {
     "name": "stdout",
     "output_type": "stream",
     "text": [
      "Loading DG-windowed response metrics for session M409828_17, plane 1...\n",
      "Loading DG-full response metrics for session M409828_17, plane 1...\n"
     ]
    },
    {
     "name": "stderr",
     "output_type": "stream",
     "text": [
      "Loading DG analyses:  32%|███▏      | 7/22 [11:14<14:43, 58.87s/it]"
     ]
    },
    {
     "name": "stdout",
     "output_type": "stream",
     "text": [
      "Loading DG-windowed response metrics for session M409828_18, plane 1...\n",
      "Loading DG-full response metrics for session M409828_18, plane 1...\n"
     ]
    },
    {
     "name": "stderr",
     "output_type": "stream",
     "text": [
      "Loading DG analyses:  36%|███▋      | 8/22 [11:29<10:28, 44.91s/it]"
     ]
    },
    {
     "name": "stdout",
     "output_type": "stream",
     "text": [
      "Loading DG-windowed response metrics for session M409828_19, plane 1...\n",
      "Loading DG-full response metrics for session M409828_19, plane 1...\n"
     ]
    },
    {
     "name": "stderr",
     "output_type": "stream",
     "text": [
      "Loading DG analyses:  41%|████      | 9/22 [11:42<07:33, 34.92s/it]"
     ]
    },
    {
     "name": "stdout",
     "output_type": "stream",
     "text": [
      "Loading DG-windowed response metrics for session M409828_1a, plane 1...\n",
      "Loading DG-full response metrics for session M409828_1a, plane 1...\n"
     ]
    },
    {
     "name": "stderr",
     "output_type": "stream",
     "text": [
      "Loading DG analyses:  45%|████▌     | 10/22 [11:58<05:49, 29.08s/it]"
     ]
    },
    {
     "name": "stdout",
     "output_type": "stream",
     "text": [
      "Loading DG-windowed response metrics for session M409828_1b, plane 1...\n",
      "Loading DG-full response metrics for session M409828_1b, plane 1...\n"
     ]
    },
    {
     "name": "stderr",
     "output_type": "stream",
     "text": [
      "Loading DG analyses:  50%|█████     | 11/22 [12:18<04:48, 26.25s/it]"
     ]
    },
    {
     "name": "stdout",
     "output_type": "stream",
     "text": [
      "Loading DG-windowed response metrics for session M409828_1c, plane 1...\n",
      "Loading DG-full response metrics for session M409828_1c, plane 1...\n"
     ]
    },
    {
     "name": "stderr",
     "output_type": "stream",
     "text": [
      "Loading DG analyses:  55%|█████▍    | 12/22 [12:36<03:57, 23.72s/it]"
     ]
    },
    {
     "name": "stdout",
     "output_type": "stream",
     "text": [
      "Loading DG-windowed response metrics for session M409828_1d, plane 1...\n",
      "Loading DG-full response metrics for session M409828_1d, plane 1...\n"
     ]
    },
    {
     "name": "stderr",
     "output_type": "stream",
     "text": [
      "Loading DG analyses:  59%|█████▉    | 13/22 [12:55<03:21, 22.39s/it]"
     ]
    },
    {
     "name": "stdout",
     "output_type": "stream",
     "text": [
      "Loading DG-windowed response metrics for session M409828_1e, plane 1...\n",
      "Loading DG-full response metrics for session M409828_1e, plane 1...\n"
     ]
    },
    {
     "name": "stderr",
     "output_type": "stream",
     "text": [
      "Loading DG analyses:  64%|██████▎   | 14/22 [13:13<02:47, 20.94s/it]"
     ]
    },
    {
     "name": "stdout",
     "output_type": "stream",
     "text": [
      "Loading DG-windowed response metrics for session M409828_1f, plane 1...\n",
      "Loading DG-full response metrics for session M409828_1f, plane 1...\n"
     ]
    },
    {
     "name": "stderr",
     "output_type": "stream",
     "text": [
      "Loading DG analyses:  68%|██████▊   | 15/22 [13:22<02:01, 17.34s/it]"
     ]
    },
    {
     "name": "stdout",
     "output_type": "stream",
     "text": [
      "Loading DG-windowed response metrics for session M409828_23, plane 1...\n",
      "Loading DG-full response metrics for session M409828_23, plane 1...\n",
      "Loading DG-windowed response metrics for session M409828_23, plane 2...\n",
      "Loading DG-full response metrics for session M409828_23, plane 2...\n",
      "Loading DG-windowed response metrics for session M409828_23, plane 3...\n",
      "Loading DG-full response metrics for session M409828_23, plane 3...\n",
      "Loading DG-windowed response metrics for session M409828_23, plane 4...\n",
      "Loading DG-full response metrics for session M409828_23, plane 4...\n",
      "Loading DG-windowed response metrics for session M409828_23, plane 5...\n",
      "Loading DG-full response metrics for session M409828_23, plane 5...\n",
      "Loading DG-windowed response metrics for session M409828_23, plane 6...\n",
      "Loading DG-full response metrics for session M409828_23, plane 6...\n"
     ]
    },
    {
     "name": "stderr",
     "output_type": "stream",
     "text": [
      "Loading DG analyses:  73%|███████▎  | 16/22 [16:04<06:05, 60.93s/it]"
     ]
    },
    {
     "name": "stdout",
     "output_type": "stream",
     "text": [
      "Loading DG-windowed response metrics for session M409828_33, plane 1...\n",
      "Loading DG-full response metrics for session M409828_33, plane 1...\n",
      "Loading DG-windowed response metrics for session M409828_33, plane 2...\n",
      "Loading DG-full response metrics for session M409828_33, plane 2...\n",
      "Loading DG-windowed response metrics for session M409828_33, plane 3...\n",
      "Loading DG-full response metrics for session M409828_33, plane 3...\n",
      "Loading DG-windowed response metrics for session M409828_33, plane 4...\n",
      "Loading DG-full response metrics for session M409828_33, plane 4...\n",
      "Loading DG-windowed response metrics for session M409828_33, plane 5...\n",
      "Loading DG-full response metrics for session M409828_33, plane 5...\n",
      "Loading DG-windowed response metrics for session M409828_33, plane 6...\n",
      "Loading DG-full response metrics for session M409828_33, plane 6...\n"
     ]
    },
    {
     "name": "stderr",
     "output_type": "stream",
     "text": [
      "Loading DG analyses:  77%|███████▋  | 17/22 [17:48<06:08, 73.72s/it]"
     ]
    },
    {
     "name": "stdout",
     "output_type": "stream",
     "text": [
      "Loading DG-windowed response metrics for session M409828_43, plane 1...\n",
      "Loading DG-full response metrics for session M409828_43, plane 1...\n",
      "Loading DG-windowed response metrics for session M409828_43, plane 2...\n",
      "Loading DG-full response metrics for session M409828_43, plane 2...\n",
      "Loading DG-windowed response metrics for session M409828_43, plane 3...\n",
      "Loading DG-full response metrics for session M409828_43, plane 3...\n",
      "Loading DG-windowed response metrics for session M409828_43, plane 4...\n",
      "Loading DG-full response metrics for session M409828_43, plane 4...\n",
      "Loading DG-windowed response metrics for session M409828_43, plane 5...\n",
      "Loading DG-full response metrics for session M409828_43, plane 5...\n",
      "Loading DG-windowed response metrics for session M409828_43, plane 6...\n",
      "Loading DG-full response metrics for session M409828_43, plane 6...\n"
     ]
    },
    {
     "name": "stderr",
     "output_type": "stream",
     "text": [
      "Loading DG analyses:  82%|████████▏ | 18/22 [20:03<06:08, 92.12s/it]"
     ]
    },
    {
     "name": "stdout",
     "output_type": "stream",
     "text": [
      "Loading DG-windowed response metrics for session M409828_53, plane 1...\n",
      "Loading DG-full response metrics for session M409828_53, plane 1...\n",
      "Loading DG-windowed response metrics for session M409828_53, plane 2...\n",
      "Loading DG-full response metrics for session M409828_53, plane 2...\n",
      "Loading DG-windowed response metrics for session M409828_53, plane 3...\n",
      "Loading DG-full response metrics for session M409828_53, plane 3...\n",
      "Loading DG-windowed response metrics for session M409828_53, plane 4...\n",
      "Loading DG-full response metrics for session M409828_53, plane 4...\n",
      "Loading DG-windowed response metrics for session M409828_53, plane 5...\n",
      "Loading DG-full response metrics for session M409828_53, plane 5...\n",
      "Loading DG-windowed response metrics for session M409828_53, plane 6...\n",
      "Loading DG-full response metrics for session M409828_53, plane 6...\n"
     ]
    },
    {
     "name": "stderr",
     "output_type": "stream",
     "text": [
      "Loading DG analyses:  86%|████████▋ | 19/22 [22:58<05:50, 117.00s/it]"
     ]
    },
    {
     "name": "stdout",
     "output_type": "stream",
     "text": [
      "Loading DG-windowed response metrics for session M416296_13, plane 1...\n",
      "Loading DG-full response metrics for session M416296_13, plane 1...\n",
      "Loading DG-windowed response metrics for session M416296_13, plane 2...\n",
      "Loading DG-full response metrics for session M416296_13, plane 2...\n",
      "Loading DG-windowed response metrics for session M416296_13, plane 3...\n",
      "Loading DG-full response metrics for session M416296_13, plane 3...\n",
      "Loading DG-windowed response metrics for session M416296_13, plane 4...\n",
      "Loading DG-full response metrics for session M416296_13, plane 4...\n",
      "Loading DG-windowed response metrics for session M416296_13, plane 5...\n",
      "Loading DG-full response metrics for session M416296_13, plane 5...\n",
      "Loading DG-windowed response metrics for session M416296_13, plane 6...\n",
      "Loading DG-full response metrics for session M416296_13, plane 6...\n"
     ]
    },
    {
     "name": "stderr",
     "output_type": "stream",
     "text": [
      "Loading DG analyses:  91%|█████████ | 20/22 [25:25<04:12, 126.14s/it]"
     ]
    },
    {
     "name": "stdout",
     "output_type": "stream",
     "text": [
      "Loading DG-windowed response metrics for session M427836_13, plane 1...\n",
      "Loading DG-full response metrics for session M427836_13, plane 1...\n",
      "Loading DG-windowed response metrics for session M427836_13, plane 2...\n",
      "Loading DG-full response metrics for session M427836_13, plane 2...\n",
      "Loading DG-windowed response metrics for session M427836_13, plane 3...\n",
      "Loading DG-full response metrics for session M427836_13, plane 3...\n",
      "Loading DG-windowed response metrics for session M427836_13, plane 4...\n",
      "Loading DG-full response metrics for session M427836_13, plane 4...\n",
      "Loading DG-windowed response metrics for session M427836_13, plane 5...\n",
      "Loading DG-full response metrics for session M427836_13, plane 5...\n",
      "Loading DG-windowed response metrics for session M427836_13, plane 6...\n",
      "Loading DG-full response metrics for session M427836_13, plane 6...\n"
     ]
    },
    {
     "name": "stderr",
     "output_type": "stream",
     "text": [
      "Loading DG analyses:  95%|█████████▌| 21/22 [28:12<02:18, 138.50s/it]"
     ]
    },
    {
     "name": "stdout",
     "output_type": "stream",
     "text": [
      "Loading DG-windowed response metrics for session M438833_13, plane 1...\n",
      "Loading DG-full response metrics for session M438833_13, plane 1...\n",
      "Loading DG-windowed response metrics for session M438833_13, plane 2...\n",
      "Loading DG-full response metrics for session M438833_13, plane 2...\n",
      "Loading DG-windowed response metrics for session M438833_13, plane 3...\n",
      "Loading DG-full response metrics for session M438833_13, plane 3...\n",
      "Loading DG-windowed response metrics for session M438833_13, plane 4...\n",
      "Loading DG-full response metrics for session M438833_13, plane 4...\n",
      "Loading DG-windowed response metrics for session M438833_13, plane 5...\n",
      "Loading DG-full response metrics for session M438833_13, plane 5...\n",
      "Loading DG-windowed response metrics for session M438833_13, plane 6...\n",
      "Loading DG-full response metrics for session M438833_13, plane 6...\n"
     ]
    },
    {
     "name": "stderr",
     "output_type": "stream",
     "text": [
      "Loading DG analyses: 100%|██████████| 22/22 [31:27<00:00, 85.77s/it] \n"
     ]
    }
   ],
   "source": [
    "DG_TYPES = (\"windowed\", \"full\")\n",
    "\n",
    "with h5py.File(\"../../data_frames/dg-events.h5\", \"w\") as f:\n",
    "    for session_id in tqdm(client.get_all_session_ids(), desc=\"Loading DG analyses\"):\n",
    "        session = client.load_ophys_session(session_id=session_id)\n",
    "        mouse, col, vol = session.get_mouse_column_volume()\n",
    "\n",
    "        for plane in session.get_planes():\n",
    "            group = get_h5_group(f, [f\"M{mouse}\", f\"{col}{vol}\", f\"Plane_{plane}\"], overwrite=True)\n",
    "            \n",
    "            for dg_type in DG_TYPES:\n",
    "                dg = DriftingGratings(session, plane, trace_type=\"events\", dg_type=dg_type, quick_load=True) # Quick load = no costly computations (e.g., tuning fit, baseline distributions, etc.)\n",
    "                dg.save_to_h5(group.create_group(dg_type))"
   ]
  },
  {
   "cell_type": "code",
   "execution_count": null,
   "metadata": {},
   "outputs": [],
   "source": []
  }
 ],
 "metadata": {
  "kernelspec": {
   "display_name": "allen_v1dd",
   "language": "python",
   "name": "python3"
  },
  "language_info": {
   "codemirror_mode": {
    "name": "ipython",
    "version": 3
   },
   "file_extension": ".py",
   "mimetype": "text/x-python",
   "name": "python",
   "nbconvert_exporter": "python",
   "pygments_lexer": "ipython3",
   "version": "3.10.10"
  },
  "orig_nbformat": 4,
  "vscode": {
   "interpreter": {
    "hash": "22fef382e6f5da4e11e649f23fd8fec5195d9d71bcfd62586f61ebff43ab085d"
   }
  }
 },
 "nbformat": 4,
 "nbformat_minor": 2
}
