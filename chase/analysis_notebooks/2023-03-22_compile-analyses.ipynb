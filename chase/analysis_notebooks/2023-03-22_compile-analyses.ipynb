{
 "cells": [
  {
   "cell_type": "code",
   "execution_count": 1,
   "metadata": {},
   "outputs": [],
   "source": [
    "import datetime\n",
    "\n",
    "import numpy as np\n",
    "import pandas as pd\n",
    "import matplotlib.pyplot as plt\n",
    "from tqdm import tqdm\n",
    "import seaborn as sns\n",
    "import h5py\n",
    "\n",
    "from allen_v1dd.client import OPhysClient\n",
    "from allen_v1dd.stimulus_analysis import LocallySparseNoise\n",
    "from allen_v1dd.stimulus_analysis import analysis_tools as at\n",
    "at.set_stylesheet()\n",
    "\n",
    "%matplotlib inline\n",
    "%load_ext autoreload\n",
    "%autoreload 2"
   ]
  },
  {
   "cell_type": "code",
   "execution_count": null,
   "metadata": {},
   "outputs": [],
   "source": [
    "def get_h5_group(h5_file, group_names, create_if_not_exists=True, overwrite=False):\n",
    "    curr_group = h5_file\n",
    "\n",
    "    for i in range(len(group_names)):\n",
    "        name = group_names[i]\n",
    "        is_last = i == len(group_names) - 1\n",
    "        \n",
    "        if is_last and name in curr_group and overwrite:\n",
    "            del curr_group[name]\n",
    "\n",
    "        if name in curr_group:\n",
    "            curr_group = curr_group[name]\n",
    "        else:\n",
    "            if create_if_not_exists:\n",
    "                curr_group = curr_group.create_group(name)\n",
    "            else:\n",
    "                return None\n",
    "\n",
    "    return curr_group"
   ]
  },
  {
   "cell_type": "code",
   "execution_count": null,
   "metadata": {},
   "outputs": [],
   "source": [
    "client = OPhysClient(\"/Users/chase/Desktop/test_v1dd_data/\")"
   ]
  },
  {
   "cell_type": "code",
   "execution_count": 14,
   "metadata": {},
   "outputs": [
    {
     "name": "stderr",
     "output_type": "stream",
     "text": [
      "Loading LSN analyses:   0%|          | 0/22 [00:00<?, ?it/s]\n"
     ]
    },
    {
     "ename": "TypeError",
     "evalue": "super(type, obj): obj must be an instance or subtype of type",
     "output_type": "error",
     "traceback": [
      "\u001b[0;31m---------------------------------------------------------------------------\u001b[0m",
      "\u001b[0;31mTypeError\u001b[0m                                 Traceback (most recent call last)",
      "Cell \u001b[0;32mIn[14], line 13\u001b[0m\n\u001b[1;32m     11\u001b[0m \u001b[39mfor\u001b[39;00m rf_type_idx, rf_type \u001b[39min\u001b[39;00m \u001b[39menumerate\u001b[39m(RF_TYPES):\n\u001b[1;32m     12\u001b[0m     group \u001b[39m=\u001b[39m get_h5_group(f, [\u001b[39mf\u001b[39m\u001b[39m\"\u001b[39m\u001b[39mM\u001b[39m\u001b[39m{\u001b[39;00mmouse\u001b[39m}\u001b[39;00m\u001b[39m\"\u001b[39m, \u001b[39mf\u001b[39m\u001b[39m\"\u001b[39m\u001b[39m{\u001b[39;00mcol\u001b[39m}\u001b[39;00m\u001b[39m{\u001b[39;00mvol\u001b[39m}\u001b[39;00m\u001b[39m\"\u001b[39m, \u001b[39mf\u001b[39m\u001b[39m\"\u001b[39m\u001b[39mPlane_\u001b[39m\u001b[39m{\u001b[39;00mplane\u001b[39m}\u001b[39;00m\u001b[39m\"\u001b[39m], overwrite\u001b[39m=\u001b[39m\u001b[39mTrue\u001b[39;00m)\n\u001b[0;32m---> 13\u001b[0m     lsn\u001b[39m.\u001b[39;49msave_to_h5(group)\n",
      "File \u001b[0;32m~/Desktop/MindScope/allen_v1dd/src/allen_v1dd/stimulus_analysis/locally_sparse_noise.py:46\u001b[0m, in \u001b[0;36mLocallySparseNoise.save_to_h5\u001b[0;34m(self, group)\u001b[0m\n\u001b[1;32m     45\u001b[0m \u001b[39mdef\u001b[39;00m \u001b[39msave_to_h5\u001b[39m(\u001b[39mself\u001b[39m, group):\n\u001b[0;32m---> 46\u001b[0m     \u001b[39msuper\u001b[39;49m()\u001b[39m.\u001b[39msave_to_h5(group)\n\u001b[1;32m     48\u001b[0m     group\u001b[39m.\u001b[39mattrs[\u001b[39m\"\u001b[39m\u001b[39mtrace_type\u001b[39m\u001b[39m\"\u001b[39m] \u001b[39m=\u001b[39m \u001b[39mself\u001b[39m\u001b[39m.\u001b[39mtrace_type\n\u001b[1;32m     49\u001b[0m     group\u001b[39m.\u001b[39mattrs[\u001b[39m\"\u001b[39m\u001b[39mfrac_sig_trials_thresh\u001b[39m\u001b[39m\"\u001b[39m] \u001b[39m=\u001b[39m \u001b[39mself\u001b[39m\u001b[39m.\u001b[39mfrac_sig_trials_thresh\n",
      "\u001b[0;31mTypeError\u001b[0m: super(type, obj): obj must be an instance or subtype of type"
     ]
    }
   ],
   "source": [
    "RF_TYPES = (\"on\", \"off\")\n",
    "\n",
    "with h5py.File(\"../../data_frames/lsn-events.h5\", \"w\") as f:\n",
    "    for session_id in tqdm(client.get_all_session_ids(), desc=\"Loading LSN analyses\"):\n",
    "        session = client.load_ophys_session(session_id=session_id)\n",
    "        mouse, col, vol = session.get_mouse_column_volume()\n",
    "\n",
    "        for plane in session.get_planes():\n",
    "            lsn = LocallySparseNoise(session, plane, trace_type=\"events\")\n",
    "            \n",
    "            for rf_type_idx, rf_type in enumerate(RF_TYPES):\n",
    "                group = get_h5_group(f, [f\"M{mouse}\", f\"{col}{vol}\", f\"Plane_{plane}\"], overwrite=True)\n",
    "                lsn.save_to_h5(group)"
   ]
  },
  {
   "cell_type": "code",
   "execution_count": null,
   "metadata": {},
   "outputs": [],
   "source": []
  }
 ],
 "metadata": {
  "kernelspec": {
   "display_name": "allen_v1dd",
   "language": "python",
   "name": "python3"
  },
  "language_info": {
   "codemirror_mode": {
    "name": "ipython",
    "version": 3
   },
   "file_extension": ".py",
   "mimetype": "text/x-python",
   "name": "python",
   "nbconvert_exporter": "python",
   "pygments_lexer": "ipython3",
   "version": "3.10.9"
  },
  "orig_nbformat": 4
 },
 "nbformat": 4,
 "nbformat_minor": 2
}
