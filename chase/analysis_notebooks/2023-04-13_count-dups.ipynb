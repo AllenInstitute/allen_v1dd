{
 "cells": [
  {
   "cell_type": "code",
   "execution_count": 1,
   "metadata": {},
   "outputs": [],
   "source": [
    "import numpy as np\n",
    "import matplotlib as mpl\n",
    "import matplotlib.pyplot as plt\n",
    "import pandas as pd\n",
    "import scipy.stats as st\n",
    "import seaborn as sns\n",
    "\n",
    "import allen_v1dd.stimulus_analysis.analysis_tools as at\n",
    "from allen_v1dd.stimulus_analysis.analysis_tools import iter_plane_groups\n",
    "\n",
    "at.set_stylesheet()\n",
    "\n",
    "%load_ext autoreload\n",
    "%autoreload 2"
   ]
  },
  {
   "cell_type": "code",
   "execution_count": 5,
   "metadata": {},
   "outputs": [],
   "source": [
    "at.set_analysis_file(r\"/Users/chase/Desktop/stimulus_analyses_v0.h5\")"
   ]
  },
  {
   "cell_type": "code",
   "execution_count": 3,
   "metadata": {},
   "outputs": [
    {
     "data": {
      "text/plain": [
       "{'stim_analysis_filename': '/Users/chase/Desktop/stimulus_analyses_v0.h5'}"
      ]
     },
     "execution_count": 3,
     "metadata": {},
     "output_type": "execute_result"
    }
   ],
   "source": []
  },
  {
   "cell_type": "code",
   "execution_count": 41,
   "metadata": {},
   "outputs": [
    {
     "name": "stdout",
     "output_type": "stream",
     "text": [
      "Absolute counts:\n",
      "1    86205\n",
      "2    15930\n",
      "3     2927\n",
      "4     1228\n",
      "5      738\n",
      "6     1157\n",
      "7       50\n",
      "dtype: int64\n",
      "\n",
      "Percentages:\n",
      "1    79.646140\n",
      "2    14.717975\n",
      "3     2.704301\n",
      "4     1.134568\n",
      "5     0.681850\n",
      "6     1.068970\n",
      "7     0.046196\n",
      "dtype: float64\n"
     ]
    }
   ],
   "source": [
    "n_unique = 0\n",
    "n_dups_size = []\n",
    "\n",
    "with at.load_analysis_file() as file:\n",
    "    for mouse in file.keys():\n",
    "        for cv in file[mouse].keys():\n",
    "            all_plane_rois = set() # (plane, roi)\n",
    "\n",
    "            for plane_key in file[mouse][cv].keys():\n",
    "                if plane_key.startswith(\"Plane_\"):\n",
    "                    plane_group = file[mouse][cv][plane_key]\n",
    "                    plane = plane_group.attrs[\"plane\"]\n",
    "                    for roi in np.where(plane_group[\"is_roi_valid\"][()])[0]:\n",
    "                        all_plane_rois.add((plane, roi))\n",
    "\n",
    "            all_duplicates = [\n",
    "                eval(s.decode())\n",
    "                for s in file[mouse][cv][\"duplicate_rois\"][\"all_duplicates\"][()]\n",
    "            ]\n",
    "\n",
    "            for dup in all_duplicates:\n",
    "                all_plane_rois.difference_update(dup)\n",
    "                n_dups_size.append(len(dup))\n",
    "            \n",
    "            n_unique += len(all_plane_rois)\n",
    "\n",
    "x = pd.value_counts(n_dups_size)\n",
    "x[1] = n_unique\n",
    "x.sort_index(inplace=True)\n",
    "\n",
    "print(\"Absolute counts:\")\n",
    "print(x)\n",
    "print(\"\\nPercentages:\")\n",
    "print(x / x.sum() * 100)"
   ]
  },
  {
   "cell_type": "code",
   "execution_count": 39,
   "metadata": {},
   "outputs": [
    {
     "data": {
      "text/plain": [
       "1    86205\n",
       "2    15930\n",
       "3     2927\n",
       "4     1228\n",
       "5      738\n",
       "6     1157\n",
       "7       50\n",
       "dtype: int64"
      ]
     },
     "execution_count": 39,
     "metadata": {},
     "output_type": "execute_result"
    }
   ],
   "source": []
  },
  {
   "cell_type": "code",
   "execution_count": null,
   "metadata": {},
   "outputs": [],
   "source": []
  }
 ],
 "metadata": {
  "kernelspec": {
   "display_name": "allen_v1dd",
   "language": "python",
   "name": "python3"
  },
  "language_info": {
   "codemirror_mode": {
    "name": "ipython",
    "version": 3
   },
   "file_extension": ".py",
   "mimetype": "text/x-python",
   "name": "python",
   "nbconvert_exporter": "python",
   "pygments_lexer": "ipython3",
   "version": "3.10.10"
  },
  "orig_nbformat": 4
 },
 "nbformat": 4,
 "nbformat_minor": 2
}
