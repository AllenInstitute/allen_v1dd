{
 "cells": [
  {
   "cell_type": "code",
   "execution_count": 1,
   "metadata": {},
   "outputs": [],
   "source": [
    "import numpy as np\n",
    "import matplotlib.pyplot as plt\n",
    "\n",
    "from allen_v1dd.client import EMClient"
   ]
  },
  {
   "cell_type": "code",
   "execution_count": 2,
   "metadata": {},
   "outputs": [],
   "source": [
    "# EM_FIJI_MICRONS_PER_VOXEL = np.array([0.620800093368334, 0.620800093368334, 0.18])\n",
    "EM_FIJI_MICRONS_PER_VOXEL = np.array([0.310400046684167, 0.310400046684167, 0.18])\n",
    "EM_FIJI_NM_PER_VOXEL = EM_FIJI_MICRONS_PER_VOXEL * 1000\n",
    "\n",
    "EM_NGL_NM_PER_VOXEL = np.array([9, 9, 45])\n",
    "# EM_NGL_NM_PER_VOXEL = np.array([4.85, 4.85, 45])\n",
    "EM_NGL_MICRONS_PER_VOXEL = EM_NGL_NM_PER_VOXEL / 1000"
   ]
  },
  {
   "cell_type": "code",
   "execution_count": 3,
   "metadata": {},
   "outputs": [],
   "source": [
    "em_client = EMClient()"
   ]
  },
  {
   "cell_type": "code",
   "execution_count": null,
   "metadata": {},
   "outputs": [
    {
     "data": {
      "text/plain": [
       "index                                                                      0\n",
       "id_ref                                                                276266\n",
       "created_ref                                 2022-02-04 06:21:16.129002+00:00\n",
       "valid_ref                                                                  t\n",
       "volume                                                            377.762618\n",
       "pt_supervoxel_id                                           91491531315515547\n",
       "pt_root_id                                                864691132827688641\n",
       "id                                                                         1\n",
       "created                                     2023-04-14 22:08:40.446962+00:00\n",
       "valid                                                                      t\n",
       "target_id                                                             276266\n",
       "session                                                                    1\n",
       "scan_idx                                                                   3\n",
       "unit_id                                                                  117\n",
       "field                                                                      1\n",
       "residual                                                                 NaN\n",
       "score                                                                    NaN\n",
       "pt_position                                         [775690, 586656, 193770]\n",
       "bb_start_position                                    [771111, 581922, 20365]\n",
       "bb_end_position                                      [780423, 591312, 21369]\n",
       "ophys_mouse                                                           409828\n",
       "ophys_column                                                               1\n",
       "ophys_volume                                                               3\n",
       "ophys_session_id                                                  M409828_13\n",
       "ophys_plane                                                                0\n",
       "ophys_roi                                                                117\n",
       "roi                                                         M409828_13_0_117\n",
       "position_microns           [778.7521791075498, 227.97907876189072, 29.657...\n",
       "axon_proof_status                                                  submitted\n",
       "axon_proof_complete                                                     True\n",
       "dendrite_proof_status                                            not_started\n",
       "dendrite_proof_complete                                                 True\n",
       "Name: 0, dtype: object"
      ]
     },
     "execution_count": 71,
     "metadata": {},
     "output_type": "execute_result"
    }
   ],
   "source": [
    "coreg_df = em_client.get_coregistration_table()\n",
    "row = coreg_df.iloc[0]\n",
    "row"
   ]
  },
  {
   "cell_type": "code",
   "execution_count": 72,
   "metadata": {},
   "outputs": [
    {
     "name": "stdout",
     "output_type": "stream",
     "text": [
      "M409828_13_0_117\n",
      "[86187 65184  4306]\n"
     ]
    }
   ],
   "source": [
    "print(row[\"roi\"])\n",
    "print((row[\"pt_position\"] / EM_NGL_NM_PER_VOXEL).astype(int))"
   ]
  },
  {
   "cell_type": "code",
   "execution_count": 43,
   "metadata": {},
   "outputs": [
    {
     "data": {
      "text/html": [
       "<div>\n",
       "<style scoped>\n",
       "    .dataframe tbody tr th:only-of-type {\n",
       "        vertical-align: middle;\n",
       "    }\n",
       "\n",
       "    .dataframe tbody tr th {\n",
       "        vertical-align: top;\n",
       "    }\n",
       "\n",
       "    .dataframe thead th {\n",
       "        text-align: right;\n",
       "    }\n",
       "</style>\n",
       "<table border=\"1\" class=\"dataframe\">\n",
       "  <thead>\n",
       "    <tr style=\"text-align: right;\">\n",
       "      <th></th>\n",
       "      <th>level_0</th>\n",
       "      <th>index</th>\n",
       "      <th>id</th>\n",
       "      <th>created</th>\n",
       "      <th>superceded_id</th>\n",
       "      <th>valid</th>\n",
       "      <th>volume</th>\n",
       "      <th>pt_supervoxel_id</th>\n",
       "      <th>pt_root_id</th>\n",
       "      <th>pt_position</th>\n",
       "      <th>bb_start_position</th>\n",
       "      <th>bb_end_position</th>\n",
       "      <th>position_microns</th>\n",
       "      <th>dist_to_center</th>\n",
       "    </tr>\n",
       "  </thead>\n",
       "  <tbody>\n",
       "    <tr>\n",
       "      <th>1</th>\n",
       "      <td>1</td>\n",
       "      <td>2</td>\n",
       "      <td>277213</td>\n",
       "      <td>2022-02-04 06:30:33.362739+00:00</td>\n",
       "      <td>NaN</td>\n",
       "      <td>t</td>\n",
       "      <td>313.577943</td>\n",
       "      <td>91843581329183083</td>\n",
       "      <td>864691132720617684</td>\n",
       "      <td>[786864, 593718, 243945]</td>\n",
       "      <td>[782441, 588906, 25792]</td>\n",
       "      <td>[791287, 598451, 26699]</td>\n",
       "      <td>[790.0267659909371, 248.15872319569212, 76.111...</td>\n",
       "      <td>51.887000</td>\n",
       "    </tr>\n",
       "    <tr>\n",
       "      <th>22</th>\n",
       "      <td>22</td>\n",
       "      <td>58</td>\n",
       "      <td>277467</td>\n",
       "      <td>2022-02-04 06:24:44.031187+00:00</td>\n",
       "      <td>NaN</td>\n",
       "      <td>t</td>\n",
       "      <td>314.315820</td>\n",
       "      <td>92265518983163876</td>\n",
       "      <td>864691132731815731</td>\n",
       "      <td>[802927, 582931, 257355]</td>\n",
       "      <td>[798038, 578818, 27238]</td>\n",
       "      <td>[808049, 587044, 28217]</td>\n",
       "      <td>[806.05570084606, 241.27520979096363, 91.91945...</td>\n",
       "      <td>69.273242</td>\n",
       "    </tr>\n",
       "    <tr>\n",
       "      <th>24</th>\n",
       "      <td>24</td>\n",
       "      <td>60</td>\n",
       "      <td>277909</td>\n",
       "      <td>2022-02-04 06:23:30.708413+00:00</td>\n",
       "      <td>NaN</td>\n",
       "      <td>t</td>\n",
       "      <td>297.066368</td>\n",
       "      <td>91139481704430434</td>\n",
       "      <td>864691132893888470</td>\n",
       "      <td>[762575, 577887, 279270]</td>\n",
       "      <td>[758074, 573774, 29590]</td>\n",
       "      <td>[767309, 582155, 30579]</td>\n",
       "      <td>[765.7092105390509, 242.48251214513107, 114.38...</td>\n",
       "      <td>86.943364</td>\n",
       "    </tr>\n",
       "    <tr>\n",
       "      <th>25</th>\n",
       "      <td>25</td>\n",
       "      <td>61</td>\n",
       "      <td>277836</td>\n",
       "      <td>2022-02-04 06:21:17.823882+00:00</td>\n",
       "      <td>NaN</td>\n",
       "      <td>t</td>\n",
       "      <td>305.110927</td>\n",
       "      <td>90225306505386877</td>\n",
       "      <td>864691133312711504</td>\n",
       "      <td>[730061, 599770, 278685]</td>\n",
       "      <td>[725405, 595890, 29512]</td>\n",
       "      <td>[735027, 604038, 30531]</td>\n",
       "      <td>[733.2997845930498, 263.57189377219106, 107.96...</td>\n",
       "      <td>97.285867</td>\n",
       "    </tr>\n",
       "    <tr>\n",
       "      <th>31</th>\n",
       "      <td>31</td>\n",
       "      <td>67</td>\n",
       "      <td>277534</td>\n",
       "      <td>2022-02-04 06:24:45.660553+00:00</td>\n",
       "      <td>NaN</td>\n",
       "      <td>t</td>\n",
       "      <td>332.890360</td>\n",
       "      <td>93673306183590649</td>\n",
       "      <td>864691132789155039</td>\n",
       "      <td>[851272, 599227, 257400]</td>\n",
       "      <td>[846073, 595037, 27228]</td>\n",
       "      <td>[856549, 603262, 28222]</td>\n",
       "      <td>[854.4783174006926, 256.7477052850739, 87.6005...</td>\n",
       "      <td>99.596414</td>\n",
       "    </tr>\n",
       "    <tr>\n",
       "      <th>...</th>\n",
       "      <td>...</td>\n",
       "      <td>...</td>\n",
       "      <td>...</td>\n",
       "      <td>...</td>\n",
       "      <td>...</td>\n",
       "      <td>...</td>\n",
       "      <td>...</td>\n",
       "      <td>...</td>\n",
       "      <td>...</td>\n",
       "      <td>...</td>\n",
       "      <td>...</td>\n",
       "      <td>...</td>\n",
       "      <td>...</td>\n",
       "      <td>...</td>\n",
       "    </tr>\n",
       "    <tr>\n",
       "      <th>2011</th>\n",
       "      <td>2011</td>\n",
       "      <td>2259</td>\n",
       "      <td>201445</td>\n",
       "      <td>2022-02-04 06:24:23.376998+00:00</td>\n",
       "      <td>NaN</td>\n",
       "      <td>t</td>\n",
       "      <td>336.136420</td>\n",
       "      <td>88817312878310560</td>\n",
       "      <td>864691132830334212</td>\n",
       "      <td>[680319, 579439, 193095]</td>\n",
       "      <td>[675974, 575326, 20297]</td>\n",
       "      <td>[684587, 583474, 21340]</td>\n",
       "      <td>[683.346848520964, 221.31958074928266, 30.9393...</td>\n",
       "      <td>95.646058</td>\n",
       "    </tr>\n",
       "    <tr>\n",
       "      <th>2016</th>\n",
       "      <td>2016</td>\n",
       "      <td>2265</td>\n",
       "      <td>201966</td>\n",
       "      <td>2022-02-04 06:23:50.162687+00:00</td>\n",
       "      <td>NaN</td>\n",
       "      <td>t</td>\n",
       "      <td>225.317037</td>\n",
       "      <td>89662150192339859</td>\n",
       "      <td>864691132688998678</td>\n",
       "      <td>[709962, 593174, 212580]</td>\n",
       "      <td>[704763, 589372, 22480]</td>\n",
       "      <td>[714153, 596977, 23324]</td>\n",
       "      <td>[713.0813171795061, 239.62144822285737, 46.036...</td>\n",
       "      <td>68.676564</td>\n",
       "    </tr>\n",
       "    <tr>\n",
       "      <th>2018</th>\n",
       "      <td>2018</td>\n",
       "      <td>2268</td>\n",
       "      <td>201727</td>\n",
       "      <td>2022-02-04 06:21:19.951265+00:00</td>\n",
       "      <td>NaN</td>\n",
       "      <td>t</td>\n",
       "      <td>298.805783</td>\n",
       "      <td>89591987606489448</td>\n",
       "      <td>864691132605156037</td>\n",
       "      <td>[709497, 600391, 210600]</td>\n",
       "      <td>[705151, 596046, 22232]</td>\n",
       "      <td>[713532, 604970, 23154]</td>\n",
       "      <td>[712.6482973658049, 246.04728184672638, 42.196...</td>\n",
       "      <td>69.666436</td>\n",
       "    </tr>\n",
       "    <tr>\n",
       "      <th>2021</th>\n",
       "      <td>2021</td>\n",
       "      <td>2273</td>\n",
       "      <td>275747</td>\n",
       "      <td>2022-02-04 06:26:52.585810+00:00</td>\n",
       "      <td>NaN</td>\n",
       "      <td>t</td>\n",
       "      <td>313.843503</td>\n",
       "      <td>92054618574093301</td>\n",
       "      <td>864691132767648805</td>\n",
       "      <td>[794314, 590924, 161730]</td>\n",
       "      <td>[789347, 586811, 16936]</td>\n",
       "      <td>[799590, 595580, 17892]</td>\n",
       "      <td>[797.3537257804442, 223.4219536631314, -2.3554...</td>\n",
       "      <td>37.304568</td>\n",
       "    </tr>\n",
       "    <tr>\n",
       "      <th>2024</th>\n",
       "      <td>2024</td>\n",
       "      <td>2277</td>\n",
       "      <td>275509</td>\n",
       "      <td>2022-02-04 06:24:45.649832+00:00</td>\n",
       "      <td>NaN</td>\n",
       "      <td>t</td>\n",
       "      <td>281.373691</td>\n",
       "      <td>90999224849900932</td>\n",
       "      <td>864691132801859942</td>\n",
       "      <td>[757066, 595658, 144540]</td>\n",
       "      <td>[752875, 591312, 15083]</td>\n",
       "      <td>[761644, 599615, 16034]</td>\n",
       "      <td>[760.1059865396093, 223.5670433405039, -20.185...</td>\n",
       "      <td>53.399272</td>\n",
       "    </tr>\n",
       "  </tbody>\n",
       "</table>\n",
       "<p>307 rows × 14 columns</p>\n",
       "</div>"
      ],
      "text/plain": [
       "      level_0  index      id                          created  superceded_id  \\\n",
       "1           1      2  277213 2022-02-04 06:30:33.362739+00:00            NaN   \n",
       "22         22     58  277467 2022-02-04 06:24:44.031187+00:00            NaN   \n",
       "24         24     60  277909 2022-02-04 06:23:30.708413+00:00            NaN   \n",
       "25         25     61  277836 2022-02-04 06:21:17.823882+00:00            NaN   \n",
       "31         31     67  277534 2022-02-04 06:24:45.660553+00:00            NaN   \n",
       "...       ...    ...     ...                              ...            ...   \n",
       "2011     2011   2259  201445 2022-02-04 06:24:23.376998+00:00            NaN   \n",
       "2016     2016   2265  201966 2022-02-04 06:23:50.162687+00:00            NaN   \n",
       "2018     2018   2268  201727 2022-02-04 06:21:19.951265+00:00            NaN   \n",
       "2021     2021   2273  275747 2022-02-04 06:26:52.585810+00:00            NaN   \n",
       "2024     2024   2277  275509 2022-02-04 06:24:45.649832+00:00            NaN   \n",
       "\n",
       "     valid      volume   pt_supervoxel_id          pt_root_id  \\\n",
       "1        t  313.577943  91843581329183083  864691132720617684   \n",
       "22       t  314.315820  92265518983163876  864691132731815731   \n",
       "24       t  297.066368  91139481704430434  864691132893888470   \n",
       "25       t  305.110927  90225306505386877  864691133312711504   \n",
       "31       t  332.890360  93673306183590649  864691132789155039   \n",
       "...    ...         ...                ...                 ...   \n",
       "2011     t  336.136420  88817312878310560  864691132830334212   \n",
       "2016     t  225.317037  89662150192339859  864691132688998678   \n",
       "2018     t  298.805783  89591987606489448  864691132605156037   \n",
       "2021     t  313.843503  92054618574093301  864691132767648805   \n",
       "2024     t  281.373691  90999224849900932  864691132801859942   \n",
       "\n",
       "                   pt_position        bb_start_position  \\\n",
       "1     [786864, 593718, 243945]  [782441, 588906, 25792]   \n",
       "22    [802927, 582931, 257355]  [798038, 578818, 27238]   \n",
       "24    [762575, 577887, 279270]  [758074, 573774, 29590]   \n",
       "25    [730061, 599770, 278685]  [725405, 595890, 29512]   \n",
       "31    [851272, 599227, 257400]  [846073, 595037, 27228]   \n",
       "...                        ...                      ...   \n",
       "2011  [680319, 579439, 193095]  [675974, 575326, 20297]   \n",
       "2016  [709962, 593174, 212580]  [704763, 589372, 22480]   \n",
       "2018  [709497, 600391, 210600]  [705151, 596046, 22232]   \n",
       "2021  [794314, 590924, 161730]  [789347, 586811, 16936]   \n",
       "2024  [757066, 595658, 144540]  [752875, 591312, 15083]   \n",
       "\n",
       "              bb_end_position  \\\n",
       "1     [791287, 598451, 26699]   \n",
       "22    [808049, 587044, 28217]   \n",
       "24    [767309, 582155, 30579]   \n",
       "25    [735027, 604038, 30531]   \n",
       "31    [856549, 603262, 28222]   \n",
       "...                       ...   \n",
       "2011  [684587, 583474, 21340]   \n",
       "2016  [714153, 596977, 23324]   \n",
       "2018  [713532, 604970, 23154]   \n",
       "2021  [799590, 595580, 17892]   \n",
       "2024  [761644, 599615, 16034]   \n",
       "\n",
       "                                       position_microns  dist_to_center  \n",
       "1     [790.0267659909371, 248.15872319569212, 76.111...       51.887000  \n",
       "22    [806.05570084606, 241.27520979096363, 91.91945...       69.273242  \n",
       "24    [765.7092105390509, 242.48251214513107, 114.38...       86.943364  \n",
       "25    [733.2997845930498, 263.57189377219106, 107.96...       97.285867  \n",
       "31    [854.4783174006926, 256.7477052850739, 87.6005...       99.596414  \n",
       "...                                                 ...             ...  \n",
       "2011  [683.346848520964, 221.31958074928266, 30.9393...       95.646058  \n",
       "2016  [713.0813171795061, 239.62144822285737, 46.036...       68.676564  \n",
       "2018  [712.6482973658049, 246.04728184672638, 42.196...       69.666436  \n",
       "2021  [797.3537257804442, 223.4219536631314, -2.3554...       37.304568  \n",
       "2024  [760.1059865396093, 223.5670433405039, -20.185...       53.399272  \n",
       "\n",
       "[307 rows x 14 columns]"
      ]
     },
     "execution_count": 43,
     "metadata": {},
     "output_type": "execute_result"
    }
   ],
   "source": [
    "nearby"
   ]
  },
  {
   "cell_type": "code",
   "execution_count": 87,
   "metadata": {},
   "outputs": [
    {
     "data": {
      "image/png": "[encoded data removed]",
      "text/plain": [
       "<Figure size 600x600 with 1 Axes>"
      ]
     },
     "metadata": {},
     "output_type": "display_data"
    }
   ],
   "source": [
    "center = row[\"pt_position\"]\n",
    "nearby = em_client.get_nearby_cells(center_position_voxels=center, box_type=\"cube\", drop_duplicates=True)\n",
    "depth_chunk_mask = nearby.pt_position.apply(lambda p: abs(center[1] - p[1]) <= 16*1000)\n",
    "nearby_pos = np.vstack(nearby.pt_position.values)[depth_chunk_mask] / 1000\n",
    "c = nearby.pt_root_id[depth_chunk_mask].apply(lambda x: \"gold\" if x == row[\"pt_root_id\"] else \"magenta\" if x in coreg_df.pt_root_id.values else \"darkgray\")\n",
    "\n",
    "fig, ax = plt.subplots(figsize=(6, 6))\n",
    "\n",
    "ax.scatter(nearby_pos[:, 0], nearby_pos[:, 2], color=c)\n",
    "# ax.scatter(center[0], center[1])\n",
    "\n",
    "ax.axis(\"equal\")\n",
    "ax.invert_yaxis()\n",
    "\n",
    "for c in coreg_df.itertuples():\n",
    "    if c.pt_root_id in nearby.pt_root_id[depth_chunk_mask].values:\n",
    "        x, y, z = c.pt_position / 1000\n",
    "        ax.text(x, z, f\"{c.ophys_plane}-{c.ophys_roi}\", color=\"black\")"
   ]
  },
  {
   "cell_type": "code",
   "execution_count": 8,
   "metadata": {},
   "outputs": [
    {
     "data": {
      "text/plain": [
       "array([44657.04890329, 35443.930426  , -3640.28      ])"
      ]
     },
     "execution_count": 8,
     "metadata": {},
     "output_type": "execute_result"
    }
   ],
   "source": [
    "# em_fiji_voxel_coords = np.array([750, 592, 76])\n",
    "em_fiji_voxel_coords = np.array([686.845, 542.304, 193.93]) # M409828_13_0_117\n",
    "\n",
    "# (fiji EM voxels) * (microns / fiji EM voxels) * (nm / microns) * (ngl EM voxels / nm) = NGL em voxels\n",
    "#                  * EM_FIJI_MICRONS_PER_VOXEL  * 1000           / EM_NGL_NM_PER_VOXEL\n",
    "\n",
    "\n",
    "\n",
    "# EM_FIJI_MICRONS_PER_VOXEL / EM_NGL_MICRONS_PER_VOXEL * em_fiji_voxel_coords\n",
    "\n",
    "em_fiji_voxel_coords * EM_FIJI_NM_PER_VOXEL / EM_NGL_NM_PER_VOXEL - [2720, 1963, 4416]"
   ]
  },
  {
   "cell_type": "code",
   "execution_count": 50,
   "metadata": {},
   "outputs": [],
   "source": [
    "def points_to_homogeneous(points):\n",
    "    return np.insert(points, points.shape[1], 1, 1)\n",
    "\n",
    "def points_from_homogeneous(points):\n",
    "    return np.true_divide(points[:, :-1], points[:, [-1]])\n",
    "\n",
    "def transform_pts(mtx, points):\n",
    "    \"\"\"Transform NxM point array using a KxK\n",
    "    (K=M+1) homogeneous matrix\n",
    "    \"\"\"\n",
    "    return points_from_homogeneous((\n",
    "        mtx @ points_to_homogeneous(  # noqa\n",
    "            np.array(points)).T).T)"
   ]
  },
  {
   "cell_type": "code",
   "execution_count": 58,
   "metadata": {},
   "outputs": [
    {
     "data": {
      "text/plain": [
       "array([[62390.08 , 43859.456,   775.72 ]])"
      ]
     },
     "execution_count": 58,
     "metadata": {},
     "output_type": "execute_result"
    }
   ],
   "source": [
    "transform_pts(np.load(\"/Users/chase/Desktop/em_coreg2final_tform.npy\"), np.atleast_2d(em_fiji_voxel_coords * EM_FIJI_MICRONS_PER_VOXEL))"
   ]
  },
  {
   "cell_type": "code",
   "execution_count": 59,
   "metadata": {},
   "outputs": [
    {
     "data": {
      "text/plain": [
       "array([0.03448889, 0.03448889, 0.004     ])"
      ]
     },
     "execution_count": 59,
     "metadata": {},
     "output_type": "execute_result"
    }
   ],
   "source": [
    "EM_FIJI_MICRONS_PER_VOXEL / EM_NGL_NM_PER_VOXEL"
   ]
  },
  {
   "cell_type": "code",
   "execution_count": 48,
   "metadata": {},
   "outputs": [
    {
     "data": {
      "text/plain": [
       "array([[2.06185536e+02, 0.00000000e+00, 0.00000000e+00, 1.84320000e+04],\n",
       "       [0.00000000e+00, 2.06185536e+02, 0.00000000e+00, 9.15200000e+03],\n",
       "       [0.00000000e+00, 0.00000000e+00, 2.22222222e+01, 0.00000000e+00],\n",
       "       [0.00000000e+00, 0.00000000e+00, 0.00000000e+00, 1.00000000e+00]])"
      ]
     },
     "execution_count": 48,
     "metadata": {},
     "output_type": "execute_result"
    }
   ],
   "source": [
    "np.load(\"/Users/chase/Desktop/em_coreg2final_tform.npy\")"
   ]
  },
  {
   "cell_type": "code",
   "execution_count": 46,
   "metadata": {},
   "outputs": [
    {
     "data": {
      "text/plain": [
       "array([75133.0224    , 65853.0224    ,  6111.11111111])"
      ]
     },
     "execution_count": 46,
     "metadata": {},
     "output_type": "execute_result"
    }
   ],
   "source": [
    "np.load(\"/Users/chase/Desktop/em_coreg2final_tform.npy\").dot([*fiji_voxel_coords, 1])[:3]"
   ]
  },
  {
   "cell_type": "code",
   "execution_count": 6,
   "metadata": {},
   "outputs": [
    {
     "data": {
      "text/plain": [
       "array([[ 4.85000073e-03,  0.00000000e+00,  0.00000000e+00,\n",
       "        -8.93952134e+01],\n",
       "       [ 0.00000000e+00,  4.85000073e-03,  0.00000000e+00,\n",
       "        -4.43872067e+01],\n",
       "       [ 0.00000000e+00,  0.00000000e+00,  4.50000000e-02,\n",
       "         0.00000000e+00],\n",
       "       [ 0.00000000e+00,  0.00000000e+00,  0.00000000e+00,\n",
       "         1.00000000e+00]])"
      ]
     },
     "execution_count": 6,
     "metadata": {},
     "output_type": "execute_result"
    }
   ],
   "source": [
    "np.linalg.inv(np.load(\"/Users/chase/Desktop/em_coreg2final_tform.npy\"))"
   ]
  },
  {
   "cell_type": "code",
   "execution_count": 4,
   "metadata": {},
   "outputs": [],
   "source": [
    "TRANSFORM_COREG_TO_CAVE = np.load(\"/Users/chase/Desktop/em_coreg2final_tform.npy\")\n",
    "TRANSFORM_CAVE_TO_COREG = np.linalg.inv(TRANSFORM_COREG_TO_CAVE)"
   ]
  },
  {
   "cell_type": "code",
   "execution_count": 5,
   "metadata": {},
   "outputs": [
    {
     "data": {
      "text/plain": [
       "array([[2.06185536e+02, 0.00000000e+00, 0.00000000e+00, 1.84320000e+04],\n",
       "       [0.00000000e+00, 2.06185536e+02, 0.00000000e+00, 9.15200000e+03],\n",
       "       [0.00000000e+00, 0.00000000e+00, 2.22222222e+01, 0.00000000e+00],\n",
       "       [0.00000000e+00, 0.00000000e+00, 0.00000000e+00, 1.00000000e+00]])"
      ]
     },
     "execution_count": 5,
     "metadata": {},
     "output_type": "execute_result"
    }
   ],
   "source": [
    "TRANSFORM_COREG_TO_CAVE"
   ]
  },
  {
   "cell_type": "code",
   "execution_count": 6,
   "metadata": {},
   "outputs": [],
   "source": [
    "# ROI M409828_13_0_117\n",
    "pt_position = np.array([775690, 586656, 193770])\n",
    "fiji_mvg_pos = np.array([686.845, 542.304, 193.935])"
   ]
  },
  {
   "cell_type": "code",
   "execution_count": 10,
   "metadata": {},
   "outputs": [],
   "source": [
    "def get_caveclient_nm(coreg_pos):\n",
    "    orig_shape = np.shape(coreg_pos) # save original state\n",
    "    coreg_pos = np.atleast_2d(coreg_pos) # make 2d\n",
    "    coreg_pos = np.hstack([coreg_pos, np.ones((len(coreg_pos), 1))]) # append column of ones\n",
    "    nm = TRANSFORM_COREG_TO_CAVE.dot(coreg_pos.T).T # coreg_pos.T because columns are multiplied\n",
    "    nm = nm[:, :3] * [4.85, 4.85, 45] # drop last column of ones; convert to nm by multiplying by voxel resolution of transform\n",
    "    return nm.reshape(orig_shape)"
   ]
  },
  {
   "cell_type": "code",
   "execution_count": 19,
   "metadata": {},
   "outputs": [
    {
     "data": {
      "text/plain": [
       "array([55377.2376096 , 65154.12427591,  7133.33333333])"
      ]
     },
     "execution_count": 19,
     "metadata": {},
     "output_type": "execute_result"
    }
   ],
   "source": [
    "# get_caveclient_nm(fiji_mvg_pos)\n",
    "get_caveclient_nm([409, 542, 321]) / [9, 9, 45]"
   ]
  },
  {
   "cell_type": "code",
   "execution_count": 19,
   "metadata": {},
   "outputs": [
    {
     "name": "stdout",
     "output_type": "stream",
     "text": [
      "[776.23765 586.68995 193.905  ]\n",
      "0.5650647086837463\n"
     ]
    }
   ],
   "source": [
    "model_em_pos = coreg_to_ngl.dot([*fiji_mvg_pos, 1]).astype(int)[:3]\n",
    "\n",
    "print(model_em_pos)\n",
    "print(np.linalg.norm(model_em_pos - pt_position / 1000))"
   ]
  },
  {
   "cell_type": "code",
   "execution_count": 28,
   "metadata": {},
   "outputs": [],
   "source": [
    "import numpy as np\n",
    "import pandas as pd\n",
    "import matplotlib as mpl\n",
    "import scipy.ndimage as ndi\n",
    "from tifffile import tifffile\n",
    "import napari\n",
    "from allen_v1dd.client import OPhysClient\n"
   ]
  },
  {
   "cell_type": "code",
   "execution_count": 25,
   "metadata": {},
   "outputs": [],
   "source": [
    "viewer = napari.Viewer()"
   ]
  },
  {
   "cell_type": "code",
   "execution_count": 26,
   "metadata": {},
   "outputs": [],
   "source": [
    "EM_VOLUME_FILENAME = \"/Users/chase/Desktop/V1DD_coregistration/v1dd_mip7_calib-1.tif\"\n",
    "FIJI_TRANSPOSE_COLUMNS = [2, 1, 0] # convert [x', y', z'] (Fiji) to [z, y, x] (tiff)\n",
    "# FIJI_TRANSPOSE_COLUMNS = [1, 0, 2] # convert [x', y', z'] (Fiji) to [y, x, z] (Napari)\n",
    "FIJI_VOXEL_SIZE_MICRONS = np.array([0.620800093368334, 0.620800093368334, 0.18]) # From Fiji calibration XML file; dims [x', y', z']\n",
    "\n",
    "em_images = tifffile.imread(EM_VOLUME_FILENAME) # Dimensions: [Y, X, Z]\n",
    "EM_IMAGES_ORIG_SHAPE = em_images.shape\n",
    "\n",
    "XYZ_TO_ZYX = [2, 1, 0]\n",
    "ZYX_TO_XYZ = [2, 1, 0] # note the transform is the same as above but including this for some other methods\n",
    "TIFF_SHAPE_ZYX = np.array(em_images.shape) # tiff file has axes (Z, Y, X)\n",
    "TIFF_SHAPE_XYZ = TIFF_SHAPE_ZYX[XYZ_TO_ZYX]\n",
    "TIFF_SIZE_MICRONS_XYZ = np.array([2720, 1963, 4416]) * [0.620800093368334, 0.620800093368334, 0.18] # voxels * (microns / voxel) = microns\n",
    "TIFF_SCALE_ZYX = TIFF_SIZE_MICRONS_XYZ[XYZ_TO_ZYX] / TIFF_SHAPE_ZYX\n"
   ]
  },
  {
   "cell_type": "code",
   "execution_count": 29,
   "metadata": {},
   "outputs": [
    {
     "name": "stderr",
     "output_type": "stream",
     "text": [
      "Traceback (most recent call last):\n",
      "  File \"/opt/anaconda3/envs/allen_v1dd/lib/python3.10/site-packages/napari/_qt/qt_main_window.py\", line 407, in closeEvent\n",
      "    quit_app()\n",
      "  File \"/opt/anaconda3/envs/allen_v1dd/lib/python3.10/site-packages/napari/_qt/qt_event_loop.py\", line 225, in quit_app\n",
      "    v.close()\n",
      "  File \"/opt/anaconda3/envs/allen_v1dd/lib/python3.10/site-packages/napari/viewer.py\", line 146, in close\n",
      "    self.window.close()\n",
      "  File \"/opt/anaconda3/envs/allen_v1dd/lib/python3.10/site-packages/napari/_qt/qt_main_window.py\", line 1339, in close\n",
      "    self._qt_viewer.close()\n",
      "RuntimeError: wrapped C/C++ object of type QtViewer has been deleted\n"
     ]
    },
    {
     "ename": "",
     "evalue": "",
     "output_type": "error",
     "traceback": [
      "\u001b[1;31mThe Kernel crashed while executing code in the the current cell or a previous cell. Please review the code in the cell(s) to identify a possible cause of the failure. Click <a href='https://aka.ms/vscodeJupyterKernelCrash'>here</a> for more info. View Jupyter <a href='command:jupyter.viewOutput'>log</a> for further details."
     ]
    }
   ],
   "source": [
    "viewer.add_image(em_images, colormap=\"gray_r\", opacity=1, name=\"EM Volume\", scale=TIFF_SCALE_ZYX)\n",
    "\n",
    "\n",
    "\n",
    "viewer.dims.order = (1, 0, 2) # Scroll through y (depth)\n",
    "viewer.dims.axis_labels = (\"X\", \"Y\", \"Z\")\n",
    "\n",
    "ophys_client = OPhysClient(\"chase_local\")\n",
    "session = ophys_client.load_ophys_session(\"M409828_13\")"
   ]
  },
  {
   "cell_type": "code",
   "execution_count": null,
   "metadata": {},
   "outputs": [],
   "source": []
  }
 ],
 "metadata": {
  "kernelspec": {
   "display_name": "allen_v1dd",
   "language": "python",
   "name": "python3"
  },
  "language_info": {
   "codemirror_mode": {
    "name": "ipython",
    "version": 3
   },
   "file_extension": ".py",
   "mimetype": "text/x-python",
   "name": "python",
   "nbconvert_exporter": "python",
   "pygments_lexer": "ipython3",
   "version": "3.10.10"
  },
  "orig_nbformat": 4
 },
 "nbformat": 4,
 "nbformat_minor": 2
}
