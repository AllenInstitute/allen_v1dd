{
 "cells": [
  {
   "cell_type": "code",
   "execution_count": 1,
   "metadata": {},
   "outputs": [],
   "source": [
    "import numpy as np\n",
    "import pandas as pd\n",
    "import matplotlib.pyplot as plt\n",
    "\n",
    "from allen_v1dd.client import EMClient\n",
    "from allen_v1dd.em import DynamicSynapseGraph\n",
    "from allen_v1dd.stimulus_analysis import analysis_tools as at\n",
    "from allen_v1dd.stimulus_analysis.analysis_tools import iter_plane_groups\n",
    "\n",
    "at.set_stylesheet()\n",
    "at.set_analysis_file(\"/Users/chase/Desktop/stimulus_analyses_v1.h5\")\n",
    "at.set_included_mice([409828])\n",
    "at.set_included_columns([1])\n",
    "at.set_included_volumes([3])\n",
    "\n",
    "%load_ext autoreload\n",
    "%autoreload 2"
   ]
  },
  {
   "cell_type": "code",
   "execution_count": 2,
   "metadata": {},
   "outputs": [],
   "source": [
    "em_client = EMClient()"
   ]
  },
  {
   "cell_type": "code",
   "execution_count": 7,
   "metadata": {},
   "outputs": [
    {
     "name": "stdout",
     "output_type": "stream",
     "text": [
      "Loading graph from file /Users/chase/Desktop/v1dd_v349_synapses.gpl\n"
     ]
    }
   ],
   "source": [
    "syn_graph = DynamicSynapseGraph(em_client, debug=True, filename=f\"/Users/chase/Desktop/v1dd_v{em_client.version}_synapses.gpl\")"
   ]
  },
  {
   "cell_type": "code",
   "execution_count": 3,
   "metadata": {},
   "outputs": [
    {
     "ename": "HTTPError",
     "evalue": "500 Server Error: INTERNAL SERVER ERROR for url: https://api.em.brain.allentech.org/materialize/api/v3/datastack/v1dd/version/352/query?return_pyarrow=True&split_positions=True content:b'{\"message\": \"Internal Server Error\"}\\n'",
     "output_type": "error",
     "traceback": [
      "\u001b[0;31m---------------------------------------------------------------------------\u001b[0m",
      "\u001b[0;31mHTTPError\u001b[0m                                 Traceback (most recent call last)",
      "Cell \u001b[0;32mIn[3], line 1\u001b[0m\n\u001b[0;32m----> 1\u001b[0m coreg_df \u001b[39m=\u001b[39m em_client\u001b[39m.\u001b[39;49mget_coregistration_table()\n\u001b[1;32m      2\u001b[0m coreg_df \u001b[39m=\u001b[39m coreg_df[coreg_df\u001b[39m.\u001b[39maxon_proof_complete]\n\u001b[1;32m      3\u001b[0m \u001b[39mlen\u001b[39m(coreg_df)\n",
      "File \u001b[0;32m~/Desktop/MindScope/allen_v1dd/src/allen_v1dd/client/em_client.py:350\u001b[0m, in \u001b[0;36mEMClient.get_coregistration_table\u001b[0;34m(self, drop_duplicates, include_proofreading)\u001b[0m\n\u001b[1;32m    348\u001b[0m \u001b[39mdef\u001b[39;00m \u001b[39mget_coregistration_table\u001b[39m(\u001b[39mself\u001b[39m, drop_duplicates\u001b[39m=\u001b[39m\u001b[39mTrue\u001b[39;00m, include_proofreading\u001b[39m=\u001b[39m\u001b[39mTrue\u001b[39;00m):\n\u001b[1;32m    349\u001b[0m     \u001b[39m# coreg_table = self.query_table(\"manual_pilot_functional_coregistration_v1\")\u001b[39;00m\n\u001b[0;32m--> 350\u001b[0m     coreg_table \u001b[39m=\u001b[39m \u001b[39mself\u001b[39;49m\u001b[39m.\u001b[39;49mquery_table(\u001b[39m\"\u001b[39;49m\u001b[39mcoregistration_landmarks\u001b[39;49m\u001b[39m\"\u001b[39;49m)\n\u001b[1;32m    351\u001b[0m     coreg_table[\u001b[39m\"\u001b[39m\u001b[39mophys_mouse\u001b[39m\u001b[39m\"\u001b[39m] \u001b[39m=\u001b[39m \u001b[39m409828\u001b[39m\n\u001b[1;32m    352\u001b[0m     coreg_table[\u001b[39m\"\u001b[39m\u001b[39mophys_column\u001b[39m\u001b[39m\"\u001b[39m] \u001b[39m=\u001b[39m coreg_table\u001b[39m.\u001b[39msession\n",
      "File \u001b[0;32m/opt/anaconda3/envs/allen_v1dd/lib/python3.10/site-packages/caveclient/materializationengine.py:677\u001b[0m, in \u001b[0;36mMaterializatonClientV2.query_table\u001b[0;34m(self, table, filter_in_dict, filter_out_dict, filter_equal_dict, filter_spatial_dict, select_columns, offset, limit, datastack_name, return_df, split_positions, materialization_version, timestamp, metadata, merge_reference, desired_resolution, get_counts)\u001b[0m\n\u001b[1;32m    669\u001b[0m     query_args[\u001b[39m\"\u001b[39m\u001b[39mcount\u001b[39m\u001b[39m\"\u001b[39m] \u001b[39m=\u001b[39m \u001b[39mTrue\u001b[39;00m\n\u001b[1;32m    670\u001b[0m response \u001b[39m=\u001b[39m \u001b[39mself\u001b[39m\u001b[39m.\u001b[39msession\u001b[39m.\u001b[39mpost(\n\u001b[1;32m    671\u001b[0m     url,\n\u001b[1;32m    672\u001b[0m     data\u001b[39m=\u001b[39mjson\u001b[39m.\u001b[39mdumps(data, \u001b[39mcls\u001b[39m\u001b[39m=\u001b[39mBaseEncoder),\n\u001b[0;32m   (...)\u001b[0m\n\u001b[1;32m    675\u001b[0m     stream\u001b[39m=\u001b[39m\u001b[39m~\u001b[39mreturn_df,\n\u001b[1;32m    676\u001b[0m )\n\u001b[0;32m--> 677\u001b[0m \u001b[39mself\u001b[39;49m\u001b[39m.\u001b[39;49mraise_for_status(response)\n\u001b[1;32m    678\u001b[0m \u001b[39mif\u001b[39;00m return_df:\n\u001b[1;32m    679\u001b[0m     \u001b[39mwith\u001b[39;00m warnings\u001b[39m.\u001b[39mcatch_warnings():\n",
      "File \u001b[0;32m/opt/anaconda3/envs/allen_v1dd/lib/python3.10/site-packages/caveclient/base.py:219\u001b[0m, in \u001b[0;36mClientBase.raise_for_status\u001b[0;34m(r, log_warning)\u001b[0m\n\u001b[1;32m    215\u001b[0m \u001b[39m@staticmethod\u001b[39m\n\u001b[1;32m    216\u001b[0m \u001b[39mdef\u001b[39;00m \u001b[39mraise_for_status\u001b[39m(r, log_warning\u001b[39m=\u001b[39m\u001b[39mTrue\u001b[39;00m):\n\u001b[1;32m    217\u001b[0m     \u001b[39m\"\"\"Raises :class:`HTTPError`, if one occurred.\"\"\"\u001b[39;00m\n\u001b[0;32m--> 219\u001b[0m     _raise_for_status(r, log_warning\u001b[39m=\u001b[39;49mlog_warning)\n",
      "File \u001b[0;32m/opt/anaconda3/envs/allen_v1dd/lib/python3.10/site-packages/caveclient/base.py:72\u001b[0m, in \u001b[0;36m_raise_for_status\u001b[0;34m(r, log_warning)\u001b[0m\n\u001b[1;32m     64\u001b[0m     http_error_msg \u001b[39m=\u001b[39m \u001b[39m\"\u001b[39m\u001b[39m%s\u001b[39;00m\u001b[39m Server Error: \u001b[39m\u001b[39m%s\u001b[39;00m\u001b[39m for url: \u001b[39m\u001b[39m%s\u001b[39;00m\u001b[39m content:\u001b[39m\u001b[39m%s\u001b[39;00m\u001b[39m\"\u001b[39m \u001b[39m%\u001b[39m (\n\u001b[1;32m     65\u001b[0m         r\u001b[39m.\u001b[39mstatus_code,\n\u001b[1;32m     66\u001b[0m         reason,\n\u001b[1;32m     67\u001b[0m         r\u001b[39m.\u001b[39murl,\n\u001b[1;32m     68\u001b[0m         r\u001b[39m.\u001b[39mcontent,\n\u001b[1;32m     69\u001b[0m     )\n\u001b[1;32m     71\u001b[0m \u001b[39mif\u001b[39;00m http_error_msg:\n\u001b[0;32m---> 72\u001b[0m     \u001b[39mraise\u001b[39;00m requests\u001b[39m.\u001b[39mHTTPError(http_error_msg, response\u001b[39m=\u001b[39mr)\n\u001b[1;32m     73\u001b[0m \u001b[39mif\u001b[39;00m log_warning:\n\u001b[1;32m     74\u001b[0m     warning \u001b[39m=\u001b[39m r\u001b[39m.\u001b[39mheaders\u001b[39m.\u001b[39mget(\u001b[39m\"\u001b[39m\u001b[39mWarning\u001b[39m\u001b[39m\"\u001b[39m)\n",
      "\u001b[0;31mHTTPError\u001b[0m: 500 Server Error: INTERNAL SERVER ERROR for url: https://api.em.brain.allentech.org/materialize/api/v3/datastack/v1dd/version/352/query?return_pyarrow=True&split_positions=True content:b'{\"message\": \"Internal Server Error\"}\\n'"
     ]
    }
   ],
   "source": [
    "coreg_df = em_client.get_coregistration_table()\n",
    "coreg_df = coreg_df[coreg_df.axon_proof_complete]\n",
    "len(coreg_df)"
   ]
  },
  {
   "cell_type": "code",
   "execution_count": 167,
   "metadata": {},
   "outputs": [
    {
     "data": {
      "text/html": [
       "<div>\n",
       "<style scoped>\n",
       "    .dataframe tbody tr th:only-of-type {\n",
       "        vertical-align: middle;\n",
       "    }\n",
       "\n",
       "    .dataframe tbody tr th {\n",
       "        vertical-align: top;\n",
       "    }\n",
       "\n",
       "    .dataframe thead th {\n",
       "        text-align: right;\n",
       "    }\n",
       "</style>\n",
       "<table border=\"1\" class=\"dataframe\">\n",
       "  <thead>\n",
       "    <tr style=\"text-align: right;\">\n",
       "      <th></th>\n",
       "      <th>pre_pt_root_id</th>\n",
       "      <th>post_pt_root_id</th>\n",
       "      <th>size</th>\n",
       "      <th>soma_soma_dist</th>\n",
       "      <th>soma_soma_dist_horiz</th>\n",
       "      <th>syn_pre_soma_dist_straight</th>\n",
       "      <th>syn_post_soma_dist_straight</th>\n",
       "    </tr>\n",
       "  </thead>\n",
       "  <tbody>\n",
       "    <tr>\n",
       "      <th>0</th>\n",
       "      <td>864691132827688641</td>\n",
       "      <td>864691132793765103</td>\n",
       "      <td>1695</td>\n",
       "      <td>265.448929</td>\n",
       "      <td>157.434837</td>\n",
       "      <td>284.286695</td>\n",
       "      <td>26.457866</td>\n",
       "    </tr>\n",
       "    <tr>\n",
       "      <th>1</th>\n",
       "      <td>864691132827688641</td>\n",
       "      <td>864691132793765103</td>\n",
       "      <td>2235</td>\n",
       "      <td>265.448929</td>\n",
       "      <td>157.434837</td>\n",
       "      <td>278.138891</td>\n",
       "      <td>62.310554</td>\n",
       "    </tr>\n",
       "    <tr>\n",
       "      <th>2</th>\n",
       "      <td>864691132827688641</td>\n",
       "      <td>864691132808618273</td>\n",
       "      <td>1226</td>\n",
       "      <td>44.579349</td>\n",
       "      <td>24.630921</td>\n",
       "      <td>58.370658</td>\n",
       "      <td>58.253547</td>\n",
       "    </tr>\n",
       "    <tr>\n",
       "      <th>3</th>\n",
       "      <td>864691132827688641</td>\n",
       "      <td>864691132808618273</td>\n",
       "      <td>2075</td>\n",
       "      <td>44.579349</td>\n",
       "      <td>24.630921</td>\n",
       "      <td>33.236201</td>\n",
       "      <td>39.054908</td>\n",
       "    </tr>\n",
       "    <tr>\n",
       "      <th>4</th>\n",
       "      <td>864691132827688641</td>\n",
       "      <td>864691132808618273</td>\n",
       "      <td>1713</td>\n",
       "      <td>44.579349</td>\n",
       "      <td>24.630921</td>\n",
       "      <td>76.673633</td>\n",
       "      <td>62.053093</td>\n",
       "    </tr>\n",
       "    <tr>\n",
       "      <th>...</th>\n",
       "      <td>...</td>\n",
       "      <td>...</td>\n",
       "      <td>...</td>\n",
       "      <td>...</td>\n",
       "      <td>...</td>\n",
       "      <td>...</td>\n",
       "      <td>...</td>\n",
       "    </tr>\n",
       "    <tr>\n",
       "      <th>34963</th>\n",
       "      <td>864691132736082347</td>\n",
       "      <td>864691132064499669</td>\n",
       "      <td>2218</td>\n",
       "      <td>NaN</td>\n",
       "      <td>NaN</td>\n",
       "      <td>41.362939</td>\n",
       "      <td>NaN</td>\n",
       "    </tr>\n",
       "    <tr>\n",
       "      <th>34964</th>\n",
       "      <td>864691132736082347</td>\n",
       "      <td>864691132758689131</td>\n",
       "      <td>535</td>\n",
       "      <td>164.831034</td>\n",
       "      <td>150.166135</td>\n",
       "      <td>86.715330</td>\n",
       "      <td>79.379862</td>\n",
       "    </tr>\n",
       "    <tr>\n",
       "      <th>34965</th>\n",
       "      <td>864691132736082347</td>\n",
       "      <td>864691132742345052</td>\n",
       "      <td>783</td>\n",
       "      <td>130.149474</td>\n",
       "      <td>109.751023</td>\n",
       "      <td>88.130729</td>\n",
       "      <td>48.531435</td>\n",
       "    </tr>\n",
       "    <tr>\n",
       "      <th>34966</th>\n",
       "      <td>864691132736082347</td>\n",
       "      <td>864691132656476120</td>\n",
       "      <td>684</td>\n",
       "      <td>102.023656</td>\n",
       "      <td>100.504906</td>\n",
       "      <td>67.201556</td>\n",
       "      <td>72.799797</td>\n",
       "    </tr>\n",
       "    <tr>\n",
       "      <th>34967</th>\n",
       "      <td>864691132736082347</td>\n",
       "      <td>864691132737558939</td>\n",
       "      <td>797</td>\n",
       "      <td>206.079385</td>\n",
       "      <td>194.898013</td>\n",
       "      <td>227.804489</td>\n",
       "      <td>28.432302</td>\n",
       "    </tr>\n",
       "  </tbody>\n",
       "</table>\n",
       "<p>34968 rows × 7 columns</p>\n",
       "</div>"
      ],
      "text/plain": [
       "           pre_pt_root_id     post_pt_root_id  size  soma_soma_dist  \\\n",
       "0      864691132827688641  864691132793765103  1695      265.448929   \n",
       "1      864691132827688641  864691132793765103  2235      265.448929   \n",
       "2      864691132827688641  864691132808618273  1226       44.579349   \n",
       "3      864691132827688641  864691132808618273  2075       44.579349   \n",
       "4      864691132827688641  864691132808618273  1713       44.579349   \n",
       "...                   ...                 ...   ...             ...   \n",
       "34963  864691132736082347  864691132064499669  2218             NaN   \n",
       "34964  864691132736082347  864691132758689131   535      164.831034   \n",
       "34965  864691132736082347  864691132742345052   783      130.149474   \n",
       "34966  864691132736082347  864691132656476120   684      102.023656   \n",
       "34967  864691132736082347  864691132737558939   797      206.079385   \n",
       "\n",
       "       soma_soma_dist_horiz  syn_pre_soma_dist_straight  \\\n",
       "0                157.434837                  284.286695   \n",
       "1                157.434837                  278.138891   \n",
       "2                 24.630921                   58.370658   \n",
       "3                 24.630921                   33.236201   \n",
       "4                 24.630921                   76.673633   \n",
       "...                     ...                         ...   \n",
       "34963                   NaN                   41.362939   \n",
       "34964            150.166135                   86.715330   \n",
       "34965            109.751023                   88.130729   \n",
       "34966            100.504906                   67.201556   \n",
       "34967            194.898013                  227.804489   \n",
       "\n",
       "       syn_post_soma_dist_straight  \n",
       "0                        26.457866  \n",
       "1                        62.310554  \n",
       "2                        58.253547  \n",
       "3                        39.054908  \n",
       "4                        62.053093  \n",
       "...                            ...  \n",
       "34963                          NaN  \n",
       "34964                    79.379862  \n",
       "34965                    48.531435  \n",
       "34966                    72.799797  \n",
       "34967                    28.432302  \n",
       "\n",
       "[34968 rows x 7 columns]"
      ]
     },
     "execution_count": 167,
     "metadata": {},
     "output_type": "execute_result"
    }
   ],
   "source": [
    "pt_root_ids = coreg_df.pt_root_id.values\n",
    "all_syn = syn_graph.get_axonal_synapses(pt_root_ids)\n",
    "all_syn"
   ]
  },
  {
   "cell_type": "code",
   "execution_count": 168,
   "metadata": {},
   "outputs": [
    {
     "data": {
      "text/plain": [
       "(array([2.2153e+04, 7.9500e+03, 3.0380e+03, 1.1260e+03, 4.3500e+02,\n",
       "        1.7100e+02, 5.8000e+01, 2.4000e+01, 1.1000e+01, 2.0000e+00]),\n",
       " array([  100. ,  1580.4,  3060.8,  4541.2,  6021.6,  7502. ,  8982.4,\n",
       "        10462.8, 11943.2, 13423.6, 14904. ]),\n",
       " <BarContainer object of 10 artists>)"
      ]
     },
     "execution_count": 168,
     "metadata": {},
     "output_type": "execute_result"
    },
    {
     "data": {
      "image/png": "[encoded data removed]",
      "text/plain": [
       "<Figure size 640x480 with 1 Axes>"
      ]
     },
     "metadata": {},
     "output_type": "display_data"
    },
    {
     "data": {
      "image/png": "[encoded data removed]",
      "text/plain": [
       "<Figure size 640x480 with 1 Axes>"
      ]
     },
     "metadata": {},
     "output_type": "display_data"
    }
   ],
   "source": [
    "plt.hist(all_syn[\"syn_post_soma_dist_straight\"])\n",
    "plt.figure()\n",
    "plt.hist(all_syn[\"size\"])"
   ]
  },
  {
   "cell_type": "code",
   "execution_count": 169,
   "metadata": {},
   "outputs": [
    {
     "data": {
      "text/html": [
       "<div>\n",
       "<style scoped>\n",
       "    .dataframe tbody tr th:only-of-type {\n",
       "        vertical-align: middle;\n",
       "    }\n",
       "\n",
       "    .dataframe tbody tr th {\n",
       "        vertical-align: top;\n",
       "    }\n",
       "\n",
       "    .dataframe thead th {\n",
       "        text-align: right;\n",
       "    }\n",
       "</style>\n",
       "<table border=\"1\" class=\"dataframe\">\n",
       "  <thead>\n",
       "    <tr style=\"text-align: right;\">\n",
       "      <th></th>\n",
       "      <th>osi</th>\n",
       "      <th>dsi</th>\n",
       "      <th>pref_dir</th>\n",
       "      <th>pref_sf</th>\n",
       "    </tr>\n",
       "    <tr>\n",
       "      <th>roi</th>\n",
       "      <th></th>\n",
       "      <th></th>\n",
       "      <th></th>\n",
       "      <th></th>\n",
       "    </tr>\n",
       "  </thead>\n",
       "  <tbody>\n",
       "    <tr>\n",
       "      <th>M409828_13_0_0</th>\n",
       "      <td>0.133519</td>\n",
       "      <td>0.498349</td>\n",
       "      <td>0.0</td>\n",
       "      <td>0.04</td>\n",
       "    </tr>\n",
       "    <tr>\n",
       "      <th>M409828_13_0_6</th>\n",
       "      <td>0.751979</td>\n",
       "      <td>0.952003</td>\n",
       "      <td>330.0</td>\n",
       "      <td>0.08</td>\n",
       "    </tr>\n",
       "    <tr>\n",
       "      <th>M409828_13_0_10</th>\n",
       "      <td>0.355247</td>\n",
       "      <td>1.000000</td>\n",
       "      <td>330.0</td>\n",
       "      <td>0.04</td>\n",
       "    </tr>\n",
       "    <tr>\n",
       "      <th>M409828_13_0_11</th>\n",
       "      <td>0.109165</td>\n",
       "      <td>1.000000</td>\n",
       "      <td>330.0</td>\n",
       "      <td>0.04</td>\n",
       "    </tr>\n",
       "    <tr>\n",
       "      <th>M409828_13_0_14</th>\n",
       "      <td>0.577535</td>\n",
       "      <td>0.847013</td>\n",
       "      <td>120.0</td>\n",
       "      <td>0.04</td>\n",
       "    </tr>\n",
       "    <tr>\n",
       "      <th>...</th>\n",
       "      <td>...</td>\n",
       "      <td>...</td>\n",
       "      <td>...</td>\n",
       "      <td>...</td>\n",
       "    </tr>\n",
       "    <tr>\n",
       "      <th>M409828_13_5_635</th>\n",
       "      <td>0.137921</td>\n",
       "      <td>0.414378</td>\n",
       "      <td>270.0</td>\n",
       "      <td>0.08</td>\n",
       "    </tr>\n",
       "    <tr>\n",
       "      <th>M409828_13_5_640</th>\n",
       "      <td>0.151139</td>\n",
       "      <td>0.321881</td>\n",
       "      <td>120.0</td>\n",
       "      <td>0.04</td>\n",
       "    </tr>\n",
       "    <tr>\n",
       "      <th>M409828_13_5_645</th>\n",
       "      <td>0.080046</td>\n",
       "      <td>0.643351</td>\n",
       "      <td>90.0</td>\n",
       "      <td>0.08</td>\n",
       "    </tr>\n",
       "    <tr>\n",
       "      <th>M409828_13_5_776</th>\n",
       "      <td>0.200022</td>\n",
       "      <td>0.233247</td>\n",
       "      <td>270.0</td>\n",
       "      <td>0.08</td>\n",
       "    </tr>\n",
       "    <tr>\n",
       "      <th>M409828_13_5_797</th>\n",
       "      <td>0.124926</td>\n",
       "      <td>0.596914</td>\n",
       "      <td>90.0</td>\n",
       "      <td>0.04</td>\n",
       "    </tr>\n",
       "  </tbody>\n",
       "</table>\n",
       "<p>1471 rows × 4 columns</p>\n",
       "</div>"
      ],
      "text/plain": [
       "                       osi       dsi  pref_dir  pref_sf\n",
       "roi                                                    \n",
       "M409828_13_0_0    0.133519  0.498349       0.0     0.04\n",
       "M409828_13_0_6    0.751979  0.952003     330.0     0.08\n",
       "M409828_13_0_10   0.355247  1.000000     330.0     0.04\n",
       "M409828_13_0_11   0.109165  1.000000     330.0     0.04\n",
       "M409828_13_0_14   0.577535  0.847013     120.0     0.04\n",
       "...                    ...       ...       ...      ...\n",
       "M409828_13_5_635  0.137921  0.414378     270.0     0.08\n",
       "M409828_13_5_640  0.151139  0.321881     120.0     0.04\n",
       "M409828_13_5_645  0.080046  0.643351      90.0     0.08\n",
       "M409828_13_5_776  0.200022  0.233247     270.0     0.08\n",
       "M409828_13_5_797  0.124926  0.596914      90.0     0.04\n",
       "\n",
       "[1471 rows x 4 columns]"
      ]
     },
     "execution_count": 169,
     "metadata": {},
     "output_type": "execute_result"
    }
   ],
   "source": [
    "# Load the functional metrics\n",
    "metrics = []\n",
    "for group in iter_plane_groups():\n",
    "    roi_prefix = f\"{group.attrs['session_id']}_{group.attrs['plane']}\"\n",
    "    dg = group[\"drifting_gratings_full\"]\n",
    "    rois = np.where(group[\"is_roi_valid\"][()] & (dg[\"frac_responsive_trials\"][()] > 0.25))[0]\n",
    "\n",
    "    for roi in rois:\n",
    "        metrics.append(dict(\n",
    "            roi = f\"{roi_prefix}_{roi}\",\n",
    "            osi = dg[\"gosi\"][roi],\n",
    "            dsi = dg[\"dsi\"][roi],\n",
    "            pref_dir = dg[\"pref_cond\"][roi, 0],\n",
    "            pref_sf = dg[\"pref_cond\"][roi, 1],\n",
    "        ))\n",
    "\n",
    "metrics = pd.DataFrame(metrics)\n",
    "metrics.set_index(\"roi\", inplace=True)\n",
    "metrics"
   ]
  },
  {
   "cell_type": "code",
   "execution_count": 170,
   "metadata": {},
   "outputs": [
    {
     "data": {
      "text/plain": [
       "33"
      ]
     },
     "execution_count": 170,
     "metadata": {},
     "output_type": "execute_result"
    }
   ],
   "source": [
    "coreg_df.roi.isin(metrics.index).sum()"
   ]
  },
  {
   "cell_type": "code",
   "execution_count": 171,
   "metadata": {},
   "outputs": [
    {
     "data": {
      "text/plain": [
       "(99,\n",
       " ('M409828_13_0_75',\n",
       "  'M409828_13_2_294',\n",
       "  {'pre_pt_root_id': 864691132728579766,\n",
       "   'post_pt_root_id': 864691132598451263,\n",
       "   'size': 2181,\n",
       "   'soma_soma_dist': 69.35651361624237,\n",
       "   'soma_soma_dist_horiz': 63.81876621280135,\n",
       "   'syn_pre_soma_dist_straight': 90.94521501959301,\n",
       "   'syn_post_soma_dist_straight': 46.79303616415586}))"
      ]
     },
     "execution_count": 171,
     "metadata": {},
     "output_type": "execute_result"
    }
   ],
   "source": [
    "roi_synapses = [] # (presyn_roi, postsyn_roi, syn_attrs) where ROI is e.g. M409828_13_0_6\n",
    "root_id_to_roi = pd.Series(index=coreg_df.pt_root_id.values, data=coreg_df.roi.values)\n",
    "\n",
    "for row in coreg_df.itertuples():\n",
    "    pre_root_id = row.pt_root_id\n",
    "    pre_roi = row.roi\n",
    "    for syn_attrs in syn_graph.get_axonal_synapses(pre_root_id).to_dict(orient=\"records\"):\n",
    "        post_root_id = syn_attrs[\"post_pt_root_id\"]\n",
    "        if post_root_id in root_id_to_roi:\n",
    "            roi_synapses.append((pre_roi, root_id_to_roi[post_root_id], syn_attrs))\n",
    "\n",
    "len(roi_synapses), roi_synapses[0]"
   ]
  },
  {
   "cell_type": "code",
   "execution_count": 181,
   "metadata": {},
   "outputs": [
    {
     "data": {
      "text/plain": [
       "Text(0, 0.5, 'Number of synapses')"
      ]
     },
     "execution_count": 181,
     "metadata": {},
     "output_type": "execute_result"
    },
    {
     "data": {
      "image/png": "[encoded data removed]",
      "text/plain": [
       "<Figure size 1200x400 with 1 Axes>"
      ]
     },
     "metadata": {},
     "output_type": "display_data"
    }
   ],
   "source": [
    "delta_ori_to_n_syn = {}\n",
    "\n",
    "# M = metrics[(metrics.dsi > 0.2)]\n",
    "M = metrics\n",
    "\n",
    "for pre_roi, post_roi, syn_attrs in roi_synapses:\n",
    "    if pre_roi in M.index and post_roi in M.index:\n",
    "        delta_ori = M.loc[post_roi, \"pref_dir\"] - M.loc[pre_roi, \"pref_dir\"]\n",
    "        delta_ori = abs(M.loc[post_roi, \"pref_dir\"] - M.loc[pre_roi, \"pref_dir\"])\n",
    "        delta_ori = min(delta_ori, 360-delta_ori)\n",
    "        # delta_ori_to_n_syn[delta_ori] = delta_ori_to_n_syn.get(delta_ori, 0) + 1\n",
    "        # delta_ori_to_n_syn[delta_ori] = delta_ori_to_n_syn.get(delta_ori, 0) + syn_attrs[\"size\"]\n",
    "        # delta_ori_to_n_syn[delta_ori] = delta_ori_to_n_syn.get(delta_ori, 0) + syn_attrs[\"syn_post_soma_dist_straight\"]\n",
    "        # if syn_attrs[\"syn_post_soma_dist_straight\"] > 75:\n",
    "            # delta_ori_to_n_syn[delta_ori] = delta_ori_to_n_syn.get(delta_ori, 0) + 1\n",
    "        if syn_attrs[\"soma_soma_dist\"] < 100:\n",
    "            delta_ori_to_n_syn[delta_ori] = delta_ori_to_n_syn.get(delta_ori, 0) + 1\n",
    "\n",
    "plt.figure(figsize=(12, 4))\n",
    "plt.bar(x=list(delta_ori_to_n_syn.keys()), height=list(delta_ori_to_n_syn.values()), width=25)\n",
    "# plt.xticks(np.arange(0, 360, 30))\n",
    "plt.xticks(np.arange(-330, 360, 30))\n",
    "plt.xlim(-360, 360)\n",
    "plt.xlabel(\"$\\Delta$ pref direction (°)\")\n",
    "plt.ylabel(\"Number of synapses\")"
   ]
  },
  {
   "cell_type": "code",
   "execution_count": 51,
   "metadata": {},
   "outputs": [
    {
     "data": {
      "image/png": "[encoded data removed]",
      "text/plain": [
       "<Figure size 500x300 with 1 Axes>"
      ]
     },
     "metadata": {},
     "output_type": "display_data"
    },
    {
     "data": {
      "image/png": "[encoded data removed]",
      "text/plain": [
       "<Figure size 500x300 with 1 Axes>"
      ]
     },
     "metadata": {},
     "output_type": "display_data"
    }
   ],
   "source": [
    "for met in (\"osi\", \"dsi\"):\n",
    "    delta_met = []\n",
    "\n",
    "    for pre_roi, post_roi, syn_attrs in roi_synapses:\n",
    "        if pre_roi in metrics.index and post_roi in metrics.index:\n",
    "            delta_met.append(abs(metrics.loc[post_roi, met] - metrics.loc[pre_roi, met]))\n",
    "\n",
    "    plt.figure(figsize=(5, 3))\n",
    "    plt.hist(delta_met, bins=np.arange(0, 1.1, 0.1))\n",
    "    plt.xlabel(f\"$\\Delta$ {met.upper()}\")\n",
    "    plt.ylabel(\"Number of synapses\")\n",
    "\n",
    "    # TODO Need to test significance of these by comparing to randomly selected cells"
   ]
  },
  {
   "cell_type": "code",
   "execution_count": null,
   "metadata": {},
   "outputs": [],
   "source": []
  }
 ],
 "metadata": {
  "kernelspec": {
   "display_name": "allen_v1dd",
   "language": "python",
   "name": "python3"
  },
  "language_info": {
   "codemirror_mode": {
    "name": "ipython",
    "version": 3
   },
   "file_extension": ".py",
   "mimetype": "text/x-python",
   "name": "python",
   "nbconvert_exporter": "python",
   "pygments_lexer": "ipython3",
   "version": "3.10.10"
  },
  "orig_nbformat": 4
 },
 "nbformat": 4,
 "nbformat_minor": 2
}
