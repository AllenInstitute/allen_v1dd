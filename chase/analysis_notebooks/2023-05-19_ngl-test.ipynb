{
 "cells": [
  {
   "cell_type": "code",
   "execution_count": 95,
   "metadata": {},
   "outputs": [],
   "source": [
    "import numpy as np\n",
    "import neuroglancer\n",
    "from caveclient import CAVEclient"
   ]
  },
  {
   "cell_type": "code",
   "execution_count": 20,
   "metadata": {},
   "outputs": [
    {
     "data": {
      "text/plain": [
       "'graphene://https://api.em.brain.allentech.org/proxy/v1dd/image/aligned_image'"
      ]
     },
     "execution_count": 20,
     "metadata": {},
     "output_type": "execute_result"
    }
   ],
   "source": [
    "cave_client = CAVEclient(datastack_name=\"v1dd\", server_address=\"https://globalv1.em.brain.allentech.org\")\n",
    "cave_client.info.image_source()"
   ]
  },
  {
   "cell_type": "code",
   "execution_count": 156,
   "metadata": {},
   "outputs": [
    {
     "data": {
      "text/plain": [
       "{'layers': [{'source': 'graphene://https://api.em.brain.allentech.org/proxy/v1dd/image/aligned_image',\n",
       "   'type': 'image',\n",
       "   'blend': 'default',\n",
       "   'shader': '#uicontrol float black slider(min=0, max=1, default=0.35)\\n#uicontrol float white slider(min=0, max=1, default=0.65)\\nfloat rescale(float value) {\\n  return (value - black) / (white - black);\\n}\\nvoid main() {\\n  float val = toNormalized(getDataValue());\\n  if (val < black) {\\n    emitRGB(vec3(0,0,0));\\n  } else if (val > white) {\\n    emitRGB(vec3(1.0, 1.0, 1.0));\\n  } else {\\n    emitGrayscale(rescale(val));\\n  }\\n}\\n',\n",
       "   'shaderControls': {},\n",
       "   'name': 'EM-img'},\n",
       "  {'source': 'graphene://https://api.em.brain.allentech.org/segmentation/table/aibs_v1dd',\n",
       "   'type': 'image',\n",
       "   'blend': 'default',\n",
       "   'shaderControls': {},\n",
       "   'name': 'EM-seg'},\n",
       "  {'type': 'annotation',\n",
       "   'annotations': [],\n",
       "   'annotationTags': [],\n",
       "   'voxelSize': [9, 9, 45],\n",
       "   'bracketShortcutsShowSegmentation': True,\n",
       "   'annotationSelectionShowsSegmentation': True,\n",
       "   'name': 'anno'}],\n",
       " 'navigation': {'pose': {'position': {'voxelSize': [9, 9, 45],\n",
       "    'voxelCoordinates': [145222.21875, 145268.65625, 8832.857421875]},\n",
       "   'orientation': [-0.13508161902427673,\n",
       "    0.0003361965937074274,\n",
       "    -0.002466021105647087,\n",
       "    0.9908313751220703]},\n",
       "  'zoomFactor': 2},\n",
       " 'perspectiveZoom': 2001,\n",
       " 'showSlices': False,\n",
       " 'jsonStateServer': 'https://global.em.brain.allentech.org/nglstate/api/v1/post',\n",
       " 'selectedLayer': {'layer': 'anno', 'visible': True},\n",
       " 'layout': 'xz-3d'}"
      ]
     },
     "execution_count": 156,
     "metadata": {},
     "output_type": "execute_result"
    }
   ],
   "source": [
    "cave_client.state.get_state_json(4623266593374208)"
   ]
  },
  {
   "cell_type": "code",
   "execution_count": 64,
   "metadata": {},
   "outputs": [
    {
     "name": "stdout",
     "output_type": "stream",
     "text": [
      "\u001b[0;31mInit signature:\u001b[0m\n",
      "\u001b[0mcaveclient\u001b[0m\u001b[0;34m.\u001b[0m\u001b[0mjsonservice\u001b[0m\u001b[0;34m.\u001b[0m\u001b[0mJSONServiceV1\u001b[0m\u001b[0;34m(\u001b[0m\u001b[0;34m\u001b[0m\n",
      "\u001b[0;34m\u001b[0m    \u001b[0mserver_address\u001b[0m\u001b[0;34m,\u001b[0m\u001b[0;34m\u001b[0m\n",
      "\u001b[0;34m\u001b[0m    \u001b[0mauth_header\u001b[0m\u001b[0;34m,\u001b[0m\u001b[0;34m\u001b[0m\n",
      "\u001b[0;34m\u001b[0m    \u001b[0mapi_version\u001b[0m\u001b[0;34m,\u001b[0m\u001b[0;34m\u001b[0m\n",
      "\u001b[0;34m\u001b[0m    \u001b[0mendpoints\u001b[0m\u001b[0;34m,\u001b[0m\u001b[0;34m\u001b[0m\n",
      "\u001b[0;34m\u001b[0m    \u001b[0mserver_name\u001b[0m\u001b[0;34m,\u001b[0m\u001b[0;34m\u001b[0m\n",
      "\u001b[0;34m\u001b[0m    \u001b[0mngl_url\u001b[0m\u001b[0;34m,\u001b[0m\u001b[0;34m\u001b[0m\n",
      "\u001b[0;34m\u001b[0m    \u001b[0mmax_retries\u001b[0m\u001b[0;34m=\u001b[0m\u001b[0;32mNone\u001b[0m\u001b[0;34m,\u001b[0m\u001b[0;34m\u001b[0m\n",
      "\u001b[0;34m\u001b[0m    \u001b[0mpool_maxsize\u001b[0m\u001b[0;34m=\u001b[0m\u001b[0;32mNone\u001b[0m\u001b[0;34m,\u001b[0m\u001b[0;34m\u001b[0m\n",
      "\u001b[0;34m\u001b[0m    \u001b[0mpool_block\u001b[0m\u001b[0;34m=\u001b[0m\u001b[0;32mNone\u001b[0m\u001b[0;34m,\u001b[0m\u001b[0;34m\u001b[0m\n",
      "\u001b[0;34m\u001b[0m    \u001b[0mover_client\u001b[0m\u001b[0;34m=\u001b[0m\u001b[0;32mNone\u001b[0m\u001b[0;34m,\u001b[0m\u001b[0;34m\u001b[0m\n",
      "\u001b[0;34m\u001b[0m\u001b[0;34m)\u001b[0m\u001b[0;34m\u001b[0m\u001b[0;34m\u001b[0m\u001b[0m\n",
      "\u001b[0;31mDocstring:\u001b[0m      <no docstring>\n",
      "\u001b[0;31mFile:\u001b[0m           /opt/anaconda3/envs/allen_v1dd/lib/python3.10/site-packages/caveclient/jsonservice.py\n",
      "\u001b[0;31mType:\u001b[0m           type\n",
      "\u001b[0;31mSubclasses:\u001b[0m     "
     ]
    }
   ],
   "source": [
    "import caveclient\n",
    "caveclient.jsonservice.JSONServiceV1?"
   ]
  },
  {
   "cell_type": "code",
   "execution_count": 87,
   "metadata": {},
   "outputs": [
    {
     "data": {
      "text/plain": [
       "Transformation Sequence:\n",
       "\tScale by [[ 9  9 45]]\n",
       "\tRotate with params ('x', -15.526727064925824) and {'degrees': True}\n",
       "\tRotate with params ('y', 0.0) and {'degrees': True}\n",
       "\tRotate with params ('z', -0.28519951516860176) and {'degrees': True}\n",
       "\tTranslate by [      0.         -385268.43177721       0.        ]\n",
       "\tScale by [[0.001 0.001 0.001]]"
      ]
     },
     "execution_count": 87,
     "metadata": {},
     "output_type": "execute_result"
    }
   ],
   "source": [
    "v1dd_transform_vx()"
   ]
  },
  {
   "cell_type": "code",
   "execution_count": 89,
   "metadata": {},
   "outputs": [],
   "source": [
    "from scipy.spatial.transform import Rotation as R"
   ]
  },
  {
   "cell_type": "code",
   "execution_count": 103,
   "metadata": {},
   "outputs": [
    {
     "name": "stderr",
     "output_type": "stream",
     "text": [
      "/var/folders/8l/944wpj6s7sq8gcv57wcd3q6h0000gn/T/ipykernel_30602/3512578532.py:2: UserWarning: Optimal rotation is not uniquely or poorly defined for the given sets of vectors.\n",
      "  rot, _ = R.align_vectors(np.array([[0, 1, 0]]), [up])\n"
     ]
    }
   ],
   "source": [
    "def _rotation_from_up_vector(up):\n",
    "    rot, _ = R.align_vectors(np.array([[0, 1, 0]]), [up])\n",
    "    return rot\n",
    "\n",
    "up = np.array([-0.00497765, 0.96349375, 0.26768454])\n",
    "rot = _rotation_from_up_vector(up)\n",
    "ROTATION_QUAT = list(rot.as_quat())"
   ]
  },
  {
   "cell_type": "code",
   "execution_count": 108,
   "metadata": {},
   "outputs": [
    {
     "data": {
      "text/plain": [
       "[[0.9999876114234538, 0.0047959940982429655, 0.0013324564627750658, 0],\n",
       " [-0.00497765000934903, 0.9634937518096357, 0.2676845405027656, 0],\n",
       " [1.0842021724855044e-19, -0.26768785677426976, 0.9635056882736075, 0],\n",
       " [0, 0, 0, 1]]"
      ]
     },
     "execution_count": 108,
     "metadata": {},
     "output_type": "execute_result"
    }
   ],
   "source": [
    "ROTATION_MATRIX_4x4 = rot.as_matrix().tolist()\n",
    "ROTATION_MATRIX_4x4[0].append(0)\n",
    "ROTATION_MATRIX_4x4[1].append(0)\n",
    "ROTATION_MATRIX_4x4[2].append(0)\n",
    "ROTATION_MATRIX_4x4.append([0, 0, 0, 1])"
   ]
  },
  {
   "cell_type": "code",
   "execution_count": 160,
   "metadata": {},
   "outputs": [],
   "source": [
    "BW_SLIDER = \"\"\"\n",
    "#uicontrol float black slider(min=0, max=1)\n",
    "#uicontrol float white slider(min=0, max=1)\n",
    "float rescale(float value) {\n",
    "  return (value - black) / (white - black);\n",
    "}\n",
    "void main() {\n",
    "  float val = toNormalized(getDataValue());\n",
    "  if (val < black) {\n",
    "    emitRGB(vec3(0,0,0));\n",
    "  } else if (val > white) {\n",
    "    emitRGB(vec3(1.0, 1.0, 1.0));\n",
    "  } else {\n",
    "    emitGrayscale(rescale(val));\n",
    "  }\n",
    "}\n",
    "\"\"\".strip()"
   ]
  },
  {
   "cell_type": "code",
   "execution_count": 194,
   "metadata": {},
   "outputs": [],
   "source": [
    "EM_IMAGE_LAYER = dict(\n",
    "    name = \"EM-img\",\n",
    "    type = \"image\",\n",
    "    source = cave_client.info.image_source(),\n",
    "    \n",
    "    blend = \"default\",\n",
    "    shader = BW_SLIDER,\n",
    "    shaderControls = dict(\n",
    "        black = 0.35,\n",
    "        white = 0.65\n",
    "    ),\n",
    "\n",
    "    # transform = ROTATION_MATRIX_4x4\n",
    ")\n",
    "\n",
    "EM_SEGMENTATION_LAYER = dict(\n",
    "    name = \"EM-seg\",\n",
    "    type = \"segmentation_with_graph\",\n",
    "    source = cave_client.info.segmentation_source(),\n",
    "    \n",
    "    selectedAlpha = 0.3,\n",
    "    skeletonRendering = {\n",
    "        \"mode2d\": \"lines_and_points\",\n",
    "        \"mode3d\": \"lines\"\n",
    "    },\n",
    "    graphOperationMarker = [\n",
    "        {\n",
    "            \"annotations\": [],\n",
    "            \"tags\": []\n",
    "        },\n",
    "        {\n",
    "            \"annotations\": [],\n",
    "            \"tags\": []\n",
    "        }\n",
    "    ],\n",
    "    pathFinder = {\n",
    "        \"color\": \"#ffff00\",\n",
    "        \"pathObject\": {\n",
    "            \"annotationPath\": {\n",
    "                \"annotations\": [],\n",
    "                \"tags\": []\n",
    "            },\n",
    "            \"hasPath\": False\n",
    "        }\n",
    "    },\n",
    "    \n",
    "    visible = False\n",
    ")"
   ]
  },
  {
   "cell_type": "code",
   "execution_count": 193,
   "metadata": {},
   "outputs": [
    {
     "data": {
      "text/plain": [
       "{'layers': [{'name': 'EM-img',\n",
       "   'type': 'image',\n",
       "   'source': 'graphene://https://api.em.brain.allentech.org/proxy/v1dd/image/aligned_image',\n",
       "   'blend': 'default',\n",
       "   'shader': '#uicontrol float black slider(min=0, max=1)\\n#uicontrol float white slider(min=0, max=1)\\nfloat rescale(float value) {\\n  return (value - black) / (white - black);\\n}\\nvoid main() {\\n  float val = toNormalized(getDataValue());\\n  if (val < black) {\\n    emitRGB(vec3(0,0,0));\\n  } else if (val > white) {\\n    emitRGB(vec3(1.0, 1.0, 1.0));\\n  } else {\\n    emitGrayscale(rescale(val));\\n  }\\n}',\n",
       "   'shaderControls': {'black': 0.35, 'white': 0.65}},\n",
       "  {'name': 'EM-seg',\n",
       "   'type': 'segmentation_with_graph',\n",
       "   'source': 'graphene://https://api.em.brain.allentech.org/segmentation/table/aibs_v1dd',\n",
       "   'selectedAlpha': 0.3,\n",
       "   'skeletonRendering': {'mode2d': 'lines_and_points', 'mode3d': 'lines'},\n",
       "   'graphOperationMarker': [{'annotations': [], 'tags': []},\n",
       "    {'annotations': [], 'tags': []}],\n",
       "   'pathFinder': {'color': '#ffff00',\n",
       "    'pathObject': {'annotationPath': {'annotations': [], 'tags': []},\n",
       "     'hasPath': False}},\n",
       "   'visible': False},\n",
       "  {'name': 'anno',\n",
       "   'type': 'annotation',\n",
       "   'annotations': [],\n",
       "   'annotationTags': [],\n",
       "   'bracketShortcutsShowSegmentation': True,\n",
       "   'annotationSelectionShowsSegmentation': True}],\n",
       " 'navigation': {'pose': {'position': {'voxelSize': [9.0, 9.0, 45.0],\n",
       "    'voxelCoordinates': [107669.515625, 79662.5625, 8512.7724609375]}},\n",
       "  'zoomFactor': 2000},\n",
       " 'showSlices': False,\n",
       " 'jsonStateServer': 'https://globalv1.em.brain.allentech.org/nglstate/api/v1/post',\n",
       " 'layout': 'xz-3d'}"
      ]
     },
     "execution_count": 193,
     "metadata": {},
     "output_type": "execute_result"
    }
   ],
   "source": [
    "state"
   ]
  },
  {
   "cell_type": "code",
   "execution_count": 199,
   "metadata": {},
   "outputs": [],
   "source": [
    "def build_anno_layer(name=\"anno\"):\n",
    "    return dict(\n",
    "        name = name,\n",
    "        type = \"annotation\",\n",
    "        annotations = [],\n",
    "        annotationTags = [],\n",
    "        voxelSize = cave_client.info.viewer_resolution().tolist(),\n",
    "        bracketShortcutsShowSegmentation = True,\n",
    "        annotationSelectionShowsSegmentation = True,\n",
    "    )\n",
    "\n",
    "def build_state_json(anno_layer, viewer_coords_vx, casey_rotate=False):\n",
    "    state = dict(\n",
    "        layers = [EM_IMAGE_LAYER, EM_SEGMENTATION_LAYER, anno_layer],\n",
    "        navigation = dict(\n",
    "            pose = dict(\n",
    "                position = dict(\n",
    "                    voxelSize = cave_client.info.viewer_resolution().tolist(),\n",
    "                    voxelCoordinates = viewer_coords_vx\n",
    "                )\n",
    "            ),\n",
    "            zoomFactor = 400\n",
    "        ),\n",
    "        showSlices = False,\n",
    "        jsonStateServer = cave_client.state.state_service_endpoint,\n",
    "        layout = \"xz-3d\"\n",
    "    )\n",
    "    return state\n",
    "    "
   ]
  },
  {
   "cell_type": "code",
   "execution_count": 200,
   "metadata": {},
   "outputs": [
    {
     "data": {
      "text/plain": [
       "'https://neuroglancer.neuvue.io/?json_url=https://globalv1.em.brain.allentech.org/nglstate/api/v1/5029033628663808'"
      ]
     },
     "execution_count": 200,
     "metadata": {},
     "output_type": "execute_result"
    }
   ],
   "source": [
    "viewer_coords_vx = [107669.515625, 79662.5625, 8512.7724609375]\n",
    "\n",
    "anno_layer = build_anno_layer()\n",
    "state = build_state_json(anno_layer, viewer_coords_vx)\n",
    "state_id = cave_client.state.upload_state_json(state)\n",
    "url = cave_client.state.build_neuroglancer_url(state_id)\n",
    "\n",
    "url"
   ]
  },
  {
   "cell_type": "code",
   "execution_count": 183,
   "metadata": {},
   "outputs": [
    {
     "name": "stdout",
     "output_type": "stream",
     "text": [
      "\u001b[0;31mSignature:\u001b[0m \u001b[0mcave_client\u001b[0m\u001b[0;34m.\u001b[0m\u001b[0mstate\u001b[0m\u001b[0;34m.\u001b[0m\u001b[0mbuild_neuroglancer_url\u001b[0m\u001b[0;34m(\u001b[0m\u001b[0mstate_id\u001b[0m\u001b[0;34m,\u001b[0m \u001b[0mngl_url\u001b[0m\u001b[0;34m=\u001b[0m\u001b[0;32mNone\u001b[0m\u001b[0;34m)\u001b[0m\u001b[0;34m\u001b[0m\u001b[0;34m\u001b[0m\u001b[0m\n",
      "\u001b[0;31mDocstring:\u001b[0m\n",
      "Build a URL for a Neuroglancer deployment that will automatically retrieve specified state.\n",
      "If the datastack is specified, this is prepopulated from the info file field \"viewer_site\".\n",
      "If no ngl_url is specified in either the function or the client, only the JSON state url is returned.\n",
      "\n",
      "Parameters\n",
      "----------\n",
      "state_id : int\n",
      "    State id to retrieve\n",
      "ngl_url : str\n",
      "    Base url of a neuroglancer deployment. If None, defaults to the value for the datastack or the client.\n",
      "    If no value is found, only the URL to the JSON state is returned.\n",
      "\n",
      "Returns\n",
      "-------\n",
      "str\n",
      "    The full URL requested\n",
      "\u001b[0;31mFile:\u001b[0m      /opt/anaconda3/envs/allen_v1dd/lib/python3.10/site-packages/caveclient/jsonservice.py\n",
      "\u001b[0;31mType:\u001b[0m      method"
     ]
    }
   ],
   "source": [
    "cave_client.state.build_neuroglancer_url?"
   ]
  },
  {
   "cell_type": "code",
   "execution_count": 110,
   "metadata": {},
   "outputs": [],
   "source": [
    "from allen_v1dd.client import EMClient\n",
    "\n",
    "em_client = EMClient()"
   ]
  },
  {
   "cell_type": "code",
   "execution_count": 112,
   "metadata": {},
   "outputs": [
    {
     "data": {
      "text/html": [
       "<div>\n",
       "<style scoped>\n",
       "    .dataframe tbody tr th:only-of-type {\n",
       "        vertical-align: middle;\n",
       "    }\n",
       "\n",
       "    .dataframe tbody tr th {\n",
       "        vertical-align: top;\n",
       "    }\n",
       "\n",
       "    .dataframe thead th {\n",
       "        text-align: right;\n",
       "    }\n",
       "</style>\n",
       "<table border=\"1\" class=\"dataframe\">\n",
       "  <thead>\n",
       "    <tr style=\"text-align: right;\">\n",
       "      <th></th>\n",
       "      <th>index</th>\n",
       "      <th>id_ref</th>\n",
       "      <th>created_ref</th>\n",
       "      <th>valid_ref</th>\n",
       "      <th>volume</th>\n",
       "      <th>pt_supervoxel_id</th>\n",
       "      <th>pt_root_id</th>\n",
       "      <th>id</th>\n",
       "      <th>created</th>\n",
       "      <th>valid</th>\n",
       "      <th>...</th>\n",
       "      <th>ophys_volume</th>\n",
       "      <th>ophys_session_id</th>\n",
       "      <th>ophys_plane</th>\n",
       "      <th>ophys_roi</th>\n",
       "      <th>roi</th>\n",
       "      <th>position_microns</th>\n",
       "      <th>axon_proof_status</th>\n",
       "      <th>axon_proof_complete</th>\n",
       "      <th>dendrite_proof_status</th>\n",
       "      <th>dendrite_proof_complete</th>\n",
       "    </tr>\n",
       "  </thead>\n",
       "  <tbody>\n",
       "    <tr>\n",
       "      <th>0</th>\n",
       "      <td>0</td>\n",
       "      <td>276266</td>\n",
       "      <td>2022-02-04 06:21:16.129002+00:00</td>\n",
       "      <td>t</td>\n",
       "      <td>377.762618</td>\n",
       "      <td>91491531315515547</td>\n",
       "      <td>864691132827688641</td>\n",
       "      <td>1</td>\n",
       "      <td>2023-04-14 22:08:40.446962+00:00</td>\n",
       "      <td>t</td>\n",
       "      <td>...</td>\n",
       "      <td>3</td>\n",
       "      <td>M409828_13</td>\n",
       "      <td>0</td>\n",
       "      <td>117</td>\n",
       "      <td>M409828_13_0_117</td>\n",
       "      <td>[778.7521791075498, 227.97907876189072, 29.657...</td>\n",
       "      <td>submitted</td>\n",
       "      <td>True</td>\n",
       "      <td>not_started</td>\n",
       "      <td>True</td>\n",
       "    </tr>\n",
       "    <tr>\n",
       "      <th>1</th>\n",
       "      <td>1</td>\n",
       "      <td>276140</td>\n",
       "      <td>2022-02-04 06:30:31.896172+00:00</td>\n",
       "      <td>t</td>\n",
       "      <td>321.738753</td>\n",
       "      <td>92547406008789124</td>\n",
       "      <td>864691132728579766</td>\n",
       "      <td>2</td>\n",
       "      <td>2023-04-14 22:08:40.447864+00:00</td>\n",
       "      <td>t</td>\n",
       "      <td>...</td>\n",
       "      <td>3</td>\n",
       "      <td>M409828_13</td>\n",
       "      <td>0</td>\n",
       "      <td>75</td>\n",
       "      <td>M409828_13_0_75</td>\n",
       "      <td>[816.1188928555765, 236.2662880987557, 17.5425...</td>\n",
       "      <td>submitted</td>\n",
       "      <td>True</td>\n",
       "      <td>submitted</td>\n",
       "      <td>True</td>\n",
       "    </tr>\n",
       "    <tr>\n",
       "      <th>2</th>\n",
       "      <td>2</td>\n",
       "      <td>290027</td>\n",
       "      <td>2022-02-04 06:25:08.200797+00:00</td>\n",
       "      <td>t</td>\n",
       "      <td>309.625983</td>\n",
       "      <td>94237492550599227</td>\n",
       "      <td>864691132727393198</td>\n",
       "      <td>3</td>\n",
       "      <td>2023-04-14 22:08:40.448713+00:00</td>\n",
       "      <td>t</td>\n",
       "      <td>...</td>\n",
       "      <td>3</td>\n",
       "      <td>M409828_13</td>\n",
       "      <td>0</td>\n",
       "      <td>26</td>\n",
       "      <td>M409828_13_0_26</td>\n",
       "      <td>[874.2243220704512, 248.26178219838565, -104.6...</td>\n",
       "      <td>not_started</td>\n",
       "      <td>False</td>\n",
       "      <td>not_started</td>\n",
       "      <td>False</td>\n",
       "    </tr>\n",
       "    <tr>\n",
       "      <th>3</th>\n",
       "      <td>3</td>\n",
       "      <td>365414</td>\n",
       "      <td>2022-02-04 06:31:02.914671+00:00</td>\n",
       "      <td>t</td>\n",
       "      <td>363.636744</td>\n",
       "      <td>95855767575844611</td>\n",
       "      <td>864691132782526604</td>\n",
       "      <td>4</td>\n",
       "      <td>2023-04-14 22:08:40.449580+00:00</td>\n",
       "      <td>t</td>\n",
       "      <td>...</td>\n",
       "      <td>3</td>\n",
       "      <td>M409828_13</td>\n",
       "      <td>0</td>\n",
       "      <td>163</td>\n",
       "      <td>M409828_13_0_163</td>\n",
       "      <td>[933.6856808451048, 252.00293174161231, -63.72...</td>\n",
       "      <td>not_started</td>\n",
       "      <td>False</td>\n",
       "      <td>not_started</td>\n",
       "      <td>False</td>\n",
       "    </tr>\n",
       "    <tr>\n",
       "      <th>4</th>\n",
       "      <td>4</td>\n",
       "      <td>365704</td>\n",
       "      <td>2022-02-04 06:21:20.137086+00:00</td>\n",
       "      <td>t</td>\n",
       "      <td>380.395452</td>\n",
       "      <td>97192636343210349</td>\n",
       "      <td>864691132715818816</td>\n",
       "      <td>5</td>\n",
       "      <td>2023-04-14 22:08:40.450423+00:00</td>\n",
       "      <td>t</td>\n",
       "      <td>...</td>\n",
       "      <td>3</td>\n",
       "      <td>M409828_13</td>\n",
       "      <td>0</td>\n",
       "      <td>31</td>\n",
       "      <td>M409828_13_0_31</td>\n",
       "      <td>[979.6986711301596, 251.2837669970616, -46.357...</td>\n",
       "      <td>not_started</td>\n",
       "      <td>False</td>\n",
       "      <td>not_started</td>\n",
       "      <td>False</td>\n",
       "    </tr>\n",
       "  </tbody>\n",
       "</table>\n",
       "<p>5 rows × 32 columns</p>\n",
       "</div>"
      ],
      "text/plain": [
       "   index  id_ref                      created_ref valid_ref      volume  \\\n",
       "0      0  276266 2022-02-04 06:21:16.129002+00:00         t  377.762618   \n",
       "1      1  276140 2022-02-04 06:30:31.896172+00:00         t  321.738753   \n",
       "2      2  290027 2022-02-04 06:25:08.200797+00:00         t  309.625983   \n",
       "3      3  365414 2022-02-04 06:31:02.914671+00:00         t  363.636744   \n",
       "4      4  365704 2022-02-04 06:21:20.137086+00:00         t  380.395452   \n",
       "\n",
       "    pt_supervoxel_id          pt_root_id  id                          created  \\\n",
       "0  91491531315515547  864691132827688641   1 2023-04-14 22:08:40.446962+00:00   \n",
       "1  92547406008789124  864691132728579766   2 2023-04-14 22:08:40.447864+00:00   \n",
       "2  94237492550599227  864691132727393198   3 2023-04-14 22:08:40.448713+00:00   \n",
       "3  95855767575844611  864691132782526604   4 2023-04-14 22:08:40.449580+00:00   \n",
       "4  97192636343210349  864691132715818816   5 2023-04-14 22:08:40.450423+00:00   \n",
       "\n",
       "  valid  ...  ophys_volume  ophys_session_id  ophys_plane  ophys_roi  \\\n",
       "0     t  ...             3        M409828_13            0        117   \n",
       "1     t  ...             3        M409828_13            0         75   \n",
       "2     t  ...             3        M409828_13            0         26   \n",
       "3     t  ...             3        M409828_13            0        163   \n",
       "4     t  ...             3        M409828_13            0         31   \n",
       "\n",
       "                roi                                   position_microns  \\\n",
       "0  M409828_13_0_117  [778.7521791075498, 227.97907876189072, 29.657...   \n",
       "1   M409828_13_0_75  [816.1188928555765, 236.2662880987557, 17.5425...   \n",
       "2   M409828_13_0_26  [874.2243220704512, 248.26178219838565, -104.6...   \n",
       "3  M409828_13_0_163  [933.6856808451048, 252.00293174161231, -63.72...   \n",
       "4   M409828_13_0_31  [979.6986711301596, 251.2837669970616, -46.357...   \n",
       "\n",
       "   axon_proof_status axon_proof_complete dendrite_proof_status  \\\n",
       "0          submitted                True           not_started   \n",
       "1          submitted                True             submitted   \n",
       "2        not_started               False           not_started   \n",
       "3        not_started               False           not_started   \n",
       "4        not_started               False           not_started   \n",
       "\n",
       "  dendrite_proof_complete  \n",
       "0                    True  \n",
       "1                    True  \n",
       "2                   False  \n",
       "3                   False  \n",
       "4                   False  \n",
       "\n",
       "[5 rows x 32 columns]"
      ]
     },
     "execution_count": 112,
     "metadata": {},
     "output_type": "execute_result"
    }
   ],
   "source": [
    "coreg_table = em_client.get_coregistration_table()\n",
    "coreg_table.head()"
   ]
  },
  {
   "cell_type": "code",
   "execution_count": null,
   "metadata": {},
   "outputs": [],
   "source": []
  },
  {
   "cell_type": "code",
   "execution_count": 114,
   "metadata": {},
   "outputs": [
    {
     "name": "stdout",
     "output_type": "stream",
     "text": [
      "\u001b[0;31mInit signature:\u001b[0m \u001b[0mneuroglancer\u001b[0m\u001b[0;34m.\u001b[0m\u001b[0mPointAnnotation\u001b[0m\u001b[0;34m(\u001b[0m\u001b[0;34m*\u001b[0m\u001b[0margs\u001b[0m\u001b[0;34m,\u001b[0m \u001b[0;34m**\u001b[0m\u001b[0mkwargs\u001b[0m\u001b[0;34m)\u001b[0m\u001b[0;34m\u001b[0m\u001b[0;34m\u001b[0m\u001b[0m\n",
      "\u001b[0;31mDocstring:\u001b[0m      <no docstring>\n",
      "\u001b[0;31mFile:\u001b[0m           /opt/anaconda3/envs/allen_v1dd/lib/python3.10/site-packages/neuroglancer/viewer_state.py\n",
      "\u001b[0;31mType:\u001b[0m           type\n",
      "\u001b[0;31mSubclasses:\u001b[0m     "
     ]
    }
   ],
   "source": [
    "neuroglancer.PointAnnotation"
   ]
  },
  {
   "cell_type": "code",
   "execution_count": null,
   "metadata": {},
   "outputs": [],
   "source": [
    "state_id = cave_client.state.upload_state_json(state)"
   ]
  },
  {
   "cell_type": "code",
   "execution_count": 136,
   "metadata": {},
   "outputs": [],
   "source": [
    "from nglui.statebuilder import *"
   ]
  },
  {
   "cell_type": "code",
   "execution_count": null,
   "metadata": {},
   "outputs": [],
   "source": []
  },
  {
   "cell_type": "code",
   "execution_count": 119,
   "metadata": {},
   "outputs": [
    {
     "name": "stdout",
     "output_type": "stream",
     "text": [
      "\u001b[0;31mType:\u001b[0m        AnnotationLayerConfig\n",
      "\u001b[0;31mString form:\u001b[0m <nglui.statebuilder.layers.AnnotationLayerConfig object at 0x7f887a7a0400>\n",
      "\u001b[0;31mFile:\u001b[0m        /opt/anaconda3/envs/allen_v1dd/lib/python3.10/site-packages/nglui/statebuilder/layers.py\n",
      "\u001b[0;31mDocstring:\u001b[0m  \n",
      "Configuration class for annotation layers\n",
      "\n",
      "Parameters\n",
      "----------\n",
      "name : str, optional\n",
      "    Layer name. By default, 'annos'\n",
      "color : str, optional\n",
      "    Hex color code with an initial #. By default, None\n",
      "linked_segmentation_layer : str, optional\n",
      "    Name of a linked segmentation layer for selected ids. By default, None\n",
      "mapping_rules : PointMapper, LineMapper, SphereMapper or list, optional\n",
      "    One rule or a list of rules mapping data to annotations. By default, []\n",
      "array_data : bool, optional\n",
      "    If True, allows simple mapping where one or more arrays are passed instead of a dataframe.\n",
      "    Only allows basic annotation creation, no tags, linked segmentations, or other rich features.\n",
      "tags : list, optional\n",
      "    List of tags for the layer.\n",
      "active : bool, optional\n",
      "    If True, makes the layer selected. Default is True (unlike for image/segmentation layers)."
     ]
    }
   ],
   "source": [
    "anno_layer = AnnotationLayerConfig(name=\"anno\")\n",
    "\n",
    "anno_layer?"
   ]
  },
  {
   "cell_type": "code",
   "execution_count": 163,
   "metadata": {},
   "outputs": [
    {
     "name": "stdout",
     "output_type": "stream",
     "text": [
      "\u001b[0;31mInit signature:\u001b[0m\n",
      "\u001b[0mAnnotationLayerConfig\u001b[0m\u001b[0;34m(\u001b[0m\u001b[0;34m\u001b[0m\n",
      "\u001b[0;34m\u001b[0m    \u001b[0mname\u001b[0m\u001b[0;34m=\u001b[0m\u001b[0;32mNone\u001b[0m\u001b[0;34m,\u001b[0m\u001b[0;34m\u001b[0m\n",
      "\u001b[0;34m\u001b[0m    \u001b[0mcolor\u001b[0m\u001b[0;34m=\u001b[0m\u001b[0;32mNone\u001b[0m\u001b[0;34m,\u001b[0m\u001b[0;34m\u001b[0m\n",
      "\u001b[0;34m\u001b[0m    \u001b[0mlinked_segmentation_layer\u001b[0m\u001b[0;34m=\u001b[0m\u001b[0;32mNone\u001b[0m\u001b[0;34m,\u001b[0m\u001b[0;34m\u001b[0m\n",
      "\u001b[0;34m\u001b[0m    \u001b[0mmapping_rules\u001b[0m\u001b[0;34m=\u001b[0m\u001b[0;34m[\u001b[0m\u001b[0;34m]\u001b[0m\u001b[0;34m,\u001b[0m\u001b[0;34m\u001b[0m\n",
      "\u001b[0;34m\u001b[0m    \u001b[0marray_data\u001b[0m\u001b[0;34m=\u001b[0m\u001b[0;32mFalse\u001b[0m\u001b[0;34m,\u001b[0m\u001b[0;34m\u001b[0m\n",
      "\u001b[0;34m\u001b[0m    \u001b[0mtags\u001b[0m\u001b[0;34m=\u001b[0m\u001b[0;32mNone\u001b[0m\u001b[0;34m,\u001b[0m\u001b[0;34m\u001b[0m\n",
      "\u001b[0;34m\u001b[0m    \u001b[0mactive\u001b[0m\u001b[0;34m=\u001b[0m\u001b[0;32mTrue\u001b[0m\u001b[0;34m,\u001b[0m\u001b[0;34m\u001b[0m\n",
      "\u001b[0;34m\u001b[0m    \u001b[0mfilter_by_segmentation\u001b[0m\u001b[0;34m=\u001b[0m\u001b[0;32mFalse\u001b[0m\u001b[0;34m,\u001b[0m\u001b[0;34m\u001b[0m\n",
      "\u001b[0;34m\u001b[0m    \u001b[0mbrackets_show_segmentation\u001b[0m\u001b[0;34m=\u001b[0m\u001b[0;32mTrue\u001b[0m\u001b[0;34m,\u001b[0m\u001b[0;34m\u001b[0m\n",
      "\u001b[0;34m\u001b[0m    \u001b[0mselection_shows_segmentation\u001b[0m\u001b[0;34m=\u001b[0m\u001b[0;32mTrue\u001b[0m\u001b[0;34m,\u001b[0m\u001b[0;34m\u001b[0m\n",
      "\u001b[0;34m\u001b[0m    \u001b[0mfilter_query\u001b[0m\u001b[0;34m=\u001b[0m\u001b[0;32mNone\u001b[0m\u001b[0;34m,\u001b[0m\u001b[0;34m\u001b[0m\n",
      "\u001b[0;34m\u001b[0m    \u001b[0mdata_resolution\u001b[0m\u001b[0;34m=\u001b[0m\u001b[0;32mNone\u001b[0m\u001b[0;34m,\u001b[0m\u001b[0;34m\u001b[0m\n",
      "\u001b[0;34m\u001b[0m\u001b[0;34m)\u001b[0m\u001b[0;34m\u001b[0m\u001b[0;34m\u001b[0m\u001b[0m\n",
      "\u001b[0;31mDocstring:\u001b[0m     \n",
      "Configuration class for annotation layers\n",
      "\n",
      "Parameters\n",
      "----------\n",
      "name : str, optional\n",
      "    Layer name. By default, 'annos'\n",
      "color : str, optional\n",
      "    Hex color code with an initial #. By default, None\n",
      "linked_segmentation_layer : str, optional\n",
      "    Name of a linked segmentation layer for selected ids. By default, None\n",
      "mapping_rules : PointMapper, LineMapper, SphereMapper or list, optional\n",
      "    One rule or a list of rules mapping data to annotations. By default, []\n",
      "array_data : bool, optional\n",
      "    If True, allows simple mapping where one or more arrays are passed instead of a dataframe.\n",
      "    Only allows basic annotation creation, no tags, linked segmentations, or other rich features.\n",
      "tags : list, optional\n",
      "    List of tags for the layer.\n",
      "active : bool, optional\n",
      "    If True, makes the layer selected. Default is True (unlike for image/segmentation layers).\n",
      "\u001b[0;31mFile:\u001b[0m           /opt/anaconda3/envs/allen_v1dd/lib/python3.10/site-packages/nglui/statebuilder/layers.py\n",
      "\u001b[0;31mType:\u001b[0m           type\n",
      "\u001b[0;31mSubclasses:\u001b[0m     "
     ]
    }
   ],
   "source": [
    "AnnotationLayerConfig?"
   ]
  },
  {
   "cell_type": "code",
   "execution_count": 157,
   "metadata": {},
   "outputs": [
    {
     "name": "stdout",
     "output_type": "stream",
     "text": [
      "\u001b[0;31mInit signature:\u001b[0m\n",
      "\u001b[0mImageLayerConfig\u001b[0m\u001b[0;34m(\u001b[0m\u001b[0;34m\u001b[0m\n",
      "\u001b[0;34m\u001b[0m    \u001b[0msource\u001b[0m\u001b[0;34m,\u001b[0m\u001b[0;34m\u001b[0m\n",
      "\u001b[0;34m\u001b[0m    \u001b[0mname\u001b[0m\u001b[0;34m=\u001b[0m\u001b[0;32mNone\u001b[0m\u001b[0;34m,\u001b[0m\u001b[0;34m\u001b[0m\n",
      "\u001b[0;34m\u001b[0m    \u001b[0mactive\u001b[0m\u001b[0;34m=\u001b[0m\u001b[0;32mFalse\u001b[0m\u001b[0;34m,\u001b[0m\u001b[0;34m\u001b[0m\n",
      "\u001b[0;34m\u001b[0m    \u001b[0mcontrast_controls\u001b[0m\u001b[0;34m=\u001b[0m\u001b[0;32mFalse\u001b[0m\u001b[0;34m,\u001b[0m\u001b[0;34m\u001b[0m\n",
      "\u001b[0;34m\u001b[0m    \u001b[0mblack\u001b[0m\u001b[0;34m=\u001b[0m\u001b[0;36m0.0\u001b[0m\u001b[0;34m,\u001b[0m\u001b[0;34m\u001b[0m\n",
      "\u001b[0;34m\u001b[0m    \u001b[0mwhite\u001b[0m\u001b[0;34m=\u001b[0m\u001b[0;36m1.0\u001b[0m\u001b[0;34m,\u001b[0m\u001b[0;34m\u001b[0m\n",
      "\u001b[0;34m\u001b[0m\u001b[0;34m)\u001b[0m\u001b[0;34m\u001b[0m\u001b[0;34m\u001b[0m\u001b[0m\n",
      "\u001b[0;31mDocstring:\u001b[0m     \n",
      "Image layer configuration class.\n",
      "\n",
      "This provides the rules for setting up an image layer in neuroglancer.\n",
      "\n",
      "Parameters\n",
      "----------\n",
      "source : str\n",
      "    Cloudpath to an image source\n",
      "name : str, optional\n",
      "    Name of the image layer. By default, 'img'.\n",
      "active : bool, optional\n",
      "    If True, makes the layer active in neuroglancer. Default is False.\n",
      "contrast_controls : bool, optional\n",
      "    If True, gives the layer a user-controllable brightness and contrast shader. Default is False.\n",
      "black : float, optional\n",
      "    If contrast_controls is True, sets the default black level. Default is 0.0.\n",
      "white : float, optional\n",
      "    If contrast_controls is True, sets the default white level. Default is 1.0.\n",
      "\u001b[0;31mFile:\u001b[0m           /opt/anaconda3/envs/allen_v1dd/lib/python3.10/site-packages/nglui/statebuilder/layers.py\n",
      "\u001b[0;31mType:\u001b[0m           type\n",
      "\u001b[0;31mSubclasses:\u001b[0m     "
     ]
    }
   ],
   "source": [
    "ImageLayerConfig?"
   ]
  },
  {
   "cell_type": "code",
   "execution_count": 158,
   "metadata": {},
   "outputs": [
    {
     "data": {
      "text/plain": [
       "'https://neuroglancer.neuvue.io/#!%7B%22navigation%22:%7B%22pose%22:%7B%22position%22:%7B%22voxelSize%22:%5B9,9,45%5D%7D,%22orientation%22:%5B-0.13508161545914635,0.00033619658472511314,-0.0024660211129508766,0.9908313493610678%5D%7D,%22zoomFactor%22:2.0%7D,%22jsonStateServer%22:%22https://global.em.brain.allentech.org/nglstate/api/v1/post%22,%22showSlices%22:false,%22layout%22:%22xz-3d%22,%22perspectiveZoom%22:2000.0,%22layers%22:%5B%7B%22type%22:%22image%22,%22source%22:%22graphene://https://api.em.brain.allentech.org/proxy/v1dd/image/aligned_image%22,%22name%22:%22EM-img%22,%22shader%22:%22#uicontrol%20float%20black%20slider(min=0,%20max=1,%20default=0.35)%5Cn#uicontrol%20float%20white%20slider(min=0,%20max=1,%20default=0.65)%5Cnfloat%20rescale(float%20value)%20%7B%5Cn%20%20return%20(value%20-%20black)%20/%20(white%20-%20black);%5Cn%7D%5Cnvoid%20main()%20%7B%5Cn%20%20float%20val%20=%20toNormalized(getDataValue());%5Cn%20%20if%20(val%20%3C%20black)%20%7B%5Cn%20%20%20%20emitRGB(vec3(0,0,0));%5Cn%20%20%7D%20else%20if%20(val%20%3E%20white)%20%7B%5Cn%20%20%20%20emitRGB(vec3(1.0,%201.0,%201.0));%5Cn%20%20%7D%20else%20%7B%5Cn%20%20%20%20emitGrayscale(rescale(val));%5Cn%20%20%7D%5Cn%7D%5Cn%22%7D,%7B%22type%22:%22image%22,%22source%22:%22graphene://https://api.em.brain.allentech.org/segmentation/table/aibs_v1dd%22,%22name%22:%22EM-seg%22%7D,%7B%22type%22:%22annotation%22,%22filterBySegmentation%22:false,%22bracketShortcutsShowSegmentation%22:true,%22annotationSelectionShowsSegmentation%22:true,%22name%22:%22anno%22%7D%5D,%22selectedLayer%22:%7B%22layer%22:%22anno%22,%22visible%22:true%7D%7D'"
      ]
     },
     "execution_count": 158,
     "metadata": {},
     "output_type": "execute_result"
    }
   ],
   "source": [
    "em_image_layer = ImageLayerConfig(\n",
    "    name = \"EM-img\",\n",
    "    source = cave_client.info.image_source(),\n",
    "    contrast_controls = True,\n",
    "    black = 0.35,\n",
    "    white = 0.65,\n",
    ")\n",
    "\n",
    "em_segmentation_layer = ImageLayerConfig(\n",
    "    name = \"EM-seg\",\n",
    "    source = cave_client.info.segmentation_source()\n",
    ")\n",
    "\n",
    "sb = StateBuilder(\n",
    "    layers = [em_image_layer, em_segmentation_layer, anno_layer],\n",
    "    state_server = \"https://global.em.brain.allentech.org/nglstate/api/v1/post\",\n",
    "    view_kws = dict(\n",
    "        layout = \"xz-3d\"\n",
    "    )\n",
    ")\n",
    "\n",
    "sb.render_state(return_as=\"url\", url_prefix=cave_client.info.viewer_site(), base_state=BASE_STATE)"
   ]
  },
  {
   "cell_type": "code",
   "execution_count": null,
   "metadata": {},
   "outputs": [],
   "source": []
  },
  {
   "cell_type": "code",
   "execution_count": null,
   "metadata": {},
   "outputs": [],
   "source": []
  }
 ],
 "metadata": {
  "kernelspec": {
   "display_name": "allen_v1dd",
   "language": "python",
   "name": "python3"
  },
  "language_info": {
   "codemirror_mode": {
    "name": "ipython",
    "version": 3
   },
   "file_extension": ".py",
   "mimetype": "text/x-python",
   "name": "python",
   "nbconvert_exporter": "python",
   "pygments_lexer": "ipython3",
   "version": "3.10.10"
  },
  "orig_nbformat": 4
 },
 "nbformat": 4,
 "nbformat_minor": 2
}
