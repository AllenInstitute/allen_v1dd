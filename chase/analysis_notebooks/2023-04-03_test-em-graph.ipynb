{
 "cells": [
  {
   "cell_type": "code",
   "execution_count": 1,
   "metadata": {},
   "outputs": [],
   "source": [
    "import networkx as nx"
   ]
  },
  {
   "cell_type": "code",
   "execution_count": 2,
   "metadata": {},
   "outputs": [],
   "source": [
    "graph = nx.MultiDiGraph() # Multi because sometimes there are multiple synapses from neuron A to B"
   ]
  },
  {
   "cell_type": "code",
   "execution_count": 3,
   "metadata": {},
   "outputs": [],
   "source": [
    "root_id_a = 1283971983272897\n",
    "root_id_b = 1857298751987243\n",
    "graph.add_node(root_id_a)"
   ]
  },
  {
   "cell_type": "code",
   "execution_count": 4,
   "metadata": {},
   "outputs": [
    {
     "data": {
      "text/plain": [
       "0"
      ]
     },
     "execution_count": 4,
     "metadata": {},
     "output_type": "execute_result"
    }
   ],
   "source": [
    "graph.add_edge(root_id_a, root_id_b, weight=123)\n",
    "graph.add_edge(root_id_a, root_id_b, weight=456)\n",
    "graph.add_edge(root_id_b, root_id_b, weight=1)"
   ]
  },
  {
   "cell_type": "code",
   "execution_count": 5,
   "metadata": {},
   "outputs": [
    {
     "name": "stdout",
     "output_type": "stream",
     "text": [
      "Total number of nodes:  2\n",
      "Total number of edges:  3\n",
      "Degree for all nodes:  {1283971983272897: 2, 1857298751987243: 4}\n",
      "Total number of self-loops:  1\n",
      "List of all nodes with self-loops:  [1857298751987243]\n",
      "List of all nodes we can go to in a single step from node A:  [1857298751987243]\n"
     ]
    }
   ],
   "source": [
    "print(\"Total number of nodes: \", int(graph.number_of_nodes()))\n",
    "print(\"Total number of edges: \", int(graph.number_of_edges()))\n",
    "print(\"Degree for all nodes: \", dict(graph.degree()))\n",
    "print(\"Total number of self-loops: \", int(nx.number_of_selfloops(graph)))\n",
    "print(\"List of all nodes with self-loops: \", list(nx.nodes_with_selfloops(graph)))\n",
    "print(\"List of all nodes we can go to in a single step from node A: \",list(graph.neighbors(root_id_a)))"
   ]
  },
  {
   "cell_type": "code",
   "execution_count": 6,
   "metadata": {},
   "outputs": [
    {
     "data": {
      "image/png": "[encoded data removed]",
      "text/plain": [
       "<Figure size 640x480 with 1 Axes>"
      ]
     },
     "metadata": {},
     "output_type": "display_data"
    }
   ],
   "source": [
    "nx.draw_networkx(graph)"
   ]
  },
  {
   "cell_type": "code",
   "execution_count": 7,
   "metadata": {},
   "outputs": [
    {
     "data": {
      "text/plain": [
       "OutMultiEdgeView([(1283971983272897, 1857298751987243, 0), (1283971983272897, 1857298751987243, 1), (1857298751987243, 1857298751987243, 0)])"
      ]
     },
     "execution_count": 7,
     "metadata": {},
     "output_type": "execute_result"
    }
   ],
   "source": [
    "graph.edges"
   ]
  },
  {
   "cell_type": "code",
   "execution_count": 8,
   "metadata": {},
   "outputs": [
    {
     "data": {
      "text/plain": [
       "MultiAdjacencyView({1283971983272897: {1857298751987243: {0: {'weight': 123}, 1: {'weight': 456}}}, 1857298751987243: {1857298751987243: {0: {'weight': 1}}}})"
      ]
     },
     "execution_count": 8,
     "metadata": {},
     "output_type": "execute_result"
    }
   ],
   "source": [
    "graph.adj"
   ]
  },
  {
   "cell_type": "code",
   "execution_count": 9,
   "metadata": {},
   "outputs": [
    {
     "name": "stdout",
     "output_type": "stream",
     "text": [
      "1283971983272897 1857298751987243 {'weight': 123}\n",
      "1283971983272897 1857298751987243 {'weight': 456}\n",
      "1857298751987243 1857298751987243 {'weight': 1}\n"
     ]
    }
   ],
   "source": [
    "for u, v, data in graph.edges.data():\n",
    "    print(u, v, data)"
   ]
  },
  {
   "cell_type": "code",
   "execution_count": 10,
   "metadata": {},
   "outputs": [
    {
     "name": "stdout",
     "output_type": "stream",
     "text": [
      "1283971983272897 to 1857298751987243: weight=123\n",
      "1283971983272897 to 1857298751987243: weight=456\n",
      "1857298751987243 to 1857298751987243: weight=1\n"
     ]
    }
   ],
   "source": [
    "for u, v, weight in graph.edges.data(\"weight\"):\n",
    "    print(f\"{u} to {v}: weight={weight}\")"
   ]
  },
  {
   "cell_type": "code",
   "execution_count": 11,
   "metadata": {},
   "outputs": [
    {
     "data": {
      "text/plain": [
       "{'weight': 1}"
      ]
     },
     "execution_count": 11,
     "metadata": {},
     "output_type": "execute_result"
    }
   ],
   "source": [
    "nx.DiGraph(graph)[u][v]"
   ]
  },
  {
   "attachments": {},
   "cell_type": "markdown",
   "metadata": {},
   "source": [
    "# Convert MultiDiGraph to DiGraph"
   ]
  },
  {
   "cell_type": "code",
   "execution_count": 12,
   "metadata": {},
   "outputs": [
    {
     "name": "stdout",
     "output_type": "stream",
     "text": [
      "1283971983272897 1857298751987243 {'weight': 579}\n",
      "1857298751987243 1857298751987243 {'weight': 1}\n"
     ]
    }
   ],
   "source": [
    "single_graph = nx.DiGraph()\n",
    "attrs_to_incr = [\"weight\"]\n",
    "\n",
    "for u, v, data in graph.edges.data():\n",
    "    if single_graph.has_edge(u, v):\n",
    "        # Edge exists; increment all numeric types\n",
    "        for key, value in data.items():\n",
    "            if key in attrs_to_incr: # isinstance(value, Number)\n",
    "                single_graph[u][v][key] += value\n",
    "    else:\n",
    "        # Edge doesn't exist; add it with same data\n",
    "        single_graph.add_edge(u, v, **data)\n",
    "\n",
    "for u, v, data in single_graph.edges.data():\n",
    "    print(u, v, data)\n",
    "            "
   ]
  },
  {
   "attachments": {},
   "cell_type": "markdown",
   "metadata": {},
   "source": [
    "# Saving and reading from files"
   ]
  },
  {
   "cell_type": "code",
   "execution_count": 13,
   "metadata": {},
   "outputs": [],
   "source": [
    "from networkx.readwrite.gml import read_gml, write_gml"
   ]
  },
  {
   "cell_type": "code",
   "execution_count": 14,
   "metadata": {},
   "outputs": [],
   "source": [
    "# Write to file\n",
    "save_file = \"/Users/chase/Desktop/test_graph.gml\"\n",
    "write_gml(graph, save_file)"
   ]
  },
  {
   "cell_type": "code",
   "execution_count": 15,
   "metadata": {},
   "outputs": [],
   "source": [
    "# Read from file\n",
    "graph_from_file = read_gml(save_file)"
   ]
  },
  {
   "cell_type": "code",
   "execution_count": 16,
   "metadata": {},
   "outputs": [
    {
     "name": "stdout",
     "output_type": "stream",
     "text": [
      "1283971983272897 to 1857298751987243: {'weight': 123}\n",
      "1283971983272897 to 1857298751987243: {'weight': 456}\n",
      "1857298751987243 to 1857298751987243: {'weight': 1}\n"
     ]
    }
   ],
   "source": [
    "for u, v, data in graph_from_file.edges.data():\n",
    "    print(f\"{u} to {v}: {data}\")"
   ]
  },
  {
   "cell_type": "code",
   "execution_count": 17,
   "metadata": {},
   "outputs": [
    {
     "data": {
      "text/plain": [
       "<networkx.classes.multidigraph.MultiDiGraph at 0x7f9dd8803fa0>"
      ]
     },
     "execution_count": 17,
     "metadata": {},
     "output_type": "execute_result"
    }
   ],
   "source": [
    "graph_from_file"
   ]
  },
  {
   "cell_type": "code",
   "execution_count": 18,
   "metadata": {},
   "outputs": [
    {
     "data": {
      "text/plain": [
       "True"
      ]
     },
     "execution_count": 18,
     "metadata": {},
     "output_type": "execute_result"
    }
   ],
   "source": [
    "# They are equal\n",
    "edge_match = nx.algorithms.isomorphism.numerical_multiedge_match(\"weight\", 0)\n",
    "nx.is_isomorphic(graph, graph_from_file, edge_match=edge_match)"
   ]
  }
 ],
 "metadata": {
  "kernelspec": {
   "display_name": "allen_v1dd",
   "language": "python",
   "name": "python3"
  },
  "language_info": {
   "codemirror_mode": {
    "name": "ipython",
    "version": 3
   },
   "file_extension": ".py",
   "mimetype": "text/x-python",
   "name": "python",
   "nbconvert_exporter": "python",
   "pygments_lexer": "ipython3",
   "version": "3.10.10"
  },
  "orig_nbformat": 4
 },
 "nbformat": 4,
 "nbformat_minor": 2
}
