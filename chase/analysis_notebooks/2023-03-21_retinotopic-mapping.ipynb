{
 "cells": [
  {
   "cell_type": "code",
   "execution_count": 51,
   "metadata": {},
   "outputs": [
    {
     "name": "stdout",
     "output_type": "stream",
     "text": [
      "The autoreload extension is already loaded. To reload it, use:\n",
      "  %reload_ext autoreload\n"
     ]
    }
   ],
   "source": [
    "import numpy as np\n",
    "import pandas as pd\n",
    "import matplotlib.pyplot as plt\n",
    "from tqdm import tqdm\n",
    "import seaborn as sns\n",
    "import h5py\n",
    "\n",
    "from allen_v1dd.client import OPhysClient\n",
    "from allen_v1dd.stimulus_analysis import LocallySparseNoise\n",
    "from allen_v1dd.stimulus_analysis import analysis_tools as at\n",
    "at.set_stylesheet()\n",
    "\n",
    "%matplotlib inline\n",
    "%load_ext autoreload\n",
    "%autoreload 2"
   ]
  },
  {
   "cell_type": "code",
   "execution_count": 2,
   "metadata": {},
   "outputs": [],
   "source": [
    "client = OPhysClient(\"/Users/chase/Desktop/test_v1dd_data/\")"
   ]
  },
  {
   "cell_type": "code",
   "execution_count": 4,
   "metadata": {},
   "outputs": [],
   "source": [
    "RF_TYPES = (\"on\", \"off\")"
   ]
  },
  {
   "cell_type": "code",
   "execution_count": 77,
   "metadata": {},
   "outputs": [],
   "source": [
    "def get_h5_group(h5_file, group_names, create_if_not_exists=True, overwrite=False):\n",
    "    curr_group = h5_file\n",
    "\n",
    "    for i in range(len(group_names)):\n",
    "        name = group_names[i]\n",
    "        is_last = i == len(group_names) - 1\n",
    "        \n",
    "        if is_last and name in curr_group and overwrite:\n",
    "            del curr_group[name]\n",
    "\n",
    "        if name in curr_group:\n",
    "            curr_group = curr_group[name]\n",
    "        else:\n",
    "            if create_if_not_exists:\n",
    "                curr_group = curr_group.create_group(name)\n",
    "            else:\n",
    "                return None\n",
    "\n",
    "    return curr_group"
   ]
  },
  {
   "cell_type": "code",
   "execution_count": null,
   "metadata": {},
   "outputs": [],
   "source": []
  }
 ],
 "metadata": {
  "kernelspec": {
   "display_name": "allen_v1dd",
   "language": "python",
   "name": "python3"
  },
  "language_info": {
   "codemirror_mode": {
    "name": "ipython",
    "version": 3
   },
   "file_extension": ".py",
   "mimetype": "text/x-python",
   "name": "python",
   "nbconvert_exporter": "python",
   "pygments_lexer": "ipython3",
   "version": "3.10.9"
  },
  "orig_nbformat": 4
 },
 "nbformat": 4,
 "nbformat_minor": 2
}
