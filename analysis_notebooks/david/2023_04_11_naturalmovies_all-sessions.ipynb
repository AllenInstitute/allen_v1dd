{
 "cells": [
  {
   "cell_type": "markdown",
   "metadata": {},
   "source": [
    "## Load modules and data"
   ]
  },
  {
   "cell_type": "code",
   "execution_count": 1,
   "metadata": {},
   "outputs": [],
   "source": [
    "#Base\n",
    "import sys, os\n",
    "import numpy as np\n",
    "import xarray as xr\n",
    "import pandas as pd\n",
    "import scipy.stats as st\n",
    "from tqdm.notebook import trange, tqdm\n",
    "\n",
    "#Plot\n",
    "import matplotlib.pyplot as plt\n",
    "from matplotlib.backends.backend_pdf import PdfPages\n",
    "import seaborn as sns\n",
    "import matplotlib.gridspec as gridspec\n",
    "\n",
    "#V1DD\n",
    "from allen_v1dd.client import OPhysClient, OPhysSession\n",
    "from allen_v1dd.stimulus_analysis import StimulusAnalysis\n",
    "from allen_v1dd.stimulus_analysis.correlation import calculate_correlation, ProgressBar\n",
    "from allen_v1dd.stimulus_analysis.natural_scenes import NaturalScenes\n",
    "from allen_v1dd.stimulus_analysis.natural_movie import NaturalMovie\n",
    "from allen_v1dd.stimulus_analysis.drifting_gratings import DriftingGratings\n",
    "\n",
    "%matplotlib inline\n",
    "%load_ext autoreload\n",
    "%autoreload 2\n",
    "\n",
    "PlotDir = '/home/david.wyrick/projects/V1DD/plots'"
   ]
  },
  {
   "cell_type": "code",
   "execution_count": 2,
   "metadata": {},
   "outputs": [],
   "source": [
    "## Load data\n",
    "base_folder = r\"\\\\allen\\programs\\mindscope\\workgroups\\surround\\v1dd_in_vivo_new_segmentation\\data\" #Server\n",
    "base_folder = \"/data/v1dd_in_vivo_new_segmentation\" # Local on robinson for golden mouse\n",
    "client = OPhysClient(base_folder)"
   ]
  },
  {
   "cell_type": "code",
   "execution_count": 3,
   "metadata": {},
   "outputs": [
    {
     "name": "stdout",
     "output_type": "stream",
     "text": [
      "Loaded ophys session M409828_13 (mouse 409828, column 1, volume 3)\n"
     ]
    }
   ],
   "source": [
    "##===== Load session from golden mouse =====##\n",
    "mouse_id = 409828; col = 1; vol = 3; plane = 3\n",
    "\n",
    "sess = client.load_ophys_session(mouse=mouse_id, column=col, volume=vol)\n",
    "print(f\"Loaded ophys session {sess.get_session_id()} (mouse {sess.get_mouse_id()}, column {sess.get_column_id()}, volume {sess.get_volume_id()})\")\n"
   ]
  },
  {
   "cell_type": "code",
   "execution_count": 4,
   "metadata": {},
   "outputs": [],
   "source": [
    "rois = np.array(sess.get_rois(plane))\n",
    "mask = sess.is_roi_valid(plane)"
   ]
  },
  {
   "cell_type": "code",
   "execution_count": 5,
   "metadata": {},
   "outputs": [
    {
     "data": {
      "text/html": [
       "<div>\n",
       "<style scoped>\n",
       "    .dataframe tbody tr th:only-of-type {\n",
       "        vertical-align: middle;\n",
       "    }\n",
       "\n",
       "    .dataframe tbody tr th {\n",
       "        vertical-align: top;\n",
       "    }\n",
       "\n",
       "    .dataframe thead th {\n",
       "        text-align: right;\n",
       "    }\n",
       "</style>\n",
       "<table border=\"1\" class=\"dataframe\">\n",
       "  <thead>\n",
       "    <tr style=\"text-align: right;\">\n",
       "      <th></th>\n",
       "      <th>start</th>\n",
       "      <th>end</th>\n",
       "      <th>frame</th>\n",
       "    </tr>\n",
       "  </thead>\n",
       "  <tbody>\n",
       "    <tr>\n",
       "      <th>0</th>\n",
       "      <td>1343.707764</td>\n",
       "      <td>1343.724487</td>\n",
       "      <td>0</td>\n",
       "    </tr>\n",
       "    <tr>\n",
       "      <th>1</th>\n",
       "      <td>1343.741211</td>\n",
       "      <td>1343.757935</td>\n",
       "      <td>1</td>\n",
       "    </tr>\n",
       "    <tr>\n",
       "      <th>2</th>\n",
       "      <td>1343.774536</td>\n",
       "      <td>1343.791260</td>\n",
       "      <td>2</td>\n",
       "    </tr>\n",
       "    <tr>\n",
       "      <th>3</th>\n",
       "      <td>1343.807983</td>\n",
       "      <td>1343.824707</td>\n",
       "      <td>3</td>\n",
       "    </tr>\n",
       "    <tr>\n",
       "      <th>4</th>\n",
       "      <td>1343.841309</td>\n",
       "      <td>1343.857910</td>\n",
       "      <td>4</td>\n",
       "    </tr>\n",
       "    <tr>\n",
       "      <th>...</th>\n",
       "      <td>...</td>\n",
       "      <td>...</td>\n",
       "      <td>...</td>\n",
       "    </tr>\n",
       "    <tr>\n",
       "      <th>29695</th>\n",
       "      <td>3537.367676</td>\n",
       "      <td>3537.384277</td>\n",
       "      <td>895</td>\n",
       "    </tr>\n",
       "    <tr>\n",
       "      <th>29696</th>\n",
       "      <td>3537.401123</td>\n",
       "      <td>3537.417725</td>\n",
       "      <td>896</td>\n",
       "    </tr>\n",
       "    <tr>\n",
       "      <th>29697</th>\n",
       "      <td>3537.434326</td>\n",
       "      <td>3537.451172</td>\n",
       "      <td>897</td>\n",
       "    </tr>\n",
       "    <tr>\n",
       "      <th>29698</th>\n",
       "      <td>3537.467773</td>\n",
       "      <td>3537.484375</td>\n",
       "      <td>898</td>\n",
       "    </tr>\n",
       "    <tr>\n",
       "      <th>29699</th>\n",
       "      <td>3537.501221</td>\n",
       "      <td>3537.517822</td>\n",
       "      <td>899</td>\n",
       "    </tr>\n",
       "  </tbody>\n",
       "</table>\n",
       "<p>29700 rows × 3 columns</p>\n",
       "</div>"
      ],
      "text/plain": [
       "             start          end  frame\n",
       "0      1343.707764  1343.724487      0\n",
       "1      1343.741211  1343.757935      1\n",
       "2      1343.774536  1343.791260      2\n",
       "3      1343.807983  1343.824707      3\n",
       "4      1343.841309  1343.857910      4\n",
       "...            ...          ...    ...\n",
       "29695  3537.367676  3537.384277    895\n",
       "29696  3537.401123  3537.417725    896\n",
       "29697  3537.434326  3537.451172    897\n",
       "29698  3537.467773  3537.484375    898\n",
       "29699  3537.501221  3537.517822    899\n",
       "\n",
       "[29700 rows x 3 columns]"
      ]
     },
     "execution_count": 5,
     "metadata": {},
     "output_type": "execute_result"
    }
   ],
   "source": [
    "stim_table, stim_meta = sess.get_stimulus_table(\"natural_movie\")\n",
    "stim_table"
   ]
  },
  {
   "cell_type": "code",
   "execution_count": 6,
   "metadata": {},
   "outputs": [
    {
     "data": {
      "application/vnd.jupyter.widget-view+json": {
       "model_id": "2f43c0f677bc4856a0e357daa761d16f",
       "version_major": 2,
       "version_minor": 0
      },
      "text/plain": [
       "  0%|          | 0/1482 [00:00<?, ?it/s]"
      ]
     },
     "metadata": {},
     "output_type": "display_data"
    },
    {
     "ename": "KeyboardInterrupt",
     "evalue": "",
     "output_type": "error",
     "traceback": [
      "\u001b[0;31m---------------------------------------------------------------------------\u001b[0m",
      "\u001b[0;31mKeyboardInterrupt\u001b[0m                         Traceback (most recent call last)",
      "\u001b[1;32m/home/david.wyrick/Git/allen_v1dd/david/2023_04_11_naturalmovies_all-sessions.ipynb Cell 7\u001b[0m in \u001b[0;36m5\n\u001b[1;32m      <a href='vscode-notebook-cell:/home/david.wyrick/Git/allen_v1dd/david/2023_04_11_naturalmovies_all-sessions.ipynb#X21sZmlsZQ%3D%3D?line=1'>2</a>\u001b[0m nm_events \u001b[39m=\u001b[39m NaturalMovie(sess, \u001b[39m3\u001b[39m, trace_type\u001b[39m=\u001b[39m\u001b[39m\"\u001b[39m\u001b[39mevents\u001b[39m\u001b[39m\"\u001b[39m)\n\u001b[1;32m      <a href='vscode-notebook-cell:/home/david.wyrick/Git/allen_v1dd/david/2023_04_11_naturalmovies_all-sessions.ipynb#X21sZmlsZQ%3D%3D?line=3'>4</a>\u001b[0m \u001b[39m#Calculate metrics \u001b[39;00m\n\u001b[0;32m----> <a href='vscode-notebook-cell:/home/david.wyrick/Git/allen_v1dd/david/2023_04_11_naturalmovies_all-sessions.ipynb#X21sZmlsZQ%3D%3D?line=4'>5</a>\u001b[0m nm_events_metrics \u001b[39m=\u001b[39m nm_events\u001b[39m.\u001b[39;49mmetrics\n",
      "File \u001b[0;32m~/Git/allen_v1dd/src/allen_v1dd/stimulus_analysis/natural_movie.py:88\u001b[0m, in \u001b[0;36mNaturalMovie.metrics\u001b[0;34m(self)\u001b[0m\n\u001b[1;32m     85\u001b[0m \u001b[39m@property\u001b[39m\n\u001b[1;32m     86\u001b[0m \u001b[39mdef\u001b[39;00m \u001b[39mmetrics\u001b[39m(\u001b[39mself\u001b[39m):\n\u001b[1;32m     87\u001b[0m     \u001b[39mif\u001b[39;00m \u001b[39mself\u001b[39m\u001b[39m.\u001b[39m_metrics \u001b[39mis\u001b[39;00m \u001b[39mNone\u001b[39;00m:\n\u001b[0;32m---> 88\u001b[0m         \u001b[39mself\u001b[39;49m\u001b[39m.\u001b[39;49m_load_metrics()\n\u001b[1;32m     89\u001b[0m     \u001b[39mreturn\u001b[39;00m \u001b[39mself\u001b[39m\u001b[39m.\u001b[39m_metrics\n",
      "File \u001b[0;32m~/Git/allen_v1dd/src/allen_v1dd/stimulus_analysis/natural_movie.py:177\u001b[0m, in \u001b[0;36mNaturalMovie._load_metrics\u001b[0;34m(self)\u001b[0m\n\u001b[1;32m    175\u001b[0m \u001b[39mfor\u001b[39;00m iFrame \u001b[39min\u001b[39;00m \u001b[39mself\u001b[39m\u001b[39m.\u001b[39mframe_indices:\n\u001b[1;32m    176\u001b[0m     responses \u001b[39m=\u001b[39m \u001b[39mself\u001b[39m\u001b[39m.\u001b[39mtrial_responses\u001b[39m.\u001b[39msel(roi\u001b[39m=\u001b[39mroi, frame\u001b[39m=\u001b[39miFrame) \n\u001b[0;32m--> 177\u001b[0m     responses \u001b[39m=\u001b[39m responses[\u001b[39m~\u001b[39;49mnp\u001b[39m.\u001b[39;49misnan(responses)] \u001b[39m# remove nan entries\u001b[39;00m\n\u001b[1;32m    178\u001b[0m     groups\u001b[39m.\u001b[39mappend(responses) \u001b[39m# append stimulus condition responses\u001b[39;00m\n\u001b[1;32m    180\u001b[0m _, p \u001b[39m=\u001b[39m st\u001b[39m.\u001b[39mf_oneway(\u001b[39m*\u001b[39mgroups, axis\u001b[39m=\u001b[39m\u001b[39m0\u001b[39m)\n",
      "File \u001b[0;32m~/anaconda3/envs/v1dd/lib/python3.10/site-packages/xarray/core/dataarray.py:818\u001b[0m, in \u001b[0;36mDataArray.__getitem__\u001b[0;34m(self, key)\u001b[0m\n\u001b[1;32m    815\u001b[0m     \u001b[39mreturn\u001b[39;00m \u001b[39mself\u001b[39m\u001b[39m.\u001b[39m_getitem_coord(key)\n\u001b[1;32m    816\u001b[0m \u001b[39melse\u001b[39;00m:\n\u001b[1;32m    817\u001b[0m     \u001b[39m# xarray-style array indexing\u001b[39;00m\n\u001b[0;32m--> 818\u001b[0m     \u001b[39mreturn\u001b[39;00m \u001b[39mself\u001b[39;49m\u001b[39m.\u001b[39;49misel(indexers\u001b[39m=\u001b[39;49m\u001b[39mself\u001b[39;49m\u001b[39m.\u001b[39;49m_item_key_to_dict(key))\n",
      "File \u001b[0;32m~/anaconda3/envs/v1dd/lib/python3.10/site-packages/xarray/core/dataarray.py:1389\u001b[0m, in \u001b[0;36mDataArray.isel\u001b[0;34m(self, indexers, drop, missing_dims, **indexers_kwargs)\u001b[0m\n\u001b[1;32m   1386\u001b[0m indexers \u001b[39m=\u001b[39m either_dict_or_kwargs(indexers, indexers_kwargs, \u001b[39m\"\u001b[39m\u001b[39misel\u001b[39m\u001b[39m\"\u001b[39m)\n\u001b[1;32m   1388\u001b[0m \u001b[39mif\u001b[39;00m \u001b[39many\u001b[39m(is_fancy_indexer(idx) \u001b[39mfor\u001b[39;00m idx \u001b[39min\u001b[39;00m indexers\u001b[39m.\u001b[39mvalues()):\n\u001b[0;32m-> 1389\u001b[0m     ds \u001b[39m=\u001b[39m \u001b[39mself\u001b[39;49m\u001b[39m.\u001b[39;49m_to_temp_dataset()\u001b[39m.\u001b[39;49m_isel_fancy(\n\u001b[1;32m   1390\u001b[0m         indexers, drop\u001b[39m=\u001b[39;49mdrop, missing_dims\u001b[39m=\u001b[39;49mmissing_dims\n\u001b[1;32m   1391\u001b[0m     )\n\u001b[1;32m   1392\u001b[0m     \u001b[39mreturn\u001b[39;00m \u001b[39mself\u001b[39m\u001b[39m.\u001b[39m_from_temp_dataset(ds)\n\u001b[1;32m   1394\u001b[0m \u001b[39m# Much faster algorithm for when all indexers are ints, slices, one-dimensional\u001b[39;00m\n\u001b[1;32m   1395\u001b[0m \u001b[39m# lists, or zero or one-dimensional np.ndarray's\u001b[39;00m\n",
      "File \u001b[0;32m~/anaconda3/envs/v1dd/lib/python3.10/site-packages/xarray/core/dataset.py:2454\u001b[0m, in \u001b[0;36mDataset._isel_fancy\u001b[0;34m(self, indexers, drop, missing_dims)\u001b[0m\n\u001b[1;32m   2451\u001b[0m valid_indexers \u001b[39m=\u001b[39m \u001b[39mdict\u001b[39m(\u001b[39mself\u001b[39m\u001b[39m.\u001b[39m_validate_indexers(indexers, missing_dims))\n\u001b[1;32m   2453\u001b[0m variables: \u001b[39mdict\u001b[39m[Hashable, Variable] \u001b[39m=\u001b[39m {}\n\u001b[0;32m-> 2454\u001b[0m indexes, index_variables \u001b[39m=\u001b[39m isel_indexes(\u001b[39mself\u001b[39;49m\u001b[39m.\u001b[39;49mxindexes, valid_indexers)\n\u001b[1;32m   2456\u001b[0m \u001b[39mfor\u001b[39;00m name, var \u001b[39min\u001b[39;00m \u001b[39mself\u001b[39m\u001b[39m.\u001b[39mvariables\u001b[39m.\u001b[39mitems():\n\u001b[1;32m   2457\u001b[0m     \u001b[39mif\u001b[39;00m name \u001b[39min\u001b[39;00m index_variables:\n",
      "File \u001b[0;32m~/anaconda3/envs/v1dd/lib/python3.10/site-packages/xarray/core/indexes.py:1444\u001b[0m, in \u001b[0;36misel_indexes\u001b[0;34m(indexes, indexers)\u001b[0m\n\u001b[1;32m   1440\u001b[0m \u001b[39mdef\u001b[39;00m \u001b[39misel_indexes\u001b[39m(\n\u001b[1;32m   1441\u001b[0m     indexes: Indexes[Index],\n\u001b[1;32m   1442\u001b[0m     indexers: Mapping[Any, Any],\n\u001b[1;32m   1443\u001b[0m ) \u001b[39m-\u001b[39m\u001b[39m>\u001b[39m \u001b[39mtuple\u001b[39m[\u001b[39mdict\u001b[39m[Hashable, Index], \u001b[39mdict\u001b[39m[Hashable, Variable]]:\n\u001b[0;32m-> 1444\u001b[0m     \u001b[39mreturn\u001b[39;00m _apply_indexes(indexes, indexers, \u001b[39m\"\u001b[39;49m\u001b[39misel\u001b[39;49m\u001b[39m\"\u001b[39;49m)\n",
      "File \u001b[0;32m~/anaconda3/envs/v1dd/lib/python3.10/site-packages/xarray/core/indexes.py:1428\u001b[0m, in \u001b[0;36m_apply_indexes\u001b[0;34m(indexes, args, func)\u001b[0m\n\u001b[1;32m   1426\u001b[0m index_args \u001b[39m=\u001b[39m {k: v \u001b[39mfor\u001b[39;00m k, v \u001b[39min\u001b[39;00m args\u001b[39m.\u001b[39mitems() \u001b[39mif\u001b[39;00m k \u001b[39min\u001b[39;00m index_dims}\n\u001b[1;32m   1427\u001b[0m \u001b[39mif\u001b[39;00m index_args:\n\u001b[0;32m-> 1428\u001b[0m     new_index \u001b[39m=\u001b[39m \u001b[39mgetattr\u001b[39;49m(index, func)(index_args)\n\u001b[1;32m   1429\u001b[0m     \u001b[39mif\u001b[39;00m new_index \u001b[39mis\u001b[39;00m \u001b[39mnot\u001b[39;00m \u001b[39mNone\u001b[39;00m:\n\u001b[1;32m   1430\u001b[0m         new_indexes\u001b[39m.\u001b[39mupdate({k: new_index \u001b[39mfor\u001b[39;00m k \u001b[39min\u001b[39;00m index_vars})\n",
      "File \u001b[0;32m~/anaconda3/envs/v1dd/lib/python3.10/site-packages/xarray/core/indexes.py:422\u001b[0m, in \u001b[0;36mPandasIndex.isel\u001b[0;34m(self, indexers)\u001b[0m\n\u001b[1;32m    418\u001b[0m \u001b[39mif\u001b[39;00m \u001b[39mnot\u001b[39;00m \u001b[39misinstance\u001b[39m(indxr, \u001b[39mslice\u001b[39m) \u001b[39mand\u001b[39;00m is_scalar(indxr):\n\u001b[1;32m    419\u001b[0m     \u001b[39m# scalar indexer: drop index\u001b[39;00m\n\u001b[1;32m    420\u001b[0m     \u001b[39mreturn\u001b[39;00m \u001b[39mNone\u001b[39;00m\n\u001b[0;32m--> 422\u001b[0m \u001b[39mreturn\u001b[39;00m \u001b[39mself\u001b[39m\u001b[39m.\u001b[39m_replace(\u001b[39mself\u001b[39;49m\u001b[39m.\u001b[39;49mindex[indxr])\n",
      "File \u001b[0;32m~/anaconda3/envs/v1dd/lib/python3.10/site-packages/pandas/core/indexes/base.py:5382\u001b[0m, in \u001b[0;36mIndex.__getitem__\u001b[0;34m(self, key)\u001b[0m\n\u001b[1;32m   5379\u001b[0m     \u001b[39melse\u001b[39;00m:\n\u001b[1;32m   5380\u001b[0m         key \u001b[39m=\u001b[39m np\u001b[39m.\u001b[39masarray(key, dtype\u001b[39m=\u001b[39m\u001b[39mbool\u001b[39m)\n\u001b[0;32m-> 5382\u001b[0m result \u001b[39m=\u001b[39m getitem(key)\n\u001b[1;32m   5383\u001b[0m \u001b[39m# Because we ruled out integer above, we always get an arraylike here\u001b[39;00m\n\u001b[1;32m   5384\u001b[0m \u001b[39mif\u001b[39;00m result\u001b[39m.\u001b[39mndim \u001b[39m>\u001b[39m \u001b[39m1\u001b[39m:\n",
      "\u001b[0;31mKeyboardInterrupt\u001b[0m: "
     ]
    }
   ],
   "source": [
    "## Create stimulus object for natural scenes analysis\n",
    "nm_events = NaturalMovie(sess, 3, trace_type=\"events\")\n",
    "\n",
    "#Calculate metrics \n",
    "nm_events_metrics = nm_events.metrics"
   ]
  },
  {
   "attachments": {},
   "cell_type": "markdown",
   "metadata": {},
   "source": [
    "## Run on all sessions"
   ]
  },
  {
   "cell_type": "code",
   "execution_count": 4,
   "metadata": {},
   "outputs": [
    {
     "name": "stdout",
     "output_type": "stream",
     "text": [
      "Sessions to load:\n",
      "['M409828_11', 'M409828_12', 'M409828_13', 'M409828_14', 'M409828_15', 'M409828_16', 'M409828_17', 'M409828_18', 'M409828_19', 'M409828_1a', 'M409828_1b', 'M409828_1c', 'M409828_1d', 'M409828_1e', 'M409828_1f']\n"
     ]
    }
   ],
   "source": [
    "mouse = 409828 # selected for EM\n",
    "column = 1\n",
    "\n",
    "session_ids = client.get_all_session_ids()\n",
    "# session_ids = [s for s in session_ids if s.startswith(f\"M{mouse}\") and s[8] == str(column) and s[9] == \"3\"]\n",
    "session_ids = [s for s in session_ids if s.startswith(f\"M{mouse}\") and s[8] == str(column)]\n",
    "\n",
    "print(\"Sessions to load:\")\n",
    "print(session_ids)"
   ]
  },
  {
   "cell_type": "code",
   "execution_count": 5,
   "metadata": {},
   "outputs": [
    {
     "data": {
      "application/vnd.jupyter.widget-view+json": {
       "model_id": "64193e976f3048f98db45fe8f4f16f36",
       "version_major": 2,
       "version_minor": 0
      },
      "text/plain": [
       "  0%|          | 0/15 [00:00<?, ?it/s]"
      ]
     },
     "metadata": {},
     "output_type": "display_data"
    },
    {
     "name": "stdout",
     "output_type": "stream",
     "text": [
      "Loaded 15 ophys sessions\n"
     ]
    }
   ],
   "source": [
    "sessions = []\n",
    "\n",
    "for session_id in tqdm(session_ids):\n",
    "    session = client.load_ophys_session(session_id=session_id)\n",
    "    sessions.append(session)\n",
    "\n",
    "print(f\"Loaded {len(sessions)} ophys sessions\")"
   ]
  },
  {
   "cell_type": "code",
   "execution_count": 10,
   "metadata": {},
   "outputs": [
    {
     "data": {
      "application/vnd.jupyter.widget-view+json": {
       "model_id": "c63ae952233f48719fa8b9c5352ffe65",
       "version_major": 2,
       "version_minor": 0
      },
      "text/plain": [
       "Loading natural scene analyses:   0%|          | 0/40 [00:00<?, ?it/s]"
      ]
     },
     "metadata": {},
     "output_type": "display_data"
    }
   ],
   "source": [
    "plane_info = [] # holds (mouse, column, volume, plane)\n",
    "nm = []\n",
    "\n",
    "with tqdm(desc=\"Loading natural movie analyses\", total=sum(len(s.get_planes()) for s in sessions)) as pbar:\n",
    "    for session in sessions:\n",
    "        for plane in session.get_planes():\n",
    "            plane_info.append((session.get_mouse_id(), session.get_column_id(), session.get_volume_id(), plane))\n",
    "            nm.append(NaturalMovie(session, plane))\n",
    "\n",
    "            pbar.update()"
   ]
  },
  {
   "cell_type": "code",
   "execution_count": 12,
   "metadata": {},
   "outputs": [
    {
     "name": "stdout",
     "output_type": "stream",
     "text": [
      "Concatenating ns12 metrics...\n"
     ]
    }
   ],
   "source": [
    "RECOMPUTE_METRICS = True\n",
    "DF_SAVE_DIR = r\"/home/david.wyrick/Git/allen_v1dd/dataframes\"\n",
    "\n",
    "if RECOMPUTE_METRICS:\n",
    "\n",
    "    # Concatenate across the different planes\n",
    "    print(\"Concatenating natural movie metrics...\")\n",
    "    nm_metrics = StimulusAnalysis.concat_metrics(nm)\n",
    " \n",
    "    print(\"Done.\", len(nm_metrics), \"total ROIs.\")\n",
    "    nm_metrics.to_csv(os.path.join(DF_SAVE_DIR, \"nm_metrics_col1.csv\"))\n",
    "nm_metrics"
   ]
  },
  {
   "cell_type": "code",
   "execution_count": null,
   "metadata": {},
   "outputs": [],
   "source": []
  }
 ],
 "metadata": {
  "kernelspec": {
   "display_name": "v1dd",
   "language": "python",
   "name": "python3"
  },
  "language_info": {
   "codemirror_mode": {
    "name": "ipython",
    "version": 3
   },
   "file_extension": ".py",
   "mimetype": "text/x-python",
   "name": "python",
   "nbconvert_exporter": "python",
   "pygments_lexer": "ipython3",
   "version": "3.10.8"
  },
  "orig_nbformat": 4,
  "vscode": {
   "interpreter": {
    "hash": "ae9d620d7e9cfd7e5e92fd0a19d7105f0f7065012a225592c75a2e99ce95c033"
   }
  }
 },
 "nbformat": 4,
 "nbformat_minor": 2
}
