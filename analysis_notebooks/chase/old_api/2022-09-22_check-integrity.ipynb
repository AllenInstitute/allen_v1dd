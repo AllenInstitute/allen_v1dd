{
 "cells": [
  {
   "cell_type": "code",
   "execution_count": 1,
   "metadata": {},
   "outputs": [],
   "source": [
    "import numpy as np\n",
    "import matplotlib as mpl\n",
    "import matplotlib.pyplot as plt\n",
    "import pandas as pd\n",
    "import scipy.stats as st\n",
    "\n",
    "from experiment.v1dd_client import V1DDClient\n",
    "from experiment.v1dd_ophys_session import V1DDOPhysSession\n",
    "\n",
    "from tqdm import tqdm\n",
    "\n",
    "%matplotlib inline\n",
    "%load_ext autoreload\n",
    "%autoreload 2"
   ]
  },
  {
   "cell_type": "code",
   "execution_count": 2,
   "metadata": {},
   "outputs": [],
   "source": [
    "# windows\n",
    "# base_folder = r\"\\\\allen\\programs\\mindscope\\workgroups\\surround\\v1dd_in_vivo_new_segmentation\\data\"\n",
    "\n",
    "# # linux and mac\n",
    "# base_folder = \"/allen/programs/mindscope/workgroups/surround/v1dd_in_vivo_new_segmentation/data\"\n",
    "base_folder = \"/Volumes/programs/mindscope/workgroups/surround/v1dd_in_vivo_new_segmentation/data\"\n",
    "# base_folder = \"/Users/chase/Desktop/test_v1dd_data\"\n",
    "client = V1DDClient(base_folder)"
   ]
  },
  {
   "cell_type": "markdown",
   "metadata": {},
   "source": [
    "In this notebook, we load all available sessions and compute metrics on them"
   ]
  },
  {
   "cell_type": "code",
   "execution_count": 3,
   "metadata": {},
   "outputs": [
    {
     "name": "stdout",
     "output_type": "stream",
     "text": [
      "There are 134 sessions in total:\n",
      "['M409828_11', 'M409828_12', 'M409828_13', 'M409828_14', 'M409828_15', 'M409828_16', 'M409828_17', 'M409828_18', 'M409828_19', 'M409828_1a', 'M409828_1b', 'M409828_1c', 'M409828_1d', 'M409828_1e', 'M409828_1f', 'M409828_21', 'M409828_22', 'M409828_23', 'M409828_24', 'M409828_25', 'M409828_31', 'M409828_32', 'M409828_33', 'M409828_34', 'M409828_35', 'M409828_41', 'M409828_42', 'M409828_43', 'M409828_44', 'M409828_45', 'M409828_51', 'M409828_52', 'M409828_53', 'M409828_54', 'M409828_55', 'M416296_11', 'M416296_12', 'M416296_13', 'M416296_14', 'M416296_15', 'M416296_17', 'M416296_18', 'M416296_19', 'M416296_1a', 'M416296_1b', 'M416296_1c', 'M416296_21', 'M416296_22', 'M416296_23', 'M416296_24', 'M416296_25', 'M416296_31', 'M416296_32', 'M416296_33', 'M416296_34', 'M416296_35', 'M416296_41', 'M416296_42', 'M416296_43', 'M416296_44', 'M416296_45', 'M416296_51', 'M416296_52', 'M416296_53', 'M416296_54', 'M416296_55', 'M427836_11', 'M427836_12', 'M427836_13', 'M427836_14', 'M427836_15', 'M427836_16', 'M427836_17', 'M427836_18', 'M427836_19', 'M427836_1a', 'M427836_1b', 'M427836_1c', 'M427836_1d', 'M427836_1e', 'M427836_1f', 'M427836_21', 'M427836_22', 'M427836_23', 'M427836_24', 'M427836_25', 'M427836_31', 'M427836_32', 'M427836_33', 'M427836_34', 'M427836_35', 'M427836_41', 'M427836_42', 'M427836_43', 'M427836_44', 'M427836_45', 'M427836_51', 'M427836_52', 'M427836_53', 'M427836_54', 'M427836_55', 'M438833_11', 'M438833_12', 'M438833_13', 'M438833_14', 'M438833_15', 'M438833_16', 'M438833_17', 'M438833_18', 'M438833_19', 'M438833_1a', 'M438833_1b', 'M438833_1c', 'M438833_1d', 'M438833_21', 'M438833_22', 'M438833_23', 'M438833_24', 'M438833_25', 'M438833_31', 'M438833_32', 'M438833_33', 'M438833_34', 'M438833_35', 'M438833_41', 'M438833_42', 'M438833_43', 'M438833_44', 'M438833_45', 'M438833_51', 'M438833_52', 'M438833_53', 'M438833_54', 'M438833_55']\n"
     ]
    }
   ],
   "source": [
    "session_ids = client.get_all_session_ids()\n",
    "\n",
    "print(f\"There are {len(session_ids)} sessions in total:\")\n",
    "print(session_ids)"
   ]
  },
  {
   "cell_type": "markdown",
   "metadata": {},
   "source": [
    "## Check the integrity of each session\n",
    "i.e., validate the NWB file has the correct information"
   ]
  },
  {
   "cell_type": "code",
   "execution_count": 4,
   "metadata": {},
   "outputs": [
    {
     "name": "stderr",
     "output_type": "stream",
     "text": [
      "Validating sessions:  59%|█████▉    | 79/134 [00:01<00:01, 48.21it/s]Traceback (most recent call last):\n",
      "  File \"/var/folders/8l/944wpj6s7sq8gcv57wcd3q6h0000gn/T/ipykernel_4463/1131637727.py\", line 8, in <cell line: 4>\n",
      "    session = client.load_ophys_session(session_id=session_id, log=None)\n",
      "  File \"/Users/chase/Desktop/MindScope/Documents/v1dd-chase/notebooks/../experiment/v1dd_client.py\", line 78, in load_ophys_session\n",
      "    ophys_session = V1DDOPhysSession(self, session_id, file_path)\n",
      "  File \"/Users/chase/Desktop/MindScope/Documents/v1dd-chase/notebooks/../experiment/v1dd_ophys_session.py\", line 22, in __init__\n",
      "    self._check_integrity()\n",
      "  File \"/Users/chase/Desktop/MindScope/Documents/v1dd-chase/notebooks/../experiment/v1dd_ophys_session.py\", line 239, in _check_integrity\n",
      "    raise ValueError(f\"There are {len(error_list)} errors with the NWB file for session {self.session_id} ({self.nwb_file_path}):\\n\\n{error_str}\")\n",
      "ValueError: There are 26 errors with the NWB file for session M427836_1e (/Volumes/programs/mindscope/workgroups/surround/v1dd_in_vivo_new_segmentation/data/nwbs/problematic/M427836_1e_20190506.nwb):\n",
      "\n",
      " - Cannot find \"vasmap_mp\" in \"acquisition/images\"\n",
      " - Cannot find \"vasmap_mp_rotated\" in \"acquisition/images\"\n",
      " - Cannot find \"vasmap_wf\" in \"acquisition/images\"\n",
      " - Cannot find \"vasmap_wf_rotated\" in \"acquisition/images\"\n",
      " - Cannot find \"digital_2p_vsync_rise\" in \"acquisition/timeseries\"\n",
      " - Cannot find \"digital_2p_vsync_fall\" in \"acquisition/timeseries\"\n",
      " - Cannot find \"digital_cam1_exposure_rise\" in \"acquisition/timeseries\"\n",
      " - Cannot find \"digital_cam1_exposure_fall\" in \"acquisition/timeseries\"\n",
      " - Cannot find \"digital_cam2_exposure_rise\" in \"acquisition/timeseries\"\n",
      " - Cannot find \"digital_cam2_exposure_fall\" in \"acquisition/timeseries\"\n",
      " - Cannot find \"digital_stim_photodiode_rise\" in \"acquisition/timeseries\"\n",
      " - Cannot find \"digital_stim_photodiode_fall\" in \"acquisition/timeseries\"\n",
      " - Cannot find \"digital_stim_vsync_rise\" in \"acquisition/timeseries\"\n",
      " - Cannot find \"digital_stim_vsync_fall\" in \"acquisition/timeseries\"\n",
      " - Cannot find \"drifting_gratings_full\" in \"stimulus/presentation\"\n",
      " - Cannot find \"drifting_gratings_windowed\" in \"stimulus/presentation\"\n",
      " - Cannot find \"locally_sparse_noise\" in \"stimulus/presentation\"\n",
      " - Cannot find \"natural_images\" in \"stimulus/presentation\"\n",
      " - Cannot find \"natural_images_12\" in \"stimulus/presentation\"\n",
      " - Cannot find \"natural_movie\" in \"stimulus/presentation\"\n",
      " - Cannot find \"spontaneous\" in \"stimulus/presentation\"\n",
      " - Cannot find \"onsets_drifting_gratings_full\" in \"analysis\"\n",
      " - Cannot find \"onsets_drifting_gratings_windowed\" in \"analysis\"\n",
      " - Cannot find \"probe_onsets_lsn\" in \"analysis\"\n",
      " - Cannot find \"eye_tracking_right\" in \"processing\"\n",
      " - Cannot find \"locomotion\" in \"processing\"\n",
      "Traceback (most recent call last):\n",
      "  File \"/var/folders/8l/944wpj6s7sq8gcv57wcd3q6h0000gn/T/ipykernel_4463/1131637727.py\", line 8, in <cell line: 4>\n",
      "    session = client.load_ophys_session(session_id=session_id, log=None)\n",
      "  File \"/Users/chase/Desktop/MindScope/Documents/v1dd-chase/notebooks/../experiment/v1dd_client.py\", line 78, in load_ophys_session\n",
      "    ophys_session = V1DDOPhysSession(self, session_id, file_path)\n",
      "  File \"/Users/chase/Desktop/MindScope/Documents/v1dd-chase/notebooks/../experiment/v1dd_ophys_session.py\", line 22, in __init__\n",
      "    self._check_integrity()\n",
      "  File \"/Users/chase/Desktop/MindScope/Documents/v1dd-chase/notebooks/../experiment/v1dd_ophys_session.py\", line 239, in _check_integrity\n",
      "    raise ValueError(f\"There are {len(error_list)} errors with the NWB file for session {self.session_id} ({self.nwb_file_path}):\\n\\n{error_str}\")\n",
      "ValueError: There are 26 errors with the NWB file for session M427836_1f (/Volumes/programs/mindscope/workgroups/surround/v1dd_in_vivo_new_segmentation/data/nwbs/problematic/M427836_1f_20190503.nwb):\n",
      "\n",
      " - Cannot find \"vasmap_mp\" in \"acquisition/images\"\n",
      " - Cannot find \"vasmap_mp_rotated\" in \"acquisition/images\"\n",
      " - Cannot find \"vasmap_wf\" in \"acquisition/images\"\n",
      " - Cannot find \"vasmap_wf_rotated\" in \"acquisition/images\"\n",
      " - Cannot find \"digital_2p_vsync_rise\" in \"acquisition/timeseries\"\n",
      " - Cannot find \"digital_2p_vsync_fall\" in \"acquisition/timeseries\"\n",
      " - Cannot find \"digital_cam1_exposure_rise\" in \"acquisition/timeseries\"\n",
      " - Cannot find \"digital_cam1_exposure_fall\" in \"acquisition/timeseries\"\n",
      " - Cannot find \"digital_cam2_exposure_rise\" in \"acquisition/timeseries\"\n",
      " - Cannot find \"digital_cam2_exposure_fall\" in \"acquisition/timeseries\"\n",
      " - Cannot find \"digital_stim_photodiode_rise\" in \"acquisition/timeseries\"\n",
      " - Cannot find \"digital_stim_photodiode_fall\" in \"acquisition/timeseries\"\n",
      " - Cannot find \"digital_stim_vsync_rise\" in \"acquisition/timeseries\"\n",
      " - Cannot find \"digital_stim_vsync_fall\" in \"acquisition/timeseries\"\n",
      " - Cannot find \"drifting_gratings_full\" in \"stimulus/presentation\"\n",
      " - Cannot find \"drifting_gratings_windowed\" in \"stimulus/presentation\"\n",
      " - Cannot find \"locally_sparse_noise\" in \"stimulus/presentation\"\n",
      " - Cannot find \"natural_images\" in \"stimulus/presentation\"\n",
      " - Cannot find \"natural_images_12\" in \"stimulus/presentation\"\n",
      " - Cannot find \"natural_movie\" in \"stimulus/presentation\"\n",
      " - Cannot find \"spontaneous\" in \"stimulus/presentation\"\n",
      " - Cannot find \"onsets_drifting_gratings_full\" in \"analysis\"\n",
      " - Cannot find \"onsets_drifting_gratings_windowed\" in \"analysis\"\n",
      " - Cannot find \"probe_onsets_lsn\" in \"analysis\"\n",
      " - Cannot find \"eye_tracking_right\" in \"processing\"\n",
      " - Cannot find \"locomotion\" in \"processing\"\n",
      "Validating sessions:  63%|██████▎   | 84/134 [00:01<00:01, 47.63it/s]"
     ]
    },
    {
     "name": "stdout",
     "output_type": "stream",
     "text": [
      "BAD SESSION M427836_1e\n",
      "BAD SESSION M427836_1f\n"
     ]
    },
    {
     "name": "stderr",
     "output_type": "stream",
     "text": [
      "Validating sessions: 100%|██████████| 134/134 [09:54<00:00,  4.44s/it]"
     ]
    },
    {
     "name": "stdout",
     "output_type": "stream",
     "text": [
      "There are 2 bad sessions:\n",
      "['M427836_1e', 'M427836_1f']\n"
     ]
    },
    {
     "name": "stderr",
     "output_type": "stream",
     "text": [
      "\n"
     ]
    }
   ],
   "source": [
    "import traceback\n",
    "bad_sessions = []\n",
    "\n",
    "with tqdm(total=len(session_ids), desc=\"Validating sessions\") as pbar:\n",
    "    for session_id in session_ids:\n",
    "        # session = client.load_ophys_session(session_id=session_id, log=pbar.write)\n",
    "        try:\n",
    "            session = client.load_ophys_session(session_id=session_id, log=None)\n",
    "        except:\n",
    "            print(\"BAD SESSION\", session_id)\n",
    "            traceback.print_exc()\n",
    "            bad_sessions.append(session_id)\n",
    "        pbar.update()\n",
    "\n",
    "print(f\"There are {len(bad_sessions)} bad sessions:\")\n",
    "print(bad_sessions)"
   ]
  },
  {
   "cell_type": "code",
   "execution_count": 5,
   "metadata": {},
   "outputs": [
    {
     "ename": "BlockingIOError",
     "evalue": "[Errno 35] Unable to open file (unable to lock file, errno = 35, error message = 'Resource temporarily unavailable')",
     "output_type": "error",
     "traceback": [
      "\u001b[0;31m---------------------------------------------------------------------------\u001b[0m",
      "\u001b[0;31mBlockingIOError\u001b[0m                           Traceback (most recent call last)",
      "\u001b[1;32m/Users/chase/Desktop/MindScope/Documents/v1dd-chase/notebooks/2022-09-22_check-nwb-integrity.ipynb Cell 7\u001b[0m in \u001b[0;36m<cell line: 1>\u001b[0;34m()\u001b[0m\n\u001b[0;32m----> <a href='vscode-notebook-cell:/Users/chase/Desktop/MindScope/Documents/v1dd-chase/notebooks/2022-09-22_check-nwb-integrity.ipynb#X44sZmlsZQ%3D%3D?line=0'>1</a>\u001b[0m client\u001b[39m.\u001b[39;49mload_ophys_session(session_id\u001b[39m=\u001b[39;49m\u001b[39m\"\u001b[39;49m\u001b[39mM427836_1e\u001b[39;49m\u001b[39m\"\u001b[39;49m)\n",
      "File \u001b[0;32m~/Desktop/MindScope/Documents/v1dd-chase/notebooks/../experiment/v1dd_client.py:78\u001b[0m, in \u001b[0;36mV1DDClient.load_ophys_session\u001b[0;34m(self, session_id, mouse, column, volume, log)\u001b[0m\n\u001b[1;32m     75\u001b[0m \u001b[39mif\u001b[39;00m \u001b[39mself\u001b[39m\u001b[39m.\u001b[39mget_session_id(file_path) \u001b[39m==\u001b[39m session_id:\n\u001b[1;32m     76\u001b[0m     \u001b[39m# Found a matching NWB file\u001b[39;00m\n\u001b[1;32m     77\u001b[0m     \u001b[39mif\u001b[39;00m log \u001b[39mis\u001b[39;00m \u001b[39mnot\u001b[39;00m \u001b[39mNone\u001b[39;00m: log(\u001b[39mf\u001b[39m\u001b[39m\"\u001b[39m\u001b[39mFound matching file \u001b[39m\u001b[39m{\u001b[39;00mfile_path\u001b[39m}\u001b[39;00m\u001b[39m\"\u001b[39m)\n\u001b[0;32m---> 78\u001b[0m     ophys_session \u001b[39m=\u001b[39m V1DDOPhysSession(\u001b[39mself\u001b[39;49m, session_id, file_path)\n\u001b[1;32m     79\u001b[0m     \u001b[39mif\u001b[39;00m log \u001b[39mis\u001b[39;00m \u001b[39mnot\u001b[39;00m \u001b[39mNone\u001b[39;00m: log(\u001b[39mf\u001b[39m\u001b[39m\"\u001b[39m\u001b[39mSession loaded\u001b[39m\u001b[39m\"\u001b[39m)\n\u001b[1;32m     80\u001b[0m     \u001b[39mreturn\u001b[39;00m ophys_session\n",
      "File \u001b[0;32m~/Desktop/MindScope/Documents/v1dd-chase/notebooks/../experiment/v1dd_ophys_session.py:22\u001b[0m, in \u001b[0;36mV1DDOPhysSession.__init__\u001b[0;34m(self, v1dd_client, session_id, nwb_file_path)\u001b[0m\n\u001b[1;32m     20\u001b[0m \u001b[39mself\u001b[39m\u001b[39m.\u001b[39mnwb_file_path \u001b[39m=\u001b[39m nwb_file_path\n\u001b[1;32m     21\u001b[0m \u001b[39m# self.nwb_file = h5py.File(nwb_file_path, \"r\")\u001b[39;00m\n\u001b[0;32m---> 22\u001b[0m \u001b[39mself\u001b[39;49m\u001b[39m.\u001b[39;49m_check_integrity()\n\u001b[1;32m     24\u001b[0m \u001b[39m# Parse mouse, column, and volume\u001b[39;00m\n\u001b[1;32m     25\u001b[0m \u001b[39m# session_id = \"M......_..\"\u001b[39;00m\n\u001b[1;32m     26\u001b[0m \u001b[39m#               0123456789\u001b[39;00m\n\u001b[1;32m     27\u001b[0m \u001b[39mdef\u001b[39;00m \u001b[39mint_or_str\u001b[39m(x):\n",
      "File \u001b[0;32m~/Desktop/MindScope/Documents/v1dd-chase/notebooks/../experiment/v1dd_ophys_session.py:104\u001b[0m, in \u001b[0;36mV1DDOPhysSession._check_integrity\u001b[0;34m(self)\u001b[0m\n\u001b[1;32m    103\u001b[0m \u001b[39mdef\u001b[39;00m \u001b[39m_check_integrity\u001b[39m(\u001b[39mself\u001b[39m):\n\u001b[0;32m--> 104\u001b[0m     \u001b[39mwith\u001b[39;00m \u001b[39mself\u001b[39;49m\u001b[39m.\u001b[39;49mopen_file() \u001b[39mas\u001b[39;00m nwb_file:\n\u001b[1;32m    105\u001b[0m         error_list \u001b[39m=\u001b[39m []\n\u001b[1;32m    107\u001b[0m         \u001b[39mdef\u001b[39;00m \u001b[39mvalidate_key\u001b[39m(key, loc, desc\u001b[39m=\u001b[39m\u001b[39mNone\u001b[39;00m):\n",
      "File \u001b[0;32m~/Desktop/MindScope/Documents/v1dd-chase/notebooks/../experiment/v1dd_ophys_session.py:37\u001b[0m, in \u001b[0;36mV1DDOPhysSession.open_file\u001b[0;34m(self)\u001b[0m\n\u001b[1;32m     36\u001b[0m \u001b[39mdef\u001b[39;00m \u001b[39mopen_file\u001b[39m(\u001b[39mself\u001b[39m):\n\u001b[0;32m---> 37\u001b[0m     \u001b[39mreturn\u001b[39;00m h5py\u001b[39m.\u001b[39;49mFile(\u001b[39mself\u001b[39;49m\u001b[39m.\u001b[39;49mnwb_file_path, \u001b[39m\"\u001b[39;49m\u001b[39mr\u001b[39;49m\u001b[39m\"\u001b[39;49m)\n",
      "File \u001b[0;32m/opt/anaconda3/envs/v1dd-v3/lib/python3.10/site-packages/h5py/_hl/files.py:533\u001b[0m, in \u001b[0;36mFile.__init__\u001b[0;34m(self, name, mode, driver, libver, userblock_size, swmr, rdcc_nslots, rdcc_nbytes, rdcc_w0, track_order, fs_strategy, fs_persist, fs_threshold, fs_page_size, page_buf_size, min_meta_keep, min_raw_keep, locking, alignment_threshold, alignment_interval, **kwds)\u001b[0m\n\u001b[1;32m    525\u001b[0m     fapl \u001b[39m=\u001b[39m make_fapl(driver, libver, rdcc_nslots, rdcc_nbytes, rdcc_w0,\n\u001b[1;32m    526\u001b[0m                      locking, page_buf_size, min_meta_keep, min_raw_keep,\n\u001b[1;32m    527\u001b[0m                      alignment_threshold\u001b[39m=\u001b[39malignment_threshold,\n\u001b[1;32m    528\u001b[0m                      alignment_interval\u001b[39m=\u001b[39malignment_interval,\n\u001b[1;32m    529\u001b[0m                      \u001b[39m*\u001b[39m\u001b[39m*\u001b[39mkwds)\n\u001b[1;32m    530\u001b[0m     fcpl \u001b[39m=\u001b[39m make_fcpl(track_order\u001b[39m=\u001b[39mtrack_order, fs_strategy\u001b[39m=\u001b[39mfs_strategy,\n\u001b[1;32m    531\u001b[0m                      fs_persist\u001b[39m=\u001b[39mfs_persist, fs_threshold\u001b[39m=\u001b[39mfs_threshold,\n\u001b[1;32m    532\u001b[0m                      fs_page_size\u001b[39m=\u001b[39mfs_page_size)\n\u001b[0;32m--> 533\u001b[0m     fid \u001b[39m=\u001b[39m make_fid(name, mode, userblock_size, fapl, fcpl, swmr\u001b[39m=\u001b[39;49mswmr)\n\u001b[1;32m    535\u001b[0m \u001b[39mif\u001b[39;00m \u001b[39misinstance\u001b[39m(libver, \u001b[39mtuple\u001b[39m):\n\u001b[1;32m    536\u001b[0m     \u001b[39mself\u001b[39m\u001b[39m.\u001b[39m_libver \u001b[39m=\u001b[39m libver\n",
      "File \u001b[0;32m/opt/anaconda3/envs/v1dd-v3/lib/python3.10/site-packages/h5py/_hl/files.py:226\u001b[0m, in \u001b[0;36mmake_fid\u001b[0;34m(name, mode, userblock_size, fapl, fcpl, swmr)\u001b[0m\n\u001b[1;32m    224\u001b[0m     \u001b[39mif\u001b[39;00m swmr \u001b[39mand\u001b[39;00m swmr_support:\n\u001b[1;32m    225\u001b[0m         flags \u001b[39m|\u001b[39m\u001b[39m=\u001b[39m h5f\u001b[39m.\u001b[39mACC_SWMR_READ\n\u001b[0;32m--> 226\u001b[0m     fid \u001b[39m=\u001b[39m h5f\u001b[39m.\u001b[39;49mopen(name, flags, fapl\u001b[39m=\u001b[39;49mfapl)\n\u001b[1;32m    227\u001b[0m \u001b[39melif\u001b[39;00m mode \u001b[39m==\u001b[39m \u001b[39m'\u001b[39m\u001b[39mr+\u001b[39m\u001b[39m'\u001b[39m:\n\u001b[1;32m    228\u001b[0m     fid \u001b[39m=\u001b[39m h5f\u001b[39m.\u001b[39mopen(name, h5f\u001b[39m.\u001b[39mACC_RDWR, fapl\u001b[39m=\u001b[39mfapl)\n",
      "File \u001b[0;32mh5py/_objects.pyx:54\u001b[0m, in \u001b[0;36mh5py._objects.with_phil.wrapper\u001b[0;34m()\u001b[0m\n",
      "File \u001b[0;32mh5py/_objects.pyx:55\u001b[0m, in \u001b[0;36mh5py._objects.with_phil.wrapper\u001b[0;34m()\u001b[0m\n",
      "File \u001b[0;32mh5py/h5f.pyx:106\u001b[0m, in \u001b[0;36mh5py.h5f.open\u001b[0;34m()\u001b[0m\n",
      "\u001b[0;31mBlockingIOError\u001b[0m: [Errno 35] Unable to open file (unable to lock file, errno = 35, error message = 'Resource temporarily unavailable')"
     ]
    }
   ],
   "source": [
    "client.load_ophys_session(session_id=\"M427836_1e\")"
   ]
  },
  {
   "cell_type": "code",
   "execution_count": null,
   "metadata": {},
   "outputs": [],
   "source": [
    "client.load_ophys_session(session_id=\"M427836_1f\")"
   ]
  },
  {
   "cell_type": "code",
   "execution_count": null,
   "metadata": {},
   "outputs": [],
   "source": []
  }
 ],
 "metadata": {
  "kernelspec": {
   "display_name": "Python 3.10.4 ('v1dd')",
   "language": "python",
   "name": "python3"
  },
  "language_info": {
   "codemirror_mode": {
    "name": "ipython",
    "version": 3
   },
   "file_extension": ".py",
   "mimetype": "text/x-python",
   "name": "python",
   "nbconvert_exporter": "python",
   "pygments_lexer": "ipython3",
   "version": "3.10.4"
  },
  "vscode": {
   "interpreter": {
    "hash": "2e7f5deb279e1a849122e9e881580e077474a30f307a7f5876f96eecdf039a1c"
   }
  }
 },
 "nbformat": 4,
 "nbformat_minor": 2
}
