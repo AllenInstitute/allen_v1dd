{
 "cells": [
  {
   "cell_type": "code",
   "execution_count": 1,
   "metadata": {},
   "outputs": [],
   "source": [
    "import numpy as np\n",
    "import matplotlib as mpl\n",
    "import matplotlib.pyplot as plt\n",
    "import pandas as pd\n",
    "import scipy.stats as st\n",
    "\n",
    "from experiment.v1dd_client import V1DDClient\n",
    "from experiment.v1dd_ophys_session import V1DDOPhysSession\n",
    "\n",
    "from tqdm import tqdm\n",
    "\n",
    "%matplotlib inline\n",
    "%load_ext autoreload\n",
    "%autoreload 2"
   ]
  },
  {
   "cell_type": "code",
   "execution_count": 2,
   "metadata": {},
   "outputs": [],
   "source": [
    "# windows\n",
    "# base_folder = r\"\\\\allen\\programs\\mindscope\\workgroups\\surround\\v1dd_in_vivo_new_segmentation\\data\"\n",
    "\n",
    "# # linux and mac\n",
    "# base_folder = \"/allen/programs/mindscope/workgroups/surround/v1dd_in_vivo_new_segmentation/data\"\n",
    "# base_folder = \"/Volumes/programs/mindscope/workgroups/surround/v1dd_in_vivo_new_segmentation/data\"\n",
    "# base_folder = \"/Users/chase/Desktop/test_v1dd_data\"\n",
    "base_folder = \"/Volumes/AllenDrive/v1dd/data\"\n",
    "client = V1DDClient(base_folder)"
   ]
  },
  {
   "cell_type": "markdown",
   "metadata": {},
   "source": [
    "In this notebook, we load all available sessions and compute metrics on them"
   ]
  },
  {
   "cell_type": "code",
   "execution_count": 3,
   "metadata": {},
   "outputs": [
    {
     "name": "stdout",
     "output_type": "stream",
     "text": [
      "There are 35 sessions in total:\n",
      "['M409828_11', 'M409828_12', 'M409828_13', 'M409828_14', 'M409828_15', 'M409828_16', 'M409828_17', 'M409828_18', 'M409828_19', 'M409828_1a', 'M409828_1b', 'M409828_1c', 'M409828_1d', 'M409828_1e', 'M409828_1f', 'M409828_21', 'M409828_22', 'M409828_23', 'M409828_24', 'M409828_25', 'M409828_31', 'M409828_32', 'M409828_33', 'M409828_34', 'M409828_35', 'M409828_41', 'M409828_42', 'M409828_43', 'M409828_44', 'M409828_45', 'M409828_51', 'M409828_52', 'M409828_53', 'M409828_54', 'M409828_55']\n"
     ]
    }
   ],
   "source": [
    "session_ids = client.get_all_session_ids()\n",
    "\n",
    "print(f\"There are {len(session_ids)} sessions in total:\")\n",
    "print(session_ids)"
   ]
  },
  {
   "cell_type": "markdown",
   "metadata": {},
   "source": [
    "## Investigate inclusion criteria for a single session"
   ]
  },
  {
   "cell_type": "code",
   "execution_count": 4,
   "metadata": {},
   "outputs": [],
   "source": [
    "sess = client.load_ophys_session(\"M409828_31\")"
   ]
  },
  {
   "cell_type": "code",
   "execution_count": 6,
   "metadata": {},
   "outputs": [],
   "source": [
    "stim_table, stim_meta = sess.get_stimulus_table(\"drifting_gratings_full\")"
   ]
  },
  {
   "cell_type": "code",
   "execution_count": 12,
   "metadata": {},
   "outputs": [
    {
     "data": {
      "text/html": [
       "<div>\n",
       "<style scoped>\n",
       "    .dataframe tbody tr th:only-of-type {\n",
       "        vertical-align: middle;\n",
       "    }\n",
       "\n",
       "    .dataframe tbody tr th {\n",
       "        vertical-align: top;\n",
       "    }\n",
       "\n",
       "    .dataframe thead th {\n",
       "        text-align: right;\n",
       "    }\n",
       "</style>\n",
       "<table border=\"1\" class=\"dataframe\">\n",
       "  <thead>\n",
       "    <tr style=\"text-align: right;\">\n",
       "      <th></th>\n",
       "      <th>start</th>\n",
       "      <th>end</th>\n",
       "      <th>temporal_frequency</th>\n",
       "      <th>spatial_frequency</th>\n",
       "      <th>orientation</th>\n",
       "    </tr>\n",
       "  </thead>\n",
       "  <tbody>\n",
       "    <tr>\n",
       "      <th>0</th>\n",
       "      <td>53.063393</td>\n",
       "      <td>55.048363</td>\n",
       "      <td>1.0</td>\n",
       "      <td>0.08</td>\n",
       "      <td>30.0</td>\n",
       "    </tr>\n",
       "    <tr>\n",
       "      <th>1</th>\n",
       "      <td>56.065895</td>\n",
       "      <td>58.050854</td>\n",
       "      <td>1.0</td>\n",
       "      <td>0.08</td>\n",
       "      <td>60.0</td>\n",
       "    </tr>\n",
       "    <tr>\n",
       "      <th>2</th>\n",
       "      <td>59.068363</td>\n",
       "      <td>61.053375</td>\n",
       "      <td>1.0</td>\n",
       "      <td>0.08</td>\n",
       "      <td>240.0</td>\n",
       "    </tr>\n",
       "    <tr>\n",
       "      <th>3</th>\n",
       "      <td>62.070885</td>\n",
       "      <td>64.055847</td>\n",
       "      <td>1.0</td>\n",
       "      <td>0.04</td>\n",
       "      <td>270.0</td>\n",
       "    </tr>\n",
       "    <tr>\n",
       "      <th>4</th>\n",
       "      <td>65.073364</td>\n",
       "      <td>67.058365</td>\n",
       "      <td>1.0</td>\n",
       "      <td>0.04</td>\n",
       "      <td>300.0</td>\n",
       "    </tr>\n",
       "  </tbody>\n",
       "</table>\n",
       "</div>"
      ],
      "text/plain": [
       "       start        end  temporal_frequency  spatial_frequency  orientation\n",
       "0  53.063393  55.048363                 1.0               0.08         30.0\n",
       "1  56.065895  58.050854                 1.0               0.08         60.0\n",
       "2  59.068363  61.053375                 1.0               0.08        240.0\n",
       "3  62.070885  64.055847                 1.0               0.04        270.0\n",
       "4  65.073364  67.058365                 1.0               0.04        300.0"
      ]
     },
     "execution_count": 12,
     "metadata": {},
     "output_type": "execute_result"
    }
   ],
   "source": [
    "stim_table.head()"
   ]
  },
  {
   "cell_type": "code",
   "execution_count": null,
   "metadata": {},
   "outputs": [],
   "source": []
  }
 ],
 "metadata": {
  "kernelspec": {
   "display_name": "Python 3.10.4 ('v1dd')",
   "language": "python",
   "name": "python3"
  },
  "language_info": {
   "codemirror_mode": {
    "name": "ipython",
    "version": 3
   },
   "file_extension": ".py",
   "mimetype": "text/x-python",
   "name": "python",
   "nbconvert_exporter": "python",
   "pygments_lexer": "ipython3",
   "version": "3.10.4"
  },
  "vscode": {
   "interpreter": {
    "hash": "2e7f5deb279e1a849122e9e881580e077474a30f307a7f5876f96eecdf039a1c"
   }
  }
 },
 "nbformat": 4,
 "nbformat_minor": 2
}
